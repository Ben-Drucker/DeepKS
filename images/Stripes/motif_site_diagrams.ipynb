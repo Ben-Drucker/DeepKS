{
 "cells": [
  {
   "cell_type": "code",
   "execution_count": 58,
   "metadata": {},
   "outputs": [],
   "source": [
    "import numpy as np\n",
    "import matplotlib.pyplot as plt\n",
    "import random\n",
    "import PIL\n",
    "import PIL.Image"
   ]
  },
  {
   "cell_type": "code",
   "execution_count": 231,
   "metadata": {},
   "outputs": [],
   "source": [
    "def get_random_color(seed = None, brightness_range = list(range(256))):\n",
    "    if seed is None:\n",
    "        random.seed(random.random())\n",
    "    else:\n",
    "        random.seed(seed)\n",
    "    # return random.randrange(0, 2**24)\n",
    "    return [random.choice(brightness_range), random.choice(brightness_range), random.choice(brightness_range)]"
   ]
  },
  {
   "cell_type": "code",
   "execution_count": 251,
   "metadata": {},
   "outputs": [],
   "source": [
    "colors = [get_random_color(i + 100, brightness_range=list(range(200 - 16, 200 + 16))) for i in range(20)]"
   ]
  },
  {
   "cell_type": "code",
   "execution_count": 247,
   "metadata": {},
   "outputs": [],
   "source": [
    "random.seed(0)\n",
    "random.shuffle(colors)\n",
    "rand_site_colors = np.array([[random.choice(colors) for _ in range(15)]], np.uint8)\n",
    "rand_site_colors = np.repeat(rand_site_colors, 400, 0)\n",
    "rand_site_colors = np.repeat(rand_site_colors, 100, 1)"
   ]
  },
  {
   "cell_type": "code",
   "execution_count": 248,
   "metadata": {},
   "outputs": [
    {
     "data": {
      "text/plain": [
       "<matplotlib.image.AxesImage at 0x17d7b6590>"
      ]
     },
     "execution_count": 248,
     "metadata": {},
     "output_type": "execute_result"
    },
    {
     "data": {
      "image/png": "[encoded data removed]",
      "text/plain": [
       "<Figure size 640x480 with 1 Axes>"
      ]
     },
     "metadata": {},
     "output_type": "display_data"
    }
   ],
   "source": [
    "img = Image.fromarray(rand_site_colors, mode='RGB')\n",
    "img.save(\"site_image.png\")\n",
    "plt.imshow(img)"
   ]
  },
  {
   "cell_type": "code",
   "execution_count": 252,
   "metadata": {},
   "outputs": [],
   "source": [
    "random.seed(0)\n",
    "random.shuffle(colors)\n",
    "rand_kin_colors = np.array([[random.choice(colors) for _ in range(500)]], np.uint8)\n",
    "rand_kin_colors = np.repeat(rand_kin_colors, 400, 0)\n",
    "rand_kin_colors = np.repeat(rand_kin_colors, 50, 1)"
   ]
  },
  {
   "cell_type": "code",
   "execution_count": 253,
   "metadata": {},
   "outputs": [
    {
     "data": {
      "text/plain": [
       "<matplotlib.image.AxesImage at 0x17d8663e0>"
      ]
     },
     "execution_count": 253,
     "metadata": {},
     "output_type": "execute_result"
    },
    {
     "data": {
      "image/png": "[encoded data removed]",
      "text/plain": [
       "<Figure size 640x480 with 1 Axes>"
      ]
     },
     "metadata": {},
     "output_type": "display_data"
    }
   ],
   "source": [
    "img = Image.fromarray(rand_kin_colors, mode='RGB')\n",
    "img.save(\"kin_image.png\")\n",
    "plt.imshow(img)"
   ]
  }
 ],
 "metadata": {
  "kernelspec": {
   "display_name": "Python 3.10.6 ('base')",
   "language": "python",
   "name": "python3"
  },
  "language_info": {
   "codemirror_mode": {
    "name": "ipython",
    "version": 3
   },
   "file_extension": ".py",
   "mimetype": "text/x-python",
   "name": "python",
   "nbconvert_exporter": "python",
   "pygments_lexer": "ipython3",
   "version": "3.10.6"
  },
  "orig_nbformat": 4,
  "vscode": {
   "interpreter": {
    "hash": "8b0f235dfb12f85291a5d0961e5e2f14d2c9dd145bc4f514acb05f4d86deb64c"
   }
  }
 },
 "nbformat": 4,
 "nbformat_minor": 2
}
