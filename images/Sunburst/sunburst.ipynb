{
 "cells": [
  {
   "cell_type": "code",
   "execution_count": 2,
   "metadata": {},
   "outputs": [],
   "source": [
    "import plotly.express as px\n",
    "import pandas as pd\n",
    "from matplotlib import rcParams\n",
    "import matplotlib.pyplot as plt\n",
    "import json\n",
    "import collections\n",
    "rcParams['font.family'] = \"Palatino\""
   ]
  },
  {
   "cell_type": "code",
   "execution_count": 3,
   "metadata": {},
   "outputs": [],
   "source": [
    "kinase_to_family = pd.read_csv(\"../data/preprocessing/kin_to_vec.csv\").applymap(lambda x: x.upper()).set_index('Kinase').to_dict()['Family']\n",
    "family_to_group = pd.read_csv(\"../data/preprocessing/fam_to_grp.csv\").applymap(lambda x: x.upper()).set_index('Family').to_dict()['Group']"
   ]
  },
  {
   "cell_type": "code",
   "execution_count": 4,
   "metadata": {},
   "outputs": [],
   "source": [
    "new_df = pd.DataFrame({'Kinase': [], 'Family': [], 'Group': [], 'MLSet': []})\n",
    "for fn, label in zip(['../data/preprocessing/tr_kins.json', '../data/preprocessing/vl_kins.json', '../data/preprocessing/te_kins.json'], ['train', 'val', 'test']):\n",
    "    with open(fn, \"r\") as f:\n",
    "        set_of_kinases = json.load(f)\n",
    "        for kin in set_of_kinases:\n",
    "            new_df.loc[len(new_df)] = [None, None, None, None]\n",
    "            r = new_df.loc[len(new_df) - 1]\n",
    "            r['Kinase'] = kin\n",
    "            r['Family'] = kinase_to_family[kin] + \"@F\"\n",
    "            r['Group'] = family_to_group[kinase_to_family[kin]] + \"@G\" if kinase_to_family[kin] in family_to_group else \"<UNKNOWN>@G\" \n",
    "            r['MLSet'] = label\n"
   ]
  },
  {
   "cell_type": "code",
   "execution_count": 5,
   "metadata": {},
   "outputs": [],
   "source": [
    "num_sites_df = pd.read_csv(\"../data/raw_data_13437.csv\").rename({'lab': 'Kinase'}, axis = 'columns')[['Kinase', 'num_sites']]\n",
    "new_df = pd.merge(new_df, num_sites_df, how='left', on='Kinase').drop_duplicates(keep='first').reset_index(drop = True)"
   ]
  },
  {
   "cell_type": "code",
   "execution_count": 6,
   "metadata": {},
   "outputs": [],
   "source": [
    "kin_to_num_sites = num_sites_df.set_index('Kinase').to_dict()['num_sites']"
   ]
  },
  {
   "cell_type": "code",
   "execution_count": 7,
   "metadata": {},
   "outputs": [
    {
     "data": {
      "application/vnd.plotly.v1+json": {
       "config": {
        "plotlyServerURL": "https://plot.ly"
       },
       "data": [
        {
         "branchvalues": "total",
         "domain": {
          "x": [
           0,
           1
          ],
          "y": [
           0,
           1
          ]
         },
         "hovertemplate": "labels=%{label}<br>value=%{value}<br>parent=%{parent}<br>id=%{id}<extra></extra>",
         "ids": [
          "OTHER@G/train/NAK@F/AAK1",
          "TK@G/val/ABL@F/ABL1",
          "TK@G/val/ABL@F/ABL2",
          "TKL@G/val/STKR@F/ACVR1B",
          "TKL@G/val/STKR@F/ACVRL1",
          "ATYPICAL@G/test/ABC1@F/ADCK5",
          "AGC@G/train/AKT@F/AKT1",
          "AGC@G/train/AKT@F/AKT2",
          "AGC@G/train/AKT@F/AKT3",
          "TK@G/val/ALK@F/ALK",
          "ATYPICAL@G/test/ALPHA@F/ALPK1",
          "TKL@G/train/RAF@F/ARAF",
          "ATYPICAL@G/train/PIKK@F/ATM",
          "ATYPICAL@G/train/PIKK@F/ATR",
          "OTHER@G/train/AUR@F/AURKA",
          "OTHER@G/train/AUR@F/AURKB",
          "OTHER@G/train/AUR@F/AURKC",
          "TK@G/train/AXL@F/AXL",
          "ATYPICAL@G/train/BAZ@F/BAZ1B",
          "ATYPICAL@G/test/BCR@F/BCR",
          "TK@G/train/SRC@F/BLK",
          "ATYPICAL@G/val/BLVRA@F/BLVRA",
          "OTHER@G/train/NAK@F/BMP2K",
          "TKL@G/val/STKR@F/BMPR1B",
          "TK@G/train/TEC@F/BMX",
          "TKL@G/train/RAF@F/BRAF",
          "ATYPICAL@G/train/BRD@F/BRD4",
          "CAMK@G/train/CAMKL@F/BRSK1",
          "CAMK@G/train/CAMKL@F/BRSK2",
          "TK@G/train/TEC@F/BTK",
          "OTHER@G/train/BUB@F/BUB1",
          "CAMK@G/train/CAMK1@F/CAMK1",
          "CAMK@G/train/CAMK1@F/CAMK1G",
          "CAMK@G/test/CAMK2@F/CAMK2A",
          "CAMK@G/test/CAMK2@F/CAMK2B",
          "CAMK@G/test/CAMK2@F/CAMK2D",
          "CAMK@G/test/CAMK2@F/CAMK2G",
          "CAMK@G/train/CAMK1@F/CAMK4",
          "OTHER@G/val/CAMKK@F/CAMKK1",
          "OTHER@G/val/CAMKK@F/CAMKK2",
          "CAMK@G/test/CASK@F/CASK",
          "AGC@G/train/DMPK@F/CDC42BPA",
          "AGC@G/train/DMPK@F/CDC42BPB",
          "OTHER@G/val/CDC7@F/CDC7",
          "CMGC@G/train/CDK@F/CDK1",
          "CMGC@G/train/CDK@F/CDK10",
          "CMGC@G/train/CDK@F/CDK11A",
          "CMGC@G/train/CDK@F/CDK11B",
          "CMGC@G/train/CDK@F/CDK12",
          "CMGC@G/train/CDK@F/CDK13",
          "CMGC@G/train/CDK@F/CDK14",
          "CMGC@G/train/CDK@F/CDK15",
          "CMGC@G/train/CDK@F/CDK16",
          "CMGC@G/train/CDK@F/CDK18",
          "CMGC@G/train/CDK@F/CDK19",
          "CMGC@G/train/CDK@F/CDK2",
          "CMGC@G/train/CDK@F/CDK20",
          "CMGC@G/train/CDK@F/CDK3",
          "CMGC@G/train/CDK@F/CDK4",
          "CMGC@G/train/CDK@F/CDK5",
          "CMGC@G/train/CDK@F/CDK6",
          "CMGC@G/train/CDK@F/CDK7",
          "CMGC@G/train/CDK@F/CDK8",
          "CMGC@G/train/CDK@F/CDK9",
          "CMGC@G/test/CDKL@F/CDKL2",
          "CMGC@G/test/CDKL@F/CDKL5",
          "ATYPICAL@G/val/COL4A3BP@F/CERT1",
          "CAMK@G/train/CAMKL@F/CHEK1",
          "CAMK@G/val/RAD53@F/CHEK2",
          "OTHER@G/train/IKK@F/CHUK",
          "CMGC@G/train/RCK@F/CILK1",
          "AGC@G/train/DMPK@F/CIT",
          "CMGC@G/val/CLK@F/CLK1",
          "CMGC@G/val/CLK@F/CLK2",
          "CMGC@G/val/CLK@F/CLK3",
          "CMGC@G/val/CLK@F/CLK4",
          "TK@G/test/PDGFR@F/CSF1R",
          "TK@G/test/CSK@F/CSK",
          "CK1@G/train/CK1@F/CSNK1A1",
          "CK1@G/train/CK1@F/CSNK1A1L",
          "CK1@G/train/CK1@F/CSNK1D",
          "CK1@G/train/CK1@F/CSNK1E",
          "CK1@G/train/CK1@F/CSNK1G1",
          "CK1@G/train/CK1@F/CSNK1G2",
          "CK1@G/train/CK1@F/CSNK1G3",
          "CMGC@G/test/CK2@F/CSNK2A1",
          "CMGC@G/test/CK2@F/CSNK2A2",
          "<UNKNOWN>@G/train/CSNK2B@F/CSNK2B",
          "CAMK@G/train/DAPK@F/DAPK1",
          "CAMK@G/train/DAPK@F/DAPK2",
          "CAMK@G/train/DAPK@F/DAPK3",
          "<UNKNOWN>@G/val/DCAF1@F/DCAF1",
          "TK@G/val/DDR@F/DDR1",
          "AGC@G/train/DMPK@F/DMPK",
          "CMGC@G/test/DYRK@F/DYRK1A",
          "CMGC@G/test/DYRK@F/DYRK1B",
          "CMGC@G/test/DYRK@F/DYRK2",
          "CMGC@G/test/DYRK@F/DYRK3",
          "CMGC@G/test/DYRK@F/DYRK4",
          "ATYPICAL@G/test/ALPHA@F/EEF2K",
          "TK@G/test/EGFR@F/EGFR",
          "OTHER@G/train/PEK@F/EIF2AK1",
          "OTHER@G/train/PEK@F/EIF2AK2",
          "OTHER@G/train/PEK@F/EIF2AK3",
          "STE@G/train/STE-UNIQUE@F/EIF2AK4",
          "<UNKNOWN>@G/test/ENPP3@F/ENPP3",
          "TK@G/train/EPH@F/EPHA1",
          "TK@G/train/EPH@F/EPHA2",
          "TK@G/train/EPH@F/EPHA4",
          "TK@G/train/EPH@F/EPHB1",
          "TK@G/train/EPH@F/EPHB2",
          "TK@G/train/EPH@F/EPHB3",
          "TK@G/test/EGFR@F/ERBB2",
          "TK@G/test/EGFR@F/ERBB4",
          "OTHER@G/test/IRE@F/ERN1",
          "<UNKNOWN>@G/train/FAM20C@F/FAM20C",
          "TK@G/train/FER@F/FER",
          "TK@G/train/FER@F/FES",
          "TK@G/val/FGFR@F/FGFR1",
          "TK@G/val/FGFR@F/FGFR2",
          "TK@G/val/FGFR@F/FGFR3",
          "TK@G/val/FGFR@F/FGFR4",
          "TK@G/train/SRC@F/FGR",
          "TK@G/train/VEGFR@F/FLT1",
          "TK@G/test/PDGFR@F/FLT3",
          "TK@G/train/SRC@F/FRK",
          "TK@G/train/SRC@F/FYN",
          "OTHER@G/train/NAK@F/GAK",
          "AGC@G/val/GRK@F/GRK1",
          "AGC@G/val/GRK@F/GRK2",
          "AGC@G/val/GRK@F/GRK3",
          "AGC@G/val/GRK@F/GRK4",
          "AGC@G/val/GRK@F/GRK5",
          "AGC@G/val/GRK@F/GRK6",
          "AGC@G/val/GRK@F/GRK7",
          "CMGC@G/val/GSK@F/GSK3A",
          "CMGC@G/val/GSK@F/GSK3B",
          "ATYPICAL@G/train/GTF2F1@F/GTF2F1",
          "OTHER@G/train/HASPIN@F/HASPIN",
          "TK@G/train/SRC@F/HCK",
          "CMGC@G/test/DYRK@F/HIPK1",
          "CMGC@G/test/DYRK@F/HIPK2",
          "CMGC@G/test/DYRK@F/HIPK3",
          "<UNKNOWN>@G/test/HSPA5@F/HSPA5",
          "CAMK@G/train/CAMKL@F/HUNK",
          "TK@G/train/INSR@F/IGF1R",
          "OTHER@G/train/IKK@F/IKBKB",
          "OTHER@G/train/IKK@F/IKBKE",
          "TKL@G/test/MLK@F/ILK",
          "TK@G/train/INSR@F/INSR",
          "TKL@G/train/IRAK@F/IRAK1",
          "TKL@G/train/IRAK@F/IRAK4",
          "TK@G/train/TEC@F/ITK",
          "TK@G/val/JAKB@F/JAK1",
          "TK@G/val/JAKB@F/JAK2",
          "TK@G/val/JAKB@F/JAK3",
          "<UNKNOWN>@G/train/JMJD6@F/JMJD6",
          "TK@G/train/VEGFR@F/KDR",
          "TK@G/test/PDGFR@F/KIT",
          "TKL@G/train/RAF@F/KSR1",
          "AGC@G/val/NDR@F/LATS1",
          "AGC@G/val/NDR@F/LATS2",
          "TK@G/train/SRC@F/LCK",
          "TKL@G/test/LISK@F/LIMK1",
          "TKL@G/test/LISK@F/LIMK2",
          "TK@G/train/LMR@F/LMTK2",
          "TKL@G/train/LRRK@F/LRRK1",
          "TKL@G/train/LRRK@F/LRRK2",
          "TK@G/val/ALK@F/LTK",
          "TK@G/train/SRC@F/LYN",
          "CMGC@G/train/RCK@F/MAK",
          "STE@G/test/STE7@F/MAP2K1",
          "STE@G/test/STE7@F/MAP2K2",
          "STE@G/test/STE7@F/MAP2K3",
          "STE@G/test/STE7@F/MAP2K4",
          "STE@G/test/STE7@F/MAP2K5",
          "STE@G/test/STE7@F/MAP2K6",
          "STE@G/test/STE7@F/MAP2K7",
          "STE@G/val/STE11@F/MAP3K1",
          "TKL@G/test/MLK@F/MAP3K10",
          "TKL@G/test/MLK@F/MAP3K11",
          "TKL@G/test/MLK@F/MAP3K12",
          "TKL@G/test/MLK@F/MAP3K13",
          "STE@G/train/STE-UNIQUE@F/MAP3K14",
          "STE@G/val/STE11@F/MAP3K2",
          "TKL@G/test/MLK@F/MAP3K20",
          "TKL@G/test/MLK@F/MAP3K21",
          "STE@G/val/STE11@F/MAP3K3",
          "STE@G/val/STE11@F/MAP3K4",
          "STE@G/val/STE11@F/MAP3K5",
          "STE@G/val/STE11@F/MAP3K6",
          "TKL@G/test/MLK@F/MAP3K7",
          "STE@G/train/STE-UNIQUE@F/MAP3K8",
          "STE@G/train/STE20@F/MAP4K1",
          "STE@G/train/STE20@F/MAP4K2",
          "STE@G/train/STE20@F/MAP4K3",
          "STE@G/train/STE20@F/MAP4K4",
          "STE@G/train/STE20@F/MAP4K5",
          "CMGC@G/train/MAPK@F/MAPK1",
          "CMGC@G/train/MAPK@F/MAPK10",
          "CMGC@G/train/MAPK@F/MAPK11",
          "CMGC@G/train/MAPK@F/MAPK12",
          "CMGC@G/train/MAPK@F/MAPK13",
          "CMGC@G/train/MAPK@F/MAPK14",
          "CMGC@G/train/MAPK@F/MAPK15",
          "CMGC@G/train/MAPK@F/MAPK3",
          "CMGC@G/train/MAPK@F/MAPK4",
          "CMGC@G/train/MAPK@F/MAPK6",
          "CMGC@G/train/MAPK@F/MAPK7",
          "CMGC@G/train/MAPK@F/MAPK8",
          "CMGC@G/train/MAPK@F/MAPK9",
          "CAMK@G/val/MAPKAPK@F/MAPKAPK2",
          "CAMK@G/val/MAPKAPK@F/MAPKAPK3",
          "CAMK@G/val/MAPKAPK@F/MAPKAPK5",
          "CAMK@G/train/CAMKL@F/MARK1",
          "CAMK@G/train/CAMKL@F/MARK2",
          "CAMK@G/train/CAMKL@F/MARK3",
          "CAMK@G/train/CAMKL@F/MARK4",
          "AGC@G/test/MAST@F/MAST3",
          "AGC@G/test/MAST@F/MASTL",
          "TK@G/test/CSK@F/MATK",
          "CAMK@G/train/CAMKL@F/MELK",
          "TK@G/train/AXL@F/MERTK",
          "TK@G/train/MET@F/MET",
          "STE@G/train/STE20@F/MINK1",
          "CAMK@G/val/MAPKAPK@F/MKNK1",
          "CAMK@G/val/MAPKAPK@F/MKNK2",
          "OTHER@G/val/MOS@F/MOS",
          "TK@G/train/MET@F/MST1R",
          "ATYPICAL@G/train/PIKK@F/MTOR",
          "CAMK@G/test/MLCK@F/MYLK",
          "CAMK@G/test/MLCK@F/MYLK2",
          "CAMK@G/test/MLCK@F/MYLK3",
          "STE@G/train/STE20@F/MYO3A",
          "OTHER@G/test/NEK@F/NEK1",
          "OTHER@G/test/NEK@F/NEK11",
          "OTHER@G/test/NEK@F/NEK2",
          "OTHER@G/test/NEK@F/NEK3",
          "OTHER@G/test/NEK@F/NEK5",
          "OTHER@G/test/NEK@F/NEK6",
          "OTHER@G/test/NEK@F/NEK7",
          "OTHER@G/test/NEK@F/NEK9",
          "CMGC@G/train/MAPK@F/NLK",
          "<UNKNOWN>@G/train/NDP@F/NME1",
          "<UNKNOWN>@G/train/NDP@F/NME2",
          "TK@G/test/TRK@F/NTRK1",
          "TK@G/test/TRK@F/NTRK2",
          "CAMK@G/train/CAMKL@F/NUAK1",
          "CAMK@G/train/CAMKL@F/NUAK2",
          "STE@G/train/STE20@F/OXSR1",
          "STE@G/train/STE20@F/PAK1",
          "STE@G/train/STE20@F/PAK2",
          "STE@G/train/STE20@F/PAK4",
          "STE@G/train/STE20@F/PAK5",
          "STE@G/train/STE20@F/PAK6",
          "CAMK@G/train/CAMKL@F/PASK",
          "OTHER@G/val/TOPK@F/PBK",
          "<UNKNOWN>@G/train/PCK1@F/PCK1",
          "TK@G/test/PDGFR@F/PDGFRA",
          "TK@G/test/PDGFR@F/PDGFRB",
          "ATYPICAL@G/test/PDHK@F/PDK1",
          "ATYPICAL@G/test/PDHK@F/PDK2",
          "ATYPICAL@G/test/PDHK@F/PDK3",
          "ATYPICAL@G/test/PDHK@F/PDK4",
          "AGC@G/train/PDK1@F/PDPK1",
          "<UNKNOWN>@G/train/PFKP@F/PFKP",
          "<UNKNOWN>@G/train/PGK1@F/PGK1",
          "<UNKNOWN>@G/train/PHKA1@F/PHKA1",
          "<UNKNOWN>@G/test/PIK3C@F/PIK3C2A",
          "<UNKNOWN>@G/test/PIK3C@F/PIK3CA",
          "<UNKNOWN>@G/test/PIK3C@F/PIK3CB",
          "<UNKNOWN>@G/test/PIK3C@F/PIK3CD",
          "<UNKNOWN>@G/test/PIK3C@F/PIK3CG",
          "<UNKNOWN>@G/test/PIK3R1@F/PIK3R1",
          "<UNKNOWN>@G/val/PIKFYVE@F/PIKFYVE",
          "CAMK@G/train/PIM@F/PIM1",
          "CAMK@G/train/PIM@F/PIM2",
          "CAMK@G/train/PIM@F/PIM3",
          "OTHER@G/test/NKF2@F/PINK1",
          "<UNKNOWN>@G/val/PKM@F/PKM",
          "OTHER@G/train/WEE@F/PKMYT1",
          "AGC@G/test/PKN@F/PKN1",
          "AGC@G/test/PKN@F/PKN2",
          "AGC@G/test/PKN@F/PKN3",
          "OTHER@G/train/PLK@F/PLK1",
          "OTHER@G/train/PLK@F/PLK2",
          "OTHER@G/train/PLK@F/PLK3",
          "OTHER@G/train/PLK@F/PLK4",
          "CAMK@G/train/CAMK1@F/PNCK",
          "CAMK@G/train/CAMKL@F/PRKAA1",
          "CAMK@G/train/CAMKL@F/PRKAA2",
          "<UNKNOWN>@G/train/PRKAB1@F/PRKAB1",
          "AGC@G/train/PKA@F/PRKACA",
          "AGC@G/train/PKA@F/PRKACB",
          "<UNKNOWN>@G/test/PRKAG2@F/PRKAG2",
          "AGC@G/train/PKC@F/PRKCA",
          "AGC@G/train/PKC@F/PRKCB",
          "AGC@G/train/PKC@F/PRKCD",
          "AGC@G/train/PKC@F/PRKCE",
          "AGC@G/train/PKC@F/PRKCG",
          "AGC@G/train/PKC@F/PRKCH",
          "AGC@G/train/PKC@F/PRKCI",
          "AGC@G/train/PKC@F/PRKCQ",
          "AGC@G/train/PKC@F/PRKCZ",
          "CAMK@G/train/PKD@F/PRKD1",
          "CAMK@G/train/PKD@F/PRKD2",
          "CAMK@G/train/PKD@F/PRKD3",
          "ATYPICAL@G/train/PIKK@F/PRKDC",
          "AGC@G/val/PKG@F/PRKG1",
          "AGC@G/val/PKG@F/PRKG2",
          "AGC@G/train/PKA@F/PRKX",
          "CMGC@G/test/DYRK@F/PRPF4B",
          "TK@G/test/FAK@F/PTK2",
          "TK@G/test/FAK@F/PTK2B",
          "TK@G/train/SRC@F/PTK6",
          "TKL@G/train/RAF@F/RAF1",
          "TK@G/val/RET@F/RET",
          "ATYPICAL@G/train/RIO@F/RIOK3",
          "TKL@G/val/RIPK@F/RIPK1",
          "TKL@G/val/RIPK@F/RIPK2",
          "TKL@G/val/RIPK@F/RIPK3",
          "AGC@G/train/DMPK@F/ROCK1",
          "AGC@G/train/DMPK@F/ROCK2",
          "CAMK@G/train/RSKB@F/RPS6KA1",
          "CAMK@G/train/RSKB@F/RPS6KA2",
          "CAMK@G/train/RSKB@F/RPS6KA3",
          "CAMK@G/train/RSKB@F/RPS6KA4",
          "CAMK@G/train/RSKB@F/RPS6KA5",
          "CAMK@G/train/RSKB@F/RPS6KA6",
          "AGC@G/train/RSK@F/RPS6KB1",
          "AGC@G/train/RSK@F/RPS6KB2",
          "AGC@G/test/SGK@F/SGK1",
          "AGC@G/test/SGK@F/SGK2",
          "AGC@G/test/SGK@F/SGK3",
          "CAMK@G/train/CAMKL@F/SIK1",
          "CAMK@G/train/CAMKL@F/SIK2",
          "STE@G/train/STE20@F/SLK",
          "ATYPICAL@G/train/PIKK@F/SMG1",
          "TK@G/train/SRC@F/SRC",
          "TK@G/train/SRC@F/SRMS",
          "CMGC@G/train/SRPK@F/SRPK1",
          "CMGC@G/train/SRPK@F/SRPK2",
          "STE@G/train/STE20@F/STK10",
          "CAMK@G/train/CAMKL@F/STK11",
          "OTHER@G/train/NAK@F/STK16",
          "CAMK@G/train/DAPK@F/STK17A",
          "ATYPICAL@G/train/G11@F/STK19",
          "STE@G/train/STE20@F/STK24",
          "STE@G/train/STE20@F/STK25",
          "STE@G/train/STE20@F/STK26",
          "STE@G/train/STE20@F/STK3",
          "CAMK@G/val/STK33@F/STK33",
          "AGC@G/val/NDR@F/STK38",
          "AGC@G/val/NDR@F/STK38L",
          "STE@G/train/STE20@F/STK39",
          "STE@G/train/STE20@F/STK4",
          "TK@G/train/TK-UNIQUE@F/STYK1",
          "TK@G/test/SYK@F/SYK",
          "ATYPICAL@G/val/TAF1@F/TAF1",
          "STE@G/train/STE20@F/TAOK1",
          "STE@G/train/STE20@F/TAOK2",
          "OTHER@G/train/IKK@F/TBK1",
          "TK@G/train/TEC@F/TEC",
          "TK@G/train/TIE@F/TEK",
          "TKL@G/test/LISK@F/TESK1",
          "TKL@G/val/STKR@F/TGFBR1",
          "TKL@G/val/STKR@F/TGFBR2",
          "<UNKNOWN>@G/val/TGM2@F/TGM2",
          "OTHER@G/test/TLK@F/TLK1",
          "OTHER@G/test/TLK@F/TLK2",
          "STE@G/train/STE20@F/TNIK",
          "TK@G/train/ACK@F/TNK2",
          "OTHER@G/val/BUD32@F/TP53RK",
          "ATYPICAL@G/test/ALPHA@F/TRPM6",
          "ATYPICAL@G/test/ALPHA@F/TRPM7",
          "CAMK@G/test/TSSK@F/TSSK4",
          "CK1@G/test/TTBK@F/TTBK1",
          "CK1@G/test/TTBK@F/TTBK2",
          "OTHER@G/val/TTK@F/TTK",
          "TK@G/train/TEC@F/TXK",
          "TK@G/val/JAKB@F/TYK2",
          "TK@G/train/AXL@F/TYRO3",
          "OTHER@G/train/KIS@F/UHMK1",
          "OTHER@G/test/ULK@F/ULK1",
          "OTHER@G/test/ULK@F/ULK2",
          "OTHER@G/test/ULK@F/ULK3",
          "CK1@G/val/VRK@F/VRK1",
          "CK1@G/val/VRK@F/VRK2",
          "CK1@G/val/VRK@F/VRK3",
          "OTHER@G/train/WEE@F/WEE1",
          "OTHER@G/train/WNK@F/WNK1",
          "OTHER@G/train/WNK@F/WNK2",
          "OTHER@G/train/WNK@F/WNK3",
          "OTHER@G/train/WNK@F/WNK4",
          "TK@G/train/SRC@F/YES1",
          "TK@G/test/SYK@F/ZAP70",
          "ATYPICAL@G/test/ABC1@F",
          "TK@G/val/ABL@F",
          "TK@G/train/ACK@F",
          "AGC@G/train/AKT@F",
          "TK@G/val/ALK@F",
          "ATYPICAL@G/test/ALPHA@F",
          "OTHER@G/train/AUR@F",
          "TK@G/train/AXL@F",
          "ATYPICAL@G/train/BAZ@F",
          "ATYPICAL@G/test/BCR@F",
          "ATYPICAL@G/val/BLVRA@F",
          "ATYPICAL@G/train/BRD@F",
          "OTHER@G/train/BUB@F",
          "OTHER@G/val/BUD32@F",
          "CAMK@G/train/CAMK1@F",
          "CAMK@G/test/CAMK2@F",
          "OTHER@G/val/CAMKK@F",
          "CAMK@G/train/CAMKL@F",
          "CAMK@G/test/CASK@F",
          "OTHER@G/val/CDC7@F",
          "CMGC@G/train/CDK@F",
          "CMGC@G/test/CDKL@F",
          "CK1@G/train/CK1@F",
          "CMGC@G/test/CK2@F",
          "CMGC@G/val/CLK@F",
          "ATYPICAL@G/val/COL4A3BP@F",
          "TK@G/test/CSK@F",
          "<UNKNOWN>@G/train/CSNK2B@F",
          "CAMK@G/train/DAPK@F",
          "<UNKNOWN>@G/val/DCAF1@F",
          "TK@G/val/DDR@F",
          "AGC@G/train/DMPK@F",
          "CMGC@G/test/DYRK@F",
          "TK@G/test/EGFR@F",
          "<UNKNOWN>@G/test/ENPP3@F",
          "TK@G/train/EPH@F",
          "TK@G/test/FAK@F",
          "<UNKNOWN>@G/train/FAM20C@F",
          "TK@G/train/FER@F",
          "TK@G/val/FGFR@F",
          "ATYPICAL@G/train/G11@F",
          "AGC@G/val/GRK@F",
          "CMGC@G/val/GSK@F",
          "ATYPICAL@G/train/GTF2F1@F",
          "OTHER@G/train/HASPIN@F",
          "<UNKNOWN>@G/test/HSPA5@F",
          "OTHER@G/train/IKK@F",
          "TK@G/train/INSR@F",
          "TKL@G/train/IRAK@F",
          "OTHER@G/test/IRE@F",
          "TK@G/val/JAKB@F",
          "<UNKNOWN>@G/train/JMJD6@F",
          "OTHER@G/train/KIS@F",
          "TKL@G/test/LISK@F",
          "TK@G/train/LMR@F",
          "TKL@G/train/LRRK@F",
          "CMGC@G/train/MAPK@F",
          "CAMK@G/val/MAPKAPK@F",
          "AGC@G/test/MAST@F",
          "TK@G/train/MET@F",
          "CAMK@G/test/MLCK@F",
          "TKL@G/test/MLK@F",
          "OTHER@G/val/MOS@F",
          "OTHER@G/train/NAK@F",
          "<UNKNOWN>@G/train/NDP@F",
          "AGC@G/val/NDR@F",
          "OTHER@G/test/NEK@F",
          "OTHER@G/test/NKF2@F",
          "<UNKNOWN>@G/train/PCK1@F",
          "TK@G/test/PDGFR@F",
          "ATYPICAL@G/test/PDHK@F",
          "AGC@G/train/PDK1@F",
          "OTHER@G/train/PEK@F",
          "<UNKNOWN>@G/train/PFKP@F",
          "<UNKNOWN>@G/train/PGK1@F",
          "<UNKNOWN>@G/train/PHKA1@F",
          "<UNKNOWN>@G/test/PIK3C@F",
          "<UNKNOWN>@G/test/PIK3R1@F",
          "<UNKNOWN>@G/val/PIKFYVE@F",
          "ATYPICAL@G/train/PIKK@F",
          "CAMK@G/train/PIM@F",
          "AGC@G/train/PKA@F",
          "AGC@G/train/PKC@F",
          "CAMK@G/train/PKD@F",
          "AGC@G/val/PKG@F",
          "<UNKNOWN>@G/val/PKM@F",
          "AGC@G/test/PKN@F",
          "OTHER@G/train/PLK@F",
          "<UNKNOWN>@G/train/PRKAB1@F",
          "<UNKNOWN>@G/test/PRKAG2@F",
          "CAMK@G/val/RAD53@F",
          "TKL@G/train/RAF@F",
          "CMGC@G/train/RCK@F",
          "TK@G/val/RET@F",
          "ATYPICAL@G/train/RIO@F",
          "TKL@G/val/RIPK@F",
          "AGC@G/train/RSK@F",
          "CAMK@G/train/RSKB@F",
          "AGC@G/test/SGK@F",
          "TK@G/train/SRC@F",
          "CMGC@G/train/SRPK@F",
          "STE@G/train/STE-UNIQUE@F",
          "STE@G/val/STE11@F",
          "STE@G/train/STE20@F",
          "STE@G/test/STE7@F",
          "CAMK@G/val/STK33@F",
          "TKL@G/val/STKR@F",
          "TK@G/test/SYK@F",
          "ATYPICAL@G/val/TAF1@F",
          "TK@G/train/TEC@F",
          "<UNKNOWN>@G/val/TGM2@F",
          "TK@G/train/TIE@F",
          "TK@G/train/TK-UNIQUE@F",
          "OTHER@G/test/TLK@F",
          "OTHER@G/val/TOPK@F",
          "TK@G/test/TRK@F",
          "CAMK@G/test/TSSK@F",
          "CK1@G/test/TTBK@F",
          "OTHER@G/val/TTK@F",
          "OTHER@G/test/ULK@F",
          "TK@G/train/VEGFR@F",
          "CK1@G/val/VRK@F",
          "OTHER@G/train/WEE@F",
          "OTHER@G/train/WNK@F",
          "<UNKNOWN>@G/test",
          "AGC@G/test",
          "ATYPICAL@G/test",
          "CAMK@G/test",
          "CK1@G/test",
          "CMGC@G/test",
          "OTHER@G/test",
          "STE@G/test",
          "TK@G/test",
          "TKL@G/test",
          "<UNKNOWN>@G/train",
          "AGC@G/train",
          "ATYPICAL@G/train",
          "CAMK@G/train",
          "CK1@G/train",
          "CMGC@G/train",
          "OTHER@G/train",
          "STE@G/train",
          "TK@G/train",
          "TKL@G/train",
          "<UNKNOWN>@G/val",
          "AGC@G/val",
          "ATYPICAL@G/val",
          "CAMK@G/val",
          "CK1@G/val",
          "CMGC@G/val",
          "OTHER@G/val",
          "STE@G/val",
          "TK@G/val",
          "TKL@G/val",
          "<UNKNOWN>@G",
          "AGC@G",
          "ATYPICAL@G",
          "CAMK@G",
          "CK1@G",
          "CMGC@G",
          "OTHER@G",
          "STE@G",
          "TK@G",
          "TKL@G"
         ],
         "labels": [
          "AAK1",
          "ABL1",
          "ABL2",
          "ACVR1B",
          "ACVRL1",
          "ADCK5",
          "AKT1",
          "AKT2",
          "AKT3",
          "ALK",
          "ALPK1",
          "ARAF",
          "ATM",
          "ATR",
          "AURKA",
          "AURKB",
          "AURKC",
          "AXL",
          "BAZ1B",
          "BCR",
          "BLK",
          "BLVRA",
          "BMP2K",
          "BMPR1B",
          "BMX",
          "BRAF",
          "BRD4",
          "BRSK1",
          "BRSK2",
          "BTK",
          "BUB1",
          "CAMK1",
          "CAMK1G",
          "CAMK2A",
          "CAMK2B",
          "CAMK2D",
          "CAMK2G",
          "CAMK4",
          "CAMKK1",
          "CAMKK2",
          "CASK",
          "CDC42BPA",
          "CDC42BPB",
          "CDC7",
          "CDK1",
          "CDK10",
          "CDK11A",
          "CDK11B",
          "CDK12",
          "CDK13",
          "CDK14",
          "CDK15",
          "CDK16",
          "CDK18",
          "CDK19",
          "CDK2",
          "CDK20",
          "CDK3",
          "CDK4",
          "CDK5",
          "CDK6",
          "CDK7",
          "CDK8",
          "CDK9",
          "CDKL2",
          "CDKL5",
          "CERT1",
          "CHEK1",
          "CHEK2",
          "CHUK",
          "CILK1",
          "CIT",
          "CLK1",
          "CLK2",
          "CLK3",
          "CLK4",
          "CSF1R",
          "CSK",
          "CSNK1A1",
          "CSNK1A1L",
          "CSNK1D",
          "CSNK1E",
          "CSNK1G1",
          "CSNK1G2",
          "CSNK1G3",
          "CSNK2A1",
          "CSNK2A2",
          "CSNK2B",
          "DAPK1",
          "DAPK2",
          "DAPK3",
          "DCAF1",
          "DDR1",
          "DMPK",
          "DYRK1A",
          "DYRK1B",
          "DYRK2",
          "DYRK3",
          "DYRK4",
          "EEF2K",
          "EGFR",
          "EIF2AK1",
          "EIF2AK2",
          "EIF2AK3",
          "EIF2AK4",
          "ENPP3",
          "EPHA1",
          "EPHA2",
          "EPHA4",
          "EPHB1",
          "EPHB2",
          "EPHB3",
          "ERBB2",
          "ERBB4",
          "ERN1",
          "FAM20C",
          "FER",
          "FES",
          "FGFR1",
          "FGFR2",
          "FGFR3",
          "FGFR4",
          "FGR",
          "FLT1",
          "FLT3",
          "FRK",
          "FYN",
          "GAK",
          "GRK1",
          "GRK2",
          "GRK3",
          "GRK4",
          "GRK5",
          "GRK6",
          "GRK7",
          "GSK3A",
          "GSK3B",
          "GTF2F1",
          "HASPIN",
          "HCK",
          "HIPK1",
          "HIPK2",
          "HIPK3",
          "HSPA5",
          "HUNK",
          "IGF1R",
          "IKBKB",
          "IKBKE",
          "ILK",
          "INSR",
          "IRAK1",
          "IRAK4",
          "ITK",
          "JAK1",
          "JAK2",
          "JAK3",
          "JMJD6",
          "KDR",
          "KIT",
          "KSR1",
          "LATS1",
          "LATS2",
          "LCK",
          "LIMK1",
          "LIMK2",
          "LMTK2",
          "LRRK1",
          "LRRK2",
          "LTK",
          "LYN",
          "MAK",
          "MAP2K1",
          "MAP2K2",
          "MAP2K3",
          "MAP2K4",
          "MAP2K5",
          "MAP2K6",
          "MAP2K7",
          "MAP3K1",
          "MAP3K10",
          "MAP3K11",
          "MAP3K12",
          "MAP3K13",
          "MAP3K14",
          "MAP3K2",
          "MAP3K20",
          "MAP3K21",
          "MAP3K3",
          "MAP3K4",
          "MAP3K5",
          "MAP3K6",
          "MAP3K7",
          "MAP3K8",
          "MAP4K1",
          "MAP4K2",
          "MAP4K3",
          "MAP4K4",
          "MAP4K5",
          "MAPK1",
          "MAPK10",
          "MAPK11",
          "MAPK12",
          "MAPK13",
          "MAPK14",
          "MAPK15",
          "MAPK3",
          "MAPK4",
          "MAPK6",
          "MAPK7",
          "MAPK8",
          "MAPK9",
          "MAPKAPK2",
          "MAPKAPK3",
          "MAPKAPK5",
          "MARK1",
          "MARK2",
          "MARK3",
          "MARK4",
          "MAST3",
          "MASTL",
          "MATK",
          "MELK",
          "MERTK",
          "MET",
          "MINK1",
          "MKNK1",
          "MKNK2",
          "MOS",
          "MST1R",
          "MTOR",
          "MYLK",
          "MYLK2",
          "MYLK3",
          "MYO3A",
          "NEK1",
          "NEK11",
          "NEK2",
          "NEK3",
          "NEK5",
          "NEK6",
          "NEK7",
          "NEK9",
          "NLK",
          "NME1",
          "NME2",
          "NTRK1",
          "NTRK2",
          "NUAK1",
          "NUAK2",
          "OXSR1",
          "PAK1",
          "PAK2",
          "PAK4",
          "PAK5",
          "PAK6",
          "PASK",
          "PBK",
          "PCK1",
          "PDGFRA",
          "PDGFRB",
          "PDK1",
          "PDK2",
          "PDK3",
          "PDK4",
          "PDPK1",
          "PFKP",
          "PGK1",
          "PHKA1",
          "PIK3C2A",
          "PIK3CA",
          "PIK3CB",
          "PIK3CD",
          "PIK3CG",
          "PIK3R1",
          "PIKFYVE",
          "PIM1",
          "PIM2",
          "PIM3",
          "PINK1",
          "PKM",
          "PKMYT1",
          "PKN1",
          "PKN2",
          "PKN3",
          "PLK1",
          "PLK2",
          "PLK3",
          "PLK4",
          "PNCK",
          "PRKAA1",
          "PRKAA2",
          "PRKAB1",
          "PRKACA",
          "PRKACB",
          "PRKAG2",
          "PRKCA",
          "PRKCB",
          "PRKCD",
          "PRKCE",
          "PRKCG",
          "PRKCH",
          "PRKCI",
          "PRKCQ",
          "PRKCZ",
          "PRKD1",
          "PRKD2",
          "PRKD3",
          "PRKDC",
          "PRKG1",
          "PRKG2",
          "PRKX",
          "PRPF4B",
          "PTK2",
          "PTK2B",
          "PTK6",
          "RAF1",
          "RET",
          "RIOK3",
          "RIPK1",
          "RIPK2",
          "RIPK3",
          "ROCK1",
          "ROCK2",
          "RPS6KA1",
          "RPS6KA2",
          "RPS6KA3",
          "RPS6KA4",
          "RPS6KA5",
          "RPS6KA6",
          "RPS6KB1",
          "RPS6KB2",
          "SGK1",
          "SGK2",
          "SGK3",
          "SIK1",
          "SIK2",
          "SLK",
          "SMG1",
          "SRC",
          "SRMS",
          "SRPK1",
          "SRPK2",
          "STK10",
          "STK11",
          "STK16",
          "STK17A",
          "STK19",
          "STK24",
          "STK25",
          "STK26",
          "STK3",
          "STK33",
          "STK38",
          "STK38L",
          "STK39",
          "STK4",
          "STYK1",
          "SYK",
          "TAF1",
          "TAOK1",
          "TAOK2",
          "TBK1",
          "TEC",
          "TEK",
          "TESK1",
          "TGFBR1",
          "TGFBR2",
          "TGM2",
          "TLK1",
          "TLK2",
          "TNIK",
          "TNK2",
          "TP53RK",
          "TRPM6",
          "TRPM7",
          "TSSK4",
          "TTBK1",
          "TTBK2",
          "TTK",
          "TXK",
          "TYK2",
          "TYRO3",
          "UHMK1",
          "ULK1",
          "ULK2",
          "ULK3",
          "VRK1",
          "VRK2",
          "VRK3",
          "WEE1",
          "WNK1",
          "WNK2",
          "WNK3",
          "WNK4",
          "YES1",
          "ZAP70",
          "ABC1@F",
          "ABL@F",
          "ACK@F",
          "AKT@F",
          "ALK@F",
          "ALPHA@F",
          "AUR@F",
          "AXL@F",
          "BAZ@F",
          "BCR@F",
          "BLVRA@F",
          "BRD@F",
          "BUB@F",
          "BUD32@F",
          "CAMK1@F",
          "CAMK2@F",
          "CAMKK@F",
          "CAMKL@F",
          "CASK@F",
          "CDC7@F",
          "CDK@F",
          "CDKL@F",
          "CK1@F",
          "CK2@F",
          "CLK@F",
          "COL4A3BP@F",
          "CSK@F",
          "CSNK2B@F",
          "DAPK@F",
          "DCAF1@F",
          "DDR@F",
          "DMPK@F",
          "DYRK@F",
          "EGFR@F",
          "ENPP3@F",
          "EPH@F",
          "FAK@F",
          "FAM20C@F",
          "FER@F",
          "FGFR@F",
          "G11@F",
          "GRK@F",
          "GSK@F",
          "GTF2F1@F",
          "HASPIN@F",
          "HSPA5@F",
          "IKK@F",
          "INSR@F",
          "IRAK@F",
          "IRE@F",
          "JAKB@F",
          "JMJD6@F",
          "KIS@F",
          "LISK@F",
          "LMR@F",
          "LRRK@F",
          "MAPK@F",
          "MAPKAPK@F",
          "MAST@F",
          "MET@F",
          "MLCK@F",
          "MLK@F",
          "MOS@F",
          "NAK@F",
          "NDP@F",
          "NDR@F",
          "NEK@F",
          "NKF2@F",
          "PCK1@F",
          "PDGFR@F",
          "PDHK@F",
          "PDK1@F",
          "PEK@F",
          "PFKP@F",
          "PGK1@F",
          "PHKA1@F",
          "PIK3C@F",
          "PIK3R1@F",
          "PIKFYVE@F",
          "PIKK@F",
          "PIM@F",
          "PKA@F",
          "PKC@F",
          "PKD@F",
          "PKG@F",
          "PKM@F",
          "PKN@F",
          "PLK@F",
          "PRKAB1@F",
          "PRKAG2@F",
          "RAD53@F",
          "RAF@F",
          "RCK@F",
          "RET@F",
          "RIO@F",
          "RIPK@F",
          "RSK@F",
          "RSKB@F",
          "SGK@F",
          "SRC@F",
          "SRPK@F",
          "STE-UNIQUE@F",
          "STE11@F",
          "STE20@F",
          "STE7@F",
          "STK33@F",
          "STKR@F",
          "SYK@F",
          "TAF1@F",
          "TEC@F",
          "TGM2@F",
          "TIE@F",
          "TK-UNIQUE@F",
          "TLK@F",
          "TOPK@F",
          "TRK@F",
          "TSSK@F",
          "TTBK@F",
          "TTK@F",
          "ULK@F",
          "VEGFR@F",
          "VRK@F",
          "WEE@F",
          "WNK@F",
          "test",
          "test",
          "test",
          "test",
          "test",
          "test",
          "test",
          "test",
          "test",
          "test",
          "train",
          "train",
          "train",
          "train",
          "train",
          "train",
          "train",
          "train",
          "train",
          "train",
          "val",
          "val",
          "val",
          "val",
          "val",
          "val",
          "val",
          "val",
          "val",
          "val",
          "<UNKNOWN>@G",
          "AGC@G",
          "ATYPICAL@G",
          "CAMK@G",
          "CK1@G",
          "CMGC@G",
          "OTHER@G",
          "STE@G",
          "TK@G",
          "TKL@G"
         ],
         "name": "",
         "parents": [
          "OTHER@G/train/NAK@F",
          "TK@G/val/ABL@F",
          "TK@G/val/ABL@F",
          "TKL@G/val/STKR@F",
          "TKL@G/val/STKR@F",
          "ATYPICAL@G/test/ABC1@F",
          "AGC@G/train/AKT@F",
          "AGC@G/train/AKT@F",
          "AGC@G/train/AKT@F",
          "TK@G/val/ALK@F",
          "ATYPICAL@G/test/ALPHA@F",
          "TKL@G/train/RAF@F",
          "ATYPICAL@G/train/PIKK@F",
          "ATYPICAL@G/train/PIKK@F",
          "OTHER@G/train/AUR@F",
          "OTHER@G/train/AUR@F",
          "OTHER@G/train/AUR@F",
          "TK@G/train/AXL@F",
          "ATYPICAL@G/train/BAZ@F",
          "ATYPICAL@G/test/BCR@F",
          "TK@G/train/SRC@F",
          "ATYPICAL@G/val/BLVRA@F",
          "OTHER@G/train/NAK@F",
          "TKL@G/val/STKR@F",
          "TK@G/train/TEC@F",
          "TKL@G/train/RAF@F",
          "ATYPICAL@G/train/BRD@F",
          "CAMK@G/train/CAMKL@F",
          "CAMK@G/train/CAMKL@F",
          "TK@G/train/TEC@F",
          "OTHER@G/train/BUB@F",
          "CAMK@G/train/CAMK1@F",
          "CAMK@G/train/CAMK1@F",
          "CAMK@G/test/CAMK2@F",
          "CAMK@G/test/CAMK2@F",
          "CAMK@G/test/CAMK2@F",
          "CAMK@G/test/CAMK2@F",
          "CAMK@G/train/CAMK1@F",
          "OTHER@G/val/CAMKK@F",
          "OTHER@G/val/CAMKK@F",
          "CAMK@G/test/CASK@F",
          "AGC@G/train/DMPK@F",
          "AGC@G/train/DMPK@F",
          "OTHER@G/val/CDC7@F",
          "CMGC@G/train/CDK@F",
          "CMGC@G/train/CDK@F",
          "CMGC@G/train/CDK@F",
          "CMGC@G/train/CDK@F",
          "CMGC@G/train/CDK@F",
          "CMGC@G/train/CDK@F",
          "CMGC@G/train/CDK@F",
          "CMGC@G/train/CDK@F",
          "CMGC@G/train/CDK@F",
          "CMGC@G/train/CDK@F",
          "CMGC@G/train/CDK@F",
          "CMGC@G/train/CDK@F",
          "CMGC@G/train/CDK@F",
          "CMGC@G/train/CDK@F",
          "CMGC@G/train/CDK@F",
          "CMGC@G/train/CDK@F",
          "CMGC@G/train/CDK@F",
          "CMGC@G/train/CDK@F",
          "CMGC@G/train/CDK@F",
          "CMGC@G/train/CDK@F",
          "CMGC@G/test/CDKL@F",
          "CMGC@G/test/CDKL@F",
          "ATYPICAL@G/val/COL4A3BP@F",
          "CAMK@G/train/CAMKL@F",
          "CAMK@G/val/RAD53@F",
          "OTHER@G/train/IKK@F",
          "CMGC@G/train/RCK@F",
          "AGC@G/train/DMPK@F",
          "CMGC@G/val/CLK@F",
          "CMGC@G/val/CLK@F",
          "CMGC@G/val/CLK@F",
          "CMGC@G/val/CLK@F",
          "TK@G/test/PDGFR@F",
          "TK@G/test/CSK@F",
          "CK1@G/train/CK1@F",
          "CK1@G/train/CK1@F",
          "CK1@G/train/CK1@F",
          "CK1@G/train/CK1@F",
          "CK1@G/train/CK1@F",
          "CK1@G/train/CK1@F",
          "CK1@G/train/CK1@F",
          "CMGC@G/test/CK2@F",
          "CMGC@G/test/CK2@F",
          "<UNKNOWN>@G/train/CSNK2B@F",
          "CAMK@G/train/DAPK@F",
          "CAMK@G/train/DAPK@F",
          "CAMK@G/train/DAPK@F",
          "<UNKNOWN>@G/val/DCAF1@F",
          "TK@G/val/DDR@F",
          "AGC@G/train/DMPK@F",
          "CMGC@G/test/DYRK@F",
          "CMGC@G/test/DYRK@F",
          "CMGC@G/test/DYRK@F",
          "CMGC@G/test/DYRK@F",
          "CMGC@G/test/DYRK@F",
          "ATYPICAL@G/test/ALPHA@F",
          "TK@G/test/EGFR@F",
          "OTHER@G/train/PEK@F",
          "OTHER@G/train/PEK@F",
          "OTHER@G/train/PEK@F",
          "STE@G/train/STE-UNIQUE@F",
          "<UNKNOWN>@G/test/ENPP3@F",
          "TK@G/train/EPH@F",
          "TK@G/train/EPH@F",
          "TK@G/train/EPH@F",
          "TK@G/train/EPH@F",
          "TK@G/train/EPH@F",
          "TK@G/train/EPH@F",
          "TK@G/test/EGFR@F",
          "TK@G/test/EGFR@F",
          "OTHER@G/test/IRE@F",
          "<UNKNOWN>@G/train/FAM20C@F",
          "TK@G/train/FER@F",
          "TK@G/train/FER@F",
          "TK@G/val/FGFR@F",
          "TK@G/val/FGFR@F",
          "TK@G/val/FGFR@F",
          "TK@G/val/FGFR@F",
          "TK@G/train/SRC@F",
          "TK@G/train/VEGFR@F",
          "TK@G/test/PDGFR@F",
          "TK@G/train/SRC@F",
          "TK@G/train/SRC@F",
          "OTHER@G/train/NAK@F",
          "AGC@G/val/GRK@F",
          "AGC@G/val/GRK@F",
          "AGC@G/val/GRK@F",
          "AGC@G/val/GRK@F",
          "AGC@G/val/GRK@F",
          "AGC@G/val/GRK@F",
          "AGC@G/val/GRK@F",
          "CMGC@G/val/GSK@F",
          "CMGC@G/val/GSK@F",
          "ATYPICAL@G/train/GTF2F1@F",
          "OTHER@G/train/HASPIN@F",
          "TK@G/train/SRC@F",
          "CMGC@G/test/DYRK@F",
          "CMGC@G/test/DYRK@F",
          "CMGC@G/test/DYRK@F",
          "<UNKNOWN>@G/test/HSPA5@F",
          "CAMK@G/train/CAMKL@F",
          "TK@G/train/INSR@F",
          "OTHER@G/train/IKK@F",
          "OTHER@G/train/IKK@F",
          "TKL@G/test/MLK@F",
          "TK@G/train/INSR@F",
          "TKL@G/train/IRAK@F",
          "TKL@G/train/IRAK@F",
          "TK@G/train/TEC@F",
          "TK@G/val/JAKB@F",
          "TK@G/val/JAKB@F",
          "TK@G/val/JAKB@F",
          "<UNKNOWN>@G/train/JMJD6@F",
          "TK@G/train/VEGFR@F",
          "TK@G/test/PDGFR@F",
          "TKL@G/train/RAF@F",
          "AGC@G/val/NDR@F",
          "AGC@G/val/NDR@F",
          "TK@G/train/SRC@F",
          "TKL@G/test/LISK@F",
          "TKL@G/test/LISK@F",
          "TK@G/train/LMR@F",
          "TKL@G/train/LRRK@F",
          "TKL@G/train/LRRK@F",
          "TK@G/val/ALK@F",
          "TK@G/train/SRC@F",
          "CMGC@G/train/RCK@F",
          "STE@G/test/STE7@F",
          "STE@G/test/STE7@F",
          "STE@G/test/STE7@F",
          "STE@G/test/STE7@F",
          "STE@G/test/STE7@F",
          "STE@G/test/STE7@F",
          "STE@G/test/STE7@F",
          "STE@G/val/STE11@F",
          "TKL@G/test/MLK@F",
          "TKL@G/test/MLK@F",
          "TKL@G/test/MLK@F",
          "TKL@G/test/MLK@F",
          "STE@G/train/STE-UNIQUE@F",
          "STE@G/val/STE11@F",
          "TKL@G/test/MLK@F",
          "TKL@G/test/MLK@F",
          "STE@G/val/STE11@F",
          "STE@G/val/STE11@F",
          "STE@G/val/STE11@F",
          "STE@G/val/STE11@F",
          "TKL@G/test/MLK@F",
          "STE@G/train/STE-UNIQUE@F",
          "STE@G/train/STE20@F",
          "STE@G/train/STE20@F",
          "STE@G/train/STE20@F",
          "STE@G/train/STE20@F",
          "STE@G/train/STE20@F",
          "CMGC@G/train/MAPK@F",
          "CMGC@G/train/MAPK@F",
          "CMGC@G/train/MAPK@F",
          "CMGC@G/train/MAPK@F",
          "CMGC@G/train/MAPK@F",
          "CMGC@G/train/MAPK@F",
          "CMGC@G/train/MAPK@F",
          "CMGC@G/train/MAPK@F",
          "CMGC@G/train/MAPK@F",
          "CMGC@G/train/MAPK@F",
          "CMGC@G/train/MAPK@F",
          "CMGC@G/train/MAPK@F",
          "CMGC@G/train/MAPK@F",
          "CAMK@G/val/MAPKAPK@F",
          "CAMK@G/val/MAPKAPK@F",
          "CAMK@G/val/MAPKAPK@F",
          "CAMK@G/train/CAMKL@F",
          "CAMK@G/train/CAMKL@F",
          "CAMK@G/train/CAMKL@F",
          "CAMK@G/train/CAMKL@F",
          "AGC@G/test/MAST@F",
          "AGC@G/test/MAST@F",
          "TK@G/test/CSK@F",
          "CAMK@G/train/CAMKL@F",
          "TK@G/train/AXL@F",
          "TK@G/train/MET@F",
          "STE@G/train/STE20@F",
          "CAMK@G/val/MAPKAPK@F",
          "CAMK@G/val/MAPKAPK@F",
          "OTHER@G/val/MOS@F",
          "TK@G/train/MET@F",
          "ATYPICAL@G/train/PIKK@F",
          "CAMK@G/test/MLCK@F",
          "CAMK@G/test/MLCK@F",
          "CAMK@G/test/MLCK@F",
          "STE@G/train/STE20@F",
          "OTHER@G/test/NEK@F",
          "OTHER@G/test/NEK@F",
          "OTHER@G/test/NEK@F",
          "OTHER@G/test/NEK@F",
          "OTHER@G/test/NEK@F",
          "OTHER@G/test/NEK@F",
          "OTHER@G/test/NEK@F",
          "OTHER@G/test/NEK@F",
          "CMGC@G/train/MAPK@F",
          "<UNKNOWN>@G/train/NDP@F",
          "<UNKNOWN>@G/train/NDP@F",
          "TK@G/test/TRK@F",
          "TK@G/test/TRK@F",
          "CAMK@G/train/CAMKL@F",
          "CAMK@G/train/CAMKL@F",
          "STE@G/train/STE20@F",
          "STE@G/train/STE20@F",
          "STE@G/train/STE20@F",
          "STE@G/train/STE20@F",
          "STE@G/train/STE20@F",
          "STE@G/train/STE20@F",
          "CAMK@G/train/CAMKL@F",
          "OTHER@G/val/TOPK@F",
          "<UNKNOWN>@G/train/PCK1@F",
          "TK@G/test/PDGFR@F",
          "TK@G/test/PDGFR@F",
          "ATYPICAL@G/test/PDHK@F",
          "ATYPICAL@G/test/PDHK@F",
          "ATYPICAL@G/test/PDHK@F",
          "ATYPICAL@G/test/PDHK@F",
          "AGC@G/train/PDK1@F",
          "<UNKNOWN>@G/train/PFKP@F",
          "<UNKNOWN>@G/train/PGK1@F",
          "<UNKNOWN>@G/train/PHKA1@F",
          "<UNKNOWN>@G/test/PIK3C@F",
          "<UNKNOWN>@G/test/PIK3C@F",
          "<UNKNOWN>@G/test/PIK3C@F",
          "<UNKNOWN>@G/test/PIK3C@F",
          "<UNKNOWN>@G/test/PIK3C@F",
          "<UNKNOWN>@G/test/PIK3R1@F",
          "<UNKNOWN>@G/val/PIKFYVE@F",
          "CAMK@G/train/PIM@F",
          "CAMK@G/train/PIM@F",
          "CAMK@G/train/PIM@F",
          "OTHER@G/test/NKF2@F",
          "<UNKNOWN>@G/val/PKM@F",
          "OTHER@G/train/WEE@F",
          "AGC@G/test/PKN@F",
          "AGC@G/test/PKN@F",
          "AGC@G/test/PKN@F",
          "OTHER@G/train/PLK@F",
          "OTHER@G/train/PLK@F",
          "OTHER@G/train/PLK@F",
          "OTHER@G/train/PLK@F",
          "CAMK@G/train/CAMK1@F",
          "CAMK@G/train/CAMKL@F",
          "CAMK@G/train/CAMKL@F",
          "<UNKNOWN>@G/train/PRKAB1@F",
          "AGC@G/train/PKA@F",
          "AGC@G/train/PKA@F",
          "<UNKNOWN>@G/test/PRKAG2@F",
          "AGC@G/train/PKC@F",
          "AGC@G/train/PKC@F",
          "AGC@G/train/PKC@F",
          "AGC@G/train/PKC@F",
          "AGC@G/train/PKC@F",
          "AGC@G/train/PKC@F",
          "AGC@G/train/PKC@F",
          "AGC@G/train/PKC@F",
          "AGC@G/train/PKC@F",
          "CAMK@G/train/PKD@F",
          "CAMK@G/train/PKD@F",
          "CAMK@G/train/PKD@F",
          "ATYPICAL@G/train/PIKK@F",
          "AGC@G/val/PKG@F",
          "AGC@G/val/PKG@F",
          "AGC@G/train/PKA@F",
          "CMGC@G/test/DYRK@F",
          "TK@G/test/FAK@F",
          "TK@G/test/FAK@F",
          "TK@G/train/SRC@F",
          "TKL@G/train/RAF@F",
          "TK@G/val/RET@F",
          "ATYPICAL@G/train/RIO@F",
          "TKL@G/val/RIPK@F",
          "TKL@G/val/RIPK@F",
          "TKL@G/val/RIPK@F",
          "AGC@G/train/DMPK@F",
          "AGC@G/train/DMPK@F",
          "CAMK@G/train/RSKB@F",
          "CAMK@G/train/RSKB@F",
          "CAMK@G/train/RSKB@F",
          "CAMK@G/train/RSKB@F",
          "CAMK@G/train/RSKB@F",
          "CAMK@G/train/RSKB@F",
          "AGC@G/train/RSK@F",
          "AGC@G/train/RSK@F",
          "AGC@G/test/SGK@F",
          "AGC@G/test/SGK@F",
          "AGC@G/test/SGK@F",
          "CAMK@G/train/CAMKL@F",
          "CAMK@G/train/CAMKL@F",
          "STE@G/train/STE20@F",
          "ATYPICAL@G/train/PIKK@F",
          "TK@G/train/SRC@F",
          "TK@G/train/SRC@F",
          "CMGC@G/train/SRPK@F",
          "CMGC@G/train/SRPK@F",
          "STE@G/train/STE20@F",
          "CAMK@G/train/CAMKL@F",
          "OTHER@G/train/NAK@F",
          "CAMK@G/train/DAPK@F",
          "ATYPICAL@G/train/G11@F",
          "STE@G/train/STE20@F",
          "STE@G/train/STE20@F",
          "STE@G/train/STE20@F",
          "STE@G/train/STE20@F",
          "CAMK@G/val/STK33@F",
          "AGC@G/val/NDR@F",
          "AGC@G/val/NDR@F",
          "STE@G/train/STE20@F",
          "STE@G/train/STE20@F",
          "TK@G/train/TK-UNIQUE@F",
          "TK@G/test/SYK@F",
          "ATYPICAL@G/val/TAF1@F",
          "STE@G/train/STE20@F",
          "STE@G/train/STE20@F",
          "OTHER@G/train/IKK@F",
          "TK@G/train/TEC@F",
          "TK@G/train/TIE@F",
          "TKL@G/test/LISK@F",
          "TKL@G/val/STKR@F",
          "TKL@G/val/STKR@F",
          "<UNKNOWN>@G/val/TGM2@F",
          "OTHER@G/test/TLK@F",
          "OTHER@G/test/TLK@F",
          "STE@G/train/STE20@F",
          "TK@G/train/ACK@F",
          "OTHER@G/val/BUD32@F",
          "ATYPICAL@G/test/ALPHA@F",
          "ATYPICAL@G/test/ALPHA@F",
          "CAMK@G/test/TSSK@F",
          "CK1@G/test/TTBK@F",
          "CK1@G/test/TTBK@F",
          "OTHER@G/val/TTK@F",
          "TK@G/train/TEC@F",
          "TK@G/val/JAKB@F",
          "TK@G/train/AXL@F",
          "OTHER@G/train/KIS@F",
          "OTHER@G/test/ULK@F",
          "OTHER@G/test/ULK@F",
          "OTHER@G/test/ULK@F",
          "CK1@G/val/VRK@F",
          "CK1@G/val/VRK@F",
          "CK1@G/val/VRK@F",
          "OTHER@G/train/WEE@F",
          "OTHER@G/train/WNK@F",
          "OTHER@G/train/WNK@F",
          "OTHER@G/train/WNK@F",
          "OTHER@G/train/WNK@F",
          "TK@G/train/SRC@F",
          "TK@G/test/SYK@F",
          "ATYPICAL@G/test",
          "TK@G/val",
          "TK@G/train",
          "AGC@G/train",
          "TK@G/val",
          "ATYPICAL@G/test",
          "OTHER@G/train",
          "TK@G/train",
          "ATYPICAL@G/train",
          "ATYPICAL@G/test",
          "ATYPICAL@G/val",
          "ATYPICAL@G/train",
          "OTHER@G/train",
          "OTHER@G/val",
          "CAMK@G/train",
          "CAMK@G/test",
          "OTHER@G/val",
          "CAMK@G/train",
          "CAMK@G/test",
          "OTHER@G/val",
          "CMGC@G/train",
          "CMGC@G/test",
          "CK1@G/train",
          "CMGC@G/test",
          "CMGC@G/val",
          "ATYPICAL@G/val",
          "TK@G/test",
          "<UNKNOWN>@G/train",
          "CAMK@G/train",
          "<UNKNOWN>@G/val",
          "TK@G/val",
          "AGC@G/train",
          "CMGC@G/test",
          "TK@G/test",
          "<UNKNOWN>@G/test",
          "TK@G/train",
          "TK@G/test",
          "<UNKNOWN>@G/train",
          "TK@G/train",
          "TK@G/val",
          "ATYPICAL@G/train",
          "AGC@G/val",
          "CMGC@G/val",
          "ATYPICAL@G/train",
          "OTHER@G/train",
          "<UNKNOWN>@G/test",
          "OTHER@G/train",
          "TK@G/train",
          "TKL@G/train",
          "OTHER@G/test",
          "TK@G/val",
          "<UNKNOWN>@G/train",
          "OTHER@G/train",
          "TKL@G/test",
          "TK@G/train",
          "TKL@G/train",
          "CMGC@G/train",
          "CAMK@G/val",
          "AGC@G/test",
          "TK@G/train",
          "CAMK@G/test",
          "TKL@G/test",
          "OTHER@G/val",
          "OTHER@G/train",
          "<UNKNOWN>@G/train",
          "AGC@G/val",
          "OTHER@G/test",
          "OTHER@G/test",
          "<UNKNOWN>@G/train",
          "TK@G/test",
          "ATYPICAL@G/test",
          "AGC@G/train",
          "OTHER@G/train",
          "<UNKNOWN>@G/train",
          "<UNKNOWN>@G/train",
          "<UNKNOWN>@G/train",
          "<UNKNOWN>@G/test",
          "<UNKNOWN>@G/test",
          "<UNKNOWN>@G/val",
          "ATYPICAL@G/train",
          "CAMK@G/train",
          "AGC@G/train",
          "AGC@G/train",
          "CAMK@G/train",
          "AGC@G/val",
          "<UNKNOWN>@G/val",
          "AGC@G/test",
          "OTHER@G/train",
          "<UNKNOWN>@G/train",
          "<UNKNOWN>@G/test",
          "CAMK@G/val",
          "TKL@G/train",
          "CMGC@G/train",
          "TK@G/val",
          "ATYPICAL@G/train",
          "TKL@G/val",
          "AGC@G/train",
          "CAMK@G/train",
          "AGC@G/test",
          "TK@G/train",
          "CMGC@G/train",
          "STE@G/train",
          "STE@G/val",
          "STE@G/train",
          "STE@G/test",
          "CAMK@G/val",
          "TKL@G/val",
          "TK@G/test",
          "ATYPICAL@G/val",
          "TK@G/train",
          "<UNKNOWN>@G/val",
          "TK@G/train",
          "TK@G/train",
          "OTHER@G/test",
          "OTHER@G/val",
          "TK@G/test",
          "CAMK@G/test",
          "CK1@G/test",
          "OTHER@G/val",
          "OTHER@G/test",
          "TK@G/train",
          "CK1@G/val",
          "OTHER@G/train",
          "OTHER@G/train",
          "<UNKNOWN>@G",
          "AGC@G",
          "ATYPICAL@G",
          "CAMK@G",
          "CK1@G",
          "CMGC@G",
          "OTHER@G",
          "STE@G",
          "TK@G",
          "TKL@G",
          "<UNKNOWN>@G",
          "AGC@G",
          "ATYPICAL@G",
          "CAMK@G",
          "CK1@G",
          "CMGC@G",
          "OTHER@G",
          "STE@G",
          "TK@G",
          "TKL@G",
          "<UNKNOWN>@G",
          "AGC@G",
          "ATYPICAL@G",
          "CAMK@G",
          "CK1@G",
          "CMGC@G",
          "OTHER@G",
          "STE@G",
          "TK@G",
          "TKL@G",
          "",
          "",
          "",
          "",
          "",
          "",
          "",
          "",
          "",
          ""
         ],
         "type": "sunburst",
         "values": [
          1,
          1,
          1,
          1,
          1,
          1,
          1,
          1,
          1,
          1,
          1,
          1,
          1,
          1,
          1,
          1,
          1,
          1,
          1,
          1,
          1,
          1,
          1,
          1,
          1,
          1,
          1,
          1,
          1,
          1,
          1,
          1,
          1,
          1,
          1,
          1,
          1,
          1,
          1,
          1,
          1,
          1,
          1,
          1,
          1,
          1,
          1,
          1,
          1,
          1,
          1,
          1,
          1,
          1,
          1,
          1,
          1,
          1,
          1,
          1,
          1,
          1,
          1,
          1,
          1,
          1,
          1,
          1,
          1,
          1,
          1,
          1,
          1,
          1,
          1,
          1,
          1,
          1,
          1,
          1,
          1,
          1,
          1,
          1,
          1,
          1,
          1,
          1,
          1,
          1,
          1,
          1,
          1,
          1,
          1,
          1,
          1,
          1,
          1,
          1,
          1,
          1,
          1,
          1,
          1,
          1,
          1,
          1,
          1,
          1,
          1,
          1,
          1,
          1,
          1,
          1,
          1,
          1,
          1,
          1,
          1,
          1,
          1,
          1,
          1,
          1,
          1,
          1,
          1,
          1,
          1,
          1,
          1,
          1,
          1,
          1,
          1,
          1,
          1,
          1,
          1,
          1,
          1,
          1,
          1,
          1,
          1,
          1,
          1,
          1,
          1,
          1,
          1,
          1,
          1,
          1,
          1,
          1,
          1,
          1,
          1,
          1,
          1,
          1,
          1,
          1,
          1,
          1,
          1,
          1,
          1,
          1,
          1,
          1,
          1,
          1,
          1,
          1,
          1,
          1,
          1,
          1,
          1,
          1,
          1,
          1,
          1,
          1,
          1,
          1,
          1,
          1,
          1,
          1,
          1,
          1,
          1,
          1,
          1,
          1,
          1,
          1,
          1,
          1,
          1,
          1,
          1,
          1,
          1,
          1,
          1,
          1,
          1,
          1,
          1,
          1,
          1,
          1,
          1,
          1,
          1,
          1,
          1,
          1,
          1,
          1,
          1,
          1,
          1,
          1,
          1,
          1,
          1,
          1,
          1,
          1,
          1,
          1,
          1,
          1,
          1,
          1,
          1,
          1,
          1,
          1,
          1,
          1,
          1,
          1,
          1,
          1,
          1,
          1,
          1,
          1,
          1,
          1,
          1,
          1,
          1,
          1,
          1,
          1,
          1,
          1,
          1,
          1,
          1,
          1,
          1,
          1,
          1,
          1,
          1,
          1,
          1,
          1,
          1,
          1,
          1,
          1,
          1,
          1,
          1,
          1,
          1,
          1,
          1,
          1,
          1,
          1,
          1,
          1,
          1,
          1,
          1,
          1,
          1,
          1,
          1,
          1,
          1,
          1,
          1,
          1,
          1,
          1,
          1,
          1,
          1,
          1,
          1,
          1,
          1,
          1,
          1,
          1,
          1,
          1,
          1,
          1,
          1,
          1,
          1,
          1,
          1,
          1,
          1,
          1,
          1,
          1,
          1,
          1,
          1,
          1,
          1,
          1,
          1,
          1,
          1,
          1,
          1,
          1,
          1,
          1,
          1,
          1,
          1,
          1,
          1,
          1,
          1,
          1,
          1,
          1,
          1,
          1,
          1,
          1,
          1,
          1,
          1,
          1,
          1,
          1,
          1,
          1,
          1,
          1,
          1,
          1,
          1,
          1,
          1,
          1,
          1,
          1,
          1,
          1,
          1,
          1,
          1,
          1,
          1,
          1,
          1,
          1,
          1,
          1,
          1,
          1,
          1,
          1,
          1,
          1,
          1,
          2,
          1,
          3,
          2,
          4,
          3,
          3,
          1,
          1,
          1,
          1,
          1,
          1,
          4,
          4,
          2,
          17,
          1,
          1,
          20,
          2,
          7,
          2,
          4,
          1,
          2,
          1,
          4,
          1,
          1,
          6,
          9,
          3,
          1,
          6,
          2,
          1,
          2,
          4,
          1,
          7,
          2,
          1,
          1,
          1,
          4,
          2,
          2,
          1,
          4,
          1,
          1,
          3,
          1,
          2,
          14,
          5,
          2,
          2,
          3,
          8,
          1,
          4,
          2,
          4,
          8,
          1,
          1,
          5,
          4,
          1,
          3,
          1,
          1,
          1,
          5,
          1,
          1,
          5,
          3,
          3,
          9,
          3,
          2,
          1,
          3,
          4,
          1,
          1,
          1,
          4,
          2,
          1,
          1,
          3,
          2,
          6,
          3,
          11,
          2,
          3,
          6,
          24,
          7,
          1,
          5,
          2,
          1,
          5,
          1,
          1,
          1,
          2,
          1,
          2,
          1,
          2,
          1,
          3,
          2,
          3,
          2,
          4,
          9,
          8,
          10,
          9,
          2,
          13,
          15,
          7,
          16,
          11,
          10,
          24,
          10,
          37,
          7,
          38,
          27,
          27,
          37,
          8,
          4,
          13,
          3,
          7,
          3,
          6,
          7,
          6,
          14,
          8,
          23,
          45,
          23,
          53,
          12,
          57,
          49,
          40,
          67,
          27
         ]
        }
       ],
       "layout": {
        "legend": {
         "tracegroupgap": 0
        },
        "margin": {
         "t": 60
        },
        "template": {
         "data": {
          "bar": [
           {
            "error_x": {
             "color": "#2a3f5f"
            },
            "error_y": {
             "color": "#2a3f5f"
            },
            "marker": {
             "line": {
              "color": "#E5ECF6",
              "width": 0.5
             },
             "pattern": {
              "fillmode": "overlay",
              "size": 10,
              "solidity": 0.2
             }
            },
            "type": "bar"
           }
          ],
          "barpolar": [
           {
            "marker": {
             "line": {
              "color": "#E5ECF6",
              "width": 0.5
             },
             "pattern": {
              "fillmode": "overlay",
              "size": 10,
              "solidity": 0.2
             }
            },
            "type": "barpolar"
           }
          ],
          "carpet": [
           {
            "aaxis": {
             "endlinecolor": "#2a3f5f",
             "gridcolor": "white",
             "linecolor": "white",
             "minorgridcolor": "white",
             "startlinecolor": "#2a3f5f"
            },
            "baxis": {
             "endlinecolor": "#2a3f5f",
             "gridcolor": "white",
             "linecolor": "white",
             "minorgridcolor": "white",
             "startlinecolor": "#2a3f5f"
            },
            "type": "carpet"
           }
          ],
          "choropleth": [
           {
            "colorbar": {
             "outlinewidth": 0,
             "ticks": ""
            },
            "type": "choropleth"
           }
          ],
          "contour": [
           {
            "colorbar": {
             "outlinewidth": 0,
             "ticks": ""
            },
            "colorscale": [
             [
              0,
              "#0d0887"
             ],
             [
              0.1111111111111111,
              "#46039f"
             ],
             [
              0.2222222222222222,
              "#7201a8"
             ],
             [
              0.3333333333333333,
              "#9c179e"
             ],
             [
              0.4444444444444444,
              "#bd3786"
             ],
             [
              0.5555555555555556,
              "#d8576b"
             ],
             [
              0.6666666666666666,
              "#ed7953"
             ],
             [
              0.7777777777777778,
              "#fb9f3a"
             ],
             [
              0.8888888888888888,
              "#fdca26"
             ],
             [
              1,
              "#f0f921"
             ]
            ],
            "type": "contour"
           }
          ],
          "contourcarpet": [
           {
            "colorbar": {
             "outlinewidth": 0,
             "ticks": ""
            },
            "type": "contourcarpet"
           }
          ],
          "heatmap": [
           {
            "colorbar": {
             "outlinewidth": 0,
             "ticks": ""
            },
            "colorscale": [
             [
              0,
              "#0d0887"
             ],
             [
              0.1111111111111111,
              "#46039f"
             ],
             [
              0.2222222222222222,
              "#7201a8"
             ],
             [
              0.3333333333333333,
              "#9c179e"
             ],
             [
              0.4444444444444444,
              "#bd3786"
             ],
             [
              0.5555555555555556,
              "#d8576b"
             ],
             [
              0.6666666666666666,
              "#ed7953"
             ],
             [
              0.7777777777777778,
              "#fb9f3a"
             ],
             [
              0.8888888888888888,
              "#fdca26"
             ],
             [
              1,
              "#f0f921"
             ]
            ],
            "type": "heatmap"
           }
          ],
          "heatmapgl": [
           {
            "colorbar": {
             "outlinewidth": 0,
             "ticks": ""
            },
            "colorscale": [
             [
              0,
              "#0d0887"
             ],
             [
              0.1111111111111111,
              "#46039f"
             ],
             [
              0.2222222222222222,
              "#7201a8"
             ],
             [
              0.3333333333333333,
              "#9c179e"
             ],
             [
              0.4444444444444444,
              "#bd3786"
             ],
             [
              0.5555555555555556,
              "#d8576b"
             ],
             [
              0.6666666666666666,
              "#ed7953"
             ],
             [
              0.7777777777777778,
              "#fb9f3a"
             ],
             [
              0.8888888888888888,
              "#fdca26"
             ],
             [
              1,
              "#f0f921"
             ]
            ],
            "type": "heatmapgl"
           }
          ],
          "histogram": [
           {
            "marker": {
             "pattern": {
              "fillmode": "overlay",
              "size": 10,
              "solidity": 0.2
             }
            },
            "type": "histogram"
           }
          ],
          "histogram2d": [
           {
            "colorbar": {
             "outlinewidth": 0,
             "ticks": ""
            },
            "colorscale": [
             [
              0,
              "#0d0887"
             ],
             [
              0.1111111111111111,
              "#46039f"
             ],
             [
              0.2222222222222222,
              "#7201a8"
             ],
             [
              0.3333333333333333,
              "#9c179e"
             ],
             [
              0.4444444444444444,
              "#bd3786"
             ],
             [
              0.5555555555555556,
              "#d8576b"
             ],
             [
              0.6666666666666666,
              "#ed7953"
             ],
             [
              0.7777777777777778,
              "#fb9f3a"
             ],
             [
              0.8888888888888888,
              "#fdca26"
             ],
             [
              1,
              "#f0f921"
             ]
            ],
            "type": "histogram2d"
           }
          ],
          "histogram2dcontour": [
           {
            "colorbar": {
             "outlinewidth": 0,
             "ticks": ""
            },
            "colorscale": [
             [
              0,
              "#0d0887"
             ],
             [
              0.1111111111111111,
              "#46039f"
             ],
             [
              0.2222222222222222,
              "#7201a8"
             ],
             [
              0.3333333333333333,
              "#9c179e"
             ],
             [
              0.4444444444444444,
              "#bd3786"
             ],
             [
              0.5555555555555556,
              "#d8576b"
             ],
             [
              0.6666666666666666,
              "#ed7953"
             ],
             [
              0.7777777777777778,
              "#fb9f3a"
             ],
             [
              0.8888888888888888,
              "#fdca26"
             ],
             [
              1,
              "#f0f921"
             ]
            ],
            "type": "histogram2dcontour"
           }
          ],
          "mesh3d": [
           {
            "colorbar": {
             "outlinewidth": 0,
             "ticks": ""
            },
            "type": "mesh3d"
           }
          ],
          "parcoords": [
           {
            "line": {
             "colorbar": {
              "outlinewidth": 0,
              "ticks": ""
             }
            },
            "type": "parcoords"
           }
          ],
          "pie": [
           {
            "automargin": true,
            "type": "pie"
           }
          ],
          "scatter": [
           {
            "fillpattern": {
             "fillmode": "overlay",
             "size": 10,
             "solidity": 0.2
            },
            "type": "scatter"
           }
          ],
          "scatter3d": [
           {
            "line": {
             "colorbar": {
              "outlinewidth": 0,
              "ticks": ""
             }
            },
            "marker": {
             "colorbar": {
              "outlinewidth": 0,
              "ticks": ""
             }
            },
            "type": "scatter3d"
           }
          ],
          "scattercarpet": [
           {
            "marker": {
             "colorbar": {
              "outlinewidth": 0,
              "ticks": ""
             }
            },
            "type": "scattercarpet"
           }
          ],
          "scattergeo": [
           {
            "marker": {
             "colorbar": {
              "outlinewidth": 0,
              "ticks": ""
             }
            },
            "type": "scattergeo"
           }
          ],
          "scattergl": [
           {
            "marker": {
             "colorbar": {
              "outlinewidth": 0,
              "ticks": ""
             }
            },
            "type": "scattergl"
           }
          ],
          "scattermapbox": [
           {
            "marker": {
             "colorbar": {
              "outlinewidth": 0,
              "ticks": ""
             }
            },
            "type": "scattermapbox"
           }
          ],
          "scatterpolar": [
           {
            "marker": {
             "colorbar": {
              "outlinewidth": 0,
              "ticks": ""
             }
            },
            "type": "scatterpolar"
           }
          ],
          "scatterpolargl": [
           {
            "marker": {
             "colorbar": {
              "outlinewidth": 0,
              "ticks": ""
             }
            },
            "type": "scatterpolargl"
           }
          ],
          "scatterternary": [
           {
            "marker": {
             "colorbar": {
              "outlinewidth": 0,
              "ticks": ""
             }
            },
            "type": "scatterternary"
           }
          ],
          "surface": [
           {
            "colorbar": {
             "outlinewidth": 0,
             "ticks": ""
            },
            "colorscale": [
             [
              0,
              "#0d0887"
             ],
             [
              0.1111111111111111,
              "#46039f"
             ],
             [
              0.2222222222222222,
              "#7201a8"
             ],
             [
              0.3333333333333333,
              "#9c179e"
             ],
             [
              0.4444444444444444,
              "#bd3786"
             ],
             [
              0.5555555555555556,
              "#d8576b"
             ],
             [
              0.6666666666666666,
              "#ed7953"
             ],
             [
              0.7777777777777778,
              "#fb9f3a"
             ],
             [
              0.8888888888888888,
              "#fdca26"
             ],
             [
              1,
              "#f0f921"
             ]
            ],
            "type": "surface"
           }
          ],
          "table": [
           {
            "cells": {
             "fill": {
              "color": "#EBF0F8"
             },
             "line": {
              "color": "white"
             }
            },
            "header": {
             "fill": {
              "color": "#C8D4E3"
             },
             "line": {
              "color": "white"
             }
            },
            "type": "table"
           }
          ]
         },
         "layout": {
          "annotationdefaults": {
           "arrowcolor": "#2a3f5f",
           "arrowhead": 0,
           "arrowwidth": 1
          },
          "autotypenumbers": "strict",
          "coloraxis": {
           "colorbar": {
            "outlinewidth": 0,
            "ticks": ""
           }
          },
          "colorscale": {
           "diverging": [
            [
             0,
             "#8e0152"
            ],
            [
             0.1,
             "#c51b7d"
            ],
            [
             0.2,
             "#de77ae"
            ],
            [
             0.3,
             "#f1b6da"
            ],
            [
             0.4,
             "#fde0ef"
            ],
            [
             0.5,
             "#f7f7f7"
            ],
            [
             0.6,
             "#e6f5d0"
            ],
            [
             0.7,
             "#b8e186"
            ],
            [
             0.8,
             "#7fbc41"
            ],
            [
             0.9,
             "#4d9221"
            ],
            [
             1,
             "#276419"
            ]
           ],
           "sequential": [
            [
             0,
             "#0d0887"
            ],
            [
             0.1111111111111111,
             "#46039f"
            ],
            [
             0.2222222222222222,
             "#7201a8"
            ],
            [
             0.3333333333333333,
             "#9c179e"
            ],
            [
             0.4444444444444444,
             "#bd3786"
            ],
            [
             0.5555555555555556,
             "#d8576b"
            ],
            [
             0.6666666666666666,
             "#ed7953"
            ],
            [
             0.7777777777777778,
             "#fb9f3a"
            ],
            [
             0.8888888888888888,
             "#fdca26"
            ],
            [
             1,
             "#f0f921"
            ]
           ],
           "sequentialminus": [
            [
             0,
             "#0d0887"
            ],
            [
             0.1111111111111111,
             "#46039f"
            ],
            [
             0.2222222222222222,
             "#7201a8"
            ],
            [
             0.3333333333333333,
             "#9c179e"
            ],
            [
             0.4444444444444444,
             "#bd3786"
            ],
            [
             0.5555555555555556,
             "#d8576b"
            ],
            [
             0.6666666666666666,
             "#ed7953"
            ],
            [
             0.7777777777777778,
             "#fb9f3a"
            ],
            [
             0.8888888888888888,
             "#fdca26"
            ],
            [
             1,
             "#f0f921"
            ]
           ]
          },
          "colorway": [
           "#636efa",
           "#EF553B",
           "#00cc96",
           "#ab63fa",
           "#FFA15A",
           "#19d3f3",
           "#FF6692",
           "#B6E880",
           "#FF97FF",
           "#FECB52"
          ],
          "font": {
           "color": "#2a3f5f"
          },
          "geo": {
           "bgcolor": "white",
           "lakecolor": "white",
           "landcolor": "#E5ECF6",
           "showlakes": true,
           "showland": true,
           "subunitcolor": "white"
          },
          "hoverlabel": {
           "align": "left"
          },
          "hovermode": "closest",
          "mapbox": {
           "style": "light"
          },
          "paper_bgcolor": "white",
          "plot_bgcolor": "#E5ECF6",
          "polar": {
           "angularaxis": {
            "gridcolor": "white",
            "linecolor": "white",
            "ticks": ""
           },
           "bgcolor": "#E5ECF6",
           "radialaxis": {
            "gridcolor": "white",
            "linecolor": "white",
            "ticks": ""
           }
          },
          "scene": {
           "xaxis": {
            "backgroundcolor": "#E5ECF6",
            "gridcolor": "white",
            "gridwidth": 2,
            "linecolor": "white",
            "showbackground": true,
            "ticks": "",
            "zerolinecolor": "white"
           },
           "yaxis": {
            "backgroundcolor": "#E5ECF6",
            "gridcolor": "white",
            "gridwidth": 2,
            "linecolor": "white",
            "showbackground": true,
            "ticks": "",
            "zerolinecolor": "white"
           },
           "zaxis": {
            "backgroundcolor": "#E5ECF6",
            "gridcolor": "white",
            "gridwidth": 2,
            "linecolor": "white",
            "showbackground": true,
            "ticks": "",
            "zerolinecolor": "white"
           }
          },
          "shapedefaults": {
           "line": {
            "color": "#2a3f5f"
           }
          },
          "ternary": {
           "aaxis": {
            "gridcolor": "white",
            "linecolor": "white",
            "ticks": ""
           },
           "baxis": {
            "gridcolor": "white",
            "linecolor": "white",
            "ticks": ""
           },
           "bgcolor": "#E5ECF6",
           "caxis": {
            "gridcolor": "white",
            "linecolor": "white",
            "ticks": ""
           }
          },
          "title": {
           "x": 0.05
          },
          "xaxis": {
           "automargin": true,
           "gridcolor": "white",
           "linecolor": "white",
           "ticks": "",
           "title": {
            "standoff": 15
           },
           "zerolinecolor": "white",
           "zerolinewidth": 2
          },
          "yaxis": {
           "automargin": true,
           "gridcolor": "white",
           "linecolor": "white",
           "ticks": "",
           "title": {
            "standoff": 15
           },
           "zerolinecolor": "white",
           "zerolinewidth": 2
          }
         }
        }
       }
      }
     },
     "metadata": {},
     "output_type": "display_data"
    }
   ],
   "source": [
    "fig = px.sunburst(new_df, path=['Group', 'MLSet', 'Family', 'Kinase'], values=[1 for _ in range(len(new_df))])\n",
    "fig.show()"
   ]
  },
  {
   "cell_type": "code",
   "execution_count": 8,
   "metadata": {},
   "outputs": [
    {
     "data": {
      "application/vnd.plotly.v1+json": {
       "config": {
        "plotlyServerURL": "https://plot.ly"
       },
       "data": [
        {
         "branchvalues": "total",
         "domain": {
          "x": [
           0,
           1
          ],
          "y": [
           0,
           1
          ]
         },
         "hovertemplate": "labels=%{label}<br>num_sites=%{value}<br>parent=%{parent}<br>id=%{id}<extra></extra>",
         "ids": [
          "OTHER@G/train/NAK@F/AAK1",
          "TK@G/val/ABL@F/ABL1",
          "TK@G/val/ABL@F/ABL2",
          "TKL@G/val/STKR@F/ACVR1B",
          "TKL@G/val/STKR@F/ACVRL1",
          "ATYPICAL@G/test/ABC1@F/ADCK5",
          "AGC@G/train/AKT@F/AKT1",
          "AGC@G/train/AKT@F/AKT2",
          "AGC@G/train/AKT@F/AKT3",
          "TK@G/val/ALK@F/ALK",
          "ATYPICAL@G/test/ALPHA@F/ALPK1",
          "TKL@G/train/RAF@F/ARAF",
          "ATYPICAL@G/train/PIKK@F/ATM",
          "ATYPICAL@G/train/PIKK@F/ATR",
          "OTHER@G/train/AUR@F/AURKA",
          "OTHER@G/train/AUR@F/AURKB",
          "OTHER@G/train/AUR@F/AURKC",
          "TK@G/train/AXL@F/AXL",
          "ATYPICAL@G/train/BAZ@F/BAZ1B",
          "ATYPICAL@G/test/BCR@F/BCR",
          "TK@G/train/SRC@F/BLK",
          "ATYPICAL@G/val/BLVRA@F/BLVRA",
          "OTHER@G/train/NAK@F/BMP2K",
          "TKL@G/val/STKR@F/BMPR1B",
          "TK@G/train/TEC@F/BMX",
          "TKL@G/train/RAF@F/BRAF",
          "ATYPICAL@G/train/BRD@F/BRD4",
          "CAMK@G/train/CAMKL@F/BRSK1",
          "CAMK@G/train/CAMKL@F/BRSK2",
          "TK@G/train/TEC@F/BTK",
          "OTHER@G/train/BUB@F/BUB1",
          "CAMK@G/train/CAMK1@F/CAMK1",
          "CAMK@G/train/CAMK1@F/CAMK1G",
          "CAMK@G/test/CAMK2@F/CAMK2A",
          "CAMK@G/test/CAMK2@F/CAMK2B",
          "CAMK@G/test/CAMK2@F/CAMK2D",
          "CAMK@G/test/CAMK2@F/CAMK2G",
          "CAMK@G/train/CAMK1@F/CAMK4",
          "OTHER@G/val/CAMKK@F/CAMKK1",
          "OTHER@G/val/CAMKK@F/CAMKK2",
          "CAMK@G/test/CASK@F/CASK",
          "AGC@G/train/DMPK@F/CDC42BPA",
          "AGC@G/train/DMPK@F/CDC42BPB",
          "OTHER@G/val/CDC7@F/CDC7",
          "CMGC@G/train/CDK@F/CDK1",
          "CMGC@G/train/CDK@F/CDK10",
          "CMGC@G/train/CDK@F/CDK11A",
          "CMGC@G/train/CDK@F/CDK11B",
          "CMGC@G/train/CDK@F/CDK12",
          "CMGC@G/train/CDK@F/CDK13",
          "CMGC@G/train/CDK@F/CDK14",
          "CMGC@G/train/CDK@F/CDK15",
          "CMGC@G/train/CDK@F/CDK16",
          "CMGC@G/train/CDK@F/CDK18",
          "CMGC@G/train/CDK@F/CDK19",
          "CMGC@G/train/CDK@F/CDK2",
          "CMGC@G/train/CDK@F/CDK20",
          "CMGC@G/train/CDK@F/CDK3",
          "CMGC@G/train/CDK@F/CDK4",
          "CMGC@G/train/CDK@F/CDK5",
          "CMGC@G/train/CDK@F/CDK6",
          "CMGC@G/train/CDK@F/CDK7",
          "CMGC@G/train/CDK@F/CDK8",
          "CMGC@G/train/CDK@F/CDK9",
          "CMGC@G/test/CDKL@F/CDKL2",
          "CMGC@G/test/CDKL@F/CDKL5",
          "ATYPICAL@G/val/COL4A3BP@F/CERT1",
          "CAMK@G/train/CAMKL@F/CHEK1",
          "CAMK@G/val/RAD53@F/CHEK2",
          "OTHER@G/train/IKK@F/CHUK",
          "CMGC@G/train/RCK@F/CILK1",
          "AGC@G/train/DMPK@F/CIT",
          "CMGC@G/val/CLK@F/CLK1",
          "CMGC@G/val/CLK@F/CLK2",
          "CMGC@G/val/CLK@F/CLK3",
          "CMGC@G/val/CLK@F/CLK4",
          "TK@G/test/PDGFR@F/CSF1R",
          "TK@G/test/CSK@F/CSK",
          "CK1@G/train/CK1@F/CSNK1A1",
          "CK1@G/train/CK1@F/CSNK1A1L",
          "CK1@G/train/CK1@F/CSNK1D",
          "CK1@G/train/CK1@F/CSNK1E",
          "CK1@G/train/CK1@F/CSNK1G1",
          "CK1@G/train/CK1@F/CSNK1G2",
          "CK1@G/train/CK1@F/CSNK1G3",
          "CMGC@G/test/CK2@F/CSNK2A1",
          "CMGC@G/test/CK2@F/CSNK2A2",
          "<UNKNOWN>@G/train/CSNK2B@F/CSNK2B",
          "CAMK@G/train/DAPK@F/DAPK1",
          "CAMK@G/train/DAPK@F/DAPK2",
          "CAMK@G/train/DAPK@F/DAPK3",
          "<UNKNOWN>@G/val/DCAF1@F/DCAF1",
          "TK@G/val/DDR@F/DDR1",
          "AGC@G/train/DMPK@F/DMPK",
          "CMGC@G/test/DYRK@F/DYRK1A",
          "CMGC@G/test/DYRK@F/DYRK1B",
          "CMGC@G/test/DYRK@F/DYRK2",
          "CMGC@G/test/DYRK@F/DYRK3",
          "CMGC@G/test/DYRK@F/DYRK4",
          "ATYPICAL@G/test/ALPHA@F/EEF2K",
          "TK@G/test/EGFR@F/EGFR",
          "OTHER@G/train/PEK@F/EIF2AK1",
          "OTHER@G/train/PEK@F/EIF2AK2",
          "OTHER@G/train/PEK@F/EIF2AK3",
          "STE@G/train/STE-UNIQUE@F/EIF2AK4",
          "<UNKNOWN>@G/test/ENPP3@F/ENPP3",
          "TK@G/train/EPH@F/EPHA1",
          "TK@G/train/EPH@F/EPHA2",
          "TK@G/train/EPH@F/EPHA4",
          "TK@G/train/EPH@F/EPHB1",
          "TK@G/train/EPH@F/EPHB2",
          "TK@G/train/EPH@F/EPHB3",
          "TK@G/test/EGFR@F/ERBB2",
          "TK@G/test/EGFR@F/ERBB4",
          "OTHER@G/test/IRE@F/ERN1",
          "<UNKNOWN>@G/train/FAM20C@F/FAM20C",
          "TK@G/train/FER@F/FER",
          "TK@G/train/FER@F/FES",
          "TK@G/val/FGFR@F/FGFR1",
          "TK@G/val/FGFR@F/FGFR2",
          "TK@G/val/FGFR@F/FGFR3",
          "TK@G/val/FGFR@F/FGFR4",
          "TK@G/train/SRC@F/FGR",
          "TK@G/train/VEGFR@F/FLT1",
          "TK@G/test/PDGFR@F/FLT3",
          "TK@G/train/SRC@F/FRK",
          "TK@G/train/SRC@F/FYN",
          "OTHER@G/train/NAK@F/GAK",
          "AGC@G/val/GRK@F/GRK1",
          "AGC@G/val/GRK@F/GRK2",
          "AGC@G/val/GRK@F/GRK3",
          "AGC@G/val/GRK@F/GRK4",
          "AGC@G/val/GRK@F/GRK5",
          "AGC@G/val/GRK@F/GRK6",
          "AGC@G/val/GRK@F/GRK7",
          "CMGC@G/val/GSK@F/GSK3A",
          "CMGC@G/val/GSK@F/GSK3B",
          "ATYPICAL@G/train/GTF2F1@F/GTF2F1",
          "OTHER@G/train/HASPIN@F/HASPIN",
          "TK@G/train/SRC@F/HCK",
          "CMGC@G/test/DYRK@F/HIPK1",
          "CMGC@G/test/DYRK@F/HIPK2",
          "CMGC@G/test/DYRK@F/HIPK3",
          "<UNKNOWN>@G/test/HSPA5@F/HSPA5",
          "CAMK@G/train/CAMKL@F/HUNK",
          "TK@G/train/INSR@F/IGF1R",
          "OTHER@G/train/IKK@F/IKBKB",
          "OTHER@G/train/IKK@F/IKBKE",
          "TKL@G/test/MLK@F/ILK",
          "TK@G/train/INSR@F/INSR",
          "TKL@G/train/IRAK@F/IRAK1",
          "TKL@G/train/IRAK@F/IRAK4",
          "TK@G/train/TEC@F/ITK",
          "TK@G/val/JAKB@F/JAK1",
          "TK@G/val/JAKB@F/JAK2",
          "TK@G/val/JAKB@F/JAK3",
          "<UNKNOWN>@G/train/JMJD6@F/JMJD6",
          "TK@G/train/VEGFR@F/KDR",
          "TK@G/test/PDGFR@F/KIT",
          "TKL@G/train/RAF@F/KSR1",
          "AGC@G/val/NDR@F/LATS1",
          "AGC@G/val/NDR@F/LATS2",
          "TK@G/train/SRC@F/LCK",
          "TKL@G/test/LISK@F/LIMK1",
          "TKL@G/test/LISK@F/LIMK2",
          "TK@G/train/LMR@F/LMTK2",
          "TKL@G/train/LRRK@F/LRRK1",
          "TKL@G/train/LRRK@F/LRRK2",
          "TK@G/val/ALK@F/LTK",
          "TK@G/train/SRC@F/LYN",
          "CMGC@G/train/RCK@F/MAK",
          "STE@G/test/STE7@F/MAP2K1",
          "STE@G/test/STE7@F/MAP2K2",
          "STE@G/test/STE7@F/MAP2K3",
          "STE@G/test/STE7@F/MAP2K4",
          "STE@G/test/STE7@F/MAP2K5",
          "STE@G/test/STE7@F/MAP2K6",
          "STE@G/test/STE7@F/MAP2K7",
          "STE@G/val/STE11@F/MAP3K1",
          "TKL@G/test/MLK@F/MAP3K10",
          "TKL@G/test/MLK@F/MAP3K11",
          "TKL@G/test/MLK@F/MAP3K12",
          "TKL@G/test/MLK@F/MAP3K13",
          "STE@G/train/STE-UNIQUE@F/MAP3K14",
          "STE@G/val/STE11@F/MAP3K2",
          "TKL@G/test/MLK@F/MAP3K20",
          "TKL@G/test/MLK@F/MAP3K21",
          "STE@G/val/STE11@F/MAP3K3",
          "STE@G/val/STE11@F/MAP3K4",
          "STE@G/val/STE11@F/MAP3K5",
          "STE@G/val/STE11@F/MAP3K6",
          "TKL@G/test/MLK@F/MAP3K7",
          "STE@G/train/STE-UNIQUE@F/MAP3K8",
          "STE@G/train/STE20@F/MAP4K1",
          "STE@G/train/STE20@F/MAP4K2",
          "STE@G/train/STE20@F/MAP4K3",
          "STE@G/train/STE20@F/MAP4K4",
          "STE@G/train/STE20@F/MAP4K5",
          "CMGC@G/train/MAPK@F/MAPK1",
          "CMGC@G/train/MAPK@F/MAPK10",
          "CMGC@G/train/MAPK@F/MAPK11",
          "CMGC@G/train/MAPK@F/MAPK12",
          "CMGC@G/train/MAPK@F/MAPK13",
          "CMGC@G/train/MAPK@F/MAPK14",
          "CMGC@G/train/MAPK@F/MAPK15",
          "CMGC@G/train/MAPK@F/MAPK3",
          "CMGC@G/train/MAPK@F/MAPK4",
          "CMGC@G/train/MAPK@F/MAPK6",
          "CMGC@G/train/MAPK@F/MAPK7",
          "CMGC@G/train/MAPK@F/MAPK8",
          "CMGC@G/train/MAPK@F/MAPK9",
          "CAMK@G/val/MAPKAPK@F/MAPKAPK2",
          "CAMK@G/val/MAPKAPK@F/MAPKAPK3",
          "CAMK@G/val/MAPKAPK@F/MAPKAPK5",
          "CAMK@G/train/CAMKL@F/MARK1",
          "CAMK@G/train/CAMKL@F/MARK2",
          "CAMK@G/train/CAMKL@F/MARK3",
          "CAMK@G/train/CAMKL@F/MARK4",
          "AGC@G/test/MAST@F/MAST3",
          "AGC@G/test/MAST@F/MASTL",
          "TK@G/test/CSK@F/MATK",
          "CAMK@G/train/CAMKL@F/MELK",
          "TK@G/train/AXL@F/MERTK",
          "TK@G/train/MET@F/MET",
          "STE@G/train/STE20@F/MINK1",
          "CAMK@G/val/MAPKAPK@F/MKNK1",
          "CAMK@G/val/MAPKAPK@F/MKNK2",
          "OTHER@G/val/MOS@F/MOS",
          "TK@G/train/MET@F/MST1R",
          "ATYPICAL@G/train/PIKK@F/MTOR",
          "CAMK@G/test/MLCK@F/MYLK",
          "CAMK@G/test/MLCK@F/MYLK2",
          "CAMK@G/test/MLCK@F/MYLK3",
          "STE@G/train/STE20@F/MYO3A",
          "OTHER@G/test/NEK@F/NEK1",
          "OTHER@G/test/NEK@F/NEK11",
          "OTHER@G/test/NEK@F/NEK2",
          "OTHER@G/test/NEK@F/NEK3",
          "OTHER@G/test/NEK@F/NEK5",
          "OTHER@G/test/NEK@F/NEK6",
          "OTHER@G/test/NEK@F/NEK7",
          "OTHER@G/test/NEK@F/NEK9",
          "CMGC@G/train/MAPK@F/NLK",
          "<UNKNOWN>@G/train/NDP@F/NME1",
          "<UNKNOWN>@G/train/NDP@F/NME2",
          "TK@G/test/TRK@F/NTRK1",
          "TK@G/test/TRK@F/NTRK2",
          "CAMK@G/train/CAMKL@F/NUAK1",
          "CAMK@G/train/CAMKL@F/NUAK2",
          "STE@G/train/STE20@F/OXSR1",
          "STE@G/train/STE20@F/PAK1",
          "STE@G/train/STE20@F/PAK2",
          "STE@G/train/STE20@F/PAK4",
          "STE@G/train/STE20@F/PAK5",
          "STE@G/train/STE20@F/PAK6",
          "CAMK@G/train/CAMKL@F/PASK",
          "OTHER@G/val/TOPK@F/PBK",
          "<UNKNOWN>@G/train/PCK1@F/PCK1",
          "TK@G/test/PDGFR@F/PDGFRA",
          "TK@G/test/PDGFR@F/PDGFRB",
          "ATYPICAL@G/test/PDHK@F/PDK1",
          "ATYPICAL@G/test/PDHK@F/PDK2",
          "ATYPICAL@G/test/PDHK@F/PDK3",
          "ATYPICAL@G/test/PDHK@F/PDK4",
          "AGC@G/train/PDK1@F/PDPK1",
          "<UNKNOWN>@G/train/PFKP@F/PFKP",
          "<UNKNOWN>@G/train/PGK1@F/PGK1",
          "<UNKNOWN>@G/train/PHKA1@F/PHKA1",
          "<UNKNOWN>@G/test/PIK3C@F/PIK3C2A",
          "<UNKNOWN>@G/test/PIK3C@F/PIK3CA",
          "<UNKNOWN>@G/test/PIK3C@F/PIK3CB",
          "<UNKNOWN>@G/test/PIK3C@F/PIK3CD",
          "<UNKNOWN>@G/test/PIK3C@F/PIK3CG",
          "<UNKNOWN>@G/test/PIK3R1@F/PIK3R1",
          "<UNKNOWN>@G/val/PIKFYVE@F/PIKFYVE",
          "CAMK@G/train/PIM@F/PIM1",
          "CAMK@G/train/PIM@F/PIM2",
          "CAMK@G/train/PIM@F/PIM3",
          "OTHER@G/test/NKF2@F/PINK1",
          "<UNKNOWN>@G/val/PKM@F/PKM",
          "OTHER@G/train/WEE@F/PKMYT1",
          "AGC@G/test/PKN@F/PKN1",
          "AGC@G/test/PKN@F/PKN2",
          "AGC@G/test/PKN@F/PKN3",
          "OTHER@G/train/PLK@F/PLK1",
          "OTHER@G/train/PLK@F/PLK2",
          "OTHER@G/train/PLK@F/PLK3",
          "OTHER@G/train/PLK@F/PLK4",
          "CAMK@G/train/CAMK1@F/PNCK",
          "CAMK@G/train/CAMKL@F/PRKAA1",
          "CAMK@G/train/CAMKL@F/PRKAA2",
          "<UNKNOWN>@G/train/PRKAB1@F/PRKAB1",
          "AGC@G/train/PKA@F/PRKACA",
          "AGC@G/train/PKA@F/PRKACB",
          "<UNKNOWN>@G/test/PRKAG2@F/PRKAG2",
          "AGC@G/train/PKC@F/PRKCA",
          "AGC@G/train/PKC@F/PRKCB",
          "AGC@G/train/PKC@F/PRKCD",
          "AGC@G/train/PKC@F/PRKCE",
          "AGC@G/train/PKC@F/PRKCG",
          "AGC@G/train/PKC@F/PRKCH",
          "AGC@G/train/PKC@F/PRKCI",
          "AGC@G/train/PKC@F/PRKCQ",
          "AGC@G/train/PKC@F/PRKCZ",
          "CAMK@G/train/PKD@F/PRKD1",
          "CAMK@G/train/PKD@F/PRKD2",
          "CAMK@G/train/PKD@F/PRKD3",
          "ATYPICAL@G/train/PIKK@F/PRKDC",
          "AGC@G/val/PKG@F/PRKG1",
          "AGC@G/val/PKG@F/PRKG2",
          "AGC@G/train/PKA@F/PRKX",
          "CMGC@G/test/DYRK@F/PRPF4B",
          "TK@G/test/FAK@F/PTK2",
          "TK@G/test/FAK@F/PTK2B",
          "TK@G/train/SRC@F/PTK6",
          "TKL@G/train/RAF@F/RAF1",
          "TK@G/val/RET@F/RET",
          "ATYPICAL@G/train/RIO@F/RIOK3",
          "TKL@G/val/RIPK@F/RIPK1",
          "TKL@G/val/RIPK@F/RIPK2",
          "TKL@G/val/RIPK@F/RIPK3",
          "AGC@G/train/DMPK@F/ROCK1",
          "AGC@G/train/DMPK@F/ROCK2",
          "CAMK@G/train/RSKB@F/RPS6KA1",
          "CAMK@G/train/RSKB@F/RPS6KA2",
          "CAMK@G/train/RSKB@F/RPS6KA3",
          "CAMK@G/train/RSKB@F/RPS6KA4",
          "CAMK@G/train/RSKB@F/RPS6KA5",
          "CAMK@G/train/RSKB@F/RPS6KA6",
          "AGC@G/train/RSK@F/RPS6KB1",
          "AGC@G/train/RSK@F/RPS6KB2",
          "AGC@G/test/SGK@F/SGK1",
          "AGC@G/test/SGK@F/SGK2",
          "AGC@G/test/SGK@F/SGK3",
          "CAMK@G/train/CAMKL@F/SIK1",
          "CAMK@G/train/CAMKL@F/SIK2",
          "STE@G/train/STE20@F/SLK",
          "ATYPICAL@G/train/PIKK@F/SMG1",
          "TK@G/train/SRC@F/SRC",
          "TK@G/train/SRC@F/SRMS",
          "CMGC@G/train/SRPK@F/SRPK1",
          "CMGC@G/train/SRPK@F/SRPK2",
          "STE@G/train/STE20@F/STK10",
          "CAMK@G/train/CAMKL@F/STK11",
          "OTHER@G/train/NAK@F/STK16",
          "CAMK@G/train/DAPK@F/STK17A",
          "ATYPICAL@G/train/G11@F/STK19",
          "STE@G/train/STE20@F/STK24",
          "STE@G/train/STE20@F/STK25",
          "STE@G/train/STE20@F/STK26",
          "STE@G/train/STE20@F/STK3",
          "CAMK@G/val/STK33@F/STK33",
          "AGC@G/val/NDR@F/STK38",
          "AGC@G/val/NDR@F/STK38L",
          "STE@G/train/STE20@F/STK39",
          "STE@G/train/STE20@F/STK4",
          "TK@G/train/TK-UNIQUE@F/STYK1",
          "TK@G/test/SYK@F/SYK",
          "ATYPICAL@G/val/TAF1@F/TAF1",
          "STE@G/train/STE20@F/TAOK1",
          "STE@G/train/STE20@F/TAOK2",
          "OTHER@G/train/IKK@F/TBK1",
          "TK@G/train/TEC@F/TEC",
          "TK@G/train/TIE@F/TEK",
          "TKL@G/test/LISK@F/TESK1",
          "TKL@G/val/STKR@F/TGFBR1",
          "TKL@G/val/STKR@F/TGFBR2",
          "<UNKNOWN>@G/val/TGM2@F/TGM2",
          "OTHER@G/test/TLK@F/TLK1",
          "OTHER@G/test/TLK@F/TLK2",
          "STE@G/train/STE20@F/TNIK",
          "TK@G/train/ACK@F/TNK2",
          "OTHER@G/val/BUD32@F/TP53RK",
          "ATYPICAL@G/test/ALPHA@F/TRPM6",
          "ATYPICAL@G/test/ALPHA@F/TRPM7",
          "CAMK@G/test/TSSK@F/TSSK4",
          "CK1@G/test/TTBK@F/TTBK1",
          "CK1@G/test/TTBK@F/TTBK2",
          "OTHER@G/val/TTK@F/TTK",
          "TK@G/train/TEC@F/TXK",
          "TK@G/val/JAKB@F/TYK2",
          "TK@G/train/AXL@F/TYRO3",
          "OTHER@G/train/KIS@F/UHMK1",
          "OTHER@G/test/ULK@F/ULK1",
          "OTHER@G/test/ULK@F/ULK2",
          "OTHER@G/test/ULK@F/ULK3",
          "CK1@G/val/VRK@F/VRK1",
          "CK1@G/val/VRK@F/VRK2",
          "CK1@G/val/VRK@F/VRK3",
          "OTHER@G/train/WEE@F/WEE1",
          "OTHER@G/train/WNK@F/WNK1",
          "OTHER@G/train/WNK@F/WNK2",
          "OTHER@G/train/WNK@F/WNK3",
          "OTHER@G/train/WNK@F/WNK4",
          "TK@G/train/SRC@F/YES1",
          "TK@G/test/SYK@F/ZAP70",
          "ATYPICAL@G/test/ABC1@F",
          "TK@G/val/ABL@F",
          "TK@G/train/ACK@F",
          "AGC@G/train/AKT@F",
          "TK@G/val/ALK@F",
          "ATYPICAL@G/test/ALPHA@F",
          "OTHER@G/train/AUR@F",
          "TK@G/train/AXL@F",
          "ATYPICAL@G/train/BAZ@F",
          "ATYPICAL@G/test/BCR@F",
          "ATYPICAL@G/val/BLVRA@F",
          "ATYPICAL@G/train/BRD@F",
          "OTHER@G/train/BUB@F",
          "OTHER@G/val/BUD32@F",
          "CAMK@G/train/CAMK1@F",
          "CAMK@G/test/CAMK2@F",
          "OTHER@G/val/CAMKK@F",
          "CAMK@G/train/CAMKL@F",
          "CAMK@G/test/CASK@F",
          "OTHER@G/val/CDC7@F",
          "CMGC@G/train/CDK@F",
          "CMGC@G/test/CDKL@F",
          "CK1@G/train/CK1@F",
          "CMGC@G/test/CK2@F",
          "CMGC@G/val/CLK@F",
          "ATYPICAL@G/val/COL4A3BP@F",
          "TK@G/test/CSK@F",
          "<UNKNOWN>@G/train/CSNK2B@F",
          "CAMK@G/train/DAPK@F",
          "<UNKNOWN>@G/val/DCAF1@F",
          "TK@G/val/DDR@F",
          "AGC@G/train/DMPK@F",
          "CMGC@G/test/DYRK@F",
          "TK@G/test/EGFR@F",
          "<UNKNOWN>@G/test/ENPP3@F",
          "TK@G/train/EPH@F",
          "TK@G/test/FAK@F",
          "<UNKNOWN>@G/train/FAM20C@F",
          "TK@G/train/FER@F",
          "TK@G/val/FGFR@F",
          "ATYPICAL@G/train/G11@F",
          "AGC@G/val/GRK@F",
          "CMGC@G/val/GSK@F",
          "ATYPICAL@G/train/GTF2F1@F",
          "OTHER@G/train/HASPIN@F",
          "<UNKNOWN>@G/test/HSPA5@F",
          "OTHER@G/train/IKK@F",
          "TK@G/train/INSR@F",
          "TKL@G/train/IRAK@F",
          "OTHER@G/test/IRE@F",
          "TK@G/val/JAKB@F",
          "<UNKNOWN>@G/train/JMJD6@F",
          "OTHER@G/train/KIS@F",
          "TKL@G/test/LISK@F",
          "TK@G/train/LMR@F",
          "TKL@G/train/LRRK@F",
          "CMGC@G/train/MAPK@F",
          "CAMK@G/val/MAPKAPK@F",
          "AGC@G/test/MAST@F",
          "TK@G/train/MET@F",
          "CAMK@G/test/MLCK@F",
          "TKL@G/test/MLK@F",
          "OTHER@G/val/MOS@F",
          "OTHER@G/train/NAK@F",
          "<UNKNOWN>@G/train/NDP@F",
          "AGC@G/val/NDR@F",
          "OTHER@G/test/NEK@F",
          "OTHER@G/test/NKF2@F",
          "<UNKNOWN>@G/train/PCK1@F",
          "TK@G/test/PDGFR@F",
          "ATYPICAL@G/test/PDHK@F",
          "AGC@G/train/PDK1@F",
          "OTHER@G/train/PEK@F",
          "<UNKNOWN>@G/train/PFKP@F",
          "<UNKNOWN>@G/train/PGK1@F",
          "<UNKNOWN>@G/train/PHKA1@F",
          "<UNKNOWN>@G/test/PIK3C@F",
          "<UNKNOWN>@G/test/PIK3R1@F",
          "<UNKNOWN>@G/val/PIKFYVE@F",
          "ATYPICAL@G/train/PIKK@F",
          "CAMK@G/train/PIM@F",
          "AGC@G/train/PKA@F",
          "AGC@G/train/PKC@F",
          "CAMK@G/train/PKD@F",
          "AGC@G/val/PKG@F",
          "<UNKNOWN>@G/val/PKM@F",
          "AGC@G/test/PKN@F",
          "OTHER@G/train/PLK@F",
          "<UNKNOWN>@G/train/PRKAB1@F",
          "<UNKNOWN>@G/test/PRKAG2@F",
          "CAMK@G/val/RAD53@F",
          "TKL@G/train/RAF@F",
          "CMGC@G/train/RCK@F",
          "TK@G/val/RET@F",
          "ATYPICAL@G/train/RIO@F",
          "TKL@G/val/RIPK@F",
          "AGC@G/train/RSK@F",
          "CAMK@G/train/RSKB@F",
          "AGC@G/test/SGK@F",
          "TK@G/train/SRC@F",
          "CMGC@G/train/SRPK@F",
          "STE@G/train/STE-UNIQUE@F",
          "STE@G/val/STE11@F",
          "STE@G/train/STE20@F",
          "STE@G/test/STE7@F",
          "CAMK@G/val/STK33@F",
          "TKL@G/val/STKR@F",
          "TK@G/test/SYK@F",
          "ATYPICAL@G/val/TAF1@F",
          "TK@G/train/TEC@F",
          "<UNKNOWN>@G/val/TGM2@F",
          "TK@G/train/TIE@F",
          "TK@G/train/TK-UNIQUE@F",
          "OTHER@G/test/TLK@F",
          "OTHER@G/val/TOPK@F",
          "TK@G/test/TRK@F",
          "CAMK@G/test/TSSK@F",
          "CK1@G/test/TTBK@F",
          "OTHER@G/val/TTK@F",
          "OTHER@G/test/ULK@F",
          "TK@G/train/VEGFR@F",
          "CK1@G/val/VRK@F",
          "OTHER@G/train/WEE@F",
          "OTHER@G/train/WNK@F",
          "<UNKNOWN>@G/test",
          "AGC@G/test",
          "ATYPICAL@G/test",
          "CAMK@G/test",
          "CK1@G/test",
          "CMGC@G/test",
          "OTHER@G/test",
          "STE@G/test",
          "TK@G/test",
          "TKL@G/test",
          "<UNKNOWN>@G/train",
          "AGC@G/train",
          "ATYPICAL@G/train",
          "CAMK@G/train",
          "CK1@G/train",
          "CMGC@G/train",
          "OTHER@G/train",
          "STE@G/train",
          "TK@G/train",
          "TKL@G/train",
          "<UNKNOWN>@G/val",
          "AGC@G/val",
          "ATYPICAL@G/val",
          "CAMK@G/val",
          "CK1@G/val",
          "CMGC@G/val",
          "OTHER@G/val",
          "STE@G/val",
          "TK@G/val",
          "TKL@G/val",
          "<UNKNOWN>@G",
          "AGC@G",
          "ATYPICAL@G",
          "CAMK@G",
          "CK1@G",
          "CMGC@G",
          "OTHER@G",
          "STE@G",
          "TK@G",
          "TKL@G"
         ],
         "labels": [
          "AAK1",
          "ABL1",
          "ABL2",
          "ACVR1B",
          "ACVRL1",
          "ADCK5",
          "AKT1",
          "AKT2",
          "AKT3",
          "ALK",
          "ALPK1",
          "ARAF",
          "ATM",
          "ATR",
          "AURKA",
          "AURKB",
          "AURKC",
          "AXL",
          "BAZ1B",
          "BCR",
          "BLK",
          "BLVRA",
          "BMP2K",
          "BMPR1B",
          "BMX",
          "BRAF",
          "BRD4",
          "BRSK1",
          "BRSK2",
          "BTK",
          "BUB1",
          "CAMK1",
          "CAMK1G",
          "CAMK2A",
          "CAMK2B",
          "CAMK2D",
          "CAMK2G",
          "CAMK4",
          "CAMKK1",
          "CAMKK2",
          "CASK",
          "CDC42BPA",
          "CDC42BPB",
          "CDC7",
          "CDK1",
          "CDK10",
          "CDK11A",
          "CDK11B",
          "CDK12",
          "CDK13",
          "CDK14",
          "CDK15",
          "CDK16",
          "CDK18",
          "CDK19",
          "CDK2",
          "CDK20",
          "CDK3",
          "CDK4",
          "CDK5",
          "CDK6",
          "CDK7",
          "CDK8",
          "CDK9",
          "CDKL2",
          "CDKL5",
          "CERT1",
          "CHEK1",
          "CHEK2",
          "CHUK",
          "CILK1",
          "CIT",
          "CLK1",
          "CLK2",
          "CLK3",
          "CLK4",
          "CSF1R",
          "CSK",
          "CSNK1A1",
          "CSNK1A1L",
          "CSNK1D",
          "CSNK1E",
          "CSNK1G1",
          "CSNK1G2",
          "CSNK1G3",
          "CSNK2A1",
          "CSNK2A2",
          "CSNK2B",
          "DAPK1",
          "DAPK2",
          "DAPK3",
          "DCAF1",
          "DDR1",
          "DMPK",
          "DYRK1A",
          "DYRK1B",
          "DYRK2",
          "DYRK3",
          "DYRK4",
          "EEF2K",
          "EGFR",
          "EIF2AK1",
          "EIF2AK2",
          "EIF2AK3",
          "EIF2AK4",
          "ENPP3",
          "EPHA1",
          "EPHA2",
          "EPHA4",
          "EPHB1",
          "EPHB2",
          "EPHB3",
          "ERBB2",
          "ERBB4",
          "ERN1",
          "FAM20C",
          "FER",
          "FES",
          "FGFR1",
          "FGFR2",
          "FGFR3",
          "FGFR4",
          "FGR",
          "FLT1",
          "FLT3",
          "FRK",
          "FYN",
          "GAK",
          "GRK1",
          "GRK2",
          "GRK3",
          "GRK4",
          "GRK5",
          "GRK6",
          "GRK7",
          "GSK3A",
          "GSK3B",
          "GTF2F1",
          "HASPIN",
          "HCK",
          "HIPK1",
          "HIPK2",
          "HIPK3",
          "HSPA5",
          "HUNK",
          "IGF1R",
          "IKBKB",
          "IKBKE",
          "ILK",
          "INSR",
          "IRAK1",
          "IRAK4",
          "ITK",
          "JAK1",
          "JAK2",
          "JAK3",
          "JMJD6",
          "KDR",
          "KIT",
          "KSR1",
          "LATS1",
          "LATS2",
          "LCK",
          "LIMK1",
          "LIMK2",
          "LMTK2",
          "LRRK1",
          "LRRK2",
          "LTK",
          "LYN",
          "MAK",
          "MAP2K1",
          "MAP2K2",
          "MAP2K3",
          "MAP2K4",
          "MAP2K5",
          "MAP2K6",
          "MAP2K7",
          "MAP3K1",
          "MAP3K10",
          "MAP3K11",
          "MAP3K12",
          "MAP3K13",
          "MAP3K14",
          "MAP3K2",
          "MAP3K20",
          "MAP3K21",
          "MAP3K3",
          "MAP3K4",
          "MAP3K5",
          "MAP3K6",
          "MAP3K7",
          "MAP3K8",
          "MAP4K1",
          "MAP4K2",
          "MAP4K3",
          "MAP4K4",
          "MAP4K5",
          "MAPK1",
          "MAPK10",
          "MAPK11",
          "MAPK12",
          "MAPK13",
          "MAPK14",
          "MAPK15",
          "MAPK3",
          "MAPK4",
          "MAPK6",
          "MAPK7",
          "MAPK8",
          "MAPK9",
          "MAPKAPK2",
          "MAPKAPK3",
          "MAPKAPK5",
          "MARK1",
          "MARK2",
          "MARK3",
          "MARK4",
          "MAST3",
          "MASTL",
          "MATK",
          "MELK",
          "MERTK",
          "MET",
          "MINK1",
          "MKNK1",
          "MKNK2",
          "MOS",
          "MST1R",
          "MTOR",
          "MYLK",
          "MYLK2",
          "MYLK3",
          "MYO3A",
          "NEK1",
          "NEK11",
          "NEK2",
          "NEK3",
          "NEK5",
          "NEK6",
          "NEK7",
          "NEK9",
          "NLK",
          "NME1",
          "NME2",
          "NTRK1",
          "NTRK2",
          "NUAK1",
          "NUAK2",
          "OXSR1",
          "PAK1",
          "PAK2",
          "PAK4",
          "PAK5",
          "PAK6",
          "PASK",
          "PBK",
          "PCK1",
          "PDGFRA",
          "PDGFRB",
          "PDK1",
          "PDK2",
          "PDK3",
          "PDK4",
          "PDPK1",
          "PFKP",
          "PGK1",
          "PHKA1",
          "PIK3C2A",
          "PIK3CA",
          "PIK3CB",
          "PIK3CD",
          "PIK3CG",
          "PIK3R1",
          "PIKFYVE",
          "PIM1",
          "PIM2",
          "PIM3",
          "PINK1",
          "PKM",
          "PKMYT1",
          "PKN1",
          "PKN2",
          "PKN3",
          "PLK1",
          "PLK2",
          "PLK3",
          "PLK4",
          "PNCK",
          "PRKAA1",
          "PRKAA2",
          "PRKAB1",
          "PRKACA",
          "PRKACB",
          "PRKAG2",
          "PRKCA",
          "PRKCB",
          "PRKCD",
          "PRKCE",
          "PRKCG",
          "PRKCH",
          "PRKCI",
          "PRKCQ",
          "PRKCZ",
          "PRKD1",
          "PRKD2",
          "PRKD3",
          "PRKDC",
          "PRKG1",
          "PRKG2",
          "PRKX",
          "PRPF4B",
          "PTK2",
          "PTK2B",
          "PTK6",
          "RAF1",
          "RET",
          "RIOK3",
          "RIPK1",
          "RIPK2",
          "RIPK3",
          "ROCK1",
          "ROCK2",
          "RPS6KA1",
          "RPS6KA2",
          "RPS6KA3",
          "RPS6KA4",
          "RPS6KA5",
          "RPS6KA6",
          "RPS6KB1",
          "RPS6KB2",
          "SGK1",
          "SGK2",
          "SGK3",
          "SIK1",
          "SIK2",
          "SLK",
          "SMG1",
          "SRC",
          "SRMS",
          "SRPK1",
          "SRPK2",
          "STK10",
          "STK11",
          "STK16",
          "STK17A",
          "STK19",
          "STK24",
          "STK25",
          "STK26",
          "STK3",
          "STK33",
          "STK38",
          "STK38L",
          "STK39",
          "STK4",
          "STYK1",
          "SYK",
          "TAF1",
          "TAOK1",
          "TAOK2",
          "TBK1",
          "TEC",
          "TEK",
          "TESK1",
          "TGFBR1",
          "TGFBR2",
          "TGM2",
          "TLK1",
          "TLK2",
          "TNIK",
          "TNK2",
          "TP53RK",
          "TRPM6",
          "TRPM7",
          "TSSK4",
          "TTBK1",
          "TTBK2",
          "TTK",
          "TXK",
          "TYK2",
          "TYRO3",
          "UHMK1",
          "ULK1",
          "ULK2",
          "ULK3",
          "VRK1",
          "VRK2",
          "VRK3",
          "WEE1",
          "WNK1",
          "WNK2",
          "WNK3",
          "WNK4",
          "YES1",
          "ZAP70",
          "ABC1@F",
          "ABL@F",
          "ACK@F",
          "AKT@F",
          "ALK@F",
          "ALPHA@F",
          "AUR@F",
          "AXL@F",
          "BAZ@F",
          "BCR@F",
          "BLVRA@F",
          "BRD@F",
          "BUB@F",
          "BUD32@F",
          "CAMK1@F",
          "CAMK2@F",
          "CAMKK@F",
          "CAMKL@F",
          "CASK@F",
          "CDC7@F",
          "CDK@F",
          "CDKL@F",
          "CK1@F",
          "CK2@F",
          "CLK@F",
          "COL4A3BP@F",
          "CSK@F",
          "CSNK2B@F",
          "DAPK@F",
          "DCAF1@F",
          "DDR@F",
          "DMPK@F",
          "DYRK@F",
          "EGFR@F",
          "ENPP3@F",
          "EPH@F",
          "FAK@F",
          "FAM20C@F",
          "FER@F",
          "FGFR@F",
          "G11@F",
          "GRK@F",
          "GSK@F",
          "GTF2F1@F",
          "HASPIN@F",
          "HSPA5@F",
          "IKK@F",
          "INSR@F",
          "IRAK@F",
          "IRE@F",
          "JAKB@F",
          "JMJD6@F",
          "KIS@F",
          "LISK@F",
          "LMR@F",
          "LRRK@F",
          "MAPK@F",
          "MAPKAPK@F",
          "MAST@F",
          "MET@F",
          "MLCK@F",
          "MLK@F",
          "MOS@F",
          "NAK@F",
          "NDP@F",
          "NDR@F",
          "NEK@F",
          "NKF2@F",
          "PCK1@F",
          "PDGFR@F",
          "PDHK@F",
          "PDK1@F",
          "PEK@F",
          "PFKP@F",
          "PGK1@F",
          "PHKA1@F",
          "PIK3C@F",
          "PIK3R1@F",
          "PIKFYVE@F",
          "PIKK@F",
          "PIM@F",
          "PKA@F",
          "PKC@F",
          "PKD@F",
          "PKG@F",
          "PKM@F",
          "PKN@F",
          "PLK@F",
          "PRKAB1@F",
          "PRKAG2@F",
          "RAD53@F",
          "RAF@F",
          "RCK@F",
          "RET@F",
          "RIO@F",
          "RIPK@F",
          "RSK@F",
          "RSKB@F",
          "SGK@F",
          "SRC@F",
          "SRPK@F",
          "STE-UNIQUE@F",
          "STE11@F",
          "STE20@F",
          "STE7@F",
          "STK33@F",
          "STKR@F",
          "SYK@F",
          "TAF1@F",
          "TEC@F",
          "TGM2@F",
          "TIE@F",
          "TK-UNIQUE@F",
          "TLK@F",
          "TOPK@F",
          "TRK@F",
          "TSSK@F",
          "TTBK@F",
          "TTK@F",
          "ULK@F",
          "VEGFR@F",
          "VRK@F",
          "WEE@F",
          "WNK@F",
          "test",
          "test",
          "test",
          "test",
          "test",
          "test",
          "test",
          "test",
          "test",
          "test",
          "train",
          "train",
          "train",
          "train",
          "train",
          "train",
          "train",
          "train",
          "train",
          "train",
          "val",
          "val",
          "val",
          "val",
          "val",
          "val",
          "val",
          "val",
          "val",
          "val",
          "<UNKNOWN>@G",
          "AGC@G",
          "ATYPICAL@G",
          "CAMK@G",
          "CK1@G",
          "CMGC@G",
          "OTHER@G",
          "STE@G",
          "TK@G",
          "TKL@G"
         ],
         "name": "",
         "parents": [
          "OTHER@G/train/NAK@F",
          "TK@G/val/ABL@F",
          "TK@G/val/ABL@F",
          "TKL@G/val/STKR@F",
          "TKL@G/val/STKR@F",
          "ATYPICAL@G/test/ABC1@F",
          "AGC@G/train/AKT@F",
          "AGC@G/train/AKT@F",
          "AGC@G/train/AKT@F",
          "TK@G/val/ALK@F",
          "ATYPICAL@G/test/ALPHA@F",
          "TKL@G/train/RAF@F",
          "ATYPICAL@G/train/PIKK@F",
          "ATYPICAL@G/train/PIKK@F",
          "OTHER@G/train/AUR@F",
          "OTHER@G/train/AUR@F",
          "OTHER@G/train/AUR@F",
          "TK@G/train/AXL@F",
          "ATYPICAL@G/train/BAZ@F",
          "ATYPICAL@G/test/BCR@F",
          "TK@G/train/SRC@F",
          "ATYPICAL@G/val/BLVRA@F",
          "OTHER@G/train/NAK@F",
          "TKL@G/val/STKR@F",
          "TK@G/train/TEC@F",
          "TKL@G/train/RAF@F",
          "ATYPICAL@G/train/BRD@F",
          "CAMK@G/train/CAMKL@F",
          "CAMK@G/train/CAMKL@F",
          "TK@G/train/TEC@F",
          "OTHER@G/train/BUB@F",
          "CAMK@G/train/CAMK1@F",
          "CAMK@G/train/CAMK1@F",
          "CAMK@G/test/CAMK2@F",
          "CAMK@G/test/CAMK2@F",
          "CAMK@G/test/CAMK2@F",
          "CAMK@G/test/CAMK2@F",
          "CAMK@G/train/CAMK1@F",
          "OTHER@G/val/CAMKK@F",
          "OTHER@G/val/CAMKK@F",
          "CAMK@G/test/CASK@F",
          "AGC@G/train/DMPK@F",
          "AGC@G/train/DMPK@F",
          "OTHER@G/val/CDC7@F",
          "CMGC@G/train/CDK@F",
          "CMGC@G/train/CDK@F",
          "CMGC@G/train/CDK@F",
          "CMGC@G/train/CDK@F",
          "CMGC@G/train/CDK@F",
          "CMGC@G/train/CDK@F",
          "CMGC@G/train/CDK@F",
          "CMGC@G/train/CDK@F",
          "CMGC@G/train/CDK@F",
          "CMGC@G/train/CDK@F",
          "CMGC@G/train/CDK@F",
          "CMGC@G/train/CDK@F",
          "CMGC@G/train/CDK@F",
          "CMGC@G/train/CDK@F",
          "CMGC@G/train/CDK@F",
          "CMGC@G/train/CDK@F",
          "CMGC@G/train/CDK@F",
          "CMGC@G/train/CDK@F",
          "CMGC@G/train/CDK@F",
          "CMGC@G/train/CDK@F",
          "CMGC@G/test/CDKL@F",
          "CMGC@G/test/CDKL@F",
          "ATYPICAL@G/val/COL4A3BP@F",
          "CAMK@G/train/CAMKL@F",
          "CAMK@G/val/RAD53@F",
          "OTHER@G/train/IKK@F",
          "CMGC@G/train/RCK@F",
          "AGC@G/train/DMPK@F",
          "CMGC@G/val/CLK@F",
          "CMGC@G/val/CLK@F",
          "CMGC@G/val/CLK@F",
          "CMGC@G/val/CLK@F",
          "TK@G/test/PDGFR@F",
          "TK@G/test/CSK@F",
          "CK1@G/train/CK1@F",
          "CK1@G/train/CK1@F",
          "CK1@G/train/CK1@F",
          "CK1@G/train/CK1@F",
          "CK1@G/train/CK1@F",
          "CK1@G/train/CK1@F",
          "CK1@G/train/CK1@F",
          "CMGC@G/test/CK2@F",
          "CMGC@G/test/CK2@F",
          "<UNKNOWN>@G/train/CSNK2B@F",
          "CAMK@G/train/DAPK@F",
          "CAMK@G/train/DAPK@F",
          "CAMK@G/train/DAPK@F",
          "<UNKNOWN>@G/val/DCAF1@F",
          "TK@G/val/DDR@F",
          "AGC@G/train/DMPK@F",
          "CMGC@G/test/DYRK@F",
          "CMGC@G/test/DYRK@F",
          "CMGC@G/test/DYRK@F",
          "CMGC@G/test/DYRK@F",
          "CMGC@G/test/DYRK@F",
          "ATYPICAL@G/test/ALPHA@F",
          "TK@G/test/EGFR@F",
          "OTHER@G/train/PEK@F",
          "OTHER@G/train/PEK@F",
          "OTHER@G/train/PEK@F",
          "STE@G/train/STE-UNIQUE@F",
          "<UNKNOWN>@G/test/ENPP3@F",
          "TK@G/train/EPH@F",
          "TK@G/train/EPH@F",
          "TK@G/train/EPH@F",
          "TK@G/train/EPH@F",
          "TK@G/train/EPH@F",
          "TK@G/train/EPH@F",
          "TK@G/test/EGFR@F",
          "TK@G/test/EGFR@F",
          "OTHER@G/test/IRE@F",
          "<UNKNOWN>@G/train/FAM20C@F",
          "TK@G/train/FER@F",
          "TK@G/train/FER@F",
          "TK@G/val/FGFR@F",
          "TK@G/val/FGFR@F",
          "TK@G/val/FGFR@F",
          "TK@G/val/FGFR@F",
          "TK@G/train/SRC@F",
          "TK@G/train/VEGFR@F",
          "TK@G/test/PDGFR@F",
          "TK@G/train/SRC@F",
          "TK@G/train/SRC@F",
          "OTHER@G/train/NAK@F",
          "AGC@G/val/GRK@F",
          "AGC@G/val/GRK@F",
          "AGC@G/val/GRK@F",
          "AGC@G/val/GRK@F",
          "AGC@G/val/GRK@F",
          "AGC@G/val/GRK@F",
          "AGC@G/val/GRK@F",
          "CMGC@G/val/GSK@F",
          "CMGC@G/val/GSK@F",
          "ATYPICAL@G/train/GTF2F1@F",
          "OTHER@G/train/HASPIN@F",
          "TK@G/train/SRC@F",
          "CMGC@G/test/DYRK@F",
          "CMGC@G/test/DYRK@F",
          "CMGC@G/test/DYRK@F",
          "<UNKNOWN>@G/test/HSPA5@F",
          "CAMK@G/train/CAMKL@F",
          "TK@G/train/INSR@F",
          "OTHER@G/train/IKK@F",
          "OTHER@G/train/IKK@F",
          "TKL@G/test/MLK@F",
          "TK@G/train/INSR@F",
          "TKL@G/train/IRAK@F",
          "TKL@G/train/IRAK@F",
          "TK@G/train/TEC@F",
          "TK@G/val/JAKB@F",
          "TK@G/val/JAKB@F",
          "TK@G/val/JAKB@F",
          "<UNKNOWN>@G/train/JMJD6@F",
          "TK@G/train/VEGFR@F",
          "TK@G/test/PDGFR@F",
          "TKL@G/train/RAF@F",
          "AGC@G/val/NDR@F",
          "AGC@G/val/NDR@F",
          "TK@G/train/SRC@F",
          "TKL@G/test/LISK@F",
          "TKL@G/test/LISK@F",
          "TK@G/train/LMR@F",
          "TKL@G/train/LRRK@F",
          "TKL@G/train/LRRK@F",
          "TK@G/val/ALK@F",
          "TK@G/train/SRC@F",
          "CMGC@G/train/RCK@F",
          "STE@G/test/STE7@F",
          "STE@G/test/STE7@F",
          "STE@G/test/STE7@F",
          "STE@G/test/STE7@F",
          "STE@G/test/STE7@F",
          "STE@G/test/STE7@F",
          "STE@G/test/STE7@F",
          "STE@G/val/STE11@F",
          "TKL@G/test/MLK@F",
          "TKL@G/test/MLK@F",
          "TKL@G/test/MLK@F",
          "TKL@G/test/MLK@F",
          "STE@G/train/STE-UNIQUE@F",
          "STE@G/val/STE11@F",
          "TKL@G/test/MLK@F",
          "TKL@G/test/MLK@F",
          "STE@G/val/STE11@F",
          "STE@G/val/STE11@F",
          "STE@G/val/STE11@F",
          "STE@G/val/STE11@F",
          "TKL@G/test/MLK@F",
          "STE@G/train/STE-UNIQUE@F",
          "STE@G/train/STE20@F",
          "STE@G/train/STE20@F",
          "STE@G/train/STE20@F",
          "STE@G/train/STE20@F",
          "STE@G/train/STE20@F",
          "CMGC@G/train/MAPK@F",
          "CMGC@G/train/MAPK@F",
          "CMGC@G/train/MAPK@F",
          "CMGC@G/train/MAPK@F",
          "CMGC@G/train/MAPK@F",
          "CMGC@G/train/MAPK@F",
          "CMGC@G/train/MAPK@F",
          "CMGC@G/train/MAPK@F",
          "CMGC@G/train/MAPK@F",
          "CMGC@G/train/MAPK@F",
          "CMGC@G/train/MAPK@F",
          "CMGC@G/train/MAPK@F",
          "CMGC@G/train/MAPK@F",
          "CAMK@G/val/MAPKAPK@F",
          "CAMK@G/val/MAPKAPK@F",
          "CAMK@G/val/MAPKAPK@F",
          "CAMK@G/train/CAMKL@F",
          "CAMK@G/train/CAMKL@F",
          "CAMK@G/train/CAMKL@F",
          "CAMK@G/train/CAMKL@F",
          "AGC@G/test/MAST@F",
          "AGC@G/test/MAST@F",
          "TK@G/test/CSK@F",
          "CAMK@G/train/CAMKL@F",
          "TK@G/train/AXL@F",
          "TK@G/train/MET@F",
          "STE@G/train/STE20@F",
          "CAMK@G/val/MAPKAPK@F",
          "CAMK@G/val/MAPKAPK@F",
          "OTHER@G/val/MOS@F",
          "TK@G/train/MET@F",
          "ATYPICAL@G/train/PIKK@F",
          "CAMK@G/test/MLCK@F",
          "CAMK@G/test/MLCK@F",
          "CAMK@G/test/MLCK@F",
          "STE@G/train/STE20@F",
          "OTHER@G/test/NEK@F",
          "OTHER@G/test/NEK@F",
          "OTHER@G/test/NEK@F",
          "OTHER@G/test/NEK@F",
          "OTHER@G/test/NEK@F",
          "OTHER@G/test/NEK@F",
          "OTHER@G/test/NEK@F",
          "OTHER@G/test/NEK@F",
          "CMGC@G/train/MAPK@F",
          "<UNKNOWN>@G/train/NDP@F",
          "<UNKNOWN>@G/train/NDP@F",
          "TK@G/test/TRK@F",
          "TK@G/test/TRK@F",
          "CAMK@G/train/CAMKL@F",
          "CAMK@G/train/CAMKL@F",
          "STE@G/train/STE20@F",
          "STE@G/train/STE20@F",
          "STE@G/train/STE20@F",
          "STE@G/train/STE20@F",
          "STE@G/train/STE20@F",
          "STE@G/train/STE20@F",
          "CAMK@G/train/CAMKL@F",
          "OTHER@G/val/TOPK@F",
          "<UNKNOWN>@G/train/PCK1@F",
          "TK@G/test/PDGFR@F",
          "TK@G/test/PDGFR@F",
          "ATYPICAL@G/test/PDHK@F",
          "ATYPICAL@G/test/PDHK@F",
          "ATYPICAL@G/test/PDHK@F",
          "ATYPICAL@G/test/PDHK@F",
          "AGC@G/train/PDK1@F",
          "<UNKNOWN>@G/train/PFKP@F",
          "<UNKNOWN>@G/train/PGK1@F",
          "<UNKNOWN>@G/train/PHKA1@F",
          "<UNKNOWN>@G/test/PIK3C@F",
          "<UNKNOWN>@G/test/PIK3C@F",
          "<UNKNOWN>@G/test/PIK3C@F",
          "<UNKNOWN>@G/test/PIK3C@F",
          "<UNKNOWN>@G/test/PIK3C@F",
          "<UNKNOWN>@G/test/PIK3R1@F",
          "<UNKNOWN>@G/val/PIKFYVE@F",
          "CAMK@G/train/PIM@F",
          "CAMK@G/train/PIM@F",
          "CAMK@G/train/PIM@F",
          "OTHER@G/test/NKF2@F",
          "<UNKNOWN>@G/val/PKM@F",
          "OTHER@G/train/WEE@F",
          "AGC@G/test/PKN@F",
          "AGC@G/test/PKN@F",
          "AGC@G/test/PKN@F",
          "OTHER@G/train/PLK@F",
          "OTHER@G/train/PLK@F",
          "OTHER@G/train/PLK@F",
          "OTHER@G/train/PLK@F",
          "CAMK@G/train/CAMK1@F",
          "CAMK@G/train/CAMKL@F",
          "CAMK@G/train/CAMKL@F",
          "<UNKNOWN>@G/train/PRKAB1@F",
          "AGC@G/train/PKA@F",
          "AGC@G/train/PKA@F",
          "<UNKNOWN>@G/test/PRKAG2@F",
          "AGC@G/train/PKC@F",
          "AGC@G/train/PKC@F",
          "AGC@G/train/PKC@F",
          "AGC@G/train/PKC@F",
          "AGC@G/train/PKC@F",
          "AGC@G/train/PKC@F",
          "AGC@G/train/PKC@F",
          "AGC@G/train/PKC@F",
          "AGC@G/train/PKC@F",
          "CAMK@G/train/PKD@F",
          "CAMK@G/train/PKD@F",
          "CAMK@G/train/PKD@F",
          "ATYPICAL@G/train/PIKK@F",
          "AGC@G/val/PKG@F",
          "AGC@G/val/PKG@F",
          "AGC@G/train/PKA@F",
          "CMGC@G/test/DYRK@F",
          "TK@G/test/FAK@F",
          "TK@G/test/FAK@F",
          "TK@G/train/SRC@F",
          "TKL@G/train/RAF@F",
          "TK@G/val/RET@F",
          "ATYPICAL@G/train/RIO@F",
          "TKL@G/val/RIPK@F",
          "TKL@G/val/RIPK@F",
          "TKL@G/val/RIPK@F",
          "AGC@G/train/DMPK@F",
          "AGC@G/train/DMPK@F",
          "CAMK@G/train/RSKB@F",
          "CAMK@G/train/RSKB@F",
          "CAMK@G/train/RSKB@F",
          "CAMK@G/train/RSKB@F",
          "CAMK@G/train/RSKB@F",
          "CAMK@G/train/RSKB@F",
          "AGC@G/train/RSK@F",
          "AGC@G/train/RSK@F",
          "AGC@G/test/SGK@F",
          "AGC@G/test/SGK@F",
          "AGC@G/test/SGK@F",
          "CAMK@G/train/CAMKL@F",
          "CAMK@G/train/CAMKL@F",
          "STE@G/train/STE20@F",
          "ATYPICAL@G/train/PIKK@F",
          "TK@G/train/SRC@F",
          "TK@G/train/SRC@F",
          "CMGC@G/train/SRPK@F",
          "CMGC@G/train/SRPK@F",
          "STE@G/train/STE20@F",
          "CAMK@G/train/CAMKL@F",
          "OTHER@G/train/NAK@F",
          "CAMK@G/train/DAPK@F",
          "ATYPICAL@G/train/G11@F",
          "STE@G/train/STE20@F",
          "STE@G/train/STE20@F",
          "STE@G/train/STE20@F",
          "STE@G/train/STE20@F",
          "CAMK@G/val/STK33@F",
          "AGC@G/val/NDR@F",
          "AGC@G/val/NDR@F",
          "STE@G/train/STE20@F",
          "STE@G/train/STE20@F",
          "TK@G/train/TK-UNIQUE@F",
          "TK@G/test/SYK@F",
          "ATYPICAL@G/val/TAF1@F",
          "STE@G/train/STE20@F",
          "STE@G/train/STE20@F",
          "OTHER@G/train/IKK@F",
          "TK@G/train/TEC@F",
          "TK@G/train/TIE@F",
          "TKL@G/test/LISK@F",
          "TKL@G/val/STKR@F",
          "TKL@G/val/STKR@F",
          "<UNKNOWN>@G/val/TGM2@F",
          "OTHER@G/test/TLK@F",
          "OTHER@G/test/TLK@F",
          "STE@G/train/STE20@F",
          "TK@G/train/ACK@F",
          "OTHER@G/val/BUD32@F",
          "ATYPICAL@G/test/ALPHA@F",
          "ATYPICAL@G/test/ALPHA@F",
          "CAMK@G/test/TSSK@F",
          "CK1@G/test/TTBK@F",
          "CK1@G/test/TTBK@F",
          "OTHER@G/val/TTK@F",
          "TK@G/train/TEC@F",
          "TK@G/val/JAKB@F",
          "TK@G/train/AXL@F",
          "OTHER@G/train/KIS@F",
          "OTHER@G/test/ULK@F",
          "OTHER@G/test/ULK@F",
          "OTHER@G/test/ULK@F",
          "CK1@G/val/VRK@F",
          "CK1@G/val/VRK@F",
          "CK1@G/val/VRK@F",
          "OTHER@G/train/WEE@F",
          "OTHER@G/train/WNK@F",
          "OTHER@G/train/WNK@F",
          "OTHER@G/train/WNK@F",
          "OTHER@G/train/WNK@F",
          "TK@G/train/SRC@F",
          "TK@G/test/SYK@F",
          "ATYPICAL@G/test",
          "TK@G/val",
          "TK@G/train",
          "AGC@G/train",
          "TK@G/val",
          "ATYPICAL@G/test",
          "OTHER@G/train",
          "TK@G/train",
          "ATYPICAL@G/train",
          "ATYPICAL@G/test",
          "ATYPICAL@G/val",
          "ATYPICAL@G/train",
          "OTHER@G/train",
          "OTHER@G/val",
          "CAMK@G/train",
          "CAMK@G/test",
          "OTHER@G/val",
          "CAMK@G/train",
          "CAMK@G/test",
          "OTHER@G/val",
          "CMGC@G/train",
          "CMGC@G/test",
          "CK1@G/train",
          "CMGC@G/test",
          "CMGC@G/val",
          "ATYPICAL@G/val",
          "TK@G/test",
          "<UNKNOWN>@G/train",
          "CAMK@G/train",
          "<UNKNOWN>@G/val",
          "TK@G/val",
          "AGC@G/train",
          "CMGC@G/test",
          "TK@G/test",
          "<UNKNOWN>@G/test",
          "TK@G/train",
          "TK@G/test",
          "<UNKNOWN>@G/train",
          "TK@G/train",
          "TK@G/val",
          "ATYPICAL@G/train",
          "AGC@G/val",
          "CMGC@G/val",
          "ATYPICAL@G/train",
          "OTHER@G/train",
          "<UNKNOWN>@G/test",
          "OTHER@G/train",
          "TK@G/train",
          "TKL@G/train",
          "OTHER@G/test",
          "TK@G/val",
          "<UNKNOWN>@G/train",
          "OTHER@G/train",
          "TKL@G/test",
          "TK@G/train",
          "TKL@G/train",
          "CMGC@G/train",
          "CAMK@G/val",
          "AGC@G/test",
          "TK@G/train",
          "CAMK@G/test",
          "TKL@G/test",
          "OTHER@G/val",
          "OTHER@G/train",
          "<UNKNOWN>@G/train",
          "AGC@G/val",
          "OTHER@G/test",
          "OTHER@G/test",
          "<UNKNOWN>@G/train",
          "TK@G/test",
          "ATYPICAL@G/test",
          "AGC@G/train",
          "OTHER@G/train",
          "<UNKNOWN>@G/train",
          "<UNKNOWN>@G/train",
          "<UNKNOWN>@G/train",
          "<UNKNOWN>@G/test",
          "<UNKNOWN>@G/test",
          "<UNKNOWN>@G/val",
          "ATYPICAL@G/train",
          "CAMK@G/train",
          "AGC@G/train",
          "AGC@G/train",
          "CAMK@G/train",
          "AGC@G/val",
          "<UNKNOWN>@G/val",
          "AGC@G/test",
          "OTHER@G/train",
          "<UNKNOWN>@G/train",
          "<UNKNOWN>@G/test",
          "CAMK@G/val",
          "TKL@G/train",
          "CMGC@G/train",
          "TK@G/val",
          "ATYPICAL@G/train",
          "TKL@G/val",
          "AGC@G/train",
          "CAMK@G/train",
          "AGC@G/test",
          "TK@G/train",
          "CMGC@G/train",
          "STE@G/train",
          "STE@G/val",
          "STE@G/train",
          "STE@G/test",
          "CAMK@G/val",
          "TKL@G/val",
          "TK@G/test",
          "ATYPICAL@G/val",
          "TK@G/train",
          "<UNKNOWN>@G/val",
          "TK@G/train",
          "TK@G/train",
          "OTHER@G/test",
          "OTHER@G/val",
          "TK@G/test",
          "CAMK@G/test",
          "CK1@G/test",
          "OTHER@G/val",
          "OTHER@G/test",
          "TK@G/train",
          "CK1@G/val",
          "OTHER@G/train",
          "OTHER@G/train",
          "<UNKNOWN>@G",
          "AGC@G",
          "ATYPICAL@G",
          "CAMK@G",
          "CK1@G",
          "CMGC@G",
          "OTHER@G",
          "STE@G",
          "TK@G",
          "TKL@G",
          "<UNKNOWN>@G",
          "AGC@G",
          "ATYPICAL@G",
          "CAMK@G",
          "CK1@G",
          "CMGC@G",
          "OTHER@G",
          "STE@G",
          "TK@G",
          "TKL@G",
          "<UNKNOWN>@G",
          "AGC@G",
          "ATYPICAL@G",
          "CAMK@G",
          "CK1@G",
          "CMGC@G",
          "OTHER@G",
          "STE@G",
          "TK@G",
          "TKL@G",
          "",
          "",
          "",
          "",
          "",
          "",
          "",
          "",
          "",
          ""
         ],
         "type": "sunburst",
         "values": [
          2,
          215,
          19,
          2,
          4,
          1,
          346,
          67,
          16,
          11,
          1,
          6,
          289,
          117,
          131,
          215,
          9,
          15,
          1,
          3,
          6,
          3,
          1,
          6,
          19,
          17,
          1,
          9,
          4,
          20,
          27,
          17,
          1,
          145,
          9,
          18,
          6,
          11,
          7,
          6,
          5,
          5,
          3,
          49,
          649,
          2,
          4,
          2,
          4,
          3,
          10,
          1,
          4,
          3,
          6,
          416,
          2,
          16,
          78,
          153,
          48,
          52,
          15,
          50,
          1,
          6,
          1,
          195,
          72,
          47,
          3,
          3,
          13,
          11,
          1,
          1,
          4,
          7,
          141,
          1,
          81,
          49,
          7,
          6,
          1,
          566,
          20,
          13,
          23,
          2,
          21,
          1,
          2,
          1,
          39,
          13,
          46,
          3,
          1,
          11,
          97,
          2,
          21,
          2,
          3,
          1,
          1,
          11,
          3,
          1,
          4,
          1,
          17,
          3,
          1,
          10,
          14,
          4,
          28,
          4,
          10,
          2,
          11,
          5,
          10,
          2,
          144,
          3,
          4,
          71,
          16,
          12,
          17,
          10,
          1,
          65,
          351,
          4,
          1,
          27,
          3,
          60,
          1,
          1,
          1,
          25,
          78,
          41,
          7,
          45,
          14,
          33,
          12,
          11,
          39,
          23,
          1,
          7,
          14,
          1,
          23,
          23,
          95,
          2,
          2,
          3,
          13,
          84,
          1,
          95,
          2,
          17,
          3,
          6,
          16,
          2,
          10,
          9,
          6,
          7,
          12,
          2,
          1,
          15,
          3,
          5,
          1,
          8,
          1,
          27,
          5,
          38,
          25,
          6,
          3,
          4,
          10,
          1,
          435,
          14,
          34,
          24,
          17,
          215,
          12,
          381,
          1,
          3,
          25,
          157,
          64,
          76,
          3,
          12,
          13,
          25,
          10,
          1,
          1,
          2,
          3,
          26,
          9,
          27,
          4,
          11,
          6,
          2,
          5,
          122,
          5,
          1,
          2,
          5,
          11,
          4,
          36,
          2,
          1,
          24,
          7,
          6,
          24,
          4,
          3,
          19,
          11,
          10,
          1,
          16,
          77,
          36,
          20,
          10,
          9,
          5,
          9,
          2,
          6,
          32,
          6,
          5,
          4,
          5,
          33,
          1,
          2,
          1,
          2,
          5,
          1,
          1,
          5,
          1,
          1,
          65,
          12,
          5,
          14,
          12,
          2,
          12,
          3,
          2,
          300,
          14,
          30,
          23,
          4,
          158,
          39,
          8,
          602,
          5,
          9,
          464,
          112,
          135,
          66,
          35,
          15,
          46,
          35,
          91,
          77,
          20,
          6,
          134,
          57,
          13,
          2,
          1,
          27,
          16,
          16,
          13,
          31,
          1,
          6,
          6,
          7,
          67,
          19,
          73,
          4,
          54,
          5,
          21,
          2,
          53,
          9,
          53,
          4,
          8,
          1,
          9,
          5,
          6,
          538,
          3,
          19,
          4,
          4,
          41,
          4,
          1,
          1,
          5,
          3,
          11,
          31,
          1,
          10,
          4,
          13,
          36,
          2,
          60,
          4,
          3,
          4,
          77,
          9,
          2,
          1,
          10,
          16,
          2,
          6,
          2,
          4,
          8,
          1,
          5,
          55,
          1,
          7,
          8,
          65,
          2,
          10,
          2,
          7,
          70,
          9,
          5,
          16,
          10,
          1,
          4,
          9,
          3,
          4,
          5,
          20,
          31,
          1,
          234,
          8,
          429,
          12,
          72,
          355,
          26,
          1,
          3,
          3,
          1,
          27,
          1,
          33,
          178,
          13,
          548,
          5,
          49,
          1518,
          7,
          286,
          586,
          26,
          1,
          10,
          13,
          47,
          1,
          2,
          98,
          167,
          117,
          1,
          21,
          43,
          10,
          18,
          44,
          1,
          131,
          416,
          4,
          1,
          1,
          243,
          70,
          47,
          1,
          83,
          1,
          7,
          5,
          3,
          97,
          1406,
          108,
          3,
          32,
          8,
          73,
          2,
          10,
          7,
          60,
          91,
          14,
          2,
          66,
          20,
          33,
          25,
          1,
          2,
          1,
          14,
          1,
          1,
          668,
          82,
          609,
          999,
          103,
          70,
          12,
          17,
          367,
          8,
          9,
          72,
          37,
          5,
          31,
          1,
          19,
          62,
          159,
          65,
          957,
          23,
          43,
          50,
          320,
          63,
          1,
          38,
          91,
          4,
          62,
          2,
          2,
          2,
          8,
          9,
          30,
          1,
          15,
          65,
          84,
          12,
          27,
          6,
          21,
          26,
          85,
          96,
          192,
          15,
          760,
          198,
          63,
          357,
          78,
          45,
          2230,
          676,
          972,
          286,
          2952,
          1062,
          363,
          1213,
          181,
          16,
          261,
          8,
          181,
          27,
          442,
          139,
          50,
          406,
          57,
          87,
          2576,
          780,
          1345,
          328,
          4154,
          1399,
          476,
          1976,
          316
         ]
        }
       ],
       "layout": {
        "legend": {
         "tracegroupgap": 0
        },
        "margin": {
         "t": 60
        },
        "template": {
         "data": {
          "bar": [
           {
            "error_x": {
             "color": "#2a3f5f"
            },
            "error_y": {
             "color": "#2a3f5f"
            },
            "marker": {
             "line": {
              "color": "#E5ECF6",
              "width": 0.5
             },
             "pattern": {
              "fillmode": "overlay",
              "size": 10,
              "solidity": 0.2
             }
            },
            "type": "bar"
           }
          ],
          "barpolar": [
           {
            "marker": {
             "line": {
              "color": "#E5ECF6",
              "width": 0.5
             },
             "pattern": {
              "fillmode": "overlay",
              "size": 10,
              "solidity": 0.2
             }
            },
            "type": "barpolar"
           }
          ],
          "carpet": [
           {
            "aaxis": {
             "endlinecolor": "#2a3f5f",
             "gridcolor": "white",
             "linecolor": "white",
             "minorgridcolor": "white",
             "startlinecolor": "#2a3f5f"
            },
            "baxis": {
             "endlinecolor": "#2a3f5f",
             "gridcolor": "white",
             "linecolor": "white",
             "minorgridcolor": "white",
             "startlinecolor": "#2a3f5f"
            },
            "type": "carpet"
           }
          ],
          "choropleth": [
           {
            "colorbar": {
             "outlinewidth": 0,
             "ticks": ""
            },
            "type": "choropleth"
           }
          ],
          "contour": [
           {
            "colorbar": {
             "outlinewidth": 0,
             "ticks": ""
            },
            "colorscale": [
             [
              0,
              "#0d0887"
             ],
             [
              0.1111111111111111,
              "#46039f"
             ],
             [
              0.2222222222222222,
              "#7201a8"
             ],
             [
              0.3333333333333333,
              "#9c179e"
             ],
             [
              0.4444444444444444,
              "#bd3786"
             ],
             [
              0.5555555555555556,
              "#d8576b"
             ],
             [
              0.6666666666666666,
              "#ed7953"
             ],
             [
              0.7777777777777778,
              "#fb9f3a"
             ],
             [
              0.8888888888888888,
              "#fdca26"
             ],
             [
              1,
              "#f0f921"
             ]
            ],
            "type": "contour"
           }
          ],
          "contourcarpet": [
           {
            "colorbar": {
             "outlinewidth": 0,
             "ticks": ""
            },
            "type": "contourcarpet"
           }
          ],
          "heatmap": [
           {
            "colorbar": {
             "outlinewidth": 0,
             "ticks": ""
            },
            "colorscale": [
             [
              0,
              "#0d0887"
             ],
             [
              0.1111111111111111,
              "#46039f"
             ],
             [
              0.2222222222222222,
              "#7201a8"
             ],
             [
              0.3333333333333333,
              "#9c179e"
             ],
             [
              0.4444444444444444,
              "#bd3786"
             ],
             [
              0.5555555555555556,
              "#d8576b"
             ],
             [
              0.6666666666666666,
              "#ed7953"
             ],
             [
              0.7777777777777778,
              "#fb9f3a"
             ],
             [
              0.8888888888888888,
              "#fdca26"
             ],
             [
              1,
              "#f0f921"
             ]
            ],
            "type": "heatmap"
           }
          ],
          "heatmapgl": [
           {
            "colorbar": {
             "outlinewidth": 0,
             "ticks": ""
            },
            "colorscale": [
             [
              0,
              "#0d0887"
             ],
             [
              0.1111111111111111,
              "#46039f"
             ],
             [
              0.2222222222222222,
              "#7201a8"
             ],
             [
              0.3333333333333333,
              "#9c179e"
             ],
             [
              0.4444444444444444,
              "#bd3786"
             ],
             [
              0.5555555555555556,
              "#d8576b"
             ],
             [
              0.6666666666666666,
              "#ed7953"
             ],
             [
              0.7777777777777778,
              "#fb9f3a"
             ],
             [
              0.8888888888888888,
              "#fdca26"
             ],
             [
              1,
              "#f0f921"
             ]
            ],
            "type": "heatmapgl"
           }
          ],
          "histogram": [
           {
            "marker": {
             "pattern": {
              "fillmode": "overlay",
              "size": 10,
              "solidity": 0.2
             }
            },
            "type": "histogram"
           }
          ],
          "histogram2d": [
           {
            "colorbar": {
             "outlinewidth": 0,
             "ticks": ""
            },
            "colorscale": [
             [
              0,
              "#0d0887"
             ],
             [
              0.1111111111111111,
              "#46039f"
             ],
             [
              0.2222222222222222,
              "#7201a8"
             ],
             [
              0.3333333333333333,
              "#9c179e"
             ],
             [
              0.4444444444444444,
              "#bd3786"
             ],
             [
              0.5555555555555556,
              "#d8576b"
             ],
             [
              0.6666666666666666,
              "#ed7953"
             ],
             [
              0.7777777777777778,
              "#fb9f3a"
             ],
             [
              0.8888888888888888,
              "#fdca26"
             ],
             [
              1,
              "#f0f921"
             ]
            ],
            "type": "histogram2d"
           }
          ],
          "histogram2dcontour": [
           {
            "colorbar": {
             "outlinewidth": 0,
             "ticks": ""
            },
            "colorscale": [
             [
              0,
              "#0d0887"
             ],
             [
              0.1111111111111111,
              "#46039f"
             ],
             [
              0.2222222222222222,
              "#7201a8"
             ],
             [
              0.3333333333333333,
              "#9c179e"
             ],
             [
              0.4444444444444444,
              "#bd3786"
             ],
             [
              0.5555555555555556,
              "#d8576b"
             ],
             [
              0.6666666666666666,
              "#ed7953"
             ],
             [
              0.7777777777777778,
              "#fb9f3a"
             ],
             [
              0.8888888888888888,
              "#fdca26"
             ],
             [
              1,
              "#f0f921"
             ]
            ],
            "type": "histogram2dcontour"
           }
          ],
          "mesh3d": [
           {
            "colorbar": {
             "outlinewidth": 0,
             "ticks": ""
            },
            "type": "mesh3d"
           }
          ],
          "parcoords": [
           {
            "line": {
             "colorbar": {
              "outlinewidth": 0,
              "ticks": ""
             }
            },
            "type": "parcoords"
           }
          ],
          "pie": [
           {
            "automargin": true,
            "type": "pie"
           }
          ],
          "scatter": [
           {
            "fillpattern": {
             "fillmode": "overlay",
             "size": 10,
             "solidity": 0.2
            },
            "type": "scatter"
           }
          ],
          "scatter3d": [
           {
            "line": {
             "colorbar": {
              "outlinewidth": 0,
              "ticks": ""
             }
            },
            "marker": {
             "colorbar": {
              "outlinewidth": 0,
              "ticks": ""
             }
            },
            "type": "scatter3d"
           }
          ],
          "scattercarpet": [
           {
            "marker": {
             "colorbar": {
              "outlinewidth": 0,
              "ticks": ""
             }
            },
            "type": "scattercarpet"
           }
          ],
          "scattergeo": [
           {
            "marker": {
             "colorbar": {
              "outlinewidth": 0,
              "ticks": ""
             }
            },
            "type": "scattergeo"
           }
          ],
          "scattergl": [
           {
            "marker": {
             "colorbar": {
              "outlinewidth": 0,
              "ticks": ""
             }
            },
            "type": "scattergl"
           }
          ],
          "scattermapbox": [
           {
            "marker": {
             "colorbar": {
              "outlinewidth": 0,
              "ticks": ""
             }
            },
            "type": "scattermapbox"
           }
          ],
          "scatterpolar": [
           {
            "marker": {
             "colorbar": {
              "outlinewidth": 0,
              "ticks": ""
             }
            },
            "type": "scatterpolar"
           }
          ],
          "scatterpolargl": [
           {
            "marker": {
             "colorbar": {
              "outlinewidth": 0,
              "ticks": ""
             }
            },
            "type": "scatterpolargl"
           }
          ],
          "scatterternary": [
           {
            "marker": {
             "colorbar": {
              "outlinewidth": 0,
              "ticks": ""
             }
            },
            "type": "scatterternary"
           }
          ],
          "surface": [
           {
            "colorbar": {
             "outlinewidth": 0,
             "ticks": ""
            },
            "colorscale": [
             [
              0,
              "#0d0887"
             ],
             [
              0.1111111111111111,
              "#46039f"
             ],
             [
              0.2222222222222222,
              "#7201a8"
             ],
             [
              0.3333333333333333,
              "#9c179e"
             ],
             [
              0.4444444444444444,
              "#bd3786"
             ],
             [
              0.5555555555555556,
              "#d8576b"
             ],
             [
              0.6666666666666666,
              "#ed7953"
             ],
             [
              0.7777777777777778,
              "#fb9f3a"
             ],
             [
              0.8888888888888888,
              "#fdca26"
             ],
             [
              1,
              "#f0f921"
             ]
            ],
            "type": "surface"
           }
          ],
          "table": [
           {
            "cells": {
             "fill": {
              "color": "#EBF0F8"
             },
             "line": {
              "color": "white"
             }
            },
            "header": {
             "fill": {
              "color": "#C8D4E3"
             },
             "line": {
              "color": "white"
             }
            },
            "type": "table"
           }
          ]
         },
         "layout": {
          "annotationdefaults": {
           "arrowcolor": "#2a3f5f",
           "arrowhead": 0,
           "arrowwidth": 1
          },
          "autotypenumbers": "strict",
          "coloraxis": {
           "colorbar": {
            "outlinewidth": 0,
            "ticks": ""
           }
          },
          "colorscale": {
           "diverging": [
            [
             0,
             "#8e0152"
            ],
            [
             0.1,
             "#c51b7d"
            ],
            [
             0.2,
             "#de77ae"
            ],
            [
             0.3,
             "#f1b6da"
            ],
            [
             0.4,
             "#fde0ef"
            ],
            [
             0.5,
             "#f7f7f7"
            ],
            [
             0.6,
             "#e6f5d0"
            ],
            [
             0.7,
             "#b8e186"
            ],
            [
             0.8,
             "#7fbc41"
            ],
            [
             0.9,
             "#4d9221"
            ],
            [
             1,
             "#276419"
            ]
           ],
           "sequential": [
            [
             0,
             "#0d0887"
            ],
            [
             0.1111111111111111,
             "#46039f"
            ],
            [
             0.2222222222222222,
             "#7201a8"
            ],
            [
             0.3333333333333333,
             "#9c179e"
            ],
            [
             0.4444444444444444,
             "#bd3786"
            ],
            [
             0.5555555555555556,
             "#d8576b"
            ],
            [
             0.6666666666666666,
             "#ed7953"
            ],
            [
             0.7777777777777778,
             "#fb9f3a"
            ],
            [
             0.8888888888888888,
             "#fdca26"
            ],
            [
             1,
             "#f0f921"
            ]
           ],
           "sequentialminus": [
            [
             0,
             "#0d0887"
            ],
            [
             0.1111111111111111,
             "#46039f"
            ],
            [
             0.2222222222222222,
             "#7201a8"
            ],
            [
             0.3333333333333333,
             "#9c179e"
            ],
            [
             0.4444444444444444,
             "#bd3786"
            ],
            [
             0.5555555555555556,
             "#d8576b"
            ],
            [
             0.6666666666666666,
             "#ed7953"
            ],
            [
             0.7777777777777778,
             "#fb9f3a"
            ],
            [
             0.8888888888888888,
             "#fdca26"
            ],
            [
             1,
             "#f0f921"
            ]
           ]
          },
          "colorway": [
           "#636efa",
           "#EF553B",
           "#00cc96",
           "#ab63fa",
           "#FFA15A",
           "#19d3f3",
           "#FF6692",
           "#B6E880",
           "#FF97FF",
           "#FECB52"
          ],
          "font": {
           "color": "#2a3f5f"
          },
          "geo": {
           "bgcolor": "white",
           "lakecolor": "white",
           "landcolor": "#E5ECF6",
           "showlakes": true,
           "showland": true,
           "subunitcolor": "white"
          },
          "hoverlabel": {
           "align": "left"
          },
          "hovermode": "closest",
          "mapbox": {
           "style": "light"
          },
          "paper_bgcolor": "white",
          "plot_bgcolor": "#E5ECF6",
          "polar": {
           "angularaxis": {
            "gridcolor": "white",
            "linecolor": "white",
            "ticks": ""
           },
           "bgcolor": "#E5ECF6",
           "radialaxis": {
            "gridcolor": "white",
            "linecolor": "white",
            "ticks": ""
           }
          },
          "scene": {
           "xaxis": {
            "backgroundcolor": "#E5ECF6",
            "gridcolor": "white",
            "gridwidth": 2,
            "linecolor": "white",
            "showbackground": true,
            "ticks": "",
            "zerolinecolor": "white"
           },
           "yaxis": {
            "backgroundcolor": "#E5ECF6",
            "gridcolor": "white",
            "gridwidth": 2,
            "linecolor": "white",
            "showbackground": true,
            "ticks": "",
            "zerolinecolor": "white"
           },
           "zaxis": {
            "backgroundcolor": "#E5ECF6",
            "gridcolor": "white",
            "gridwidth": 2,
            "linecolor": "white",
            "showbackground": true,
            "ticks": "",
            "zerolinecolor": "white"
           }
          },
          "shapedefaults": {
           "line": {
            "color": "#2a3f5f"
           }
          },
          "ternary": {
           "aaxis": {
            "gridcolor": "white",
            "linecolor": "white",
            "ticks": ""
           },
           "baxis": {
            "gridcolor": "white",
            "linecolor": "white",
            "ticks": ""
           },
           "bgcolor": "#E5ECF6",
           "caxis": {
            "gridcolor": "white",
            "linecolor": "white",
            "ticks": ""
           }
          },
          "title": {
           "x": 0.05
          },
          "xaxis": {
           "automargin": true,
           "gridcolor": "white",
           "linecolor": "white",
           "ticks": "",
           "title": {
            "standoff": 15
           },
           "zerolinecolor": "white",
           "zerolinewidth": 2
          },
          "yaxis": {
           "automargin": true,
           "gridcolor": "white",
           "linecolor": "white",
           "ticks": "",
           "title": {
            "standoff": 15
           },
           "zerolinecolor": "white",
           "zerolinewidth": 2
          }
         }
        }
       }
      }
     },
     "metadata": {},
     "output_type": "display_data"
    }
   ],
   "source": [
    "fig = px.sunburst(new_df[new_df['num_sites'] >= 0], path=['Group', 'MLSet', 'Family', 'Kinase'], values='num_sites')\n",
    "fig.show()"
   ]
  },
  {
   "cell_type": "code",
   "execution_count": 9,
   "metadata": {},
   "outputs": [
    {
     "data": {
      "application/vnd.plotly.v1+json": {
       "config": {
        "plotlyServerURL": "https://plot.ly"
       },
       "data": [
        {
         "branchvalues": "total",
         "domain": {
          "x": [
           0,
           1
          ],
          "y": [
           0,
           1
          ]
         },
         "hovertemplate": "labels=%{label}<br>value=%{value}<br>parent=%{parent}<br>id=%{id}<extra></extra>",
         "ids": [
          "Kinase Group/ML Set/Kinase Family/Kinase",
          "Kinase Group/ML Set/Kinase Family",
          "Kinase Group/ML Set",
          "Kinase Group"
         ],
         "labels": [
          "Kinase",
          "Kinase Family",
          "ML Set",
          "Kinase Group"
         ],
         "name": "",
         "parents": [
          "Kinase Group/ML Set/Kinase Family",
          "Kinase Group/ML Set",
          "Kinase Group",
          ""
         ],
         "type": "sunburst",
         "values": [
          1,
          1,
          1,
          1
         ]
        }
       ],
       "layout": {
        "legend": {
         "tracegroupgap": 0
        },
        "margin": {
         "t": 60
        },
        "template": {
         "data": {
          "bar": [
           {
            "error_x": {
             "color": "#2a3f5f"
            },
            "error_y": {
             "color": "#2a3f5f"
            },
            "marker": {
             "line": {
              "color": "#E5ECF6",
              "width": 0.5
             },
             "pattern": {
              "fillmode": "overlay",
              "size": 10,
              "solidity": 0.2
             }
            },
            "type": "bar"
           }
          ],
          "barpolar": [
           {
            "marker": {
             "line": {
              "color": "#E5ECF6",
              "width": 0.5
             },
             "pattern": {
              "fillmode": "overlay",
              "size": 10,
              "solidity": 0.2
             }
            },
            "type": "barpolar"
           }
          ],
          "carpet": [
           {
            "aaxis": {
             "endlinecolor": "#2a3f5f",
             "gridcolor": "white",
             "linecolor": "white",
             "minorgridcolor": "white",
             "startlinecolor": "#2a3f5f"
            },
            "baxis": {
             "endlinecolor": "#2a3f5f",
             "gridcolor": "white",
             "linecolor": "white",
             "minorgridcolor": "white",
             "startlinecolor": "#2a3f5f"
            },
            "type": "carpet"
           }
          ],
          "choropleth": [
           {
            "colorbar": {
             "outlinewidth": 0,
             "ticks": ""
            },
            "type": "choropleth"
           }
          ],
          "contour": [
           {
            "colorbar": {
             "outlinewidth": 0,
             "ticks": ""
            },
            "colorscale": [
             [
              0,
              "#0d0887"
             ],
             [
              0.1111111111111111,
              "#46039f"
             ],
             [
              0.2222222222222222,
              "#7201a8"
             ],
             [
              0.3333333333333333,
              "#9c179e"
             ],
             [
              0.4444444444444444,
              "#bd3786"
             ],
             [
              0.5555555555555556,
              "#d8576b"
             ],
             [
              0.6666666666666666,
              "#ed7953"
             ],
             [
              0.7777777777777778,
              "#fb9f3a"
             ],
             [
              0.8888888888888888,
              "#fdca26"
             ],
             [
              1,
              "#f0f921"
             ]
            ],
            "type": "contour"
           }
          ],
          "contourcarpet": [
           {
            "colorbar": {
             "outlinewidth": 0,
             "ticks": ""
            },
            "type": "contourcarpet"
           }
          ],
          "heatmap": [
           {
            "colorbar": {
             "outlinewidth": 0,
             "ticks": ""
            },
            "colorscale": [
             [
              0,
              "#0d0887"
             ],
             [
              0.1111111111111111,
              "#46039f"
             ],
             [
              0.2222222222222222,
              "#7201a8"
             ],
             [
              0.3333333333333333,
              "#9c179e"
             ],
             [
              0.4444444444444444,
              "#bd3786"
             ],
             [
              0.5555555555555556,
              "#d8576b"
             ],
             [
              0.6666666666666666,
              "#ed7953"
             ],
             [
              0.7777777777777778,
              "#fb9f3a"
             ],
             [
              0.8888888888888888,
              "#fdca26"
             ],
             [
              1,
              "#f0f921"
             ]
            ],
            "type": "heatmap"
           }
          ],
          "heatmapgl": [
           {
            "colorbar": {
             "outlinewidth": 0,
             "ticks": ""
            },
            "colorscale": [
             [
              0,
              "#0d0887"
             ],
             [
              0.1111111111111111,
              "#46039f"
             ],
             [
              0.2222222222222222,
              "#7201a8"
             ],
             [
              0.3333333333333333,
              "#9c179e"
             ],
             [
              0.4444444444444444,
              "#bd3786"
             ],
             [
              0.5555555555555556,
              "#d8576b"
             ],
             [
              0.6666666666666666,
              "#ed7953"
             ],
             [
              0.7777777777777778,
              "#fb9f3a"
             ],
             [
              0.8888888888888888,
              "#fdca26"
             ],
             [
              1,
              "#f0f921"
             ]
            ],
            "type": "heatmapgl"
           }
          ],
          "histogram": [
           {
            "marker": {
             "pattern": {
              "fillmode": "overlay",
              "size": 10,
              "solidity": 0.2
             }
            },
            "type": "histogram"
           }
          ],
          "histogram2d": [
           {
            "colorbar": {
             "outlinewidth": 0,
             "ticks": ""
            },
            "colorscale": [
             [
              0,
              "#0d0887"
             ],
             [
              0.1111111111111111,
              "#46039f"
             ],
             [
              0.2222222222222222,
              "#7201a8"
             ],
             [
              0.3333333333333333,
              "#9c179e"
             ],
             [
              0.4444444444444444,
              "#bd3786"
             ],
             [
              0.5555555555555556,
              "#d8576b"
             ],
             [
              0.6666666666666666,
              "#ed7953"
             ],
             [
              0.7777777777777778,
              "#fb9f3a"
             ],
             [
              0.8888888888888888,
              "#fdca26"
             ],
             [
              1,
              "#f0f921"
             ]
            ],
            "type": "histogram2d"
           }
          ],
          "histogram2dcontour": [
           {
            "colorbar": {
             "outlinewidth": 0,
             "ticks": ""
            },
            "colorscale": [
             [
              0,
              "#0d0887"
             ],
             [
              0.1111111111111111,
              "#46039f"
             ],
             [
              0.2222222222222222,
              "#7201a8"
             ],
             [
              0.3333333333333333,
              "#9c179e"
             ],
             [
              0.4444444444444444,
              "#bd3786"
             ],
             [
              0.5555555555555556,
              "#d8576b"
             ],
             [
              0.6666666666666666,
              "#ed7953"
             ],
             [
              0.7777777777777778,
              "#fb9f3a"
             ],
             [
              0.8888888888888888,
              "#fdca26"
             ],
             [
              1,
              "#f0f921"
             ]
            ],
            "type": "histogram2dcontour"
           }
          ],
          "mesh3d": [
           {
            "colorbar": {
             "outlinewidth": 0,
             "ticks": ""
            },
            "type": "mesh3d"
           }
          ],
          "parcoords": [
           {
            "line": {
             "colorbar": {
              "outlinewidth": 0,
              "ticks": ""
             }
            },
            "type": "parcoords"
           }
          ],
          "pie": [
           {
            "automargin": true,
            "type": "pie"
           }
          ],
          "scatter": [
           {
            "fillpattern": {
             "fillmode": "overlay",
             "size": 10,
             "solidity": 0.2
            },
            "type": "scatter"
           }
          ],
          "scatter3d": [
           {
            "line": {
             "colorbar": {
              "outlinewidth": 0,
              "ticks": ""
             }
            },
            "marker": {
             "colorbar": {
              "outlinewidth": 0,
              "ticks": ""
             }
            },
            "type": "scatter3d"
           }
          ],
          "scattercarpet": [
           {
            "marker": {
             "colorbar": {
              "outlinewidth": 0,
              "ticks": ""
             }
            },
            "type": "scattercarpet"
           }
          ],
          "scattergeo": [
           {
            "marker": {
             "colorbar": {
              "outlinewidth": 0,
              "ticks": ""
             }
            },
            "type": "scattergeo"
           }
          ],
          "scattergl": [
           {
            "marker": {
             "colorbar": {
              "outlinewidth": 0,
              "ticks": ""
             }
            },
            "type": "scattergl"
           }
          ],
          "scattermapbox": [
           {
            "marker": {
             "colorbar": {
              "outlinewidth": 0,
              "ticks": ""
             }
            },
            "type": "scattermapbox"
           }
          ],
          "scatterpolar": [
           {
            "marker": {
             "colorbar": {
              "outlinewidth": 0,
              "ticks": ""
             }
            },
            "type": "scatterpolar"
           }
          ],
          "scatterpolargl": [
           {
            "marker": {
             "colorbar": {
              "outlinewidth": 0,
              "ticks": ""
             }
            },
            "type": "scatterpolargl"
           }
          ],
          "scatterternary": [
           {
            "marker": {
             "colorbar": {
              "outlinewidth": 0,
              "ticks": ""
             }
            },
            "type": "scatterternary"
           }
          ],
          "surface": [
           {
            "colorbar": {
             "outlinewidth": 0,
             "ticks": ""
            },
            "colorscale": [
             [
              0,
              "#0d0887"
             ],
             [
              0.1111111111111111,
              "#46039f"
             ],
             [
              0.2222222222222222,
              "#7201a8"
             ],
             [
              0.3333333333333333,
              "#9c179e"
             ],
             [
              0.4444444444444444,
              "#bd3786"
             ],
             [
              0.5555555555555556,
              "#d8576b"
             ],
             [
              0.6666666666666666,
              "#ed7953"
             ],
             [
              0.7777777777777778,
              "#fb9f3a"
             ],
             [
              0.8888888888888888,
              "#fdca26"
             ],
             [
              1,
              "#f0f921"
             ]
            ],
            "type": "surface"
           }
          ],
          "table": [
           {
            "cells": {
             "fill": {
              "color": "#EBF0F8"
             },
             "line": {
              "color": "white"
             }
            },
            "header": {
             "fill": {
              "color": "#C8D4E3"
             },
             "line": {
              "color": "white"
             }
            },
            "type": "table"
           }
          ]
         },
         "layout": {
          "annotationdefaults": {
           "arrowcolor": "#2a3f5f",
           "arrowhead": 0,
           "arrowwidth": 1
          },
          "autotypenumbers": "strict",
          "coloraxis": {
           "colorbar": {
            "outlinewidth": 0,
            "ticks": ""
           }
          },
          "colorscale": {
           "diverging": [
            [
             0,
             "#8e0152"
            ],
            [
             0.1,
             "#c51b7d"
            ],
            [
             0.2,
             "#de77ae"
            ],
            [
             0.3,
             "#f1b6da"
            ],
            [
             0.4,
             "#fde0ef"
            ],
            [
             0.5,
             "#f7f7f7"
            ],
            [
             0.6,
             "#e6f5d0"
            ],
            [
             0.7,
             "#b8e186"
            ],
            [
             0.8,
             "#7fbc41"
            ],
            [
             0.9,
             "#4d9221"
            ],
            [
             1,
             "#276419"
            ]
           ],
           "sequential": [
            [
             0,
             "#0d0887"
            ],
            [
             0.1111111111111111,
             "#46039f"
            ],
            [
             0.2222222222222222,
             "#7201a8"
            ],
            [
             0.3333333333333333,
             "#9c179e"
            ],
            [
             0.4444444444444444,
             "#bd3786"
            ],
            [
             0.5555555555555556,
             "#d8576b"
            ],
            [
             0.6666666666666666,
             "#ed7953"
            ],
            [
             0.7777777777777778,
             "#fb9f3a"
            ],
            [
             0.8888888888888888,
             "#fdca26"
            ],
            [
             1,
             "#f0f921"
            ]
           ],
           "sequentialminus": [
            [
             0,
             "#0d0887"
            ],
            [
             0.1111111111111111,
             "#46039f"
            ],
            [
             0.2222222222222222,
             "#7201a8"
            ],
            [
             0.3333333333333333,
             "#9c179e"
            ],
            [
             0.4444444444444444,
             "#bd3786"
            ],
            [
             0.5555555555555556,
             "#d8576b"
            ],
            [
             0.6666666666666666,
             "#ed7953"
            ],
            [
             0.7777777777777778,
             "#fb9f3a"
            ],
            [
             0.8888888888888888,
             "#fdca26"
            ],
            [
             1,
             "#f0f921"
            ]
           ]
          },
          "colorway": [
           "#636efa",
           "#EF553B",
           "#00cc96",
           "#ab63fa",
           "#FFA15A",
           "#19d3f3",
           "#FF6692",
           "#B6E880",
           "#FF97FF",
           "#FECB52"
          ],
          "font": {
           "color": "#2a3f5f"
          },
          "geo": {
           "bgcolor": "white",
           "lakecolor": "white",
           "landcolor": "#E5ECF6",
           "showlakes": true,
           "showland": true,
           "subunitcolor": "white"
          },
          "hoverlabel": {
           "align": "left"
          },
          "hovermode": "closest",
          "mapbox": {
           "style": "light"
          },
          "paper_bgcolor": "white",
          "plot_bgcolor": "#E5ECF6",
          "polar": {
           "angularaxis": {
            "gridcolor": "white",
            "linecolor": "white",
            "ticks": ""
           },
           "bgcolor": "#E5ECF6",
           "radialaxis": {
            "gridcolor": "white",
            "linecolor": "white",
            "ticks": ""
           }
          },
          "scene": {
           "xaxis": {
            "backgroundcolor": "#E5ECF6",
            "gridcolor": "white",
            "gridwidth": 2,
            "linecolor": "white",
            "showbackground": true,
            "ticks": "",
            "zerolinecolor": "white"
           },
           "yaxis": {
            "backgroundcolor": "#E5ECF6",
            "gridcolor": "white",
            "gridwidth": 2,
            "linecolor": "white",
            "showbackground": true,
            "ticks": "",
            "zerolinecolor": "white"
           },
           "zaxis": {
            "backgroundcolor": "#E5ECF6",
            "gridcolor": "white",
            "gridwidth": 2,
            "linecolor": "white",
            "showbackground": true,
            "ticks": "",
            "zerolinecolor": "white"
           }
          },
          "shapedefaults": {
           "line": {
            "color": "#2a3f5f"
           }
          },
          "ternary": {
           "aaxis": {
            "gridcolor": "white",
            "linecolor": "white",
            "ticks": ""
           },
           "baxis": {
            "gridcolor": "white",
            "linecolor": "white",
            "ticks": ""
           },
           "bgcolor": "#E5ECF6",
           "caxis": {
            "gridcolor": "white",
            "linecolor": "white",
            "ticks": ""
           }
          },
          "title": {
           "x": 0.05
          },
          "xaxis": {
           "automargin": true,
           "gridcolor": "white",
           "linecolor": "white",
           "ticks": "",
           "title": {
            "standoff": 15
           },
           "zerolinecolor": "white",
           "zerolinewidth": 2
          },
          "yaxis": {
           "automargin": true,
           "gridcolor": "white",
           "linecolor": "white",
           "ticks": "",
           "title": {
            "standoff": 15
           },
           "zerolinecolor": "white",
           "zerolinewidth": 2
          }
         }
        }
       }
      }
     },
     "metadata": {},
     "output_type": "display_data"
    }
   ],
   "source": [
    "explainer = px.sunburst(pd.DataFrame({'Kinase Group': ['Kinase Group'], 'ML Set': ['ML Set'], 'Kinase Family': ['Kinase Family'], 'Kinase': ['Kinase']}), path=['Kinase Group', 'ML Set', 'Kinase Family', 'Kinase'], values=[1 for _ in range(1)])\n",
    "explainer.show()"
   ]
  },
  {
   "cell_type": "code",
   "execution_count": 10,
   "metadata": {},
   "outputs": [],
   "source": [
    "def get_sectors(df):\n",
    "    children = []\n",
    "    parents = []\n",
    "    for c, col in tuple(enumerate(df.columns))[1:]:\n",
    "        for r, row in df[col].iteritems():\n",
    "            children.append(row)\n",
    "            parents.append(df[df.columns[c - 1]].iloc[r])\n",
    "    df_len = len(df)\n",
    "    children += df[df.columns[0]].tolist()\n",
    "    parents += [\"\" for _ in range(df_len)]\n",
    "    return pd.DataFrame({'labels': children, 'parents': parents, 'val': [0 if \"@\" in children[i] else 1 for i in range(len(children))]}).drop_duplicates().reset_index(drop = True)"
   ]
  },
  {
   "cell_type": "code",
   "execution_count": 11,
   "metadata": {},
   "outputs": [],
   "source": [
    "sector_df = new_df.loc[:, new_df.columns != 'num_sites'].copy()[['Group', 'MLSet', 'Family', 'Kinase']]"
   ]
  },
  {
   "cell_type": "code",
   "execution_count": 12,
   "metadata": {},
   "outputs": [
    {
     "data": {
      "text/html": [
       "<div>\n",
       "<style scoped>\n",
       "    .dataframe tbody tr th:only-of-type {\n",
       "        vertical-align: middle;\n",
       "    }\n",
       "\n",
       "    .dataframe tbody tr th {\n",
       "        vertical-align: top;\n",
       "    }\n",
       "\n",
       "    .dataframe thead th {\n",
       "        text-align: right;\n",
       "    }\n",
       "</style>\n",
       "<table border=\"1\" class=\"dataframe\">\n",
       "  <thead>\n",
       "    <tr style=\"text-align: right;\">\n",
       "      <th></th>\n",
       "      <th>Group</th>\n",
       "      <th>MLSet</th>\n",
       "      <th>Family</th>\n",
       "      <th>Kinase</th>\n",
       "    </tr>\n",
       "  </thead>\n",
       "  <tbody>\n",
       "    <tr>\n",
       "      <th>317</th>\n",
       "      <td>&lt;UNKNOWN&gt;@G</td>\n",
       "      <td>test</td>\n",
       "      <td>ENPP3@F</td>\n",
       "      <td>ENPP3</td>\n",
       "    </tr>\n",
       "    <tr>\n",
       "      <th>325</th>\n",
       "      <td>&lt;UNKNOWN&gt;@G</td>\n",
       "      <td>test</td>\n",
       "      <td>HSPA5@F</td>\n",
       "      <td>HSPA5</td>\n",
       "    </tr>\n",
       "    <tr>\n",
       "      <th>366</th>\n",
       "      <td>&lt;UNKNOWN&gt;@G</td>\n",
       "      <td>test</td>\n",
       "      <td>PIK3C@F</td>\n",
       "      <td>PIK3C2A</td>\n",
       "    </tr>\n",
       "    <tr>\n",
       "      <th>367</th>\n",
       "      <td>&lt;UNKNOWN&gt;@G</td>\n",
       "      <td>test</td>\n",
       "      <td>PIK3C@F</td>\n",
       "      <td>PIK3CA</td>\n",
       "    </tr>\n",
       "    <tr>\n",
       "      <th>368</th>\n",
       "      <td>&lt;UNKNOWN&gt;@G</td>\n",
       "      <td>test</td>\n",
       "      <td>PIK3C@F</td>\n",
       "      <td>PIK3CB</td>\n",
       "    </tr>\n",
       "    <tr>\n",
       "      <th>...</th>\n",
       "      <td>...</td>\n",
       "      <td>...</td>\n",
       "      <td>...</td>\n",
       "      <td>...</td>\n",
       "    </tr>\n",
       "    <tr>\n",
       "      <th>227</th>\n",
       "      <td>TKL@G</td>\n",
       "      <td>val</td>\n",
       "      <td>STKR@F</td>\n",
       "      <td>ACVR1B</td>\n",
       "    </tr>\n",
       "    <tr>\n",
       "      <th>228</th>\n",
       "      <td>TKL@G</td>\n",
       "      <td>val</td>\n",
       "      <td>STKR@F</td>\n",
       "      <td>ACVRL1</td>\n",
       "    </tr>\n",
       "    <tr>\n",
       "      <th>231</th>\n",
       "      <td>TKL@G</td>\n",
       "      <td>val</td>\n",
       "      <td>STKR@F</td>\n",
       "      <td>BMPR1B</td>\n",
       "    </tr>\n",
       "    <tr>\n",
       "      <th>287</th>\n",
       "      <td>TKL@G</td>\n",
       "      <td>val</td>\n",
       "      <td>STKR@F</td>\n",
       "      <td>TGFBR1</td>\n",
       "    </tr>\n",
       "    <tr>\n",
       "      <th>288</th>\n",
       "      <td>TKL@G</td>\n",
       "      <td>val</td>\n",
       "      <td>STKR@F</td>\n",
       "      <td>TGFBR2</td>\n",
       "    </tr>\n",
       "  </tbody>\n",
       "</table>\n",
       "<p>396 rows × 4 columns</p>\n",
       "</div>"
      ],
      "text/plain": [
       "           Group MLSet   Family   Kinase\n",
       "317  <UNKNOWN>@G  test  ENPP3@F    ENPP3\n",
       "325  <UNKNOWN>@G  test  HSPA5@F    HSPA5\n",
       "366  <UNKNOWN>@G  test  PIK3C@F  PIK3C2A\n",
       "367  <UNKNOWN>@G  test  PIK3C@F   PIK3CA\n",
       "368  <UNKNOWN>@G  test  PIK3C@F   PIK3CB\n",
       "..           ...   ...      ...      ...\n",
       "227        TKL@G   val   STKR@F   ACVR1B\n",
       "228        TKL@G   val   STKR@F   ACVRL1\n",
       "231        TKL@G   val   STKR@F   BMPR1B\n",
       "287        TKL@G   val   STKR@F   TGFBR1\n",
       "288        TKL@G   val   STKR@F   TGFBR2\n",
       "\n",
       "[396 rows x 4 columns]"
      ]
     },
     "execution_count": 12,
     "metadata": {},
     "output_type": "execute_result"
    }
   ],
   "source": [
    "sector_df.sort_values([\"Group\", \"MLSet\", \"Family\", \"Kinase\"])"
   ]
  },
  {
   "cell_type": "code",
   "execution_count": 13,
   "metadata": {},
   "outputs": [],
   "source": [
    "def make_unq(row):\n",
    "    row['MLSet'] += \"@@\" + row[\"Group\"]\n",
    "    return row\n",
    "\n",
    "sector_df = sector_df.apply(make_unq, axis = 1)"
   ]
  },
  {
   "cell_type": "code",
   "execution_count": 14,
   "metadata": {},
   "outputs": [],
   "source": [
    "import plotly.graph_objects as go\n",
    "\n",
    "sectors = get_sectors(sector_df)\n",
    "sectors['val'] = [0 if \"@\" in x[\"labels\"] else kin_to_num_sites[x['labels']] for _, x in sectors.iterrows()]"
   ]
  },
  {
   "cell_type": "code",
   "execution_count": 128,
   "metadata": {},
   "outputs": [
    {
     "data": {
      "application/vnd.plotly.v1+json": {
       "config": {
        "plotlyServerURL": "https://plot.ly"
       },
       "data": [
        {
         "ids": [
          "train@@OTHER@G",
          "train@@AGC@G",
          "train@@TKL@G",
          "train@@ATYPICAL@G",
          "train@@TK@G",
          "train@@CAMK@G",
          "train@@CMGC@G",
          "train@@CK1@G",
          "train@@<UNKNOWN>@G",
          "train@@STE@G",
          "val@@TK@G",
          "val@@TKL@G",
          "val@@ATYPICAL@G",
          "val@@OTHER@G",
          "val@@CAMK@G",
          "val@@CMGC@G",
          "val@@<UNKNOWN>@G",
          "val@@AGC@G",
          "val@@STE@G",
          "val@@CK1@G",
          "test@@ATYPICAL@G",
          "test@@CAMK@G",
          "test@@CMGC@G",
          "test@@TK@G",
          "test@@<UNKNOWN>@G",
          "test@@OTHER@G",
          "test@@TKL@G",
          "test@@STE@G",
          "test@@AGC@G",
          "test@@CK1@G",
          "NAK@F",
          "AKT@F",
          "RAF@F",
          "PIKK@F",
          "AUR@F",
          "AXL@F",
          "BAZ@F",
          "SRC@F",
          "TEC@F",
          "BRD@F",
          "CAMKL@F",
          "BUB@F",
          "CAMK1@F",
          "DMPK@F",
          "CDK@F",
          "IKK@F",
          "RCK@F",
          "CK1@F",
          "CSNK2B@F",
          "DAPK@F",
          "PEK@F",
          "STE-UNIQUE@F",
          "EPH@F",
          "FAM20C@F",
          "FER@F",
          "VEGFR@F",
          "GTF2F1@F",
          "HASPIN@F",
          "INSR@F",
          "IRAK@F",
          "JMJD6@F",
          "LMR@F",
          "LRRK@F",
          "STE20@F",
          "MAPK@F",
          "MET@F",
          "NDP@F",
          "PCK1@F",
          "PDK1@F",
          "PFKP@F",
          "PGK1@F",
          "PHKA1@F",
          "PIM@F",
          "WEE@F",
          "PLK@F",
          "PRKAB1@F",
          "PKA@F",
          "PKC@F",
          "PKD@F",
          "RIO@F",
          "RSKB@F",
          "RSK@F",
          "SRPK@F",
          "G11@F",
          "TK-UNIQUE@F",
          "TIE@F",
          "ACK@F",
          "KIS@F",
          "WNK@F",
          "ABL@F",
          "STKR@F",
          "ALK@F",
          "BLVRA@F",
          "CAMKK@F",
          "CDC7@F",
          "COL4A3BP@F",
          "RAD53@F",
          "CLK@F",
          "DCAF1@F",
          "DDR@F",
          "FGFR@F",
          "GRK@F",
          "GSK@F",
          "JAKB@F",
          "NDR@F",
          "STE11@F",
          "MAPKAPK@F",
          "MOS@F",
          "TOPK@F",
          "PIKFYVE@F",
          "PKM@F",
          "PKG@F",
          "RET@F",
          "RIPK@F",
          "STK33@F",
          "TAF1@F",
          "TGM2@F",
          "BUD32@F",
          "TTK@F",
          "VRK@F",
          "ABC1@F",
          "ALPHA@F",
          "BCR@F",
          "CAMK2@F",
          "CASK@F",
          "CDKL@F",
          "PDGFR@F",
          "CSK@F",
          "CK2@F",
          "DYRK@F",
          "EGFR@F",
          "ENPP3@F",
          "IRE@F",
          "HSPA5@F",
          "MLK@F",
          "LISK@F",
          "STE7@F",
          "MAST@F",
          "MLCK@F",
          "NEK@F",
          "TRK@F",
          "PDHK@F",
          "PIK3C@F",
          "PIK3R1@F",
          "NKF2@F",
          "PKN@F",
          "PRKAG2@F",
          "FAK@F",
          "SGK@F",
          "SYK@F",
          "TLK@F",
          "TSSK@F",
          "TTBK@F",
          "ULK@F",
          "AAK1",
          "AKT1",
          "AKT2",
          "AKT3",
          "ARAF",
          "ATM",
          "ATR",
          "AURKA",
          "AURKB",
          "AURKC",
          "AXL",
          "BAZ1B",
          "BLK",
          "BMP2K",
          "BMX",
          "BRAF",
          "BRD4",
          "BRSK1",
          "BRSK2",
          "BTK",
          "BUB1",
          "CAMK1",
          "CAMK1G",
          "CAMK4",
          "CDC42BPA",
          "CDC42BPB",
          "CDK1",
          "CDK10",
          "CDK11A",
          "CDK11B",
          "CDK12",
          "CDK13",
          "CDK14",
          "CDK15",
          "CDK16",
          "CDK18",
          "CDK19",
          "CDK2",
          "CDK20",
          "CDK3",
          "CDK4",
          "CDK5",
          "CDK6",
          "CDK7",
          "CDK8",
          "CDK9",
          "CHEK1",
          "CHUK",
          "CILK1",
          "CIT",
          "CSNK1A1",
          "CSNK1A1L",
          "CSNK1D",
          "CSNK1E",
          "CSNK1G1",
          "CSNK1G2",
          "CSNK1G3",
          "CSNK2B",
          "DAPK1",
          "DAPK2",
          "DAPK3",
          "DMPK",
          "EIF2AK1",
          "EIF2AK2",
          "EIF2AK3",
          "EIF2AK4",
          "EPHA1",
          "EPHA2",
          "EPHA4",
          "EPHB1",
          "EPHB2",
          "EPHB3",
          "FAM20C",
          "FER",
          "FES",
          "FGR",
          "FLT1",
          "FRK",
          "FYN",
          "GAK",
          "GTF2F1",
          "HASPIN",
          "HCK",
          "HUNK",
          "IGF1R",
          "IKBKB",
          "IKBKE",
          "INSR",
          "IRAK1",
          "IRAK4",
          "ITK",
          "JMJD6",
          "KDR",
          "KSR1",
          "LCK",
          "LMTK2",
          "LRRK1",
          "LRRK2",
          "LYN",
          "MAK",
          "MAP3K14",
          "MAP3K8",
          "MAP4K1",
          "MAP4K2",
          "MAP4K3",
          "MAP4K4",
          "MAP4K5",
          "MAPK1",
          "MAPK10",
          "MAPK11",
          "MAPK12",
          "MAPK13",
          "MAPK14",
          "MAPK15",
          "MAPK3",
          "MAPK4",
          "MAPK6",
          "MAPK7",
          "MAPK8",
          "MAPK9",
          "MARK1",
          "MARK2",
          "MARK3",
          "MARK4",
          "MELK",
          "MERTK",
          "MET",
          "MINK1",
          "MST1R",
          "MTOR",
          "MYO3A",
          "NLK",
          "NME1",
          "NME2",
          "NUAK1",
          "NUAK2",
          "OXSR1",
          "PAK1",
          "PAK2",
          "PAK4",
          "PAK5",
          "PAK6",
          "PASK",
          "PCK1",
          "PDPK1",
          "PFKP",
          "PGK1",
          "PHKA1",
          "PIM1",
          "PIM2",
          "PIM3",
          "PKMYT1",
          "PLK1",
          "PLK2",
          "PLK3",
          "PLK4",
          "PNCK",
          "PRKAA1",
          "PRKAA2",
          "PRKAB1",
          "PRKACA",
          "PRKACB",
          "PRKCA",
          "PRKCB",
          "PRKCD",
          "PRKCE",
          "PRKCG",
          "PRKCH",
          "PRKCI",
          "PRKCQ",
          "PRKCZ",
          "PRKD1",
          "PRKD2",
          "PRKD3",
          "PRKDC",
          "PRKX",
          "PTK6",
          "RAF1",
          "RIOK3",
          "ROCK1",
          "ROCK2",
          "RPS6KA1",
          "RPS6KA2",
          "RPS6KA3",
          "RPS6KA4",
          "RPS6KA5",
          "RPS6KA6",
          "RPS6KB1",
          "RPS6KB2",
          "SIK1",
          "SIK2",
          "SLK",
          "SMG1",
          "SRC",
          "SRMS",
          "SRPK1",
          "SRPK2",
          "STK10",
          "STK11",
          "STK16",
          "STK17A",
          "STK19",
          "STK24",
          "STK25",
          "STK26",
          "STK3",
          "STK39",
          "STK4",
          "STYK1",
          "TAOK1",
          "TAOK2",
          "TBK1",
          "TEC",
          "TEK",
          "TNIK",
          "TNK2",
          "TXK",
          "TYRO3",
          "UHMK1",
          "WEE1",
          "WNK1",
          "WNK2",
          "WNK3",
          "WNK4",
          "YES1",
          "ABL1",
          "ABL2",
          "ACVR1B",
          "ACVRL1",
          "ALK",
          "BLVRA",
          "BMPR1B",
          "CAMKK1",
          "CAMKK2",
          "CDC7",
          "CERT1",
          "CHEK2",
          "CLK1",
          "CLK2",
          "CLK3",
          "CLK4",
          "DCAF1",
          "DDR1",
          "FGFR1",
          "FGFR2",
          "FGFR3",
          "FGFR4",
          "GRK1",
          "GRK2",
          "GRK3",
          "GRK4",
          "GRK5",
          "GRK6",
          "GRK7",
          "GSK3A",
          "GSK3B",
          "JAK1",
          "JAK2",
          "JAK3",
          "LATS1",
          "LATS2",
          "LTK",
          "MAP3K1",
          "MAP3K2",
          "MAP3K3",
          "MAP3K4",
          "MAP3K5",
          "MAP3K6",
          "MAPKAPK2",
          "MAPKAPK3",
          "MAPKAPK5",
          "MKNK1",
          "MKNK2",
          "MOS",
          "PBK",
          "PIKFYVE",
          "PKM",
          "PRKG1",
          "PRKG2",
          "RET",
          "RIPK1",
          "RIPK2",
          "RIPK3",
          "STK33",
          "STK38",
          "STK38L",
          "TAF1",
          "TGFBR1",
          "TGFBR2",
          "TGM2",
          "TP53RK",
          "TTK",
          "TYK2",
          "VRK1",
          "VRK2",
          "VRK3",
          "ADCK5",
          "ALPK1",
          "BCR",
          "CAMK2A",
          "CAMK2B",
          "CAMK2D",
          "CAMK2G",
          "CASK",
          "CDKL2",
          "CDKL5",
          "CSF1R",
          "CSK",
          "CSNK2A1",
          "CSNK2A2",
          "DYRK1A",
          "DYRK1B",
          "DYRK2",
          "DYRK3",
          "DYRK4",
          "EEF2K",
          "EGFR",
          "ENPP3",
          "ERBB2",
          "ERBB4",
          "ERN1",
          "FLT3",
          "HIPK1",
          "HIPK2",
          "HIPK3",
          "HSPA5",
          "ILK",
          "KIT",
          "LIMK1",
          "LIMK2",
          "MAP2K1",
          "MAP2K2",
          "MAP2K3",
          "MAP2K4",
          "MAP2K5",
          "MAP2K6",
          "MAP2K7",
          "MAP3K10",
          "MAP3K11",
          "MAP3K12",
          "MAP3K13",
          "MAP3K20",
          "MAP3K21",
          "MAP3K7",
          "MAST3",
          "MASTL",
          "MATK",
          "MYLK",
          "MYLK2",
          "MYLK3",
          "NEK1",
          "NEK11",
          "NEK2",
          "NEK3",
          "NEK5",
          "NEK6",
          "NEK7",
          "NEK9",
          "NTRK1",
          "NTRK2",
          "PDGFRA",
          "PDGFRB",
          "PDK1",
          "PDK2",
          "PDK3",
          "PDK4",
          "PIK3C2A",
          "PIK3CA",
          "PIK3CB",
          "PIK3CD",
          "PIK3CG",
          "PIK3R1",
          "PINK1",
          "PKN1",
          "PKN2",
          "PKN3",
          "PRKAG2",
          "PRPF4B",
          "PTK2",
          "PTK2B",
          "SGK1",
          "SGK2",
          "SGK3",
          "SYK",
          "TESK1",
          "TLK1",
          "TLK2",
          "TRPM6",
          "TRPM7",
          "TSSK4",
          "TTBK1",
          "TTBK2",
          "ULK1",
          "ULK2",
          "ULK3",
          "ZAP70",
          "OTHER@G",
          "AGC@G",
          "TKL@G",
          "ATYPICAL@G",
          "TK@G",
          "CAMK@G",
          "CMGC@G",
          "CK1@G",
          "<UNKNOWN>@G",
          "STE@G"
         ],
         "insidetextfont": {
          "family": "Palatino",
          "size": 24
         },
         "insidetextorientation": "radial",
         "labels": [
          "train",
          "train",
          "train",
          "train",
          "train",
          "train",
          "train",
          "train",
          "train",
          "train",
          "val",
          "val",
          "val",
          "val",
          "val",
          "val",
          "val",
          "val",
          "val",
          "val",
          "test",
          "test",
          "test",
          "test",
          "test",
          "test",
          "test",
          "test",
          "test",
          "test",
          "NAK",
          "AKT",
          "RAF",
          "PIKK",
          "AUR",
          "AXL",
          "BAZ",
          "SRC",
          "TEC",
          "BRD",
          "CAMKL",
          "BUB",
          "CAMK1",
          "DMPK",
          "CDK",
          "IKK",
          "RCK",
          "CK1",
          "CSNK2B",
          "DAPK",
          "PEK",
          "STE-UNIQUE",
          "EPH",
          "FAM20C",
          "FER",
          "VEGFR",
          "GTF2F1",
          "HASPIN",
          "INSR",
          "IRAK",
          "JMJD6",
          "LMR",
          "LRRK",
          "STE20",
          "MAPK",
          "MET",
          "NDP",
          "PCK1",
          "PDK1",
          "PFKP",
          "PGK1",
          "PHKA1",
          "PIM",
          "WEE",
          "PLK",
          "PRKAB1",
          "PKA",
          "PKC",
          "PKD",
          "RIO",
          "RSKB",
          "RSK",
          "SRPK",
          "G11",
          "TK-UNIQUE",
          "TIE",
          "ACK",
          "KIS",
          "WNK",
          "ABL",
          "STKR",
          "ALK",
          "BLVRA",
          "CAMKK",
          "CDC7",
          "COL4A3BP",
          "RAD53",
          "CLK",
          "DCAF1",
          "DDR",
          "FGFR",
          "GRK",
          "GSK",
          "JAKB",
          "NDR",
          "STE11",
          "MAPKAPK",
          "MOS",
          "TOPK",
          "PIKFYVE",
          "PKM",
          "PKG",
          "RET",
          "RIPK",
          "STK33",
          "TAF1",
          "TGM2",
          "BUD32",
          "TTK",
          "VRK",
          "ABC1",
          "ALPHA",
          "BCR",
          "CAMK2",
          "CASK",
          "CDKL",
          "PDGFR",
          "CSK",
          "CK2",
          "DYRK",
          "EGFR",
          "ENPP3",
          "IRE",
          "HSPA5",
          "MLK",
          "LISK",
          "STE7",
          "MAST",
          "MLCK",
          "NEK",
          "TRK",
          "PDHK",
          "PIK3C",
          "PIK3R1",
          "NKF2",
          "PKN",
          "PRKAG2",
          "FAK",
          "SGK",
          "SYK",
          "TLK",
          "TSSK",
          "TTBK",
          "ULK",
          "AAK1",
          "AKT1",
          "AKT2",
          "AKT3",
          "ARAF",
          "ATM",
          "ATR",
          "AURKA",
          "AURKB",
          "AURKC",
          "AXL",
          "BAZ1B",
          "BLK",
          "BMP2K",
          "BMX",
          "BRAF",
          "BRD4",
          "BRSK1",
          "BRSK2",
          "BTK",
          "BUB1",
          "CAMK1",
          "CAMK1G",
          "CAMK4",
          "CDC42BPA",
          "CDC42BPB",
          "CDK1",
          "CDK10",
          "CDK11A",
          "CDK11B",
          "CDK12",
          "CDK13",
          "CDK14",
          "CDK15",
          "CDK16",
          "CDK18",
          "CDK19",
          "CDK2",
          "CDK20",
          "CDK3",
          "CDK4",
          "CDK5",
          "CDK6",
          "CDK7",
          "CDK8",
          "CDK9",
          "CHEK1",
          "CHUK",
          "CILK1",
          "CIT",
          "CSNK1A1",
          "CSNK1A1L",
          "CSNK1D",
          "CSNK1E",
          "CSNK1G1",
          "CSNK1G2",
          "CSNK1G3",
          "CSNK2B",
          "DAPK1",
          "DAPK2",
          "DAPK3",
          "DMPK",
          "EIF2AK1",
          "EIF2AK2",
          "EIF2AK3",
          "EIF2AK4",
          "EPHA1",
          "EPHA2",
          "EPHA4",
          "EPHB1",
          "EPHB2",
          "EPHB3",
          "FAM20C",
          "FER",
          "FES",
          "FGR",
          "FLT1",
          "FRK",
          "FYN",
          "GAK",
          "GTF2F1",
          "HASPIN",
          "HCK",
          "HUNK",
          "IGF1R",
          "IKBKB",
          "IKBKE",
          "INSR",
          "IRAK1",
          "IRAK4",
          "ITK",
          "JMJD6",
          "KDR",
          "KSR1",
          "LCK",
          "LMTK2",
          "LRRK1",
          "LRRK2",
          "LYN",
          "MAK",
          "MAP3K14",
          "MAP3K8",
          "MAP4K1",
          "MAP4K2",
          "MAP4K3",
          "MAP4K4",
          "MAP4K5",
          "MAPK1",
          "MAPK10",
          "MAPK11",
          "MAPK12",
          "MAPK13",
          "MAPK14",
          "MAPK15",
          "MAPK3",
          "MAPK4",
          "MAPK6",
          "MAPK7",
          "MAPK8",
          "MAPK9",
          "MARK1",
          "MARK2",
          "MARK3",
          "MARK4",
          "MELK",
          "MERTK",
          "MET",
          "MINK1",
          "MST1R",
          "MTOR",
          "MYO3A",
          "NLK",
          "NME1",
          "NME2",
          "NUAK1",
          "NUAK2",
          "OXSR1",
          "PAK1",
          "PAK2",
          "PAK4",
          "PAK5",
          "PAK6",
          "PASK",
          "PCK1",
          "PDPK1",
          "PFKP",
          "PGK1",
          "PHKA1",
          "PIM1",
          "PIM2",
          "PIM3",
          "PKMYT1",
          "PLK1",
          "PLK2",
          "PLK3",
          "PLK4",
          "PNCK",
          "PRKAA1",
          "PRKAA2",
          "PRKAB1",
          "PRKACA",
          "PRKACB",
          "PRKCA",
          "PRKCB",
          "PRKCD",
          "PRKCE",
          "PRKCG",
          "PRKCH",
          "PRKCI",
          "PRKCQ",
          "PRKCZ",
          "PRKD1",
          "PRKD2",
          "PRKD3",
          "PRKDC",
          "PRKX",
          "PTK6",
          "RAF1",
          "RIOK3",
          "ROCK1",
          "ROCK2",
          "RPS6KA1",
          "RPS6KA2",
          "RPS6KA3",
          "RPS6KA4",
          "RPS6KA5",
          "RPS6KA6",
          "RPS6KB1",
          "RPS6KB2",
          "SIK1",
          "SIK2",
          "SLK",
          "SMG1",
          "SRC",
          "SRMS",
          "SRPK1",
          "SRPK2",
          "STK10",
          "STK11",
          "STK16",
          "STK17A",
          "STK19",
          "STK24",
          "STK25",
          "STK26",
          "STK3",
          "STK39",
          "STK4",
          "STYK1",
          "TAOK1",
          "TAOK2",
          "TBK1",
          "TEC",
          "TEK",
          "TNIK",
          "TNK2",
          "TXK",
          "TYRO3",
          "UHMK1",
          "WEE1",
          "WNK1",
          "WNK2",
          "WNK3",
          "WNK4",
          "YES1",
          "ABL1",
          "ABL2",
          "ACVR1B",
          "ACVRL1",
          "ALK",
          "BLVRA",
          "BMPR1B",
          "CAMKK1",
          "CAMKK2",
          "CDC7",
          "CERT1",
          "CHEK2",
          "CLK1",
          "CLK2",
          "CLK3",
          "CLK4",
          "DCAF1",
          "DDR1",
          "FGFR1",
          "FGFR2",
          "FGFR3",
          "FGFR4",
          "GRK1",
          "GRK2",
          "GRK3",
          "GRK4",
          "GRK5",
          "GRK6",
          "GRK7",
          "GSK3A",
          "GSK3B",
          "JAK1",
          "JAK2",
          "JAK3",
          "LATS1",
          "LATS2",
          "LTK",
          "MAP3K1",
          "MAP3K2",
          "MAP3K3",
          "MAP3K4",
          "MAP3K5",
          "MAP3K6",
          "MAPKAPK2",
          "MAPKAPK3",
          "MAPKAPK5",
          "MKNK1",
          "MKNK2",
          "MOS",
          "PBK",
          "PIKFYVE",
          "PKM",
          "PRKG1",
          "PRKG2",
          "RET",
          "RIPK1",
          "RIPK2",
          "RIPK3",
          "STK33",
          "STK38",
          "STK38L",
          "TAF1",
          "TGFBR1",
          "TGFBR2",
          "TGM2",
          "TP53RK",
          "TTK",
          "TYK2",
          "VRK1",
          "VRK2",
          "VRK3",
          "ADCK5",
          "ALPK1",
          "BCR",
          "CAMK2A",
          "CAMK2B",
          "CAMK2D",
          "CAMK2G",
          "CASK",
          "CDKL2",
          "CDKL5",
          "CSF1R",
          "CSK",
          "CSNK2A1",
          "CSNK2A2",
          "DYRK1A",
          "DYRK1B",
          "DYRK2",
          "DYRK3",
          "DYRK4",
          "EEF2K",
          "EGFR",
          "ENPP3",
          "ERBB2",
          "ERBB4",
          "ERN1",
          "FLT3",
          "HIPK1",
          "HIPK2",
          "HIPK3",
          "HSPA5",
          "ILK",
          "KIT",
          "LIMK1",
          "LIMK2",
          "MAP2K1",
          "MAP2K2",
          "MAP2K3",
          "MAP2K4",
          "MAP2K5",
          "MAP2K6",
          "MAP2K7",
          "MAP3K10",
          "MAP3K11",
          "MAP3K12",
          "MAP3K13",
          "MAP3K20",
          "MAP3K21",
          "MAP3K7",
          "MAST3",
          "MASTL",
          "MATK",
          "MYLK",
          "MYLK2",
          "MYLK3",
          "NEK1",
          "NEK11",
          "NEK2",
          "NEK3",
          "NEK5",
          "NEK6",
          "NEK7",
          "NEK9",
          "NTRK1",
          "NTRK2",
          "PDGFRA",
          "PDGFRB",
          "PDK1",
          "PDK2",
          "PDK3",
          "PDK4",
          "PIK3C2A",
          "PIK3CA",
          "PIK3CB",
          "PIK3CD",
          "PIK3CG",
          "PIK3R1",
          "PINK1",
          "PKN1",
          "PKN2",
          "PKN3",
          "PRKAG2",
          "PRPF4B",
          "PTK2",
          "PTK2B",
          "SGK1",
          "SGK2",
          "SGK3",
          "SYK",
          "TESK1",
          "TLK1",
          "TLK2",
          "TRPM6",
          "TRPM7",
          "TSSK4",
          "TTBK1",
          "TTBK2",
          "ULK1",
          "ULK2",
          "ULK3",
          "ZAP70",
          "OTHER",
          "AGC",
          "TKL",
          "ATYPICAL",
          "TK",
          "CAMK",
          "CMGC",
          "CK1",
          "<UNKNOWN>",
          "STE"
         ],
         "parents": [
          "OTHER@G",
          "AGC@G",
          "TKL@G",
          "ATYPICAL@G",
          "TK@G",
          "CAMK@G",
          "CMGC@G",
          "CK1@G",
          "<UNKNOWN>@G",
          "STE@G",
          "TK@G",
          "TKL@G",
          "ATYPICAL@G",
          "OTHER@G",
          "CAMK@G",
          "CMGC@G",
          "<UNKNOWN>@G",
          "AGC@G",
          "STE@G",
          "CK1@G",
          "ATYPICAL@G",
          "CAMK@G",
          "CMGC@G",
          "TK@G",
          "<UNKNOWN>@G",
          "OTHER@G",
          "TKL@G",
          "STE@G",
          "AGC@G",
          "CK1@G",
          "train@@OTHER@G",
          "train@@AGC@G",
          "train@@TKL@G",
          "train@@ATYPICAL@G",
          "train@@OTHER@G",
          "train@@TK@G",
          "train@@ATYPICAL@G",
          "train@@TK@G",
          "train@@TK@G",
          "train@@ATYPICAL@G",
          "train@@CAMK@G",
          "train@@OTHER@G",
          "train@@CAMK@G",
          "train@@AGC@G",
          "train@@CMGC@G",
          "train@@OTHER@G",
          "train@@CMGC@G",
          "train@@CK1@G",
          "train@@<UNKNOWN>@G",
          "train@@CAMK@G",
          "train@@OTHER@G",
          "train@@STE@G",
          "train@@TK@G",
          "train@@<UNKNOWN>@G",
          "train@@TK@G",
          "train@@TK@G",
          "train@@ATYPICAL@G",
          "train@@OTHER@G",
          "train@@TK@G",
          "train@@TKL@G",
          "train@@<UNKNOWN>@G",
          "train@@TK@G",
          "train@@TKL@G",
          "train@@STE@G",
          "train@@CMGC@G",
          "train@@TK@G",
          "train@@<UNKNOWN>@G",
          "train@@<UNKNOWN>@G",
          "train@@AGC@G",
          "train@@<UNKNOWN>@G",
          "train@@<UNKNOWN>@G",
          "train@@<UNKNOWN>@G",
          "train@@CAMK@G",
          "train@@OTHER@G",
          "train@@OTHER@G",
          "train@@<UNKNOWN>@G",
          "train@@AGC@G",
          "train@@AGC@G",
          "train@@CAMK@G",
          "train@@ATYPICAL@G",
          "train@@CAMK@G",
          "train@@AGC@G",
          "train@@CMGC@G",
          "train@@ATYPICAL@G",
          "train@@TK@G",
          "train@@TK@G",
          "train@@TK@G",
          "train@@OTHER@G",
          "train@@OTHER@G",
          "val@@TK@G",
          "val@@TKL@G",
          "val@@TK@G",
          "val@@ATYPICAL@G",
          "val@@OTHER@G",
          "val@@OTHER@G",
          "val@@ATYPICAL@G",
          "val@@CAMK@G",
          "val@@CMGC@G",
          "val@@<UNKNOWN>@G",
          "val@@TK@G",
          "val@@TK@G",
          "val@@AGC@G",
          "val@@CMGC@G",
          "val@@TK@G",
          "val@@AGC@G",
          "val@@STE@G",
          "val@@CAMK@G",
          "val@@OTHER@G",
          "val@@OTHER@G",
          "val@@<UNKNOWN>@G",
          "val@@<UNKNOWN>@G",
          "val@@AGC@G",
          "val@@TK@G",
          "val@@TKL@G",
          "val@@CAMK@G",
          "val@@ATYPICAL@G",
          "val@@<UNKNOWN>@G",
          "val@@OTHER@G",
          "val@@OTHER@G",
          "val@@CK1@G",
          "test@@ATYPICAL@G",
          "test@@ATYPICAL@G",
          "test@@ATYPICAL@G",
          "test@@CAMK@G",
          "test@@CAMK@G",
          "test@@CMGC@G",
          "test@@TK@G",
          "test@@TK@G",
          "test@@CMGC@G",
          "test@@CMGC@G",
          "test@@TK@G",
          "test@@<UNKNOWN>@G",
          "test@@OTHER@G",
          "test@@<UNKNOWN>@G",
          "test@@TKL@G",
          "test@@TKL@G",
          "test@@STE@G",
          "test@@AGC@G",
          "test@@CAMK@G",
          "test@@OTHER@G",
          "test@@TK@G",
          "test@@ATYPICAL@G",
          "test@@<UNKNOWN>@G",
          "test@@<UNKNOWN>@G",
          "test@@OTHER@G",
          "test@@AGC@G",
          "test@@<UNKNOWN>@G",
          "test@@TK@G",
          "test@@AGC@G",
          "test@@TK@G",
          "test@@OTHER@G",
          "test@@CAMK@G",
          "test@@CK1@G",
          "test@@OTHER@G",
          "NAK@F",
          "AKT@F",
          "AKT@F",
          "AKT@F",
          "RAF@F",
          "PIKK@F",
          "PIKK@F",
          "AUR@F",
          "AUR@F",
          "AUR@F",
          "AXL@F",
          "BAZ@F",
          "SRC@F",
          "NAK@F",
          "TEC@F",
          "RAF@F",
          "BRD@F",
          "CAMKL@F",
          "CAMKL@F",
          "TEC@F",
          "BUB@F",
          "CAMK1@F",
          "CAMK1@F",
          "CAMK1@F",
          "DMPK@F",
          "DMPK@F",
          "CDK@F",
          "CDK@F",
          "CDK@F",
          "CDK@F",
          "CDK@F",
          "CDK@F",
          "CDK@F",
          "CDK@F",
          "CDK@F",
          "CDK@F",
          "CDK@F",
          "CDK@F",
          "CDK@F",
          "CDK@F",
          "CDK@F",
          "CDK@F",
          "CDK@F",
          "CDK@F",
          "CDK@F",
          "CDK@F",
          "CAMKL@F",
          "IKK@F",
          "RCK@F",
          "DMPK@F",
          "CK1@F",
          "CK1@F",
          "CK1@F",
          "CK1@F",
          "CK1@F",
          "CK1@F",
          "CK1@F",
          "CSNK2B@F",
          "DAPK@F",
          "DAPK@F",
          "DAPK@F",
          "DMPK@F",
          "PEK@F",
          "PEK@F",
          "PEK@F",
          "STE-UNIQUE@F",
          "EPH@F",
          "EPH@F",
          "EPH@F",
          "EPH@F",
          "EPH@F",
          "EPH@F",
          "FAM20C@F",
          "FER@F",
          "FER@F",
          "SRC@F",
          "VEGFR@F",
          "SRC@F",
          "SRC@F",
          "NAK@F",
          "GTF2F1@F",
          "HASPIN@F",
          "SRC@F",
          "CAMKL@F",
          "INSR@F",
          "IKK@F",
          "IKK@F",
          "INSR@F",
          "IRAK@F",
          "IRAK@F",
          "TEC@F",
          "JMJD6@F",
          "VEGFR@F",
          "RAF@F",
          "SRC@F",
          "LMR@F",
          "LRRK@F",
          "LRRK@F",
          "SRC@F",
          "RCK@F",
          "STE-UNIQUE@F",
          "STE-UNIQUE@F",
          "STE20@F",
          "STE20@F",
          "STE20@F",
          "STE20@F",
          "STE20@F",
          "MAPK@F",
          "MAPK@F",
          "MAPK@F",
          "MAPK@F",
          "MAPK@F",
          "MAPK@F",
          "MAPK@F",
          "MAPK@F",
          "MAPK@F",
          "MAPK@F",
          "MAPK@F",
          "MAPK@F",
          "MAPK@F",
          "CAMKL@F",
          "CAMKL@F",
          "CAMKL@F",
          "CAMKL@F",
          "CAMKL@F",
          "AXL@F",
          "MET@F",
          "STE20@F",
          "MET@F",
          "PIKK@F",
          "STE20@F",
          "MAPK@F",
          "NDP@F",
          "NDP@F",
          "CAMKL@F",
          "CAMKL@F",
          "STE20@F",
          "STE20@F",
          "STE20@F",
          "STE20@F",
          "STE20@F",
          "STE20@F",
          "CAMKL@F",
          "PCK1@F",
          "PDK1@F",
          "PFKP@F",
          "PGK1@F",
          "PHKA1@F",
          "PIM@F",
          "PIM@F",
          "PIM@F",
          "WEE@F",
          "PLK@F",
          "PLK@F",
          "PLK@F",
          "PLK@F",
          "CAMK1@F",
          "CAMKL@F",
          "CAMKL@F",
          "PRKAB1@F",
          "PKA@F",
          "PKA@F",
          "PKC@F",
          "PKC@F",
          "PKC@F",
          "PKC@F",
          "PKC@F",
          "PKC@F",
          "PKC@F",
          "PKC@F",
          "PKC@F",
          "PKD@F",
          "PKD@F",
          "PKD@F",
          "PIKK@F",
          "PKA@F",
          "SRC@F",
          "RAF@F",
          "RIO@F",
          "DMPK@F",
          "DMPK@F",
          "RSKB@F",
          "RSKB@F",
          "RSKB@F",
          "RSKB@F",
          "RSKB@F",
          "RSKB@F",
          "RSK@F",
          "RSK@F",
          "CAMKL@F",
          "CAMKL@F",
          "STE20@F",
          "PIKK@F",
          "SRC@F",
          "SRC@F",
          "SRPK@F",
          "SRPK@F",
          "STE20@F",
          "CAMKL@F",
          "NAK@F",
          "DAPK@F",
          "G11@F",
          "STE20@F",
          "STE20@F",
          "STE20@F",
          "STE20@F",
          "STE20@F",
          "STE20@F",
          "TK-UNIQUE@F",
          "STE20@F",
          "STE20@F",
          "IKK@F",
          "TEC@F",
          "TIE@F",
          "STE20@F",
          "ACK@F",
          "TEC@F",
          "AXL@F",
          "KIS@F",
          "WEE@F",
          "WNK@F",
          "WNK@F",
          "WNK@F",
          "WNK@F",
          "SRC@F",
          "ABL@F",
          "ABL@F",
          "STKR@F",
          "STKR@F",
          "ALK@F",
          "BLVRA@F",
          "STKR@F",
          "CAMKK@F",
          "CAMKK@F",
          "CDC7@F",
          "COL4A3BP@F",
          "RAD53@F",
          "CLK@F",
          "CLK@F",
          "CLK@F",
          "CLK@F",
          "DCAF1@F",
          "DDR@F",
          "FGFR@F",
          "FGFR@F",
          "FGFR@F",
          "FGFR@F",
          "GRK@F",
          "GRK@F",
          "GRK@F",
          "GRK@F",
          "GRK@F",
          "GRK@F",
          "GRK@F",
          "GSK@F",
          "GSK@F",
          "JAKB@F",
          "JAKB@F",
          "JAKB@F",
          "NDR@F",
          "NDR@F",
          "ALK@F",
          "STE11@F",
          "STE11@F",
          "STE11@F",
          "STE11@F",
          "STE11@F",
          "STE11@F",
          "MAPKAPK@F",
          "MAPKAPK@F",
          "MAPKAPK@F",
          "MAPKAPK@F",
          "MAPKAPK@F",
          "MOS@F",
          "TOPK@F",
          "PIKFYVE@F",
          "PKM@F",
          "PKG@F",
          "PKG@F",
          "RET@F",
          "RIPK@F",
          "RIPK@F",
          "RIPK@F",
          "STK33@F",
          "NDR@F",
          "NDR@F",
          "TAF1@F",
          "STKR@F",
          "STKR@F",
          "TGM2@F",
          "BUD32@F",
          "TTK@F",
          "JAKB@F",
          "VRK@F",
          "VRK@F",
          "VRK@F",
          "ABC1@F",
          "ALPHA@F",
          "BCR@F",
          "CAMK2@F",
          "CAMK2@F",
          "CAMK2@F",
          "CAMK2@F",
          "CASK@F",
          "CDKL@F",
          "CDKL@F",
          "PDGFR@F",
          "CSK@F",
          "CK2@F",
          "CK2@F",
          "DYRK@F",
          "DYRK@F",
          "DYRK@F",
          "DYRK@F",
          "DYRK@F",
          "ALPHA@F",
          "EGFR@F",
          "ENPP3@F",
          "EGFR@F",
          "EGFR@F",
          "IRE@F",
          "PDGFR@F",
          "DYRK@F",
          "DYRK@F",
          "DYRK@F",
          "HSPA5@F",
          "MLK@F",
          "PDGFR@F",
          "LISK@F",
          "LISK@F",
          "STE7@F",
          "STE7@F",
          "STE7@F",
          "STE7@F",
          "STE7@F",
          "STE7@F",
          "STE7@F",
          "MLK@F",
          "MLK@F",
          "MLK@F",
          "MLK@F",
          "MLK@F",
          "MLK@F",
          "MLK@F",
          "MAST@F",
          "MAST@F",
          "CSK@F",
          "MLCK@F",
          "MLCK@F",
          "MLCK@F",
          "NEK@F",
          "NEK@F",
          "NEK@F",
          "NEK@F",
          "NEK@F",
          "NEK@F",
          "NEK@F",
          "NEK@F",
          "TRK@F",
          "TRK@F",
          "PDGFR@F",
          "PDGFR@F",
          "PDHK@F",
          "PDHK@F",
          "PDHK@F",
          "PDHK@F",
          "PIK3C@F",
          "PIK3C@F",
          "PIK3C@F",
          "PIK3C@F",
          "PIK3C@F",
          "PIK3R1@F",
          "NKF2@F",
          "PKN@F",
          "PKN@F",
          "PKN@F",
          "PRKAG2@F",
          "DYRK@F",
          "FAK@F",
          "FAK@F",
          "SGK@F",
          "SGK@F",
          "SGK@F",
          "SYK@F",
          "LISK@F",
          "TLK@F",
          "TLK@F",
          "ALPHA@F",
          "ALPHA@F",
          "TSSK@F",
          "TTBK@F",
          "TTBK@F",
          "ULK@F",
          "ULK@F",
          "ULK@F",
          "SYK@F",
          "",
          "",
          "",
          "",
          "",
          "",
          "",
          "",
          "",
          ""
         ],
         "type": "sunburst",
         "values": [
          0,
          0,
          0,
          0,
          0,
          0,
          0,
          0,
          0,
          0,
          0,
          0,
          0,
          0,
          0,
          0,
          0,
          0,
          0,
          0,
          0,
          0,
          0,
          0,
          0,
          0,
          0,
          0,
          0,
          0,
          0,
          0,
          0,
          0,
          0,
          0,
          0,
          0,
          0,
          0,
          0,
          0,
          0,
          0,
          0,
          0,
          0,
          0,
          0,
          0,
          0,
          0,
          0,
          0,
          0,
          0,
          0,
          0,
          0,
          0,
          0,
          0,
          0,
          0,
          0,
          0,
          0,
          0,
          0,
          0,
          0,
          0,
          0,
          0,
          0,
          0,
          0,
          0,
          0,
          0,
          0,
          0,
          0,
          0,
          0,
          0,
          0,
          0,
          0,
          0,
          0,
          0,
          0,
          0,
          0,
          0,
          0,
          0,
          0,
          0,
          0,
          0,
          0,
          0,
          0,
          0,
          0,
          0,
          0,
          0,
          0,
          0,
          0,
          0,
          0,
          0,
          0,
          0,
          0,
          0,
          0,
          0,
          0,
          0,
          0,
          0,
          0,
          0,
          0,
          0,
          0,
          0,
          0,
          0,
          0,
          0,
          0,
          0,
          0,
          0,
          0,
          0,
          0,
          0,
          0,
          0,
          0,
          0,
          0,
          0,
          0,
          0,
          0,
          0,
          2,
          346,
          67,
          16,
          6,
          289,
          117,
          131,
          215,
          9,
          15,
          1,
          6,
          1,
          19,
          17,
          1,
          9,
          4,
          20,
          27,
          17,
          1,
          11,
          5,
          3,
          649,
          2,
          4,
          2,
          4,
          3,
          10,
          1,
          4,
          3,
          6,
          416,
          2,
          16,
          78,
          153,
          48,
          52,
          15,
          50,
          195,
          47,
          3,
          3,
          141,
          1,
          81,
          49,
          7,
          6,
          1,
          13,
          23,
          2,
          21,
          1,
          2,
          21,
          2,
          3,
          1,
          11,
          3,
          1,
          4,
          1,
          10,
          14,
          4,
          11,
          5,
          2,
          144,
          3,
          4,
          1,
          27,
          1,
          25,
          78,
          41,
          45,
          14,
          33,
          12,
          1,
          7,
          1,
          95,
          3,
          13,
          84,
          95,
          2,
          15,
          25,
          6,
          3,
          4,
          10,
          1,
          435,
          14,
          34,
          24,
          17,
          215,
          12,
          381,
          1,
          3,
          25,
          157,
          64,
          13,
          25,
          10,
          1,
          26,
          9,
          27,
          4,
          5,
          122,
          5,
          24,
          4,
          3,
          10,
          1,
          16,
          77,
          36,
          20,
          10,
          9,
          5,
          2,
          33,
          1,
          2,
          1,
          65,
          12,
          5,
          2,
          300,
          14,
          30,
          23,
          4,
          158,
          39,
          8,
          602,
          5,
          464,
          112,
          135,
          66,
          35,
          15,
          46,
          35,
          91,
          77,
          20,
          6,
          134,
          2,
          16,
          13,
          1,
          67,
          19,
          73,
          4,
          54,
          5,
          21,
          2,
          53,
          9,
          1,
          9,
          5,
          6,
          538,
          3,
          19,
          4,
          4,
          41,
          4,
          1,
          1,
          5,
          3,
          11,
          31,
          13,
          36,
          2,
          3,
          4,
          77,
          9,
          2,
          4,
          8,
          2,
          2,
          7,
          4,
          9,
          3,
          4,
          5,
          20,
          215,
          19,
          2,
          4,
          11,
          3,
          6,
          7,
          6,
          49,
          1,
          72,
          13,
          11,
          1,
          1,
          1,
          2,
          28,
          4,
          10,
          2,
          4,
          71,
          16,
          12,
          17,
          10,
          1,
          65,
          351,
          11,
          39,
          23,
          23,
          23,
          1,
          6,
          3,
          8,
          1,
          27,
          5,
          76,
          3,
          12,
          11,
          6,
          2,
          9,
          1,
          12,
          57,
          13,
          31,
          6,
          6,
          7,
          1,
          10,
          4,
          4,
          10,
          16,
          2,
          1,
          65,
          10,
          16,
          10,
          1,
          1,
          1,
          3,
          145,
          9,
          18,
          6,
          5,
          1,
          6,
          4,
          7,
          566,
          20,
          39,
          13,
          46,
          3,
          1,
          11,
          97,
          1,
          17,
          3,
          1,
          10,
          3,
          60,
          1,
          1,
          7,
          14,
          2,
          2,
          17,
          3,
          6,
          16,
          2,
          10,
          9,
          7,
          12,
          2,
          1,
          5,
          1,
          38,
          1,
          2,
          3,
          5,
          1,
          2,
          11,
          4,
          36,
          2,
          1,
          24,
          7,
          6,
          19,
          11,
          6,
          32,
          6,
          5,
          4,
          5,
          2,
          5,
          1,
          1,
          5,
          1,
          14,
          12,
          3,
          2,
          9,
          1,
          27,
          16,
          53,
          4,
          8,
          60,
          1,
          6,
          2,
          5,
          55,
          1,
          7,
          8,
          70,
          9,
          5,
          31,
          0,
          0,
          0,
          0,
          0,
          0,
          0,
          0,
          0,
          0
         ]
        }
       ],
       "layout": {
        "autosize": false,
        "height": 1000,
        "margin": {
         "b": 0,
         "l": 0,
         "r": 0,
         "t": 0
        },
        "template": {
         "data": {
          "bar": [
           {
            "error_x": {
             "color": "#2a3f5f"
            },
            "error_y": {
             "color": "#2a3f5f"
            },
            "marker": {
             "line": {
              "color": "#E5ECF6",
              "width": 0.5
             },
             "pattern": {
              "fillmode": "overlay",
              "size": 10,
              "solidity": 0.2
             }
            },
            "type": "bar"
           }
          ],
          "barpolar": [
           {
            "marker": {
             "line": {
              "color": "#E5ECF6",
              "width": 0.5
             },
             "pattern": {
              "fillmode": "overlay",
              "size": 10,
              "solidity": 0.2
             }
            },
            "type": "barpolar"
           }
          ],
          "carpet": [
           {
            "aaxis": {
             "endlinecolor": "#2a3f5f",
             "gridcolor": "white",
             "linecolor": "white",
             "minorgridcolor": "white",
             "startlinecolor": "#2a3f5f"
            },
            "baxis": {
             "endlinecolor": "#2a3f5f",
             "gridcolor": "white",
             "linecolor": "white",
             "minorgridcolor": "white",
             "startlinecolor": "#2a3f5f"
            },
            "type": "carpet"
           }
          ],
          "choropleth": [
           {
            "colorbar": {
             "outlinewidth": 0,
             "ticks": ""
            },
            "type": "choropleth"
           }
          ],
          "contour": [
           {
            "colorbar": {
             "outlinewidth": 0,
             "ticks": ""
            },
            "colorscale": [
             [
              0,
              "#0d0887"
             ],
             [
              0.1111111111111111,
              "#46039f"
             ],
             [
              0.2222222222222222,
              "#7201a8"
             ],
             [
              0.3333333333333333,
              "#9c179e"
             ],
             [
              0.4444444444444444,
              "#bd3786"
             ],
             [
              0.5555555555555556,
              "#d8576b"
             ],
             [
              0.6666666666666666,
              "#ed7953"
             ],
             [
              0.7777777777777778,
              "#fb9f3a"
             ],
             [
              0.8888888888888888,
              "#fdca26"
             ],
             [
              1,
              "#f0f921"
             ]
            ],
            "type": "contour"
           }
          ],
          "contourcarpet": [
           {
            "colorbar": {
             "outlinewidth": 0,
             "ticks": ""
            },
            "type": "contourcarpet"
           }
          ],
          "heatmap": [
           {
            "colorbar": {
             "outlinewidth": 0,
             "ticks": ""
            },
            "colorscale": [
             [
              0,
              "#0d0887"
             ],
             [
              0.1111111111111111,
              "#46039f"
             ],
             [
              0.2222222222222222,
              "#7201a8"
             ],
             [
              0.3333333333333333,
              "#9c179e"
             ],
             [
              0.4444444444444444,
              "#bd3786"
             ],
             [
              0.5555555555555556,
              "#d8576b"
             ],
             [
              0.6666666666666666,
              "#ed7953"
             ],
             [
              0.7777777777777778,
              "#fb9f3a"
             ],
             [
              0.8888888888888888,
              "#fdca26"
             ],
             [
              1,
              "#f0f921"
             ]
            ],
            "type": "heatmap"
           }
          ],
          "heatmapgl": [
           {
            "colorbar": {
             "outlinewidth": 0,
             "ticks": ""
            },
            "colorscale": [
             [
              0,
              "#0d0887"
             ],
             [
              0.1111111111111111,
              "#46039f"
             ],
             [
              0.2222222222222222,
              "#7201a8"
             ],
             [
              0.3333333333333333,
              "#9c179e"
             ],
             [
              0.4444444444444444,
              "#bd3786"
             ],
             [
              0.5555555555555556,
              "#d8576b"
             ],
             [
              0.6666666666666666,
              "#ed7953"
             ],
             [
              0.7777777777777778,
              "#fb9f3a"
             ],
             [
              0.8888888888888888,
              "#fdca26"
             ],
             [
              1,
              "#f0f921"
             ]
            ],
            "type": "heatmapgl"
           }
          ],
          "histogram": [
           {
            "marker": {
             "pattern": {
              "fillmode": "overlay",
              "size": 10,
              "solidity": 0.2
             }
            },
            "type": "histogram"
           }
          ],
          "histogram2d": [
           {
            "colorbar": {
             "outlinewidth": 0,
             "ticks": ""
            },
            "colorscale": [
             [
              0,
              "#0d0887"
             ],
             [
              0.1111111111111111,
              "#46039f"
             ],
             [
              0.2222222222222222,
              "#7201a8"
             ],
             [
              0.3333333333333333,
              "#9c179e"
             ],
             [
              0.4444444444444444,
              "#bd3786"
             ],
             [
              0.5555555555555556,
              "#d8576b"
             ],
             [
              0.6666666666666666,
              "#ed7953"
             ],
             [
              0.7777777777777778,
              "#fb9f3a"
             ],
             [
              0.8888888888888888,
              "#fdca26"
             ],
             [
              1,
              "#f0f921"
             ]
            ],
            "type": "histogram2d"
           }
          ],
          "histogram2dcontour": [
           {
            "colorbar": {
             "outlinewidth": 0,
             "ticks": ""
            },
            "colorscale": [
             [
              0,
              "#0d0887"
             ],
             [
              0.1111111111111111,
              "#46039f"
             ],
             [
              0.2222222222222222,
              "#7201a8"
             ],
             [
              0.3333333333333333,
              "#9c179e"
             ],
             [
              0.4444444444444444,
              "#bd3786"
             ],
             [
              0.5555555555555556,
              "#d8576b"
             ],
             [
              0.6666666666666666,
              "#ed7953"
             ],
             [
              0.7777777777777778,
              "#fb9f3a"
             ],
             [
              0.8888888888888888,
              "#fdca26"
             ],
             [
              1,
              "#f0f921"
             ]
            ],
            "type": "histogram2dcontour"
           }
          ],
          "mesh3d": [
           {
            "colorbar": {
             "outlinewidth": 0,
             "ticks": ""
            },
            "type": "mesh3d"
           }
          ],
          "parcoords": [
           {
            "line": {
             "colorbar": {
              "outlinewidth": 0,
              "ticks": ""
             }
            },
            "type": "parcoords"
           }
          ],
          "pie": [
           {
            "automargin": true,
            "type": "pie"
           }
          ],
          "scatter": [
           {
            "fillpattern": {
             "fillmode": "overlay",
             "size": 10,
             "solidity": 0.2
            },
            "type": "scatter"
           }
          ],
          "scatter3d": [
           {
            "line": {
             "colorbar": {
              "outlinewidth": 0,
              "ticks": ""
             }
            },
            "marker": {
             "colorbar": {
              "outlinewidth": 0,
              "ticks": ""
             }
            },
            "type": "scatter3d"
           }
          ],
          "scattercarpet": [
           {
            "marker": {
             "colorbar": {
              "outlinewidth": 0,
              "ticks": ""
             }
            },
            "type": "scattercarpet"
           }
          ],
          "scattergeo": [
           {
            "marker": {
             "colorbar": {
              "outlinewidth": 0,
              "ticks": ""
             }
            },
            "type": "scattergeo"
           }
          ],
          "scattergl": [
           {
            "marker": {
             "colorbar": {
              "outlinewidth": 0,
              "ticks": ""
             }
            },
            "type": "scattergl"
           }
          ],
          "scattermapbox": [
           {
            "marker": {
             "colorbar": {
              "outlinewidth": 0,
              "ticks": ""
             }
            },
            "type": "scattermapbox"
           }
          ],
          "scatterpolar": [
           {
            "marker": {
             "colorbar": {
              "outlinewidth": 0,
              "ticks": ""
             }
            },
            "type": "scatterpolar"
           }
          ],
          "scatterpolargl": [
           {
            "marker": {
             "colorbar": {
              "outlinewidth": 0,
              "ticks": ""
             }
            },
            "type": "scatterpolargl"
           }
          ],
          "scatterternary": [
           {
            "marker": {
             "colorbar": {
              "outlinewidth": 0,
              "ticks": ""
             }
            },
            "type": "scatterternary"
           }
          ],
          "surface": [
           {
            "colorbar": {
             "outlinewidth": 0,
             "ticks": ""
            },
            "colorscale": [
             [
              0,
              "#0d0887"
             ],
             [
              0.1111111111111111,
              "#46039f"
             ],
             [
              0.2222222222222222,
              "#7201a8"
             ],
             [
              0.3333333333333333,
              "#9c179e"
             ],
             [
              0.4444444444444444,
              "#bd3786"
             ],
             [
              0.5555555555555556,
              "#d8576b"
             ],
             [
              0.6666666666666666,
              "#ed7953"
             ],
             [
              0.7777777777777778,
              "#fb9f3a"
             ],
             [
              0.8888888888888888,
              "#fdca26"
             ],
             [
              1,
              "#f0f921"
             ]
            ],
            "type": "surface"
           }
          ],
          "table": [
           {
            "cells": {
             "fill": {
              "color": "#EBF0F8"
             },
             "line": {
              "color": "white"
             }
            },
            "header": {
             "fill": {
              "color": "#C8D4E3"
             },
             "line": {
              "color": "white"
             }
            },
            "type": "table"
           }
          ]
         },
         "layout": {
          "annotationdefaults": {
           "arrowcolor": "#2a3f5f",
           "arrowhead": 0,
           "arrowwidth": 1
          },
          "autotypenumbers": "strict",
          "coloraxis": {
           "colorbar": {
            "outlinewidth": 0,
            "ticks": ""
           }
          },
          "colorscale": {
           "diverging": [
            [
             0,
             "#8e0152"
            ],
            [
             0.1,
             "#c51b7d"
            ],
            [
             0.2,
             "#de77ae"
            ],
            [
             0.3,
             "#f1b6da"
            ],
            [
             0.4,
             "#fde0ef"
            ],
            [
             0.5,
             "#f7f7f7"
            ],
            [
             0.6,
             "#e6f5d0"
            ],
            [
             0.7,
             "#b8e186"
            ],
            [
             0.8,
             "#7fbc41"
            ],
            [
             0.9,
             "#4d9221"
            ],
            [
             1,
             "#276419"
            ]
           ],
           "sequential": [
            [
             0,
             "#0d0887"
            ],
            [
             0.1111111111111111,
             "#46039f"
            ],
            [
             0.2222222222222222,
             "#7201a8"
            ],
            [
             0.3333333333333333,
             "#9c179e"
            ],
            [
             0.4444444444444444,
             "#bd3786"
            ],
            [
             0.5555555555555556,
             "#d8576b"
            ],
            [
             0.6666666666666666,
             "#ed7953"
            ],
            [
             0.7777777777777778,
             "#fb9f3a"
            ],
            [
             0.8888888888888888,
             "#fdca26"
            ],
            [
             1,
             "#f0f921"
            ]
           ],
           "sequentialminus": [
            [
             0,
             "#0d0887"
            ],
            [
             0.1111111111111111,
             "#46039f"
            ],
            [
             0.2222222222222222,
             "#7201a8"
            ],
            [
             0.3333333333333333,
             "#9c179e"
            ],
            [
             0.4444444444444444,
             "#bd3786"
            ],
            [
             0.5555555555555556,
             "#d8576b"
            ],
            [
             0.6666666666666666,
             "#ed7953"
            ],
            [
             0.7777777777777778,
             "#fb9f3a"
            ],
            [
             0.8888888888888888,
             "#fdca26"
            ],
            [
             1,
             "#f0f921"
            ]
           ]
          },
          "colorway": [
           "#636efa",
           "#EF553B",
           "#00cc96",
           "#ab63fa",
           "#FFA15A",
           "#19d3f3",
           "#FF6692",
           "#B6E880",
           "#FF97FF",
           "#FECB52"
          ],
          "font": {
           "color": "#2a3f5f"
          },
          "geo": {
           "bgcolor": "white",
           "lakecolor": "white",
           "landcolor": "#E5ECF6",
           "showlakes": true,
           "showland": true,
           "subunitcolor": "white"
          },
          "hoverlabel": {
           "align": "left"
          },
          "hovermode": "closest",
          "mapbox": {
           "style": "light"
          },
          "paper_bgcolor": "white",
          "plot_bgcolor": "#E5ECF6",
          "polar": {
           "angularaxis": {
            "gridcolor": "white",
            "linecolor": "white",
            "ticks": ""
           },
           "bgcolor": "#E5ECF6",
           "radialaxis": {
            "gridcolor": "white",
            "linecolor": "white",
            "ticks": ""
           }
          },
          "scene": {
           "xaxis": {
            "backgroundcolor": "#E5ECF6",
            "gridcolor": "white",
            "gridwidth": 2,
            "linecolor": "white",
            "showbackground": true,
            "ticks": "",
            "zerolinecolor": "white"
           },
           "yaxis": {
            "backgroundcolor": "#E5ECF6",
            "gridcolor": "white",
            "gridwidth": 2,
            "linecolor": "white",
            "showbackground": true,
            "ticks": "",
            "zerolinecolor": "white"
           },
           "zaxis": {
            "backgroundcolor": "#E5ECF6",
            "gridcolor": "white",
            "gridwidth": 2,
            "linecolor": "white",
            "showbackground": true,
            "ticks": "",
            "zerolinecolor": "white"
           }
          },
          "shapedefaults": {
           "line": {
            "color": "#2a3f5f"
           }
          },
          "ternary": {
           "aaxis": {
            "gridcolor": "white",
            "linecolor": "white",
            "ticks": ""
           },
           "baxis": {
            "gridcolor": "white",
            "linecolor": "white",
            "ticks": ""
           },
           "bgcolor": "#E5ECF6",
           "caxis": {
            "gridcolor": "white",
            "linecolor": "white",
            "ticks": ""
           }
          },
          "title": {
           "x": 0.05
          },
          "xaxis": {
           "automargin": true,
           "gridcolor": "white",
           "linecolor": "white",
           "ticks": "",
           "title": {
            "standoff": 15
           },
           "zerolinecolor": "white",
           "zerolinewidth": 2
          },
          "yaxis": {
           "automargin": true,
           "gridcolor": "white",
           "linecolor": "white",
           "ticks": "",
           "title": {
            "standoff": 15
           },
           "zerolinecolor": "white",
           "zerolinewidth": 2
          }
         }
        },
        "width": 1000
       }
      }
     },
     "metadata": {},
     "output_type": "display_data"
    }
   ],
   "source": [
    "import plotly\n",
    "\n",
    "fig = go.Figure(go.Sunburst(\n",
    "    ids=sectors['labels'],\n",
    "    labels=[x.split(\"@@\")[0].split(\"@\")[0] for x in sectors['labels']],\n",
    "    parents=sectors['parents'],\n",
    "    values=sectors['val'],\n",
    "    insidetextfont=plotly.graph_objects.sunburst.Insidetextfont(family = 'Palatino', size = 24),\n",
    "    insidetextorientation = 'radial'\n",
    "))\n",
    "\n",
    "fig.update_layout(\n",
    "    autosize=False,\n",
    "    width=1000,\n",
    "    height=1000,\n",
    "    margin = dict(t=0, l=0, r=0, b=0)\n",
    ")\n",
    "\n",
    "fig.show()\n",
    "f = open(\"giant_sunburst.svg\", \"wb\")\n",
    "f.write(fig.to_image(format = 'svg', height = 1000, width = 1000))\n",
    "f.close()"
   ]
  },
  {
   "cell_type": "code",
   "execution_count": 99,
   "metadata": {},
   "outputs": [],
   "source": [
    "AA = [x for x in \"ACDEFGHIKLMNPQRSTVWY\"]\n",
    "assert len(AA) == 20\n",
    "import random\n",
    "explainer = pd.read_excel(\"./Onion Explainer.xlsx\", sheet_name = \"Main Detail (2)\")\n",
    "fake_kins = iter([f\"Seq-{x}\" for x in range(sum(explainer['val']))])\n",
    "for i, r in explainer.iterrows():\n",
    "    if i > 29:\n",
    "        next_kins = [fake_kins.__next__() for _ in range(r['val'])]\n",
    "        next_kins_iterator = iter(next_kins)\n",
    "        for j in range(len(explainer), len(explainer) + r['val']):\n",
    "            fake_kin = next_kins_iterator.__next__()\n",
    "            explainer.loc[j] = [fake_kin, \"Site\", r['id'], 1]\n",
    "        explainer.at[i, 'val'] = 0"
   ]
  },
  {
   "cell_type": "code",
   "execution_count": 91,
   "metadata": {},
   "outputs": [
    {
     "data": {
      "text/html": [
       "<div>\n",
       "<style scoped>\n",
       "    .dataframe tbody tr th:only-of-type {\n",
       "        vertical-align: middle;\n",
       "    }\n",
       "\n",
       "    .dataframe tbody tr th {\n",
       "        vertical-align: top;\n",
       "    }\n",
       "\n",
       "    .dataframe thead th {\n",
       "        text-align: right;\n",
       "    }\n",
       "</style>\n",
       "<table border=\"1\" class=\"dataframe\">\n",
       "  <thead>\n",
       "    <tr style=\"text-align: right;\">\n",
       "      <th></th>\n",
       "      <th>id</th>\n",
       "      <th>labels</th>\n",
       "      <th>parents</th>\n",
       "      <th>val</th>\n",
       "    </tr>\n",
       "  </thead>\n",
       "  <tbody>\n",
       "    <tr>\n",
       "      <th>0</th>\n",
       "      <td>Kinase&lt;br&gt;Group A</td>\n",
       "      <td>Kinase&lt;br&gt;Group A</td>\n",
       "      <td>NaN</td>\n",
       "      <td>0</td>\n",
       "    </tr>\n",
       "    <tr>\n",
       "      <th>1</th>\n",
       "      <td>Kinase&lt;br&gt;Group B</td>\n",
       "      <td>Kinase&lt;br&gt;Group B</td>\n",
       "      <td>NaN</td>\n",
       "      <td>0</td>\n",
       "    </tr>\n",
       "    <tr>\n",
       "      <th>2</th>\n",
       "      <td>Kinase&lt;br&gt;Group C</td>\n",
       "      <td>Kinase&lt;br&gt;Group C</td>\n",
       "      <td>NaN</td>\n",
       "      <td>0</td>\n",
       "    </tr>\n",
       "    <tr>\n",
       "      <th>3</th>\n",
       "      <td>A_Train</td>\n",
       "      <td>Train</td>\n",
       "      <td>Kinase&lt;br&gt;Group A</td>\n",
       "      <td>0</td>\n",
       "    </tr>\n",
       "    <tr>\n",
       "      <th>4</th>\n",
       "      <td>A_Val</td>\n",
       "      <td>Val</td>\n",
       "      <td>Kinase&lt;br&gt;Group A</td>\n",
       "      <td>0</td>\n",
       "    </tr>\n",
       "    <tr>\n",
       "      <th>5</th>\n",
       "      <td>A_Test</td>\n",
       "      <td>Test</td>\n",
       "      <td>Kinase&lt;br&gt;Group A</td>\n",
       "      <td>0</td>\n",
       "    </tr>\n",
       "    <tr>\n",
       "      <th>6</th>\n",
       "      <td>B_Train</td>\n",
       "      <td>Train</td>\n",
       "      <td>Kinase&lt;br&gt;Group B</td>\n",
       "      <td>0</td>\n",
       "    </tr>\n",
       "    <tr>\n",
       "      <th>7</th>\n",
       "      <td>B_Val</td>\n",
       "      <td>Val</td>\n",
       "      <td>Kinase&lt;br&gt;Group B</td>\n",
       "      <td>0</td>\n",
       "    </tr>\n",
       "    <tr>\n",
       "      <th>8</th>\n",
       "      <td>B_Test</td>\n",
       "      <td>Test</td>\n",
       "      <td>Kinase&lt;br&gt;Group B</td>\n",
       "      <td>0</td>\n",
       "    </tr>\n",
       "    <tr>\n",
       "      <th>9</th>\n",
       "      <td>C_Train</td>\n",
       "      <td>Train</td>\n",
       "      <td>Kinase&lt;br&gt;Group C</td>\n",
       "      <td>0</td>\n",
       "    </tr>\n",
       "    <tr>\n",
       "      <th>10</th>\n",
       "      <td>C_Val</td>\n",
       "      <td>Val</td>\n",
       "      <td>Kinase&lt;br&gt;Group C</td>\n",
       "      <td>0</td>\n",
       "    </tr>\n",
       "    <tr>\n",
       "      <th>11</th>\n",
       "      <td>C_Test</td>\n",
       "      <td>Test</td>\n",
       "      <td>Kinase&lt;br&gt;Group C</td>\n",
       "      <td>0</td>\n",
       "    </tr>\n",
       "    <tr>\n",
       "      <th>12</th>\n",
       "      <td>Family i</td>\n",
       "      <td>Family i</td>\n",
       "      <td>A_Train</td>\n",
       "      <td>0</td>\n",
       "    </tr>\n",
       "    <tr>\n",
       "      <th>13</th>\n",
       "      <td>Family ii</td>\n",
       "      <td>Family ii</td>\n",
       "      <td>A_Train</td>\n",
       "      <td>0</td>\n",
       "    </tr>\n",
       "    <tr>\n",
       "      <th>14</th>\n",
       "      <td>Family iii</td>\n",
       "      <td>Family iii</td>\n",
       "      <td>A_Val</td>\n",
       "      <td>0</td>\n",
       "    </tr>\n",
       "    <tr>\n",
       "      <th>15</th>\n",
       "      <td>Family iv</td>\n",
       "      <td>Family iv</td>\n",
       "      <td>A_Val</td>\n",
       "      <td>0</td>\n",
       "    </tr>\n",
       "    <tr>\n",
       "      <th>16</th>\n",
       "      <td>Family v</td>\n",
       "      <td>Family v</td>\n",
       "      <td>A_Test</td>\n",
       "      <td>0</td>\n",
       "    </tr>\n",
       "    <tr>\n",
       "      <th>17</th>\n",
       "      <td>Family vi</td>\n",
       "      <td>Family vi</td>\n",
       "      <td>A_Test</td>\n",
       "      <td>0</td>\n",
       "    </tr>\n",
       "    <tr>\n",
       "      <th>18</th>\n",
       "      <td>Family vii</td>\n",
       "      <td>Family vii</td>\n",
       "      <td>B_Train</td>\n",
       "      <td>0</td>\n",
       "    </tr>\n",
       "    <tr>\n",
       "      <th>19</th>\n",
       "      <td>Family viii</td>\n",
       "      <td>Family viii</td>\n",
       "      <td>B_Train</td>\n",
       "      <td>0</td>\n",
       "    </tr>\n",
       "    <tr>\n",
       "      <th>20</th>\n",
       "      <td>Family ix</td>\n",
       "      <td>Family ix</td>\n",
       "      <td>B_Val</td>\n",
       "      <td>0</td>\n",
       "    </tr>\n",
       "    <tr>\n",
       "      <th>21</th>\n",
       "      <td>Family x</td>\n",
       "      <td>Family x</td>\n",
       "      <td>B_Val</td>\n",
       "      <td>0</td>\n",
       "    </tr>\n",
       "    <tr>\n",
       "      <th>22</th>\n",
       "      <td>Family xi</td>\n",
       "      <td>Family xi</td>\n",
       "      <td>B_Test</td>\n",
       "      <td>0</td>\n",
       "    </tr>\n",
       "    <tr>\n",
       "      <th>23</th>\n",
       "      <td>Family xii</td>\n",
       "      <td>Family xii</td>\n",
       "      <td>B_Test</td>\n",
       "      <td>0</td>\n",
       "    </tr>\n",
       "    <tr>\n",
       "      <th>24</th>\n",
       "      <td>Family xiii</td>\n",
       "      <td>Family xiii</td>\n",
       "      <td>C_Train</td>\n",
       "      <td>0</td>\n",
       "    </tr>\n",
       "    <tr>\n",
       "      <th>25</th>\n",
       "      <td>Family xiv</td>\n",
       "      <td>Family xiv</td>\n",
       "      <td>C_Train</td>\n",
       "      <td>0</td>\n",
       "    </tr>\n",
       "    <tr>\n",
       "      <th>26</th>\n",
       "      <td>Family xv</td>\n",
       "      <td>Family xv</td>\n",
       "      <td>C_Val</td>\n",
       "      <td>0</td>\n",
       "    </tr>\n",
       "    <tr>\n",
       "      <th>27</th>\n",
       "      <td>Family xvi</td>\n",
       "      <td>Family xvi</td>\n",
       "      <td>C_Val</td>\n",
       "      <td>0</td>\n",
       "    </tr>\n",
       "    <tr>\n",
       "      <th>28</th>\n",
       "      <td>Family xvii</td>\n",
       "      <td>Family xvii</td>\n",
       "      <td>C_Test</td>\n",
       "      <td>0</td>\n",
       "    </tr>\n",
       "    <tr>\n",
       "      <th>29</th>\n",
       "      <td>Family xviii</td>\n",
       "      <td>Family xviii</td>\n",
       "      <td>C_Test</td>\n",
       "      <td>0</td>\n",
       "    </tr>\n",
       "    <tr>\n",
       "      <th>30</th>\n",
       "      <td>Kinase 1</td>\n",
       "      <td>Kinase 1</td>\n",
       "      <td>Family i</td>\n",
       "      <td>0</td>\n",
       "    </tr>\n",
       "    <tr>\n",
       "      <th>31</th>\n",
       "      <td>Kinase 2</td>\n",
       "      <td>Kinase 2</td>\n",
       "      <td>Family i</td>\n",
       "      <td>0</td>\n",
       "    </tr>\n",
       "    <tr>\n",
       "      <th>32</th>\n",
       "      <td>Kinase 3</td>\n",
       "      <td>Kinase 3</td>\n",
       "      <td>Family i</td>\n",
       "      <td>0</td>\n",
       "    </tr>\n",
       "    <tr>\n",
       "      <th>33</th>\n",
       "      <td>Kinase 4</td>\n",
       "      <td>Kinase 4</td>\n",
       "      <td>Family ii</td>\n",
       "      <td>0</td>\n",
       "    </tr>\n",
       "    <tr>\n",
       "      <th>34</th>\n",
       "      <td>Kinase 5</td>\n",
       "      <td>Kinase 5</td>\n",
       "      <td>Family ii</td>\n",
       "      <td>0</td>\n",
       "    </tr>\n",
       "    <tr>\n",
       "      <th>35</th>\n",
       "      <td>Kinase 6</td>\n",
       "      <td>Kinase 6</td>\n",
       "      <td>Family ii</td>\n",
       "      <td>0</td>\n",
       "    </tr>\n",
       "    <tr>\n",
       "      <th>36</th>\n",
       "      <td>Kinase 7</td>\n",
       "      <td>Kinase 7</td>\n",
       "      <td>Family iii</td>\n",
       "      <td>0</td>\n",
       "    </tr>\n",
       "    <tr>\n",
       "      <th>37</th>\n",
       "      <td>Kinase 8</td>\n",
       "      <td>Kinase 8</td>\n",
       "      <td>Family iii</td>\n",
       "      <td>0</td>\n",
       "    </tr>\n",
       "    <tr>\n",
       "      <th>38</th>\n",
       "      <td>Kinase 9</td>\n",
       "      <td>Kinase 9</td>\n",
       "      <td>Family iii</td>\n",
       "      <td>0</td>\n",
       "    </tr>\n",
       "    <tr>\n",
       "      <th>39</th>\n",
       "      <td>Kinase 10</td>\n",
       "      <td>Kinase 10</td>\n",
       "      <td>Family iv</td>\n",
       "      <td>0</td>\n",
       "    </tr>\n",
       "    <tr>\n",
       "      <th>40</th>\n",
       "      <td>Kinase 11</td>\n",
       "      <td>Kinase 11</td>\n",
       "      <td>Family iv</td>\n",
       "      <td>0</td>\n",
       "    </tr>\n",
       "    <tr>\n",
       "      <th>41</th>\n",
       "      <td>Kinase 12</td>\n",
       "      <td>Kinase 12</td>\n",
       "      <td>Family iv</td>\n",
       "      <td>0</td>\n",
       "    </tr>\n",
       "    <tr>\n",
       "      <th>42</th>\n",
       "      <td>Kinase 13</td>\n",
       "      <td>Kinase 13</td>\n",
       "      <td>Family v</td>\n",
       "      <td>0</td>\n",
       "    </tr>\n",
       "    <tr>\n",
       "      <th>43</th>\n",
       "      <td>Kinase 14</td>\n",
       "      <td>Kinase 14</td>\n",
       "      <td>Family v</td>\n",
       "      <td>0</td>\n",
       "    </tr>\n",
       "    <tr>\n",
       "      <th>44</th>\n",
       "      <td>Kinase 15</td>\n",
       "      <td>Kinase 15</td>\n",
       "      <td>Family v</td>\n",
       "      <td>0</td>\n",
       "    </tr>\n",
       "    <tr>\n",
       "      <th>45</th>\n",
       "      <td>Kinase 16</td>\n",
       "      <td>Kinase 16</td>\n",
       "      <td>Family vi</td>\n",
       "      <td>0</td>\n",
       "    </tr>\n",
       "    <tr>\n",
       "      <th>46</th>\n",
       "      <td>Kinase 17</td>\n",
       "      <td>Kinase 17</td>\n",
       "      <td>Family vi</td>\n",
       "      <td>0</td>\n",
       "    </tr>\n",
       "    <tr>\n",
       "      <th>47</th>\n",
       "      <td>Kinase 18</td>\n",
       "      <td>Kinase 18</td>\n",
       "      <td>Family vi</td>\n",
       "      <td>0</td>\n",
       "    </tr>\n",
       "    <tr>\n",
       "      <th>48</th>\n",
       "      <td>Kinase 19</td>\n",
       "      <td>Kinase 19</td>\n",
       "      <td>Family vii</td>\n",
       "      <td>0</td>\n",
       "    </tr>\n",
       "    <tr>\n",
       "      <th>49</th>\n",
       "      <td>Kinase 20</td>\n",
       "      <td>Kinase 20</td>\n",
       "      <td>Family vii</td>\n",
       "      <td>0</td>\n",
       "    </tr>\n",
       "    <tr>\n",
       "      <th>50</th>\n",
       "      <td>Kinase 21</td>\n",
       "      <td>Kinase 21</td>\n",
       "      <td>Family vii</td>\n",
       "      <td>0</td>\n",
       "    </tr>\n",
       "    <tr>\n",
       "      <th>51</th>\n",
       "      <td>Kinase 22</td>\n",
       "      <td>Kinase 22</td>\n",
       "      <td>Family viii</td>\n",
       "      <td>0</td>\n",
       "    </tr>\n",
       "    <tr>\n",
       "      <th>52</th>\n",
       "      <td>Kinase 23</td>\n",
       "      <td>Kinase 23</td>\n",
       "      <td>Family viii</td>\n",
       "      <td>0</td>\n",
       "    </tr>\n",
       "    <tr>\n",
       "      <th>53</th>\n",
       "      <td>Kinase 24</td>\n",
       "      <td>Kinase 24</td>\n",
       "      <td>Family viii</td>\n",
       "      <td>0</td>\n",
       "    </tr>\n",
       "    <tr>\n",
       "      <th>54</th>\n",
       "      <td>Kinase 25</td>\n",
       "      <td>Kinase 25</td>\n",
       "      <td>Family ix</td>\n",
       "      <td>0</td>\n",
       "    </tr>\n",
       "    <tr>\n",
       "      <th>55</th>\n",
       "      <td>Kinase 26</td>\n",
       "      <td>Kinase 26</td>\n",
       "      <td>Family ix</td>\n",
       "      <td>0</td>\n",
       "    </tr>\n",
       "    <tr>\n",
       "      <th>56</th>\n",
       "      <td>Kinase 27</td>\n",
       "      <td>Kinase 27</td>\n",
       "      <td>Family ix</td>\n",
       "      <td>0</td>\n",
       "    </tr>\n",
       "    <tr>\n",
       "      <th>57</th>\n",
       "      <td>Kinase 28</td>\n",
       "      <td>Kinase 28</td>\n",
       "      <td>Family x</td>\n",
       "      <td>0</td>\n",
       "    </tr>\n",
       "    <tr>\n",
       "      <th>58</th>\n",
       "      <td>Kinase 29</td>\n",
       "      <td>Kinase 29</td>\n",
       "      <td>Family x</td>\n",
       "      <td>0</td>\n",
       "    </tr>\n",
       "    <tr>\n",
       "      <th>59</th>\n",
       "      <td>Kinase 30</td>\n",
       "      <td>Kinase 30</td>\n",
       "      <td>Family x</td>\n",
       "      <td>0</td>\n",
       "    </tr>\n",
       "    <tr>\n",
       "      <th>60</th>\n",
       "      <td>Kinase 31</td>\n",
       "      <td>Kinase 31</td>\n",
       "      <td>Family xi</td>\n",
       "      <td>0</td>\n",
       "    </tr>\n",
       "    <tr>\n",
       "      <th>61</th>\n",
       "      <td>Kinase 32</td>\n",
       "      <td>Kinase 32</td>\n",
       "      <td>Family xi</td>\n",
       "      <td>0</td>\n",
       "    </tr>\n",
       "    <tr>\n",
       "      <th>62</th>\n",
       "      <td>Kinase 33</td>\n",
       "      <td>Kinase 33</td>\n",
       "      <td>Family xi</td>\n",
       "      <td>0</td>\n",
       "    </tr>\n",
       "    <tr>\n",
       "      <th>63</th>\n",
       "      <td>Kinase 34</td>\n",
       "      <td>Kinase 34</td>\n",
       "      <td>Family xii</td>\n",
       "      <td>0</td>\n",
       "    </tr>\n",
       "    <tr>\n",
       "      <th>64</th>\n",
       "      <td>Kinase 35</td>\n",
       "      <td>Kinase 35</td>\n",
       "      <td>Family xii</td>\n",
       "      <td>0</td>\n",
       "    </tr>\n",
       "    <tr>\n",
       "      <th>65</th>\n",
       "      <td>Kinase 36</td>\n",
       "      <td>Kinase 36</td>\n",
       "      <td>Family xii</td>\n",
       "      <td>0</td>\n",
       "    </tr>\n",
       "    <tr>\n",
       "      <th>66</th>\n",
       "      <td>Kinase 37</td>\n",
       "      <td>Kinase 37</td>\n",
       "      <td>Family xiii</td>\n",
       "      <td>0</td>\n",
       "    </tr>\n",
       "    <tr>\n",
       "      <th>67</th>\n",
       "      <td>Kinase 38</td>\n",
       "      <td>Kinase 38</td>\n",
       "      <td>Family xiii</td>\n",
       "      <td>0</td>\n",
       "    </tr>\n",
       "    <tr>\n",
       "      <th>68</th>\n",
       "      <td>Kinase 39</td>\n",
       "      <td>Kinase 39</td>\n",
       "      <td>Family xiii</td>\n",
       "      <td>0</td>\n",
       "    </tr>\n",
       "    <tr>\n",
       "      <th>69</th>\n",
       "      <td>Kinase 40</td>\n",
       "      <td>Kinase 40</td>\n",
       "      <td>Family xiv</td>\n",
       "      <td>0</td>\n",
       "    </tr>\n",
       "    <tr>\n",
       "      <th>70</th>\n",
       "      <td>Kinase 41</td>\n",
       "      <td>Kinase 41</td>\n",
       "      <td>Family xiv</td>\n",
       "      <td>0</td>\n",
       "    </tr>\n",
       "    <tr>\n",
       "      <th>71</th>\n",
       "      <td>Kinase 42</td>\n",
       "      <td>Kinase 42</td>\n",
       "      <td>Family xiv</td>\n",
       "      <td>0</td>\n",
       "    </tr>\n",
       "    <tr>\n",
       "      <th>72</th>\n",
       "      <td>Kinase 43</td>\n",
       "      <td>Kinase 43</td>\n",
       "      <td>Family xv</td>\n",
       "      <td>0</td>\n",
       "    </tr>\n",
       "    <tr>\n",
       "      <th>73</th>\n",
       "      <td>Kinase 44</td>\n",
       "      <td>Kinase 44</td>\n",
       "      <td>Family xv</td>\n",
       "      <td>0</td>\n",
       "    </tr>\n",
       "    <tr>\n",
       "      <th>74</th>\n",
       "      <td>Kinase 45</td>\n",
       "      <td>Kinase 45</td>\n",
       "      <td>Family xv</td>\n",
       "      <td>0</td>\n",
       "    </tr>\n",
       "    <tr>\n",
       "      <th>75</th>\n",
       "      <td>Kinase 46</td>\n",
       "      <td>Kinase 46</td>\n",
       "      <td>Family xvi</td>\n",
       "      <td>0</td>\n",
       "    </tr>\n",
       "    <tr>\n",
       "      <th>76</th>\n",
       "      <td>Kinase 47</td>\n",
       "      <td>Kinase 47</td>\n",
       "      <td>Family xvi</td>\n",
       "      <td>0</td>\n",
       "    </tr>\n",
       "    <tr>\n",
       "      <th>77</th>\n",
       "      <td>Kinase 48</td>\n",
       "      <td>Kinase 48</td>\n",
       "      <td>Family xvi</td>\n",
       "      <td>0</td>\n",
       "    </tr>\n",
       "    <tr>\n",
       "      <th>78</th>\n",
       "      <td>Kinase 49</td>\n",
       "      <td>Kinase 49</td>\n",
       "      <td>Family xvii</td>\n",
       "      <td>0</td>\n",
       "    </tr>\n",
       "    <tr>\n",
       "      <th>79</th>\n",
       "      <td>Kinase 50</td>\n",
       "      <td>Kinase 50</td>\n",
       "      <td>Family xvii</td>\n",
       "      <td>0</td>\n",
       "    </tr>\n",
       "    <tr>\n",
       "      <th>80</th>\n",
       "      <td>Kinase 51</td>\n",
       "      <td>Kinase 51</td>\n",
       "      <td>Family xvii</td>\n",
       "      <td>0</td>\n",
       "    </tr>\n",
       "    <tr>\n",
       "      <th>81</th>\n",
       "      <td>Kinase 52</td>\n",
       "      <td>Kinase 52</td>\n",
       "      <td>Family xviii</td>\n",
       "      <td>0</td>\n",
       "    </tr>\n",
       "    <tr>\n",
       "      <th>82</th>\n",
       "      <td>Kinase 53</td>\n",
       "      <td>Kinase 53</td>\n",
       "      <td>Family xviii</td>\n",
       "      <td>0</td>\n",
       "    </tr>\n",
       "    <tr>\n",
       "      <th>83</th>\n",
       "      <td>Kinase 54</td>\n",
       "      <td>Kinase 54</td>\n",
       "      <td>Family xviii</td>\n",
       "      <td>0</td>\n",
       "    </tr>\n",
       "    <tr>\n",
       "      <th>84</th>\n",
       "      <td>Seq-0</td>\n",
       "      <td>Seq</td>\n",
       "      <td>Kinase 1</td>\n",
       "      <td>1</td>\n",
       "    </tr>\n",
       "    <tr>\n",
       "      <th>85</th>\n",
       "      <td>Seq-1</td>\n",
       "      <td>Seq</td>\n",
       "      <td>Kinase 1</td>\n",
       "      <td>1</td>\n",
       "    </tr>\n",
       "    <tr>\n",
       "      <th>86</th>\n",
       "      <td>Seq-2</td>\n",
       "      <td>Seq</td>\n",
       "      <td>Kinase 1</td>\n",
       "      <td>1</td>\n",
       "    </tr>\n",
       "    <tr>\n",
       "      <th>87</th>\n",
       "      <td>Seq-3</td>\n",
       "      <td>Seq</td>\n",
       "      <td>Kinase 1</td>\n",
       "      <td>1</td>\n",
       "    </tr>\n",
       "    <tr>\n",
       "      <th>88</th>\n",
       "      <td>Seq-4</td>\n",
       "      <td>Seq</td>\n",
       "      <td>Kinase 2</td>\n",
       "      <td>1</td>\n",
       "    </tr>\n",
       "    <tr>\n",
       "      <th>89</th>\n",
       "      <td>Seq-5</td>\n",
       "      <td>Seq</td>\n",
       "      <td>Kinase 2</td>\n",
       "      <td>1</td>\n",
       "    </tr>\n",
       "    <tr>\n",
       "      <th>90</th>\n",
       "      <td>Seq-6</td>\n",
       "      <td>Seq</td>\n",
       "      <td>Kinase 2</td>\n",
       "      <td>1</td>\n",
       "    </tr>\n",
       "    <tr>\n",
       "      <th>91</th>\n",
       "      <td>Seq-7</td>\n",
       "      <td>Seq</td>\n",
       "      <td>Kinase 2</td>\n",
       "      <td>1</td>\n",
       "    </tr>\n",
       "    <tr>\n",
       "      <th>92</th>\n",
       "      <td>Seq-8</td>\n",
       "      <td>Seq</td>\n",
       "      <td>Kinase 2</td>\n",
       "      <td>1</td>\n",
       "    </tr>\n",
       "    <tr>\n",
       "      <th>93</th>\n",
       "      <td>Seq-9</td>\n",
       "      <td>Seq</td>\n",
       "      <td>Kinase 3</td>\n",
       "      <td>1</td>\n",
       "    </tr>\n",
       "    <tr>\n",
       "      <th>94</th>\n",
       "      <td>Seq-10</td>\n",
       "      <td>Seq</td>\n",
       "      <td>Kinase 3</td>\n",
       "      <td>1</td>\n",
       "    </tr>\n",
       "    <tr>\n",
       "      <th>95</th>\n",
       "      <td>Seq-11</td>\n",
       "      <td>Seq</td>\n",
       "      <td>Kinase 3</td>\n",
       "      <td>1</td>\n",
       "    </tr>\n",
       "    <tr>\n",
       "      <th>96</th>\n",
       "      <td>Seq-12</td>\n",
       "      <td>Seq</td>\n",
       "      <td>Kinase 3</td>\n",
       "      <td>1</td>\n",
       "    </tr>\n",
       "    <tr>\n",
       "      <th>97</th>\n",
       "      <td>Seq-13</td>\n",
       "      <td>Seq</td>\n",
       "      <td>Kinase 4</td>\n",
       "      <td>1</td>\n",
       "    </tr>\n",
       "    <tr>\n",
       "      <th>98</th>\n",
       "      <td>Seq-14</td>\n",
       "      <td>Seq</td>\n",
       "      <td>Kinase 4</td>\n",
       "      <td>1</td>\n",
       "    </tr>\n",
       "    <tr>\n",
       "      <th>99</th>\n",
       "      <td>Seq-15</td>\n",
       "      <td>Seq</td>\n",
       "      <td>Kinase 4</td>\n",
       "      <td>1</td>\n",
       "    </tr>\n",
       "    <tr>\n",
       "      <th>100</th>\n",
       "      <td>Seq-16</td>\n",
       "      <td>Seq</td>\n",
       "      <td>Kinase 4</td>\n",
       "      <td>1</td>\n",
       "    </tr>\n",
       "    <tr>\n",
       "      <th>101</th>\n",
       "      <td>Seq-17</td>\n",
       "      <td>Seq</td>\n",
       "      <td>Kinase 4</td>\n",
       "      <td>1</td>\n",
       "    </tr>\n",
       "    <tr>\n",
       "      <th>102</th>\n",
       "      <td>Seq-18</td>\n",
       "      <td>Seq</td>\n",
       "      <td>Kinase 4</td>\n",
       "      <td>1</td>\n",
       "    </tr>\n",
       "    <tr>\n",
       "      <th>103</th>\n",
       "      <td>Seq-19</td>\n",
       "      <td>Seq</td>\n",
       "      <td>Kinase 5</td>\n",
       "      <td>1</td>\n",
       "    </tr>\n",
       "    <tr>\n",
       "      <th>104</th>\n",
       "      <td>Seq-20</td>\n",
       "      <td>Seq</td>\n",
       "      <td>Kinase 5</td>\n",
       "      <td>1</td>\n",
       "    </tr>\n",
       "    <tr>\n",
       "      <th>105</th>\n",
       "      <td>Seq-21</td>\n",
       "      <td>Seq</td>\n",
       "      <td>Kinase 5</td>\n",
       "      <td>1</td>\n",
       "    </tr>\n",
       "    <tr>\n",
       "      <th>106</th>\n",
       "      <td>Seq-22</td>\n",
       "      <td>Seq</td>\n",
       "      <td>Kinase 6</td>\n",
       "      <td>1</td>\n",
       "    </tr>\n",
       "    <tr>\n",
       "      <th>107</th>\n",
       "      <td>Seq-23</td>\n",
       "      <td>Seq</td>\n",
       "      <td>Kinase 6</td>\n",
       "      <td>1</td>\n",
       "    </tr>\n",
       "    <tr>\n",
       "      <th>108</th>\n",
       "      <td>Seq-24</td>\n",
       "      <td>Seq</td>\n",
       "      <td>Kinase 6</td>\n",
       "      <td>1</td>\n",
       "    </tr>\n",
       "    <tr>\n",
       "      <th>109</th>\n",
       "      <td>Seq-25</td>\n",
       "      <td>Seq</td>\n",
       "      <td>Kinase 7</td>\n",
       "      <td>1</td>\n",
       "    </tr>\n",
       "    <tr>\n",
       "      <th>110</th>\n",
       "      <td>Seq-26</td>\n",
       "      <td>Seq</td>\n",
       "      <td>Kinase 8</td>\n",
       "      <td>1</td>\n",
       "    </tr>\n",
       "    <tr>\n",
       "      <th>111</th>\n",
       "      <td>Seq-27</td>\n",
       "      <td>Seq</td>\n",
       "      <td>Kinase 9</td>\n",
       "      <td>1</td>\n",
       "    </tr>\n",
       "    <tr>\n",
       "      <th>112</th>\n",
       "      <td>Seq-28</td>\n",
       "      <td>Seq</td>\n",
       "      <td>Kinase 10</td>\n",
       "      <td>1</td>\n",
       "    </tr>\n",
       "    <tr>\n",
       "      <th>113</th>\n",
       "      <td>Seq-29</td>\n",
       "      <td>Seq</td>\n",
       "      <td>Kinase 11</td>\n",
       "      <td>1</td>\n",
       "    </tr>\n",
       "    <tr>\n",
       "      <th>114</th>\n",
       "      <td>Seq-30</td>\n",
       "      <td>Seq</td>\n",
       "      <td>Kinase 12</td>\n",
       "      <td>1</td>\n",
       "    </tr>\n",
       "    <tr>\n",
       "      <th>115</th>\n",
       "      <td>Seq-31</td>\n",
       "      <td>Seq</td>\n",
       "      <td>Kinase 13</td>\n",
       "      <td>1</td>\n",
       "    </tr>\n",
       "    <tr>\n",
       "      <th>116</th>\n",
       "      <td>Seq-32</td>\n",
       "      <td>Seq</td>\n",
       "      <td>Kinase 14</td>\n",
       "      <td>1</td>\n",
       "    </tr>\n",
       "    <tr>\n",
       "      <th>117</th>\n",
       "      <td>Seq-33</td>\n",
       "      <td>Seq</td>\n",
       "      <td>Kinase 15</td>\n",
       "      <td>1</td>\n",
       "    </tr>\n",
       "    <tr>\n",
       "      <th>118</th>\n",
       "      <td>Seq-34</td>\n",
       "      <td>Seq</td>\n",
       "      <td>Kinase 16</td>\n",
       "      <td>1</td>\n",
       "    </tr>\n",
       "    <tr>\n",
       "      <th>119</th>\n",
       "      <td>Seq-35</td>\n",
       "      <td>Seq</td>\n",
       "      <td>Kinase 17</td>\n",
       "      <td>1</td>\n",
       "    </tr>\n",
       "    <tr>\n",
       "      <th>120</th>\n",
       "      <td>Seq-36</td>\n",
       "      <td>Seq</td>\n",
       "      <td>Kinase 17</td>\n",
       "      <td>1</td>\n",
       "    </tr>\n",
       "    <tr>\n",
       "      <th>121</th>\n",
       "      <td>Seq-37</td>\n",
       "      <td>Seq</td>\n",
       "      <td>Kinase 18</td>\n",
       "      <td>1</td>\n",
       "    </tr>\n",
       "    <tr>\n",
       "      <th>122</th>\n",
       "      <td>Seq-38</td>\n",
       "      <td>Seq</td>\n",
       "      <td>Kinase 19</td>\n",
       "      <td>1</td>\n",
       "    </tr>\n",
       "    <tr>\n",
       "      <th>123</th>\n",
       "      <td>Seq-39</td>\n",
       "      <td>Seq</td>\n",
       "      <td>Kinase 19</td>\n",
       "      <td>1</td>\n",
       "    </tr>\n",
       "    <tr>\n",
       "      <th>124</th>\n",
       "      <td>Seq-40</td>\n",
       "      <td>Seq</td>\n",
       "      <td>Kinase 19</td>\n",
       "      <td>1</td>\n",
       "    </tr>\n",
       "    <tr>\n",
       "      <th>125</th>\n",
       "      <td>Seq-41</td>\n",
       "      <td>Seq</td>\n",
       "      <td>Kinase 19</td>\n",
       "      <td>1</td>\n",
       "    </tr>\n",
       "    <tr>\n",
       "      <th>126</th>\n",
       "      <td>Seq-42</td>\n",
       "      <td>Seq</td>\n",
       "      <td>Kinase 19</td>\n",
       "      <td>1</td>\n",
       "    </tr>\n",
       "    <tr>\n",
       "      <th>127</th>\n",
       "      <td>Seq-43</td>\n",
       "      <td>Seq</td>\n",
       "      <td>Kinase 20</td>\n",
       "      <td>1</td>\n",
       "    </tr>\n",
       "    <tr>\n",
       "      <th>128</th>\n",
       "      <td>Seq-44</td>\n",
       "      <td>Seq</td>\n",
       "      <td>Kinase 20</td>\n",
       "      <td>1</td>\n",
       "    </tr>\n",
       "    <tr>\n",
       "      <th>129</th>\n",
       "      <td>Seq-45</td>\n",
       "      <td>Seq</td>\n",
       "      <td>Kinase 20</td>\n",
       "      <td>1</td>\n",
       "    </tr>\n",
       "    <tr>\n",
       "      <th>130</th>\n",
       "      <td>Seq-46</td>\n",
       "      <td>Seq</td>\n",
       "      <td>Kinase 20</td>\n",
       "      <td>1</td>\n",
       "    </tr>\n",
       "    <tr>\n",
       "      <th>131</th>\n",
       "      <td>Seq-47</td>\n",
       "      <td>Seq</td>\n",
       "      <td>Kinase 20</td>\n",
       "      <td>1</td>\n",
       "    </tr>\n",
       "    <tr>\n",
       "      <th>132</th>\n",
       "      <td>Seq-48</td>\n",
       "      <td>Seq</td>\n",
       "      <td>Kinase 20</td>\n",
       "      <td>1</td>\n",
       "    </tr>\n",
       "    <tr>\n",
       "      <th>133</th>\n",
       "      <td>Seq-49</td>\n",
       "      <td>Seq</td>\n",
       "      <td>Kinase 21</td>\n",
       "      <td>1</td>\n",
       "    </tr>\n",
       "    <tr>\n",
       "      <th>134</th>\n",
       "      <td>Seq-50</td>\n",
       "      <td>Seq</td>\n",
       "      <td>Kinase 21</td>\n",
       "      <td>1</td>\n",
       "    </tr>\n",
       "    <tr>\n",
       "      <th>135</th>\n",
       "      <td>Seq-51</td>\n",
       "      <td>Seq</td>\n",
       "      <td>Kinase 21</td>\n",
       "      <td>1</td>\n",
       "    </tr>\n",
       "    <tr>\n",
       "      <th>136</th>\n",
       "      <td>Seq-52</td>\n",
       "      <td>Seq</td>\n",
       "      <td>Kinase 21</td>\n",
       "      <td>1</td>\n",
       "    </tr>\n",
       "    <tr>\n",
       "      <th>137</th>\n",
       "      <td>Seq-53</td>\n",
       "      <td>Seq</td>\n",
       "      <td>Kinase 21</td>\n",
       "      <td>1</td>\n",
       "    </tr>\n",
       "    <tr>\n",
       "      <th>138</th>\n",
       "      <td>Seq-54</td>\n",
       "      <td>Seq</td>\n",
       "      <td>Kinase 21</td>\n",
       "      <td>1</td>\n",
       "    </tr>\n",
       "    <tr>\n",
       "      <th>139</th>\n",
       "      <td>Seq-55</td>\n",
       "      <td>Seq</td>\n",
       "      <td>Kinase 22</td>\n",
       "      <td>1</td>\n",
       "    </tr>\n",
       "    <tr>\n",
       "      <th>140</th>\n",
       "      <td>Seq-56</td>\n",
       "      <td>Seq</td>\n",
       "      <td>Kinase 22</td>\n",
       "      <td>1</td>\n",
       "    </tr>\n",
       "    <tr>\n",
       "      <th>141</th>\n",
       "      <td>Seq-57</td>\n",
       "      <td>Seq</td>\n",
       "      <td>Kinase 22</td>\n",
       "      <td>1</td>\n",
       "    </tr>\n",
       "    <tr>\n",
       "      <th>142</th>\n",
       "      <td>Seq-58</td>\n",
       "      <td>Seq</td>\n",
       "      <td>Kinase 22</td>\n",
       "      <td>1</td>\n",
       "    </tr>\n",
       "    <tr>\n",
       "      <th>143</th>\n",
       "      <td>Seq-59</td>\n",
       "      <td>Seq</td>\n",
       "      <td>Kinase 23</td>\n",
       "      <td>1</td>\n",
       "    </tr>\n",
       "    <tr>\n",
       "      <th>144</th>\n",
       "      <td>Seq-60</td>\n",
       "      <td>Seq</td>\n",
       "      <td>Kinase 23</td>\n",
       "      <td>1</td>\n",
       "    </tr>\n",
       "    <tr>\n",
       "      <th>145</th>\n",
       "      <td>Seq-61</td>\n",
       "      <td>Seq</td>\n",
       "      <td>Kinase 23</td>\n",
       "      <td>1</td>\n",
       "    </tr>\n",
       "    <tr>\n",
       "      <th>146</th>\n",
       "      <td>Seq-62</td>\n",
       "      <td>Seq</td>\n",
       "      <td>Kinase 24</td>\n",
       "      <td>1</td>\n",
       "    </tr>\n",
       "    <tr>\n",
       "      <th>147</th>\n",
       "      <td>Seq-63</td>\n",
       "      <td>Seq</td>\n",
       "      <td>Kinase 24</td>\n",
       "      <td>1</td>\n",
       "    </tr>\n",
       "    <tr>\n",
       "      <th>148</th>\n",
       "      <td>Seq-64</td>\n",
       "      <td>Seq</td>\n",
       "      <td>Kinase 24</td>\n",
       "      <td>1</td>\n",
       "    </tr>\n",
       "    <tr>\n",
       "      <th>149</th>\n",
       "      <td>Seq-65</td>\n",
       "      <td>Seq</td>\n",
       "      <td>Kinase 24</td>\n",
       "      <td>1</td>\n",
       "    </tr>\n",
       "    <tr>\n",
       "      <th>150</th>\n",
       "      <td>Seq-66</td>\n",
       "      <td>Seq</td>\n",
       "      <td>Kinase 24</td>\n",
       "      <td>1</td>\n",
       "    </tr>\n",
       "    <tr>\n",
       "      <th>151</th>\n",
       "      <td>Seq-67</td>\n",
       "      <td>Seq</td>\n",
       "      <td>Kinase 25</td>\n",
       "      <td>1</td>\n",
       "    </tr>\n",
       "    <tr>\n",
       "      <th>152</th>\n",
       "      <td>Seq-68</td>\n",
       "      <td>Seq</td>\n",
       "      <td>Kinase 25</td>\n",
       "      <td>1</td>\n",
       "    </tr>\n",
       "    <tr>\n",
       "      <th>153</th>\n",
       "      <td>Seq-69</td>\n",
       "      <td>Seq</td>\n",
       "      <td>Kinase 26</td>\n",
       "      <td>1</td>\n",
       "    </tr>\n",
       "    <tr>\n",
       "      <th>154</th>\n",
       "      <td>Seq-70</td>\n",
       "      <td>Seq</td>\n",
       "      <td>Kinase 26</td>\n",
       "      <td>1</td>\n",
       "    </tr>\n",
       "    <tr>\n",
       "      <th>155</th>\n",
       "      <td>Seq-71</td>\n",
       "      <td>Seq</td>\n",
       "      <td>Kinase 27</td>\n",
       "      <td>1</td>\n",
       "    </tr>\n",
       "    <tr>\n",
       "      <th>156</th>\n",
       "      <td>Seq-72</td>\n",
       "      <td>Seq</td>\n",
       "      <td>Kinase 27</td>\n",
       "      <td>1</td>\n",
       "    </tr>\n",
       "    <tr>\n",
       "      <th>157</th>\n",
       "      <td>Seq-73</td>\n",
       "      <td>Seq</td>\n",
       "      <td>Kinase 28</td>\n",
       "      <td>1</td>\n",
       "    </tr>\n",
       "    <tr>\n",
       "      <th>158</th>\n",
       "      <td>Seq-74</td>\n",
       "      <td>Seq</td>\n",
       "      <td>Kinase 28</td>\n",
       "      <td>1</td>\n",
       "    </tr>\n",
       "    <tr>\n",
       "      <th>159</th>\n",
       "      <td>Seq-75</td>\n",
       "      <td>Seq</td>\n",
       "      <td>Kinase 29</td>\n",
       "      <td>1</td>\n",
       "    </tr>\n",
       "    <tr>\n",
       "      <th>160</th>\n",
       "      <td>Seq-76</td>\n",
       "      <td>Seq</td>\n",
       "      <td>Kinase 30</td>\n",
       "      <td>1</td>\n",
       "    </tr>\n",
       "    <tr>\n",
       "      <th>161</th>\n",
       "      <td>Seq-77</td>\n",
       "      <td>Seq</td>\n",
       "      <td>Kinase 30</td>\n",
       "      <td>1</td>\n",
       "    </tr>\n",
       "    <tr>\n",
       "      <th>162</th>\n",
       "      <td>Seq-78</td>\n",
       "      <td>Seq</td>\n",
       "      <td>Kinase 31</td>\n",
       "      <td>1</td>\n",
       "    </tr>\n",
       "    <tr>\n",
       "      <th>163</th>\n",
       "      <td>Seq-79</td>\n",
       "      <td>Seq</td>\n",
       "      <td>Kinase 32</td>\n",
       "      <td>1</td>\n",
       "    </tr>\n",
       "    <tr>\n",
       "      <th>164</th>\n",
       "      <td>Seq-80</td>\n",
       "      <td>Seq</td>\n",
       "      <td>Kinase 33</td>\n",
       "      <td>1</td>\n",
       "    </tr>\n",
       "    <tr>\n",
       "      <th>165</th>\n",
       "      <td>Seq-81</td>\n",
       "      <td>Seq</td>\n",
       "      <td>Kinase 33</td>\n",
       "      <td>1</td>\n",
       "    </tr>\n",
       "    <tr>\n",
       "      <th>166</th>\n",
       "      <td>Seq-82</td>\n",
       "      <td>Seq</td>\n",
       "      <td>Kinase 34</td>\n",
       "      <td>1</td>\n",
       "    </tr>\n",
       "    <tr>\n",
       "      <th>167</th>\n",
       "      <td>Seq-83</td>\n",
       "      <td>Seq</td>\n",
       "      <td>Kinase 34</td>\n",
       "      <td>1</td>\n",
       "    </tr>\n",
       "    <tr>\n",
       "      <th>168</th>\n",
       "      <td>Seq-84</td>\n",
       "      <td>Seq</td>\n",
       "      <td>Kinase 35</td>\n",
       "      <td>1</td>\n",
       "    </tr>\n",
       "    <tr>\n",
       "      <th>169</th>\n",
       "      <td>Seq-85</td>\n",
       "      <td>Seq</td>\n",
       "      <td>Kinase 35</td>\n",
       "      <td>1</td>\n",
       "    </tr>\n",
       "    <tr>\n",
       "      <th>170</th>\n",
       "      <td>Seq-86</td>\n",
       "      <td>Seq</td>\n",
       "      <td>Kinase 36</td>\n",
       "      <td>1</td>\n",
       "    </tr>\n",
       "    <tr>\n",
       "      <th>171</th>\n",
       "      <td>Seq-87</td>\n",
       "      <td>Seq</td>\n",
       "      <td>Kinase 37</td>\n",
       "      <td>1</td>\n",
       "    </tr>\n",
       "    <tr>\n",
       "      <th>172</th>\n",
       "      <td>Seq-88</td>\n",
       "      <td>Seq</td>\n",
       "      <td>Kinase 37</td>\n",
       "      <td>1</td>\n",
       "    </tr>\n",
       "    <tr>\n",
       "      <th>173</th>\n",
       "      <td>Seq-89</td>\n",
       "      <td>Seq</td>\n",
       "      <td>Kinase 37</td>\n",
       "      <td>1</td>\n",
       "    </tr>\n",
       "    <tr>\n",
       "      <th>174</th>\n",
       "      <td>Seq-90</td>\n",
       "      <td>Seq</td>\n",
       "      <td>Kinase 37</td>\n",
       "      <td>1</td>\n",
       "    </tr>\n",
       "    <tr>\n",
       "      <th>175</th>\n",
       "      <td>Seq-91</td>\n",
       "      <td>Seq</td>\n",
       "      <td>Kinase 37</td>\n",
       "      <td>1</td>\n",
       "    </tr>\n",
       "    <tr>\n",
       "      <th>176</th>\n",
       "      <td>Seq-92</td>\n",
       "      <td>Seq</td>\n",
       "      <td>Kinase 37</td>\n",
       "      <td>1</td>\n",
       "    </tr>\n",
       "    <tr>\n",
       "      <th>177</th>\n",
       "      <td>Seq-93</td>\n",
       "      <td>Seq</td>\n",
       "      <td>Kinase 38</td>\n",
       "      <td>1</td>\n",
       "    </tr>\n",
       "    <tr>\n",
       "      <th>178</th>\n",
       "      <td>Seq-94</td>\n",
       "      <td>Seq</td>\n",
       "      <td>Kinase 38</td>\n",
       "      <td>1</td>\n",
       "    </tr>\n",
       "    <tr>\n",
       "      <th>179</th>\n",
       "      <td>Seq-95</td>\n",
       "      <td>Seq</td>\n",
       "      <td>Kinase 38</td>\n",
       "      <td>1</td>\n",
       "    </tr>\n",
       "    <tr>\n",
       "      <th>180</th>\n",
       "      <td>Seq-96</td>\n",
       "      <td>Seq</td>\n",
       "      <td>Kinase 39</td>\n",
       "      <td>1</td>\n",
       "    </tr>\n",
       "    <tr>\n",
       "      <th>181</th>\n",
       "      <td>Seq-97</td>\n",
       "      <td>Seq</td>\n",
       "      <td>Kinase 39</td>\n",
       "      <td>1</td>\n",
       "    </tr>\n",
       "    <tr>\n",
       "      <th>182</th>\n",
       "      <td>Seq-98</td>\n",
       "      <td>Seq</td>\n",
       "      <td>Kinase 39</td>\n",
       "      <td>1</td>\n",
       "    </tr>\n",
       "    <tr>\n",
       "      <th>183</th>\n",
       "      <td>Seq-99</td>\n",
       "      <td>Seq</td>\n",
       "      <td>Kinase 40</td>\n",
       "      <td>1</td>\n",
       "    </tr>\n",
       "    <tr>\n",
       "      <th>184</th>\n",
       "      <td>Seq-100</td>\n",
       "      <td>Seq</td>\n",
       "      <td>Kinase 40</td>\n",
       "      <td>1</td>\n",
       "    </tr>\n",
       "    <tr>\n",
       "      <th>185</th>\n",
       "      <td>Seq-101</td>\n",
       "      <td>Seq</td>\n",
       "      <td>Kinase 40</td>\n",
       "      <td>1</td>\n",
       "    </tr>\n",
       "    <tr>\n",
       "      <th>186</th>\n",
       "      <td>Seq-102</td>\n",
       "      <td>Seq</td>\n",
       "      <td>Kinase 40</td>\n",
       "      <td>1</td>\n",
       "    </tr>\n",
       "    <tr>\n",
       "      <th>187</th>\n",
       "      <td>Seq-103</td>\n",
       "      <td>Seq</td>\n",
       "      <td>Kinase 40</td>\n",
       "      <td>1</td>\n",
       "    </tr>\n",
       "    <tr>\n",
       "      <th>188</th>\n",
       "      <td>Seq-104</td>\n",
       "      <td>Seq</td>\n",
       "      <td>Kinase 41</td>\n",
       "      <td>1</td>\n",
       "    </tr>\n",
       "    <tr>\n",
       "      <th>189</th>\n",
       "      <td>Seq-105</td>\n",
       "      <td>Seq</td>\n",
       "      <td>Kinase 41</td>\n",
       "      <td>1</td>\n",
       "    </tr>\n",
       "    <tr>\n",
       "      <th>190</th>\n",
       "      <td>Seq-106</td>\n",
       "      <td>Seq</td>\n",
       "      <td>Kinase 41</td>\n",
       "      <td>1</td>\n",
       "    </tr>\n",
       "    <tr>\n",
       "      <th>191</th>\n",
       "      <td>Seq-107</td>\n",
       "      <td>Seq</td>\n",
       "      <td>Kinase 41</td>\n",
       "      <td>1</td>\n",
       "    </tr>\n",
       "    <tr>\n",
       "      <th>192</th>\n",
       "      <td>Seq-108</td>\n",
       "      <td>Seq</td>\n",
       "      <td>Kinase 41</td>\n",
       "      <td>1</td>\n",
       "    </tr>\n",
       "    <tr>\n",
       "      <th>193</th>\n",
       "      <td>Seq-109</td>\n",
       "      <td>Seq</td>\n",
       "      <td>Kinase 42</td>\n",
       "      <td>1</td>\n",
       "    </tr>\n",
       "    <tr>\n",
       "      <th>194</th>\n",
       "      <td>Seq-110</td>\n",
       "      <td>Seq</td>\n",
       "      <td>Kinase 42</td>\n",
       "      <td>1</td>\n",
       "    </tr>\n",
       "    <tr>\n",
       "      <th>195</th>\n",
       "      <td>Seq-111</td>\n",
       "      <td>Seq</td>\n",
       "      <td>Kinase 42</td>\n",
       "      <td>1</td>\n",
       "    </tr>\n",
       "    <tr>\n",
       "      <th>196</th>\n",
       "      <td>Seq-112</td>\n",
       "      <td>Seq</td>\n",
       "      <td>Kinase 42</td>\n",
       "      <td>1</td>\n",
       "    </tr>\n",
       "    <tr>\n",
       "      <th>197</th>\n",
       "      <td>Seq-113</td>\n",
       "      <td>Seq</td>\n",
       "      <td>Kinase 43</td>\n",
       "      <td>1</td>\n",
       "    </tr>\n",
       "    <tr>\n",
       "      <th>198</th>\n",
       "      <td>Seq-114</td>\n",
       "      <td>Seq</td>\n",
       "      <td>Kinase 43</td>\n",
       "      <td>1</td>\n",
       "    </tr>\n",
       "    <tr>\n",
       "      <th>199</th>\n",
       "      <td>Seq-115</td>\n",
       "      <td>Seq</td>\n",
       "      <td>Kinase 44</td>\n",
       "      <td>1</td>\n",
       "    </tr>\n",
       "    <tr>\n",
       "      <th>200</th>\n",
       "      <td>Seq-116</td>\n",
       "      <td>Seq</td>\n",
       "      <td>Kinase 44</td>\n",
       "      <td>1</td>\n",
       "    </tr>\n",
       "    <tr>\n",
       "      <th>201</th>\n",
       "      <td>Seq-117</td>\n",
       "      <td>Seq</td>\n",
       "      <td>Kinase 45</td>\n",
       "      <td>1</td>\n",
       "    </tr>\n",
       "    <tr>\n",
       "      <th>202</th>\n",
       "      <td>Seq-118</td>\n",
       "      <td>Seq</td>\n",
       "      <td>Kinase 46</td>\n",
       "      <td>1</td>\n",
       "    </tr>\n",
       "    <tr>\n",
       "      <th>203</th>\n",
       "      <td>Seq-119</td>\n",
       "      <td>Seq</td>\n",
       "      <td>Kinase 46</td>\n",
       "      <td>1</td>\n",
       "    </tr>\n",
       "    <tr>\n",
       "      <th>204</th>\n",
       "      <td>Seq-120</td>\n",
       "      <td>Seq</td>\n",
       "      <td>Kinase 47</td>\n",
       "      <td>1</td>\n",
       "    </tr>\n",
       "    <tr>\n",
       "      <th>205</th>\n",
       "      <td>Seq-121</td>\n",
       "      <td>Seq</td>\n",
       "      <td>Kinase 47</td>\n",
       "      <td>1</td>\n",
       "    </tr>\n",
       "    <tr>\n",
       "      <th>206</th>\n",
       "      <td>Seq-122</td>\n",
       "      <td>Seq</td>\n",
       "      <td>Kinase 48</td>\n",
       "      <td>1</td>\n",
       "    </tr>\n",
       "    <tr>\n",
       "      <th>207</th>\n",
       "      <td>Seq-123</td>\n",
       "      <td>Seq</td>\n",
       "      <td>Kinase 49</td>\n",
       "      <td>1</td>\n",
       "    </tr>\n",
       "    <tr>\n",
       "      <th>208</th>\n",
       "      <td>Seq-124</td>\n",
       "      <td>Seq</td>\n",
       "      <td>Kinase 49</td>\n",
       "      <td>1</td>\n",
       "    </tr>\n",
       "    <tr>\n",
       "      <th>209</th>\n",
       "      <td>Seq-125</td>\n",
       "      <td>Seq</td>\n",
       "      <td>Kinase 50</td>\n",
       "      <td>1</td>\n",
       "    </tr>\n",
       "    <tr>\n",
       "      <th>210</th>\n",
       "      <td>Seq-126</td>\n",
       "      <td>Seq</td>\n",
       "      <td>Kinase 50</td>\n",
       "      <td>1</td>\n",
       "    </tr>\n",
       "    <tr>\n",
       "      <th>211</th>\n",
       "      <td>Seq-127</td>\n",
       "      <td>Seq</td>\n",
       "      <td>Kinase 51</td>\n",
       "      <td>1</td>\n",
       "    </tr>\n",
       "    <tr>\n",
       "      <th>212</th>\n",
       "      <td>Seq-128</td>\n",
       "      <td>Seq</td>\n",
       "      <td>Kinase 51</td>\n",
       "      <td>1</td>\n",
       "    </tr>\n",
       "    <tr>\n",
       "      <th>213</th>\n",
       "      <td>Seq-129</td>\n",
       "      <td>Seq</td>\n",
       "      <td>Kinase 52</td>\n",
       "      <td>1</td>\n",
       "    </tr>\n",
       "    <tr>\n",
       "      <th>214</th>\n",
       "      <td>Seq-130</td>\n",
       "      <td>Seq</td>\n",
       "      <td>Kinase 52</td>\n",
       "      <td>1</td>\n",
       "    </tr>\n",
       "    <tr>\n",
       "      <th>215</th>\n",
       "      <td>Seq-131</td>\n",
       "      <td>Seq</td>\n",
       "      <td>Kinase 53</td>\n",
       "      <td>1</td>\n",
       "    </tr>\n",
       "    <tr>\n",
       "      <th>216</th>\n",
       "      <td>Seq-132</td>\n",
       "      <td>Seq</td>\n",
       "      <td>Kinase 53</td>\n",
       "      <td>1</td>\n",
       "    </tr>\n",
       "    <tr>\n",
       "      <th>217</th>\n",
       "      <td>Seq-133</td>\n",
       "      <td>Seq</td>\n",
       "      <td>Kinase 54</td>\n",
       "      <td>1</td>\n",
       "    </tr>\n",
       "  </tbody>\n",
       "</table>\n",
       "</div>"
      ],
      "text/plain": [
       "                    id             labels            parents  val\n",
       "0    Kinase<br>Group A  Kinase<br>Group A                NaN    0\n",
       "1    Kinase<br>Group B  Kinase<br>Group B                NaN    0\n",
       "2    Kinase<br>Group C  Kinase<br>Group C                NaN    0\n",
       "3              A_Train              Train  Kinase<br>Group A    0\n",
       "4                A_Val                Val  Kinase<br>Group A    0\n",
       "5               A_Test               Test  Kinase<br>Group A    0\n",
       "6              B_Train              Train  Kinase<br>Group B    0\n",
       "7                B_Val                Val  Kinase<br>Group B    0\n",
       "8               B_Test               Test  Kinase<br>Group B    0\n",
       "9              C_Train              Train  Kinase<br>Group C    0\n",
       "10               C_Val                Val  Kinase<br>Group C    0\n",
       "11              C_Test               Test  Kinase<br>Group C    0\n",
       "12            Family i           Family i            A_Train    0\n",
       "13           Family ii          Family ii            A_Train    0\n",
       "14          Family iii         Family iii              A_Val    0\n",
       "15           Family iv          Family iv              A_Val    0\n",
       "16            Family v           Family v             A_Test    0\n",
       "17           Family vi          Family vi             A_Test    0\n",
       "18          Family vii         Family vii            B_Train    0\n",
       "19         Family viii        Family viii            B_Train    0\n",
       "20           Family ix          Family ix              B_Val    0\n",
       "21            Family x           Family x              B_Val    0\n",
       "22           Family xi          Family xi             B_Test    0\n",
       "23          Family xii         Family xii             B_Test    0\n",
       "24         Family xiii        Family xiii            C_Train    0\n",
       "25          Family xiv         Family xiv            C_Train    0\n",
       "26           Family xv          Family xv              C_Val    0\n",
       "27          Family xvi         Family xvi              C_Val    0\n",
       "28         Family xvii        Family xvii             C_Test    0\n",
       "29        Family xviii       Family xviii             C_Test    0\n",
       "30            Kinase 1           Kinase 1           Family i    0\n",
       "31            Kinase 2           Kinase 2           Family i    0\n",
       "32            Kinase 3           Kinase 3           Family i    0\n",
       "33            Kinase 4           Kinase 4          Family ii    0\n",
       "34            Kinase 5           Kinase 5          Family ii    0\n",
       "35            Kinase 6           Kinase 6          Family ii    0\n",
       "36            Kinase 7           Kinase 7         Family iii    0\n",
       "37            Kinase 8           Kinase 8         Family iii    0\n",
       "38            Kinase 9           Kinase 9         Family iii    0\n",
       "39           Kinase 10          Kinase 10          Family iv    0\n",
       "40           Kinase 11          Kinase 11          Family iv    0\n",
       "41           Kinase 12          Kinase 12          Family iv    0\n",
       "42           Kinase 13          Kinase 13           Family v    0\n",
       "43           Kinase 14          Kinase 14           Family v    0\n",
       "44           Kinase 15          Kinase 15           Family v    0\n",
       "45           Kinase 16          Kinase 16          Family vi    0\n",
       "46           Kinase 17          Kinase 17          Family vi    0\n",
       "47           Kinase 18          Kinase 18          Family vi    0\n",
       "48           Kinase 19          Kinase 19         Family vii    0\n",
       "49           Kinase 20          Kinase 20         Family vii    0\n",
       "50           Kinase 21          Kinase 21         Family vii    0\n",
       "51           Kinase 22          Kinase 22        Family viii    0\n",
       "52           Kinase 23          Kinase 23        Family viii    0\n",
       "53           Kinase 24          Kinase 24        Family viii    0\n",
       "54           Kinase 25          Kinase 25          Family ix    0\n",
       "55           Kinase 26          Kinase 26          Family ix    0\n",
       "56           Kinase 27          Kinase 27          Family ix    0\n",
       "57           Kinase 28          Kinase 28           Family x    0\n",
       "58           Kinase 29          Kinase 29           Family x    0\n",
       "59           Kinase 30          Kinase 30           Family x    0\n",
       "60           Kinase 31          Kinase 31          Family xi    0\n",
       "61           Kinase 32          Kinase 32          Family xi    0\n",
       "62           Kinase 33          Kinase 33          Family xi    0\n",
       "63           Kinase 34          Kinase 34         Family xii    0\n",
       "64           Kinase 35          Kinase 35         Family xii    0\n",
       "65           Kinase 36          Kinase 36         Family xii    0\n",
       "66           Kinase 37          Kinase 37        Family xiii    0\n",
       "67           Kinase 38          Kinase 38        Family xiii    0\n",
       "68           Kinase 39          Kinase 39        Family xiii    0\n",
       "69           Kinase 40          Kinase 40         Family xiv    0\n",
       "70           Kinase 41          Kinase 41         Family xiv    0\n",
       "71           Kinase 42          Kinase 42         Family xiv    0\n",
       "72           Kinase 43          Kinase 43          Family xv    0\n",
       "73           Kinase 44          Kinase 44          Family xv    0\n",
       "74           Kinase 45          Kinase 45          Family xv    0\n",
       "75           Kinase 46          Kinase 46         Family xvi    0\n",
       "76           Kinase 47          Kinase 47         Family xvi    0\n",
       "77           Kinase 48          Kinase 48         Family xvi    0\n",
       "78           Kinase 49          Kinase 49        Family xvii    0\n",
       "79           Kinase 50          Kinase 50        Family xvii    0\n",
       "80           Kinase 51          Kinase 51        Family xvii    0\n",
       "81           Kinase 52          Kinase 52       Family xviii    0\n",
       "82           Kinase 53          Kinase 53       Family xviii    0\n",
       "83           Kinase 54          Kinase 54       Family xviii    0\n",
       "84               Seq-0                Seq           Kinase 1    1\n",
       "85               Seq-1                Seq           Kinase 1    1\n",
       "86               Seq-2                Seq           Kinase 1    1\n",
       "87               Seq-3                Seq           Kinase 1    1\n",
       "88               Seq-4                Seq           Kinase 2    1\n",
       "89               Seq-5                Seq           Kinase 2    1\n",
       "90               Seq-6                Seq           Kinase 2    1\n",
       "91               Seq-7                Seq           Kinase 2    1\n",
       "92               Seq-8                Seq           Kinase 2    1\n",
       "93               Seq-9                Seq           Kinase 3    1\n",
       "94              Seq-10                Seq           Kinase 3    1\n",
       "95              Seq-11                Seq           Kinase 3    1\n",
       "96              Seq-12                Seq           Kinase 3    1\n",
       "97              Seq-13                Seq           Kinase 4    1\n",
       "98              Seq-14                Seq           Kinase 4    1\n",
       "99              Seq-15                Seq           Kinase 4    1\n",
       "100             Seq-16                Seq           Kinase 4    1\n",
       "101             Seq-17                Seq           Kinase 4    1\n",
       "102             Seq-18                Seq           Kinase 4    1\n",
       "103             Seq-19                Seq           Kinase 5    1\n",
       "104             Seq-20                Seq           Kinase 5    1\n",
       "105             Seq-21                Seq           Kinase 5    1\n",
       "106             Seq-22                Seq           Kinase 6    1\n",
       "107             Seq-23                Seq           Kinase 6    1\n",
       "108             Seq-24                Seq           Kinase 6    1\n",
       "109             Seq-25                Seq           Kinase 7    1\n",
       "110             Seq-26                Seq           Kinase 8    1\n",
       "111             Seq-27                Seq           Kinase 9    1\n",
       "112             Seq-28                Seq          Kinase 10    1\n",
       "113             Seq-29                Seq          Kinase 11    1\n",
       "114             Seq-30                Seq          Kinase 12    1\n",
       "115             Seq-31                Seq          Kinase 13    1\n",
       "116             Seq-32                Seq          Kinase 14    1\n",
       "117             Seq-33                Seq          Kinase 15    1\n",
       "118             Seq-34                Seq          Kinase 16    1\n",
       "119             Seq-35                Seq          Kinase 17    1\n",
       "120             Seq-36                Seq          Kinase 17    1\n",
       "121             Seq-37                Seq          Kinase 18    1\n",
       "122             Seq-38                Seq          Kinase 19    1\n",
       "123             Seq-39                Seq          Kinase 19    1\n",
       "124             Seq-40                Seq          Kinase 19    1\n",
       "125             Seq-41                Seq          Kinase 19    1\n",
       "126             Seq-42                Seq          Kinase 19    1\n",
       "127             Seq-43                Seq          Kinase 20    1\n",
       "128             Seq-44                Seq          Kinase 20    1\n",
       "129             Seq-45                Seq          Kinase 20    1\n",
       "130             Seq-46                Seq          Kinase 20    1\n",
       "131             Seq-47                Seq          Kinase 20    1\n",
       "132             Seq-48                Seq          Kinase 20    1\n",
       "133             Seq-49                Seq          Kinase 21    1\n",
       "134             Seq-50                Seq          Kinase 21    1\n",
       "135             Seq-51                Seq          Kinase 21    1\n",
       "136             Seq-52                Seq          Kinase 21    1\n",
       "137             Seq-53                Seq          Kinase 21    1\n",
       "138             Seq-54                Seq          Kinase 21    1\n",
       "139             Seq-55                Seq          Kinase 22    1\n",
       "140             Seq-56                Seq          Kinase 22    1\n",
       "141             Seq-57                Seq          Kinase 22    1\n",
       "142             Seq-58                Seq          Kinase 22    1\n",
       "143             Seq-59                Seq          Kinase 23    1\n",
       "144             Seq-60                Seq          Kinase 23    1\n",
       "145             Seq-61                Seq          Kinase 23    1\n",
       "146             Seq-62                Seq          Kinase 24    1\n",
       "147             Seq-63                Seq          Kinase 24    1\n",
       "148             Seq-64                Seq          Kinase 24    1\n",
       "149             Seq-65                Seq          Kinase 24    1\n",
       "150             Seq-66                Seq          Kinase 24    1\n",
       "151             Seq-67                Seq          Kinase 25    1\n",
       "152             Seq-68                Seq          Kinase 25    1\n",
       "153             Seq-69                Seq          Kinase 26    1\n",
       "154             Seq-70                Seq          Kinase 26    1\n",
       "155             Seq-71                Seq          Kinase 27    1\n",
       "156             Seq-72                Seq          Kinase 27    1\n",
       "157             Seq-73                Seq          Kinase 28    1\n",
       "158             Seq-74                Seq          Kinase 28    1\n",
       "159             Seq-75                Seq          Kinase 29    1\n",
       "160             Seq-76                Seq          Kinase 30    1\n",
       "161             Seq-77                Seq          Kinase 30    1\n",
       "162             Seq-78                Seq          Kinase 31    1\n",
       "163             Seq-79                Seq          Kinase 32    1\n",
       "164             Seq-80                Seq          Kinase 33    1\n",
       "165             Seq-81                Seq          Kinase 33    1\n",
       "166             Seq-82                Seq          Kinase 34    1\n",
       "167             Seq-83                Seq          Kinase 34    1\n",
       "168             Seq-84                Seq          Kinase 35    1\n",
       "169             Seq-85                Seq          Kinase 35    1\n",
       "170             Seq-86                Seq          Kinase 36    1\n",
       "171             Seq-87                Seq          Kinase 37    1\n",
       "172             Seq-88                Seq          Kinase 37    1\n",
       "173             Seq-89                Seq          Kinase 37    1\n",
       "174             Seq-90                Seq          Kinase 37    1\n",
       "175             Seq-91                Seq          Kinase 37    1\n",
       "176             Seq-92                Seq          Kinase 37    1\n",
       "177             Seq-93                Seq          Kinase 38    1\n",
       "178             Seq-94                Seq          Kinase 38    1\n",
       "179             Seq-95                Seq          Kinase 38    1\n",
       "180             Seq-96                Seq          Kinase 39    1\n",
       "181             Seq-97                Seq          Kinase 39    1\n",
       "182             Seq-98                Seq          Kinase 39    1\n",
       "183             Seq-99                Seq          Kinase 40    1\n",
       "184            Seq-100                Seq          Kinase 40    1\n",
       "185            Seq-101                Seq          Kinase 40    1\n",
       "186            Seq-102                Seq          Kinase 40    1\n",
       "187            Seq-103                Seq          Kinase 40    1\n",
       "188            Seq-104                Seq          Kinase 41    1\n",
       "189            Seq-105                Seq          Kinase 41    1\n",
       "190            Seq-106                Seq          Kinase 41    1\n",
       "191            Seq-107                Seq          Kinase 41    1\n",
       "192            Seq-108                Seq          Kinase 41    1\n",
       "193            Seq-109                Seq          Kinase 42    1\n",
       "194            Seq-110                Seq          Kinase 42    1\n",
       "195            Seq-111                Seq          Kinase 42    1\n",
       "196            Seq-112                Seq          Kinase 42    1\n",
       "197            Seq-113                Seq          Kinase 43    1\n",
       "198            Seq-114                Seq          Kinase 43    1\n",
       "199            Seq-115                Seq          Kinase 44    1\n",
       "200            Seq-116                Seq          Kinase 44    1\n",
       "201            Seq-117                Seq          Kinase 45    1\n",
       "202            Seq-118                Seq          Kinase 46    1\n",
       "203            Seq-119                Seq          Kinase 46    1\n",
       "204            Seq-120                Seq          Kinase 47    1\n",
       "205            Seq-121                Seq          Kinase 47    1\n",
       "206            Seq-122                Seq          Kinase 48    1\n",
       "207            Seq-123                Seq          Kinase 49    1\n",
       "208            Seq-124                Seq          Kinase 49    1\n",
       "209            Seq-125                Seq          Kinase 50    1\n",
       "210            Seq-126                Seq          Kinase 50    1\n",
       "211            Seq-127                Seq          Kinase 51    1\n",
       "212            Seq-128                Seq          Kinase 51    1\n",
       "213            Seq-129                Seq          Kinase 52    1\n",
       "214            Seq-130                Seq          Kinase 52    1\n",
       "215            Seq-131                Seq          Kinase 53    1\n",
       "216            Seq-132                Seq          Kinase 53    1\n",
       "217            Seq-133                Seq          Kinase 54    1"
      ]
     },
     "execution_count": 91,
     "metadata": {},
     "output_type": "execute_result"
    }
   ],
   "source": [
    "explainer"
   ]
  },
  {
   "cell_type": "code",
   "execution_count": 125,
   "metadata": {},
   "outputs": [],
   "source": [
    "import plotly\n",
    "\n",
    "sb = go.Sunburst(\n",
    "    ids=explainer['id'],\n",
    "    labels=explainer['labels'],\n",
    "    parents=explainer['parents'],\n",
    "    values=explainer['val'],\n",
    "    insidetextfont=plotly.graph_objects.sunburst.Insidetextfont(family = 'Palatino', size = 20),\n",
    "    insidetextorientation = 'radial')\n"
   ]
  },
  {
   "cell_type": "code",
   "execution_count": 127,
   "metadata": {},
   "outputs": [
    {
     "data": {
      "application/vnd.plotly.v1+json": {
       "config": {
        "plotlyServerURL": "https://plot.ly"
       },
       "data": [
        {
         "ids": [
          "Kinase<br>Group A",
          "Kinase<br>Group B",
          "Kinase<br>Group C",
          "A_Train",
          "A_Val",
          "A_Test",
          "B_Train",
          "B_Val",
          "B_Test",
          "C_Train",
          "C_Val",
          "C_Test",
          "Family i",
          "Family ii",
          "Family iii",
          "Family iv",
          "Family v",
          "Family vi",
          "Family vii",
          "Family viii",
          "Family ix",
          "Family x",
          "Family xi",
          "Family xii",
          "Family xiii",
          "Family xiv",
          "Family xv",
          "Family xvi",
          "Family xvii",
          "Family xviii",
          "Kinase 1",
          "Kinase 2",
          "Kinase 3",
          "Kinase 4",
          "Kinase 5",
          "Kinase 6",
          "Kinase 7",
          "Kinase 8",
          "Kinase 9",
          "Kinase 10",
          "Kinase 11",
          "Kinase 12",
          "Kinase 13",
          "Kinase 14",
          "Kinase 15",
          "Kinase 16",
          "Kinase 17",
          "Kinase 18",
          "Kinase 19",
          "Kinase 20",
          "Kinase 21",
          "Kinase 22",
          "Kinase 23",
          "Kinase 24",
          "Kinase 25",
          "Kinase 26",
          "Kinase 27",
          "Kinase 28",
          "Kinase 29",
          "Kinase 30",
          "Kinase 31",
          "Kinase 32",
          "Kinase 33",
          "Kinase 34",
          "Kinase 35",
          "Kinase 36",
          "Kinase 37",
          "Kinase 38",
          "Kinase 39",
          "Kinase 40",
          "Kinase 41",
          "Kinase 42",
          "Kinase 43",
          "Kinase 44",
          "Kinase 45",
          "Kinase 46",
          "Kinase 47",
          "Kinase 48",
          "Kinase 49",
          "Kinase 50",
          "Kinase 51",
          "Kinase 52",
          "Kinase 53",
          "Kinase 54",
          "Seq-0",
          "Seq-1",
          "Seq-2",
          "Seq-3",
          "Seq-4",
          "Seq-5",
          "Seq-6",
          "Seq-7",
          "Seq-8",
          "Seq-9",
          "Seq-10",
          "Seq-11",
          "Seq-12",
          "Seq-13",
          "Seq-14",
          "Seq-15",
          "Seq-16",
          "Seq-17",
          "Seq-18",
          "Seq-19",
          "Seq-20",
          "Seq-21",
          "Seq-22",
          "Seq-23",
          "Seq-24",
          "Seq-25",
          "Seq-26",
          "Seq-27",
          "Seq-28",
          "Seq-29",
          "Seq-30",
          "Seq-31",
          "Seq-32",
          "Seq-33",
          "Seq-34",
          "Seq-35",
          "Seq-36",
          "Seq-37",
          "Seq-38",
          "Seq-39",
          "Seq-40",
          "Seq-41",
          "Seq-42",
          "Seq-43",
          "Seq-44",
          "Seq-45",
          "Seq-46",
          "Seq-47",
          "Seq-48",
          "Seq-49",
          "Seq-50",
          "Seq-51",
          "Seq-52",
          "Seq-53",
          "Seq-54",
          "Seq-55",
          "Seq-56",
          "Seq-57",
          "Seq-58",
          "Seq-59",
          "Seq-60",
          "Seq-61",
          "Seq-62",
          "Seq-63",
          "Seq-64",
          "Seq-65",
          "Seq-66",
          "Seq-67",
          "Seq-68",
          "Seq-69",
          "Seq-70",
          "Seq-71",
          "Seq-72",
          "Seq-73",
          "Seq-74",
          "Seq-75",
          "Seq-76",
          "Seq-77",
          "Seq-78",
          "Seq-79",
          "Seq-80",
          "Seq-81",
          "Seq-82",
          "Seq-83",
          "Seq-84",
          "Seq-85",
          "Seq-86",
          "Seq-87",
          "Seq-88",
          "Seq-89",
          "Seq-90",
          "Seq-91",
          "Seq-92",
          "Seq-93",
          "Seq-94",
          "Seq-95",
          "Seq-96",
          "Seq-97",
          "Seq-98",
          "Seq-99",
          "Seq-100",
          "Seq-101",
          "Seq-102",
          "Seq-103",
          "Seq-104",
          "Seq-105",
          "Seq-106",
          "Seq-107",
          "Seq-108",
          "Seq-109",
          "Seq-110",
          "Seq-111",
          "Seq-112",
          "Seq-113",
          "Seq-114",
          "Seq-115",
          "Seq-116",
          "Seq-117",
          "Seq-118",
          "Seq-119",
          "Seq-120",
          "Seq-121",
          "Seq-122",
          "Seq-123",
          "Seq-124",
          "Seq-125",
          "Seq-126",
          "Seq-127",
          "Seq-128",
          "Seq-129",
          "Seq-130",
          "Seq-131",
          "Seq-132",
          "Seq-133",
          "Seq-134",
          "Seq-135",
          "Seq-136",
          "Seq-137",
          "Seq-138"
         ],
         "insidetextfont": {
          "family": "Palatino",
          "size": 20
         },
         "insidetextorientation": "radial",
         "labels": [
          "Kinase<br>Group",
          "Kinase<br>Group",
          "Kinase<br>Group",
          "Train",
          "Val",
          "Test",
          "Train",
          "Val",
          "Test",
          "Train",
          "Val",
          "Test",
          "Family",
          "Family",
          "Family",
          "Family",
          "Family",
          "Family",
          "Family",
          "Family",
          "Family",
          "Family",
          "Family",
          "Family",
          "Family",
          "Family",
          "Family",
          "Family",
          "Family",
          "Family",
          "Kinase",
          "Kinase",
          "Kinase",
          "Kinase",
          "Kinase",
          "Kinase",
          "Kinase",
          "Kinase",
          "Kinase",
          "Kinase",
          "Kinase",
          "Kinase",
          "Kinase",
          "Kinase",
          "Kinase",
          "Kinase",
          "Kinase",
          "Kinase",
          "Kinase",
          "Kinase",
          "Kinase",
          "Kinase",
          "Kinase",
          "Kinase",
          "Kinase",
          "Kinase",
          "Kinase",
          "Kinase",
          "Kinase",
          "Kinase",
          "Kinase",
          "Kinase",
          "Kinase",
          "Kinase",
          "Kinase",
          "Kinase",
          "Kinase",
          "Kinase",
          "Kinase",
          "Kinase",
          "Kinase",
          "Kinase",
          "Kinase",
          "Kinase",
          "Kinase",
          "Kinase",
          "Kinase",
          "Kinase",
          "Kinase",
          "Kinase",
          "Kinase",
          "Kinase",
          "Kinase",
          "Kinase",
          "Site",
          "Site",
          "Site",
          "Site",
          "Site",
          "Site",
          "Site",
          "Site",
          "Site",
          "Site",
          "Site",
          "Site",
          "Site",
          "Site",
          "Site",
          "Site",
          "Site",
          "Site",
          "Site",
          "Site",
          "Site",
          "Site",
          "Site",
          "Site",
          "Site",
          "Site",
          "Site",
          "Site",
          "Site",
          "Site",
          "Site",
          "Site",
          "Site",
          "Site",
          "Site",
          "Site",
          "Site",
          "Site",
          "Site",
          "Site",
          "Site",
          "Site",
          "Site",
          "Site",
          "Site",
          "Site",
          "Site",
          "Site",
          "Site",
          "Site",
          "Site",
          "Site",
          "Site",
          "Site",
          "Site",
          "Site",
          "Site",
          "Site",
          "Site",
          "Site",
          "Site",
          "Site",
          "Site",
          "Site",
          "Site",
          "Site",
          "Site",
          "Site",
          "Site",
          "Site",
          "Site",
          "Site",
          "Site",
          "Site",
          "Site",
          "Site",
          "Site",
          "Site",
          "Site",
          "Site",
          "Site",
          "Site",
          "Site",
          "Site",
          "Site",
          "Site",
          "Site",
          "Site",
          "Site",
          "Site",
          "Site",
          "Site",
          "Site",
          "Site",
          "Site",
          "Site",
          "Site",
          "Site",
          "Site",
          "Site",
          "Site",
          "Site",
          "Site",
          "Site",
          "Site",
          "Site",
          "Site",
          "Site",
          "Site",
          "Site",
          "Site",
          "Site",
          "Site",
          "Site",
          "Site",
          "Site",
          "Site",
          "Site",
          "Site",
          "Site",
          "Site",
          "Site",
          "Site",
          "Site",
          "Site",
          "Site",
          "Site",
          "Site",
          "Site",
          "Site",
          "Site",
          "Site",
          "Site",
          "Site",
          "Site",
          "Site",
          "Site",
          "Site",
          "Site"
         ],
         "parents": [
          null,
          null,
          null,
          "Kinase<br>Group A",
          "Kinase<br>Group A",
          "Kinase<br>Group A",
          "Kinase<br>Group B",
          "Kinase<br>Group B",
          "Kinase<br>Group B",
          "Kinase<br>Group C",
          "Kinase<br>Group C",
          "Kinase<br>Group C",
          "A_Train",
          "A_Train",
          "A_Val",
          "A_Val",
          "A_Test",
          "A_Test",
          "B_Train",
          "B_Train",
          "B_Val",
          "B_Val",
          "B_Test",
          "B_Test",
          "C_Train",
          "C_Train",
          "C_Val",
          "C_Val",
          "C_Test",
          "C_Test",
          "Family i",
          "Family i",
          "Family i",
          "Family ii",
          "Family ii",
          "Family ii",
          "Family iii",
          "Family iii",
          "Family iii",
          "Family iv",
          "Family iv",
          "Family iv",
          "Family v",
          "Family v",
          "Family v",
          "Family vi",
          "Family vi",
          "Family vi",
          "Family vii",
          "Family vii",
          "Family vii",
          "Family viii",
          "Family viii",
          "Family viii",
          "Family ix",
          "Family ix",
          "Family ix",
          "Family x",
          "Family x",
          "Family x",
          "Family xi",
          "Family xi",
          "Family xi",
          "Family xii",
          "Family xii",
          "Family xii",
          "Family xiii",
          "Family xiii",
          "Family xiii",
          "Family xiv",
          "Family xiv",
          "Family xiv",
          "Family xv",
          "Family xv",
          "Family xv",
          "Family xvi",
          "Family xvi",
          "Family xvi",
          "Family xvii",
          "Family xvii",
          "Family xvii",
          "Family xviii",
          "Family xviii",
          "Family xviii",
          "Kinase 1",
          "Kinase 1",
          "Kinase 1",
          "Kinase 1",
          "Kinase 2",
          "Kinase 2",
          "Kinase 2",
          "Kinase 3",
          "Kinase 3",
          "Kinase 3",
          "Kinase 3",
          "Kinase 3",
          "Kinase 3",
          "Kinase 4",
          "Kinase 4",
          "Kinase 4",
          "Kinase 4",
          "Kinase 5",
          "Kinase 5",
          "Kinase 5",
          "Kinase 5",
          "Kinase 5",
          "Kinase 5",
          "Kinase 6",
          "Kinase 6",
          "Kinase 6",
          "Kinase 6",
          "Kinase 6",
          "Kinase 7",
          "Kinase 8",
          "Kinase 9",
          "Kinase 9",
          "Kinase 10",
          "Kinase 10",
          "Kinase 11",
          "Kinase 11",
          "Kinase 12",
          "Kinase 12",
          "Kinase 13",
          "Kinase 14",
          "Kinase 14",
          "Kinase 15",
          "Kinase 16",
          "Kinase 17",
          "Kinase 17",
          "Kinase 18",
          "Kinase 18",
          "Kinase 19",
          "Kinase 19",
          "Kinase 19",
          "Kinase 19",
          "Kinase 19",
          "Kinase 20",
          "Kinase 20",
          "Kinase 20",
          "Kinase 20",
          "Kinase 21",
          "Kinase 21",
          "Kinase 21",
          "Kinase 21",
          "Kinase 21",
          "Kinase 21",
          "Kinase 22",
          "Kinase 22",
          "Kinase 22",
          "Kinase 22",
          "Kinase 23",
          "Kinase 23",
          "Kinase 23",
          "Kinase 23",
          "Kinase 23",
          "Kinase 24",
          "Kinase 24",
          "Kinase 24",
          "Kinase 24",
          "Kinase 24",
          "Kinase 24",
          "Kinase 25",
          "Kinase 26",
          "Kinase 26",
          "Kinase 27",
          "Kinase 28",
          "Kinase 29",
          "Kinase 29",
          "Kinase 30",
          "Kinase 30",
          "Kinase 31",
          "Kinase 32",
          "Kinase 33",
          "Kinase 33",
          "Kinase 34",
          "Kinase 35",
          "Kinase 35",
          "Kinase 36",
          "Kinase 37",
          "Kinase 37",
          "Kinase 37",
          "Kinase 37",
          "Kinase 37",
          "Kinase 38",
          "Kinase 38",
          "Kinase 38",
          "Kinase 38",
          "Kinase 38",
          "Kinase 39",
          "Kinase 39",
          "Kinase 39",
          "Kinase 39",
          "Kinase 39",
          "Kinase 39",
          "Kinase 40",
          "Kinase 40",
          "Kinase 40",
          "Kinase 40",
          "Kinase 41",
          "Kinase 41",
          "Kinase 41",
          "Kinase 42",
          "Kinase 42",
          "Kinase 42",
          "Kinase 42",
          "Kinase 42",
          "Kinase 42",
          "Kinase 43",
          "Kinase 44",
          "Kinase 44",
          "Kinase 45",
          "Kinase 46",
          "Kinase 46",
          "Kinase 47",
          "Kinase 48",
          "Kinase 49",
          "Kinase 49",
          "Kinase 50",
          "Kinase 51",
          "Kinase 52",
          "Kinase 53",
          "Kinase 53",
          "Kinase 54"
         ],
         "type": "sunburst",
         "values": [
          0,
          0,
          0,
          0,
          0,
          0,
          0,
          0,
          0,
          0,
          0,
          0,
          0,
          0,
          0,
          0,
          0,
          0,
          0,
          0,
          0,
          0,
          0,
          0,
          0,
          0,
          0,
          0,
          0,
          0,
          0,
          0,
          0,
          0,
          0,
          0,
          0,
          0,
          0,
          0,
          0,
          0,
          0,
          0,
          0,
          0,
          0,
          0,
          0,
          0,
          0,
          0,
          0,
          0,
          0,
          0,
          0,
          0,
          0,
          0,
          0,
          0,
          0,
          0,
          0,
          0,
          0,
          0,
          0,
          0,
          0,
          0,
          0,
          0,
          0,
          0,
          0,
          0,
          0,
          0,
          0,
          0,
          0,
          0,
          1,
          1,
          1,
          1,
          1,
          1,
          1,
          1,
          1,
          1,
          1,
          1,
          1,
          1,
          1,
          1,
          1,
          1,
          1,
          1,
          1,
          1,
          1,
          1,
          1,
          1,
          1,
          1,
          1,
          1,
          1,
          1,
          1,
          1,
          1,
          1,
          1,
          1,
          1,
          1,
          1,
          1,
          1,
          1,
          1,
          1,
          1,
          1,
          1,
          1,
          1,
          1,
          1,
          1,
          1,
          1,
          1,
          1,
          1,
          1,
          1,
          1,
          1,
          1,
          1,
          1,
          1,
          1,
          1,
          1,
          1,
          1,
          1,
          1,
          1,
          1,
          1,
          1,
          1,
          1,
          1,
          1,
          1,
          1,
          1,
          1,
          1,
          1,
          1,
          1,
          1,
          1,
          1,
          1,
          1,
          1,
          1,
          1,
          1,
          1,
          1,
          1,
          1,
          1,
          1,
          1,
          1,
          1,
          1,
          1,
          1,
          1,
          1,
          1,
          1,
          1,
          1,
          1,
          1,
          1,
          1,
          1,
          1,
          1,
          1,
          1,
          1,
          1,
          1,
          1,
          1,
          1,
          1,
          1,
          1,
          1,
          1,
          1,
          1
         ]
        }
       ],
       "layout": {
        "autosize": false,
        "height": 1000,
        "margin": {
         "b": 0,
         "l": 0,
         "r": 0,
         "t": 0
        },
        "template": {
         "data": {
          "bar": [
           {
            "error_x": {
             "color": "#2a3f5f"
            },
            "error_y": {
             "color": "#2a3f5f"
            },
            "marker": {
             "line": {
              "color": "#E5ECF6",
              "width": 0.5
             },
             "pattern": {
              "fillmode": "overlay",
              "size": 10,
              "solidity": 0.2
             }
            },
            "type": "bar"
           }
          ],
          "barpolar": [
           {
            "marker": {
             "line": {
              "color": "#E5ECF6",
              "width": 0.5
             },
             "pattern": {
              "fillmode": "overlay",
              "size": 10,
              "solidity": 0.2
             }
            },
            "type": "barpolar"
           }
          ],
          "carpet": [
           {
            "aaxis": {
             "endlinecolor": "#2a3f5f",
             "gridcolor": "white",
             "linecolor": "white",
             "minorgridcolor": "white",
             "startlinecolor": "#2a3f5f"
            },
            "baxis": {
             "endlinecolor": "#2a3f5f",
             "gridcolor": "white",
             "linecolor": "white",
             "minorgridcolor": "white",
             "startlinecolor": "#2a3f5f"
            },
            "type": "carpet"
           }
          ],
          "choropleth": [
           {
            "colorbar": {
             "outlinewidth": 0,
             "ticks": ""
            },
            "type": "choropleth"
           }
          ],
          "contour": [
           {
            "colorbar": {
             "outlinewidth": 0,
             "ticks": ""
            },
            "colorscale": [
             [
              0,
              "#0d0887"
             ],
             [
              0.1111111111111111,
              "#46039f"
             ],
             [
              0.2222222222222222,
              "#7201a8"
             ],
             [
              0.3333333333333333,
              "#9c179e"
             ],
             [
              0.4444444444444444,
              "#bd3786"
             ],
             [
              0.5555555555555556,
              "#d8576b"
             ],
             [
              0.6666666666666666,
              "#ed7953"
             ],
             [
              0.7777777777777778,
              "#fb9f3a"
             ],
             [
              0.8888888888888888,
              "#fdca26"
             ],
             [
              1,
              "#f0f921"
             ]
            ],
            "type": "contour"
           }
          ],
          "contourcarpet": [
           {
            "colorbar": {
             "outlinewidth": 0,
             "ticks": ""
            },
            "type": "contourcarpet"
           }
          ],
          "heatmap": [
           {
            "colorbar": {
             "outlinewidth": 0,
             "ticks": ""
            },
            "colorscale": [
             [
              0,
              "#0d0887"
             ],
             [
              0.1111111111111111,
              "#46039f"
             ],
             [
              0.2222222222222222,
              "#7201a8"
             ],
             [
              0.3333333333333333,
              "#9c179e"
             ],
             [
              0.4444444444444444,
              "#bd3786"
             ],
             [
              0.5555555555555556,
              "#d8576b"
             ],
             [
              0.6666666666666666,
              "#ed7953"
             ],
             [
              0.7777777777777778,
              "#fb9f3a"
             ],
             [
              0.8888888888888888,
              "#fdca26"
             ],
             [
              1,
              "#f0f921"
             ]
            ],
            "type": "heatmap"
           }
          ],
          "heatmapgl": [
           {
            "colorbar": {
             "outlinewidth": 0,
             "ticks": ""
            },
            "colorscale": [
             [
              0,
              "#0d0887"
             ],
             [
              0.1111111111111111,
              "#46039f"
             ],
             [
              0.2222222222222222,
              "#7201a8"
             ],
             [
              0.3333333333333333,
              "#9c179e"
             ],
             [
              0.4444444444444444,
              "#bd3786"
             ],
             [
              0.5555555555555556,
              "#d8576b"
             ],
             [
              0.6666666666666666,
              "#ed7953"
             ],
             [
              0.7777777777777778,
              "#fb9f3a"
             ],
             [
              0.8888888888888888,
              "#fdca26"
             ],
             [
              1,
              "#f0f921"
             ]
            ],
            "type": "heatmapgl"
           }
          ],
          "histogram": [
           {
            "marker": {
             "pattern": {
              "fillmode": "overlay",
              "size": 10,
              "solidity": 0.2
             }
            },
            "type": "histogram"
           }
          ],
          "histogram2d": [
           {
            "colorbar": {
             "outlinewidth": 0,
             "ticks": ""
            },
            "colorscale": [
             [
              0,
              "#0d0887"
             ],
             [
              0.1111111111111111,
              "#46039f"
             ],
             [
              0.2222222222222222,
              "#7201a8"
             ],
             [
              0.3333333333333333,
              "#9c179e"
             ],
             [
              0.4444444444444444,
              "#bd3786"
             ],
             [
              0.5555555555555556,
              "#d8576b"
             ],
             [
              0.6666666666666666,
              "#ed7953"
             ],
             [
              0.7777777777777778,
              "#fb9f3a"
             ],
             [
              0.8888888888888888,
              "#fdca26"
             ],
             [
              1,
              "#f0f921"
             ]
            ],
            "type": "histogram2d"
           }
          ],
          "histogram2dcontour": [
           {
            "colorbar": {
             "outlinewidth": 0,
             "ticks": ""
            },
            "colorscale": [
             [
              0,
              "#0d0887"
             ],
             [
              0.1111111111111111,
              "#46039f"
             ],
             [
              0.2222222222222222,
              "#7201a8"
             ],
             [
              0.3333333333333333,
              "#9c179e"
             ],
             [
              0.4444444444444444,
              "#bd3786"
             ],
             [
              0.5555555555555556,
              "#d8576b"
             ],
             [
              0.6666666666666666,
              "#ed7953"
             ],
             [
              0.7777777777777778,
              "#fb9f3a"
             ],
             [
              0.8888888888888888,
              "#fdca26"
             ],
             [
              1,
              "#f0f921"
             ]
            ],
            "type": "histogram2dcontour"
           }
          ],
          "mesh3d": [
           {
            "colorbar": {
             "outlinewidth": 0,
             "ticks": ""
            },
            "type": "mesh3d"
           }
          ],
          "parcoords": [
           {
            "line": {
             "colorbar": {
              "outlinewidth": 0,
              "ticks": ""
             }
            },
            "type": "parcoords"
           }
          ],
          "pie": [
           {
            "automargin": true,
            "type": "pie"
           }
          ],
          "scatter": [
           {
            "fillpattern": {
             "fillmode": "overlay",
             "size": 10,
             "solidity": 0.2
            },
            "type": "scatter"
           }
          ],
          "scatter3d": [
           {
            "line": {
             "colorbar": {
              "outlinewidth": 0,
              "ticks": ""
             }
            },
            "marker": {
             "colorbar": {
              "outlinewidth": 0,
              "ticks": ""
             }
            },
            "type": "scatter3d"
           }
          ],
          "scattercarpet": [
           {
            "marker": {
             "colorbar": {
              "outlinewidth": 0,
              "ticks": ""
             }
            },
            "type": "scattercarpet"
           }
          ],
          "scattergeo": [
           {
            "marker": {
             "colorbar": {
              "outlinewidth": 0,
              "ticks": ""
             }
            },
            "type": "scattergeo"
           }
          ],
          "scattergl": [
           {
            "marker": {
             "colorbar": {
              "outlinewidth": 0,
              "ticks": ""
             }
            },
            "type": "scattergl"
           }
          ],
          "scattermapbox": [
           {
            "marker": {
             "colorbar": {
              "outlinewidth": 0,
              "ticks": ""
             }
            },
            "type": "scattermapbox"
           }
          ],
          "scatterpolar": [
           {
            "marker": {
             "colorbar": {
              "outlinewidth": 0,
              "ticks": ""
             }
            },
            "type": "scatterpolar"
           }
          ],
          "scatterpolargl": [
           {
            "marker": {
             "colorbar": {
              "outlinewidth": 0,
              "ticks": ""
             }
            },
            "type": "scatterpolargl"
           }
          ],
          "scatterternary": [
           {
            "marker": {
             "colorbar": {
              "outlinewidth": 0,
              "ticks": ""
             }
            },
            "type": "scatterternary"
           }
          ],
          "surface": [
           {
            "colorbar": {
             "outlinewidth": 0,
             "ticks": ""
            },
            "colorscale": [
             [
              0,
              "#0d0887"
             ],
             [
              0.1111111111111111,
              "#46039f"
             ],
             [
              0.2222222222222222,
              "#7201a8"
             ],
             [
              0.3333333333333333,
              "#9c179e"
             ],
             [
              0.4444444444444444,
              "#bd3786"
             ],
             [
              0.5555555555555556,
              "#d8576b"
             ],
             [
              0.6666666666666666,
              "#ed7953"
             ],
             [
              0.7777777777777778,
              "#fb9f3a"
             ],
             [
              0.8888888888888888,
              "#fdca26"
             ],
             [
              1,
              "#f0f921"
             ]
            ],
            "type": "surface"
           }
          ],
          "table": [
           {
            "cells": {
             "fill": {
              "color": "#EBF0F8"
             },
             "line": {
              "color": "white"
             }
            },
            "header": {
             "fill": {
              "color": "#C8D4E3"
             },
             "line": {
              "color": "white"
             }
            },
            "type": "table"
           }
          ]
         },
         "layout": {
          "annotationdefaults": {
           "arrowcolor": "#2a3f5f",
           "arrowhead": 0,
           "arrowwidth": 1
          },
          "autotypenumbers": "strict",
          "coloraxis": {
           "colorbar": {
            "outlinewidth": 0,
            "ticks": ""
           }
          },
          "colorscale": {
           "diverging": [
            [
             0,
             "#8e0152"
            ],
            [
             0.1,
             "#c51b7d"
            ],
            [
             0.2,
             "#de77ae"
            ],
            [
             0.3,
             "#f1b6da"
            ],
            [
             0.4,
             "#fde0ef"
            ],
            [
             0.5,
             "#f7f7f7"
            ],
            [
             0.6,
             "#e6f5d0"
            ],
            [
             0.7,
             "#b8e186"
            ],
            [
             0.8,
             "#7fbc41"
            ],
            [
             0.9,
             "#4d9221"
            ],
            [
             1,
             "#276419"
            ]
           ],
           "sequential": [
            [
             0,
             "#0d0887"
            ],
            [
             0.1111111111111111,
             "#46039f"
            ],
            [
             0.2222222222222222,
             "#7201a8"
            ],
            [
             0.3333333333333333,
             "#9c179e"
            ],
            [
             0.4444444444444444,
             "#bd3786"
            ],
            [
             0.5555555555555556,
             "#d8576b"
            ],
            [
             0.6666666666666666,
             "#ed7953"
            ],
            [
             0.7777777777777778,
             "#fb9f3a"
            ],
            [
             0.8888888888888888,
             "#fdca26"
            ],
            [
             1,
             "#f0f921"
            ]
           ],
           "sequentialminus": [
            [
             0,
             "#0d0887"
            ],
            [
             0.1111111111111111,
             "#46039f"
            ],
            [
             0.2222222222222222,
             "#7201a8"
            ],
            [
             0.3333333333333333,
             "#9c179e"
            ],
            [
             0.4444444444444444,
             "#bd3786"
            ],
            [
             0.5555555555555556,
             "#d8576b"
            ],
            [
             0.6666666666666666,
             "#ed7953"
            ],
            [
             0.7777777777777778,
             "#fb9f3a"
            ],
            [
             0.8888888888888888,
             "#fdca26"
            ],
            [
             1,
             "#f0f921"
            ]
           ]
          },
          "colorway": [
           "#636efa",
           "#EF553B",
           "#00cc96",
           "#ab63fa",
           "#FFA15A",
           "#19d3f3",
           "#FF6692",
           "#B6E880",
           "#FF97FF",
           "#FECB52"
          ],
          "font": {
           "color": "#2a3f5f"
          },
          "geo": {
           "bgcolor": "white",
           "lakecolor": "white",
           "landcolor": "#E5ECF6",
           "showlakes": true,
           "showland": true,
           "subunitcolor": "white"
          },
          "hoverlabel": {
           "align": "left"
          },
          "hovermode": "closest",
          "mapbox": {
           "style": "light"
          },
          "paper_bgcolor": "white",
          "plot_bgcolor": "#E5ECF6",
          "polar": {
           "angularaxis": {
            "gridcolor": "white",
            "linecolor": "white",
            "ticks": ""
           },
           "bgcolor": "#E5ECF6",
           "radialaxis": {
            "gridcolor": "white",
            "linecolor": "white",
            "ticks": ""
           }
          },
          "scene": {
           "xaxis": {
            "backgroundcolor": "#E5ECF6",
            "gridcolor": "white",
            "gridwidth": 2,
            "linecolor": "white",
            "showbackground": true,
            "ticks": "",
            "zerolinecolor": "white"
           },
           "yaxis": {
            "backgroundcolor": "#E5ECF6",
            "gridcolor": "white",
            "gridwidth": 2,
            "linecolor": "white",
            "showbackground": true,
            "ticks": "",
            "zerolinecolor": "white"
           },
           "zaxis": {
            "backgroundcolor": "#E5ECF6",
            "gridcolor": "white",
            "gridwidth": 2,
            "linecolor": "white",
            "showbackground": true,
            "ticks": "",
            "zerolinecolor": "white"
           }
          },
          "shapedefaults": {
           "line": {
            "color": "#2a3f5f"
           }
          },
          "ternary": {
           "aaxis": {
            "gridcolor": "white",
            "linecolor": "white",
            "ticks": ""
           },
           "baxis": {
            "gridcolor": "white",
            "linecolor": "white",
            "ticks": ""
           },
           "bgcolor": "#E5ECF6",
           "caxis": {
            "gridcolor": "white",
            "linecolor": "white",
            "ticks": ""
           }
          },
          "title": {
           "x": 0.05
          },
          "xaxis": {
           "automargin": true,
           "gridcolor": "white",
           "linecolor": "white",
           "ticks": "",
           "title": {
            "standoff": 15
           },
           "zerolinecolor": "white",
           "zerolinewidth": 2
          },
          "yaxis": {
           "automargin": true,
           "gridcolor": "white",
           "linecolor": "white",
           "ticks": "",
           "title": {
            "standoff": 15
           },
           "zerolinecolor": "white",
           "zerolinewidth": 2
          }
         }
        },
        "width": 1000
       }
      }
     },
     "metadata": {},
     "output_type": "display_data"
    }
   ],
   "source": [
    "fig = go.Figure(sb)\n",
    "\n",
    "fig.update_layout(\n",
    "    autosize=False,\n",
    "    width=1000,\n",
    "    height=1000,\n",
    "    margin = dict(t=0, l=0, r=0, b=0)\n",
    "    )\n",
    "\n",
    "fig.show()\n",
    "f = open(\"sunburst explainer.svg\", \"wb\")\n",
    "f.write(fig.to_image(format = 'svg', height = 1000, width = 1000))\n",
    "f.close()"
   ]
  },
  {
   "cell_type": "code",
   "execution_count": 84,
   "metadata": {},
   "outputs": [
    {
     "data": {
      "application/vnd.plotly.v1+json": {
       "config": {
        "plotlyServerURL": "https://plot.ly"
       },
       "data": [
        {
         "ids": [
          "Kinase Group",
          "Kinase Group Fill",
          "Train/<br>Val/<br>Test",
          "Kinase<br>Family",
          "Kinase",
          "Target Site<br>Sequence"
         ],
         "insidetextfont": {
          "family": "Palatino",
          "size": 20
         },
         "insidetextorientation": "radial",
         "labels": [
          "Kinase Group",
          "Kinase Group Fill",
          "Train/<br>Val/<br>Test",
          "Kinase<br>Family",
          "Kinase",
          "Target Site<br>Sequence"
         ],
         "parents": [
          null,
          null,
          "Kinase Group",
          "Train/<br>Val/<br>Test",
          "Kinase<br>Family",
          "Kinase"
         ],
         "type": "sunburst",
         "values": [
          0,
          0,
          0,
          0,
          0,
          1
         ]
        }
       ],
       "layout": {
        "autosize": false,
        "height": 1000,
        "margin": {
         "b": 0,
         "l": 0,
         "r": 0,
         "t": 0
        },
        "template": {
         "data": {
          "bar": [
           {
            "error_x": {
             "color": "#2a3f5f"
            },
            "error_y": {
             "color": "#2a3f5f"
            },
            "marker": {
             "line": {
              "color": "#E5ECF6",
              "width": 0.5
             },
             "pattern": {
              "fillmode": "overlay",
              "size": 10,
              "solidity": 0.2
             }
            },
            "type": "bar"
           }
          ],
          "barpolar": [
           {
            "marker": {
             "line": {
              "color": "#E5ECF6",
              "width": 0.5
             },
             "pattern": {
              "fillmode": "overlay",
              "size": 10,
              "solidity": 0.2
             }
            },
            "type": "barpolar"
           }
          ],
          "carpet": [
           {
            "aaxis": {
             "endlinecolor": "#2a3f5f",
             "gridcolor": "white",
             "linecolor": "white",
             "minorgridcolor": "white",
             "startlinecolor": "#2a3f5f"
            },
            "baxis": {
             "endlinecolor": "#2a3f5f",
             "gridcolor": "white",
             "linecolor": "white",
             "minorgridcolor": "white",
             "startlinecolor": "#2a3f5f"
            },
            "type": "carpet"
           }
          ],
          "choropleth": [
           {
            "colorbar": {
             "outlinewidth": 0,
             "ticks": ""
            },
            "type": "choropleth"
           }
          ],
          "contour": [
           {
            "colorbar": {
             "outlinewidth": 0,
             "ticks": ""
            },
            "colorscale": [
             [
              0,
              "#0d0887"
             ],
             [
              0.1111111111111111,
              "#46039f"
             ],
             [
              0.2222222222222222,
              "#7201a8"
             ],
             [
              0.3333333333333333,
              "#9c179e"
             ],
             [
              0.4444444444444444,
              "#bd3786"
             ],
             [
              0.5555555555555556,
              "#d8576b"
             ],
             [
              0.6666666666666666,
              "#ed7953"
             ],
             [
              0.7777777777777778,
              "#fb9f3a"
             ],
             [
              0.8888888888888888,
              "#fdca26"
             ],
             [
              1,
              "#f0f921"
             ]
            ],
            "type": "contour"
           }
          ],
          "contourcarpet": [
           {
            "colorbar": {
             "outlinewidth": 0,
             "ticks": ""
            },
            "type": "contourcarpet"
           }
          ],
          "heatmap": [
           {
            "colorbar": {
             "outlinewidth": 0,
             "ticks": ""
            },
            "colorscale": [
             [
              0,
              "#0d0887"
             ],
             [
              0.1111111111111111,
              "#46039f"
             ],
             [
              0.2222222222222222,
              "#7201a8"
             ],
             [
              0.3333333333333333,
              "#9c179e"
             ],
             [
              0.4444444444444444,
              "#bd3786"
             ],
             [
              0.5555555555555556,
              "#d8576b"
             ],
             [
              0.6666666666666666,
              "#ed7953"
             ],
             [
              0.7777777777777778,
              "#fb9f3a"
             ],
             [
              0.8888888888888888,
              "#fdca26"
             ],
             [
              1,
              "#f0f921"
             ]
            ],
            "type": "heatmap"
           }
          ],
          "heatmapgl": [
           {
            "colorbar": {
             "outlinewidth": 0,
             "ticks": ""
            },
            "colorscale": [
             [
              0,
              "#0d0887"
             ],
             [
              0.1111111111111111,
              "#46039f"
             ],
             [
              0.2222222222222222,
              "#7201a8"
             ],
             [
              0.3333333333333333,
              "#9c179e"
             ],
             [
              0.4444444444444444,
              "#bd3786"
             ],
             [
              0.5555555555555556,
              "#d8576b"
             ],
             [
              0.6666666666666666,
              "#ed7953"
             ],
             [
              0.7777777777777778,
              "#fb9f3a"
             ],
             [
              0.8888888888888888,
              "#fdca26"
             ],
             [
              1,
              "#f0f921"
             ]
            ],
            "type": "heatmapgl"
           }
          ],
          "histogram": [
           {
            "marker": {
             "pattern": {
              "fillmode": "overlay",
              "size": 10,
              "solidity": 0.2
             }
            },
            "type": "histogram"
           }
          ],
          "histogram2d": [
           {
            "colorbar": {
             "outlinewidth": 0,
             "ticks": ""
            },
            "colorscale": [
             [
              0,
              "#0d0887"
             ],
             [
              0.1111111111111111,
              "#46039f"
             ],
             [
              0.2222222222222222,
              "#7201a8"
             ],
             [
              0.3333333333333333,
              "#9c179e"
             ],
             [
              0.4444444444444444,
              "#bd3786"
             ],
             [
              0.5555555555555556,
              "#d8576b"
             ],
             [
              0.6666666666666666,
              "#ed7953"
             ],
             [
              0.7777777777777778,
              "#fb9f3a"
             ],
             [
              0.8888888888888888,
              "#fdca26"
             ],
             [
              1,
              "#f0f921"
             ]
            ],
            "type": "histogram2d"
           }
          ],
          "histogram2dcontour": [
           {
            "colorbar": {
             "outlinewidth": 0,
             "ticks": ""
            },
            "colorscale": [
             [
              0,
              "#0d0887"
             ],
             [
              0.1111111111111111,
              "#46039f"
             ],
             [
              0.2222222222222222,
              "#7201a8"
             ],
             [
              0.3333333333333333,
              "#9c179e"
             ],
             [
              0.4444444444444444,
              "#bd3786"
             ],
             [
              0.5555555555555556,
              "#d8576b"
             ],
             [
              0.6666666666666666,
              "#ed7953"
             ],
             [
              0.7777777777777778,
              "#fb9f3a"
             ],
             [
              0.8888888888888888,
              "#fdca26"
             ],
             [
              1,
              "#f0f921"
             ]
            ],
            "type": "histogram2dcontour"
           }
          ],
          "mesh3d": [
           {
            "colorbar": {
             "outlinewidth": 0,
             "ticks": ""
            },
            "type": "mesh3d"
           }
          ],
          "parcoords": [
           {
            "line": {
             "colorbar": {
              "outlinewidth": 0,
              "ticks": ""
             }
            },
            "type": "parcoords"
           }
          ],
          "pie": [
           {
            "automargin": true,
            "type": "pie"
           }
          ],
          "scatter": [
           {
            "fillpattern": {
             "fillmode": "overlay",
             "size": 10,
             "solidity": 0.2
            },
            "type": "scatter"
           }
          ],
          "scatter3d": [
           {
            "line": {
             "colorbar": {
              "outlinewidth": 0,
              "ticks": ""
             }
            },
            "marker": {
             "colorbar": {
              "outlinewidth": 0,
              "ticks": ""
             }
            },
            "type": "scatter3d"
           }
          ],
          "scattercarpet": [
           {
            "marker": {
             "colorbar": {
              "outlinewidth": 0,
              "ticks": ""
             }
            },
            "type": "scattercarpet"
           }
          ],
          "scattergeo": [
           {
            "marker": {
             "colorbar": {
              "outlinewidth": 0,
              "ticks": ""
             }
            },
            "type": "scattergeo"
           }
          ],
          "scattergl": [
           {
            "marker": {
             "colorbar": {
              "outlinewidth": 0,
              "ticks": ""
             }
            },
            "type": "scattergl"
           }
          ],
          "scattermapbox": [
           {
            "marker": {
             "colorbar": {
              "outlinewidth": 0,
              "ticks": ""
             }
            },
            "type": "scattermapbox"
           }
          ],
          "scatterpolar": [
           {
            "marker": {
             "colorbar": {
              "outlinewidth": 0,
              "ticks": ""
             }
            },
            "type": "scatterpolar"
           }
          ],
          "scatterpolargl": [
           {
            "marker": {
             "colorbar": {
              "outlinewidth": 0,
              "ticks": ""
             }
            },
            "type": "scatterpolargl"
           }
          ],
          "scatterternary": [
           {
            "marker": {
             "colorbar": {
              "outlinewidth": 0,
              "ticks": ""
             }
            },
            "type": "scatterternary"
           }
          ],
          "surface": [
           {
            "colorbar": {
             "outlinewidth": 0,
             "ticks": ""
            },
            "colorscale": [
             [
              0,
              "#0d0887"
             ],
             [
              0.1111111111111111,
              "#46039f"
             ],
             [
              0.2222222222222222,
              "#7201a8"
             ],
             [
              0.3333333333333333,
              "#9c179e"
             ],
             [
              0.4444444444444444,
              "#bd3786"
             ],
             [
              0.5555555555555556,
              "#d8576b"
             ],
             [
              0.6666666666666666,
              "#ed7953"
             ],
             [
              0.7777777777777778,
              "#fb9f3a"
             ],
             [
              0.8888888888888888,
              "#fdca26"
             ],
             [
              1,
              "#f0f921"
             ]
            ],
            "type": "surface"
           }
          ],
          "table": [
           {
            "cells": {
             "fill": {
              "color": "#EBF0F8"
             },
             "line": {
              "color": "white"
             }
            },
            "header": {
             "fill": {
              "color": "#C8D4E3"
             },
             "line": {
              "color": "white"
             }
            },
            "type": "table"
           }
          ]
         },
         "layout": {
          "annotationdefaults": {
           "arrowcolor": "#2a3f5f",
           "arrowhead": 0,
           "arrowwidth": 1
          },
          "autotypenumbers": "strict",
          "coloraxis": {
           "colorbar": {
            "outlinewidth": 0,
            "ticks": ""
           }
          },
          "colorscale": {
           "diverging": [
            [
             0,
             "#8e0152"
            ],
            [
             0.1,
             "#c51b7d"
            ],
            [
             0.2,
             "#de77ae"
            ],
            [
             0.3,
             "#f1b6da"
            ],
            [
             0.4,
             "#fde0ef"
            ],
            [
             0.5,
             "#f7f7f7"
            ],
            [
             0.6,
             "#e6f5d0"
            ],
            [
             0.7,
             "#b8e186"
            ],
            [
             0.8,
             "#7fbc41"
            ],
            [
             0.9,
             "#4d9221"
            ],
            [
             1,
             "#276419"
            ]
           ],
           "sequential": [
            [
             0,
             "#0d0887"
            ],
            [
             0.1111111111111111,
             "#46039f"
            ],
            [
             0.2222222222222222,
             "#7201a8"
            ],
            [
             0.3333333333333333,
             "#9c179e"
            ],
            [
             0.4444444444444444,
             "#bd3786"
            ],
            [
             0.5555555555555556,
             "#d8576b"
            ],
            [
             0.6666666666666666,
             "#ed7953"
            ],
            [
             0.7777777777777778,
             "#fb9f3a"
            ],
            [
             0.8888888888888888,
             "#fdca26"
            ],
            [
             1,
             "#f0f921"
            ]
           ],
           "sequentialminus": [
            [
             0,
             "#0d0887"
            ],
            [
             0.1111111111111111,
             "#46039f"
            ],
            [
             0.2222222222222222,
             "#7201a8"
            ],
            [
             0.3333333333333333,
             "#9c179e"
            ],
            [
             0.4444444444444444,
             "#bd3786"
            ],
            [
             0.5555555555555556,
             "#d8576b"
            ],
            [
             0.6666666666666666,
             "#ed7953"
            ],
            [
             0.7777777777777778,
             "#fb9f3a"
            ],
            [
             0.8888888888888888,
             "#fdca26"
            ],
            [
             1,
             "#f0f921"
            ]
           ]
          },
          "colorway": [
           "#636efa",
           "#EF553B",
           "#00cc96",
           "#ab63fa",
           "#FFA15A",
           "#19d3f3",
           "#FF6692",
           "#B6E880",
           "#FF97FF",
           "#FECB52"
          ],
          "font": {
           "color": "#2a3f5f"
          },
          "geo": {
           "bgcolor": "white",
           "lakecolor": "white",
           "landcolor": "#E5ECF6",
           "showlakes": true,
           "showland": true,
           "subunitcolor": "white"
          },
          "hoverlabel": {
           "align": "left"
          },
          "hovermode": "closest",
          "mapbox": {
           "style": "light"
          },
          "paper_bgcolor": "white",
          "plot_bgcolor": "#E5ECF6",
          "polar": {
           "angularaxis": {
            "gridcolor": "white",
            "linecolor": "white",
            "ticks": ""
           },
           "bgcolor": "#E5ECF6",
           "radialaxis": {
            "gridcolor": "white",
            "linecolor": "white",
            "ticks": ""
           }
          },
          "scene": {
           "xaxis": {
            "backgroundcolor": "#E5ECF6",
            "gridcolor": "white",
            "gridwidth": 2,
            "linecolor": "white",
            "showbackground": true,
            "ticks": "",
            "zerolinecolor": "white"
           },
           "yaxis": {
            "backgroundcolor": "#E5ECF6",
            "gridcolor": "white",
            "gridwidth": 2,
            "linecolor": "white",
            "showbackground": true,
            "ticks": "",
            "zerolinecolor": "white"
           },
           "zaxis": {
            "backgroundcolor": "#E5ECF6",
            "gridcolor": "white",
            "gridwidth": 2,
            "linecolor": "white",
            "showbackground": true,
            "ticks": "",
            "zerolinecolor": "white"
           }
          },
          "shapedefaults": {
           "line": {
            "color": "#2a3f5f"
           }
          },
          "ternary": {
           "aaxis": {
            "gridcolor": "white",
            "linecolor": "white",
            "ticks": ""
           },
           "baxis": {
            "gridcolor": "white",
            "linecolor": "white",
            "ticks": ""
           },
           "bgcolor": "#E5ECF6",
           "caxis": {
            "gridcolor": "white",
            "linecolor": "white",
            "ticks": ""
           }
          },
          "title": {
           "x": 0.05
          },
          "xaxis": {
           "automargin": true,
           "gridcolor": "white",
           "linecolor": "white",
           "ticks": "",
           "title": {
            "standoff": 15
           },
           "zerolinecolor": "white",
           "zerolinewidth": 2
          },
          "yaxis": {
           "automargin": true,
           "gridcolor": "white",
           "linecolor": "white",
           "ticks": "",
           "title": {
            "standoff": 15
           },
           "zerolinecolor": "white",
           "zerolinewidth": 2
          }
         }
        },
        "width": 1000
       }
      }
     },
     "metadata": {},
     "output_type": "display_data"
    }
   ],
   "source": [
    "import plotly\n",
    "\n",
    "companion = pd.read_excel(\"./Onion Explainer.xlsx\", sheet_name = \"Companion\")\n",
    "fig = go.Figure(go.Sunburst(\n",
    "    ids=companion['id'],\n",
    "    labels=companion['labels'],\n",
    "    parents=companion['parents'],\n",
    "    values=companion['val'],\n",
    "    insidetextfont=plotly.graph_objects.sunburst.Insidetextfont(family = 'Palatino', size = 20),\n",
    "    insidetextorientation = 'radial'\n",
    "))\n",
    "\n",
    "fig.update_layout(\n",
    "    autosize=False,\n",
    "    width=1000,\n",
    "    height=1000,\n",
    "    margin = dict(t=0, l=0, r=0, b=0)\n",
    ")\n",
    "\n",
    "fig.show()\n",
    "f = open(\"giant_sunburst.svg\", \"wb\")\n",
    "f.write(fig.to_image(format = 'svg', height = 1000, width = 1000))\n",
    "f.close()"
   ]
  },
  {
   "cell_type": "code",
   "execution_count": 78,
   "metadata": {},
   "outputs": [
    {
     "data": {
      "text/html": [
       "<div>\n",
       "<style scoped>\n",
       "    .dataframe tbody tr th:only-of-type {\n",
       "        vertical-align: middle;\n",
       "    }\n",
       "\n",
       "    .dataframe tbody tr th {\n",
       "        vertical-align: top;\n",
       "    }\n",
       "\n",
       "    .dataframe thead th {\n",
       "        text-align: right;\n",
       "    }\n",
       "</style>\n",
       "<table border=\"1\" class=\"dataframe\">\n",
       "  <thead>\n",
       "    <tr style=\"text-align: right;\">\n",
       "      <th></th>\n",
       "      <th>id</th>\n",
       "      <th>labels</th>\n",
       "      <th>parents</th>\n",
       "      <th>val</th>\n",
       "    </tr>\n",
       "  </thead>\n",
       "  <tbody>\n",
       "    <tr>\n",
       "      <th>0</th>\n",
       "      <td>Kinase Group</td>\n",
       "      <td>Kinase Group</td>\n",
       "      <td>NaN</td>\n",
       "      <td>0</td>\n",
       "    </tr>\n",
       "    <tr>\n",
       "      <th>1</th>\n",
       "      <td>Machine&lt;br&gt;Learning Set</td>\n",
       "      <td>Machine&lt;br&gt;Learning Set</td>\n",
       "      <td>Kinase Group</td>\n",
       "      <td>0</td>\n",
       "    </tr>\n",
       "    <tr>\n",
       "      <th>2</th>\n",
       "      <td>Kinase Family</td>\n",
       "      <td>Kinase Family</td>\n",
       "      <td>Machine&lt;br&gt;Learning Set</td>\n",
       "      <td>0</td>\n",
       "    </tr>\n",
       "    <tr>\n",
       "      <th>3</th>\n",
       "      <td>Kinase</td>\n",
       "      <td>Kinase</td>\n",
       "      <td>Kinase Family</td>\n",
       "      <td>0</td>\n",
       "    </tr>\n",
       "    <tr>\n",
       "      <th>4</th>\n",
       "      <td>Target Site&lt;br&gt;Sequence</td>\n",
       "      <td>Target Site&lt;br&gt;Sequence</td>\n",
       "      <td>Kinase</td>\n",
       "      <td>1</td>\n",
       "    </tr>\n",
       "  </tbody>\n",
       "</table>\n",
       "</div>"
      ],
      "text/plain": [
       "                        id                   labels                  parents  \\\n",
       "0             Kinase Group             Kinase Group                      NaN   \n",
       "1  Machine<br>Learning Set  Machine<br>Learning Set             Kinase Group   \n",
       "2            Kinase Family            Kinase Family  Machine<br>Learning Set   \n",
       "3                   Kinase                   Kinase            Kinase Family   \n",
       "4  Target Site<br>Sequence  Target Site<br>Sequence                   Kinase   \n",
       "\n",
       "   val  \n",
       "0    0  \n",
       "1    0  \n",
       "2    0  \n",
       "3    0  \n",
       "4    1  "
      ]
     },
     "execution_count": 78,
     "metadata": {},
     "output_type": "execute_result"
    }
   ],
   "source": [
    "companion"
   ]
  },
  {
   "cell_type": "code",
   "execution_count": 47,
   "metadata": {},
   "outputs": [],
   "source": [
    "pd.set_option('display.max_rows', 500)"
   ]
  },
  {
   "cell_type": "code",
   "execution_count": 374,
   "metadata": {},
   "outputs": [],
   "source": [
    "fig.write_html(\"html_version_starburst_huge.html\")"
   ]
  },
  {
   "cell_type": "code",
   "execution_count": 150,
   "metadata": {},
   "outputs": [],
   "source": [
    "df = pd.read_excel(\"./Onion Explainer.xlsx\", sheet_name='NonUnique')#[['Group', 'Family', 'Kinase', 'Val']]"
   ]
  },
  {
   "cell_type": "code",
   "execution_count": 151,
   "metadata": {},
   "outputs": [
    {
     "data": {
      "application/vnd.plotly.v1+json": {
       "config": {
        "plotlyServerURL": "https://plot.ly"
       },
       "data": [
        {
         "branchvalues": "total",
         "domain": {
          "x": [
           0,
           1
          ],
          "y": [
           0,
           1
          ]
         },
         "hovertemplate": "labels=%{label}<br>Val=%{value}<br>parent=%{parent}<br>id=%{id}<extra></extra>",
         "ids": [
          "I/A/Train/K1",
          "II/F/Train/K10",
          "II/G/Val/K11",
          "II/H/Test/K12",
          "III/M/Train/K13",
          "III/M/Train/K14",
          "III/N/Train/K15",
          "III/N/Train/K16",
          "III/P/Val/K17",
          "III/Q/Test/K18",
          "I/A/Train/K2",
          "I/B/Train/K3",
          "I/B/Train/K4",
          "I/C/Val/K5",
          "I/D/Test/K6",
          "II/E/Train/K7",
          "II/E/Train/K8",
          "II/F/Train/K9",
          "I/D/Test",
          "II/H/Test",
          "III/Q/Test",
          "I/A/Train",
          "I/B/Train",
          "II/E/Train",
          "II/F/Train",
          "III/M/Train",
          "III/N/Train",
          "I/C/Val",
          "II/G/Val",
          "III/P/Val",
          "I/A",
          "I/B",
          "I/C",
          "I/D",
          "II/E",
          "II/F",
          "II/G",
          "II/H",
          "III/M",
          "III/N",
          "III/P",
          "III/Q",
          "I",
          "II",
          "III"
         ],
         "labels": [
          "K1",
          "K10",
          "K11",
          "K12",
          "K13",
          "K14",
          "K15",
          "K16",
          "K17",
          "K18",
          "K2",
          "K3",
          "K4",
          "K5",
          "K6",
          "K7",
          "K8",
          "K9",
          "Test",
          "Test",
          "Test",
          "Train",
          "Train",
          "Train",
          "Train",
          "Train",
          "Train",
          "Val",
          "Val",
          "Val",
          "A",
          "B",
          "C",
          "D",
          "E",
          "F",
          "G",
          "H",
          "M",
          "N",
          "P",
          "Q",
          "I",
          "II",
          "III"
         ],
         "name": "",
         "parents": [
          "I/A/Train",
          "II/F/Train",
          "II/G/Val",
          "II/H/Test",
          "III/M/Train",
          "III/M/Train",
          "III/N/Train",
          "III/N/Train",
          "III/P/Val",
          "III/Q/Test",
          "I/A/Train",
          "I/B/Train",
          "I/B/Train",
          "I/C/Val",
          "I/D/Test",
          "II/E/Train",
          "II/E/Train",
          "II/F/Train",
          "I/D",
          "II/H",
          "III/Q",
          "I/A",
          "I/B",
          "II/E",
          "II/F",
          "III/M",
          "III/N",
          "I/C",
          "II/G",
          "III/P",
          "I",
          "I",
          "I",
          "I",
          "II",
          "II",
          "II",
          "II",
          "III",
          "III",
          "III",
          "III",
          "",
          "",
          ""
         ],
         "type": "sunburst",
         "values": [
          1,
          1,
          1,
          1,
          1,
          1,
          1,
          1,
          1,
          1,
          1,
          1,
          1,
          1,
          1,
          1,
          1,
          1,
          1,
          1,
          1,
          2,
          2,
          2,
          2,
          2,
          2,
          1,
          1,
          1,
          2,
          2,
          1,
          1,
          2,
          2,
          1,
          1,
          2,
          2,
          1,
          1,
          6,
          6,
          6
         ]
        }
       ],
       "layout": {
        "legend": {
         "tracegroupgap": 0
        },
        "margin": {
         "t": 60
        },
        "template": {
         "data": {
          "bar": [
           {
            "error_x": {
             "color": "#2a3f5f"
            },
            "error_y": {
             "color": "#2a3f5f"
            },
            "marker": {
             "line": {
              "color": "#E5ECF6",
              "width": 0.5
             },
             "pattern": {
              "fillmode": "overlay",
              "size": 10,
              "solidity": 0.2
             }
            },
            "type": "bar"
           }
          ],
          "barpolar": [
           {
            "marker": {
             "line": {
              "color": "#E5ECF6",
              "width": 0.5
             },
             "pattern": {
              "fillmode": "overlay",
              "size": 10,
              "solidity": 0.2
             }
            },
            "type": "barpolar"
           }
          ],
          "carpet": [
           {
            "aaxis": {
             "endlinecolor": "#2a3f5f",
             "gridcolor": "white",
             "linecolor": "white",
             "minorgridcolor": "white",
             "startlinecolor": "#2a3f5f"
            },
            "baxis": {
             "endlinecolor": "#2a3f5f",
             "gridcolor": "white",
             "linecolor": "white",
             "minorgridcolor": "white",
             "startlinecolor": "#2a3f5f"
            },
            "type": "carpet"
           }
          ],
          "choropleth": [
           {
            "colorbar": {
             "outlinewidth": 0,
             "ticks": ""
            },
            "type": "choropleth"
           }
          ],
          "contour": [
           {
            "colorbar": {
             "outlinewidth": 0,
             "ticks": ""
            },
            "colorscale": [
             [
              0,
              "#0d0887"
             ],
             [
              0.1111111111111111,
              "#46039f"
             ],
             [
              0.2222222222222222,
              "#7201a8"
             ],
             [
              0.3333333333333333,
              "#9c179e"
             ],
             [
              0.4444444444444444,
              "#bd3786"
             ],
             [
              0.5555555555555556,
              "#d8576b"
             ],
             [
              0.6666666666666666,
              "#ed7953"
             ],
             [
              0.7777777777777778,
              "#fb9f3a"
             ],
             [
              0.8888888888888888,
              "#fdca26"
             ],
             [
              1,
              "#f0f921"
             ]
            ],
            "type": "contour"
           }
          ],
          "contourcarpet": [
           {
            "colorbar": {
             "outlinewidth": 0,
             "ticks": ""
            },
            "type": "contourcarpet"
           }
          ],
          "heatmap": [
           {
            "colorbar": {
             "outlinewidth": 0,
             "ticks": ""
            },
            "colorscale": [
             [
              0,
              "#0d0887"
             ],
             [
              0.1111111111111111,
              "#46039f"
             ],
             [
              0.2222222222222222,
              "#7201a8"
             ],
             [
              0.3333333333333333,
              "#9c179e"
             ],
             [
              0.4444444444444444,
              "#bd3786"
             ],
             [
              0.5555555555555556,
              "#d8576b"
             ],
             [
              0.6666666666666666,
              "#ed7953"
             ],
             [
              0.7777777777777778,
              "#fb9f3a"
             ],
             [
              0.8888888888888888,
              "#fdca26"
             ],
             [
              1,
              "#f0f921"
             ]
            ],
            "type": "heatmap"
           }
          ],
          "heatmapgl": [
           {
            "colorbar": {
             "outlinewidth": 0,
             "ticks": ""
            },
            "colorscale": [
             [
              0,
              "#0d0887"
             ],
             [
              0.1111111111111111,
              "#46039f"
             ],
             [
              0.2222222222222222,
              "#7201a8"
             ],
             [
              0.3333333333333333,
              "#9c179e"
             ],
             [
              0.4444444444444444,
              "#bd3786"
             ],
             [
              0.5555555555555556,
              "#d8576b"
             ],
             [
              0.6666666666666666,
              "#ed7953"
             ],
             [
              0.7777777777777778,
              "#fb9f3a"
             ],
             [
              0.8888888888888888,
              "#fdca26"
             ],
             [
              1,
              "#f0f921"
             ]
            ],
            "type": "heatmapgl"
           }
          ],
          "histogram": [
           {
            "marker": {
             "pattern": {
              "fillmode": "overlay",
              "size": 10,
              "solidity": 0.2
             }
            },
            "type": "histogram"
           }
          ],
          "histogram2d": [
           {
            "colorbar": {
             "outlinewidth": 0,
             "ticks": ""
            },
            "colorscale": [
             [
              0,
              "#0d0887"
             ],
             [
              0.1111111111111111,
              "#46039f"
             ],
             [
              0.2222222222222222,
              "#7201a8"
             ],
             [
              0.3333333333333333,
              "#9c179e"
             ],
             [
              0.4444444444444444,
              "#bd3786"
             ],
             [
              0.5555555555555556,
              "#d8576b"
             ],
             [
              0.6666666666666666,
              "#ed7953"
             ],
             [
              0.7777777777777778,
              "#fb9f3a"
             ],
             [
              0.8888888888888888,
              "#fdca26"
             ],
             [
              1,
              "#f0f921"
             ]
            ],
            "type": "histogram2d"
           }
          ],
          "histogram2dcontour": [
           {
            "colorbar": {
             "outlinewidth": 0,
             "ticks": ""
            },
            "colorscale": [
             [
              0,
              "#0d0887"
             ],
             [
              0.1111111111111111,
              "#46039f"
             ],
             [
              0.2222222222222222,
              "#7201a8"
             ],
             [
              0.3333333333333333,
              "#9c179e"
             ],
             [
              0.4444444444444444,
              "#bd3786"
             ],
             [
              0.5555555555555556,
              "#d8576b"
             ],
             [
              0.6666666666666666,
              "#ed7953"
             ],
             [
              0.7777777777777778,
              "#fb9f3a"
             ],
             [
              0.8888888888888888,
              "#fdca26"
             ],
             [
              1,
              "#f0f921"
             ]
            ],
            "type": "histogram2dcontour"
           }
          ],
          "mesh3d": [
           {
            "colorbar": {
             "outlinewidth": 0,
             "ticks": ""
            },
            "type": "mesh3d"
           }
          ],
          "parcoords": [
           {
            "line": {
             "colorbar": {
              "outlinewidth": 0,
              "ticks": ""
             }
            },
            "type": "parcoords"
           }
          ],
          "pie": [
           {
            "automargin": true,
            "type": "pie"
           }
          ],
          "scatter": [
           {
            "fillpattern": {
             "fillmode": "overlay",
             "size": 10,
             "solidity": 0.2
            },
            "type": "scatter"
           }
          ],
          "scatter3d": [
           {
            "line": {
             "colorbar": {
              "outlinewidth": 0,
              "ticks": ""
             }
            },
            "marker": {
             "colorbar": {
              "outlinewidth": 0,
              "ticks": ""
             }
            },
            "type": "scatter3d"
           }
          ],
          "scattercarpet": [
           {
            "marker": {
             "colorbar": {
              "outlinewidth": 0,
              "ticks": ""
             }
            },
            "type": "scattercarpet"
           }
          ],
          "scattergeo": [
           {
            "marker": {
             "colorbar": {
              "outlinewidth": 0,
              "ticks": ""
             }
            },
            "type": "scattergeo"
           }
          ],
          "scattergl": [
           {
            "marker": {
             "colorbar": {
              "outlinewidth": 0,
              "ticks": ""
             }
            },
            "type": "scattergl"
           }
          ],
          "scattermapbox": [
           {
            "marker": {
             "colorbar": {
              "outlinewidth": 0,
              "ticks": ""
             }
            },
            "type": "scattermapbox"
           }
          ],
          "scatterpolar": [
           {
            "marker": {
             "colorbar": {
              "outlinewidth": 0,
              "ticks": ""
             }
            },
            "type": "scatterpolar"
           }
          ],
          "scatterpolargl": [
           {
            "marker": {
             "colorbar": {
              "outlinewidth": 0,
              "ticks": ""
             }
            },
            "type": "scatterpolargl"
           }
          ],
          "scatterternary": [
           {
            "marker": {
             "colorbar": {
              "outlinewidth": 0,
              "ticks": ""
             }
            },
            "type": "scatterternary"
           }
          ],
          "surface": [
           {
            "colorbar": {
             "outlinewidth": 0,
             "ticks": ""
            },
            "colorscale": [
             [
              0,
              "#0d0887"
             ],
             [
              0.1111111111111111,
              "#46039f"
             ],
             [
              0.2222222222222222,
              "#7201a8"
             ],
             [
              0.3333333333333333,
              "#9c179e"
             ],
             [
              0.4444444444444444,
              "#bd3786"
             ],
             [
              0.5555555555555556,
              "#d8576b"
             ],
             [
              0.6666666666666666,
              "#ed7953"
             ],
             [
              0.7777777777777778,
              "#fb9f3a"
             ],
             [
              0.8888888888888888,
              "#fdca26"
             ],
             [
              1,
              "#f0f921"
             ]
            ],
            "type": "surface"
           }
          ],
          "table": [
           {
            "cells": {
             "fill": {
              "color": "#EBF0F8"
             },
             "line": {
              "color": "white"
             }
            },
            "header": {
             "fill": {
              "color": "#C8D4E3"
             },
             "line": {
              "color": "white"
             }
            },
            "type": "table"
           }
          ]
         },
         "layout": {
          "annotationdefaults": {
           "arrowcolor": "#2a3f5f",
           "arrowhead": 0,
           "arrowwidth": 1
          },
          "autotypenumbers": "strict",
          "coloraxis": {
           "colorbar": {
            "outlinewidth": 0,
            "ticks": ""
           }
          },
          "colorscale": {
           "diverging": [
            [
             0,
             "#8e0152"
            ],
            [
             0.1,
             "#c51b7d"
            ],
            [
             0.2,
             "#de77ae"
            ],
            [
             0.3,
             "#f1b6da"
            ],
            [
             0.4,
             "#fde0ef"
            ],
            [
             0.5,
             "#f7f7f7"
            ],
            [
             0.6,
             "#e6f5d0"
            ],
            [
             0.7,
             "#b8e186"
            ],
            [
             0.8,
             "#7fbc41"
            ],
            [
             0.9,
             "#4d9221"
            ],
            [
             1,
             "#276419"
            ]
           ],
           "sequential": [
            [
             0,
             "#0d0887"
            ],
            [
             0.1111111111111111,
             "#46039f"
            ],
            [
             0.2222222222222222,
             "#7201a8"
            ],
            [
             0.3333333333333333,
             "#9c179e"
            ],
            [
             0.4444444444444444,
             "#bd3786"
            ],
            [
             0.5555555555555556,
             "#d8576b"
            ],
            [
             0.6666666666666666,
             "#ed7953"
            ],
            [
             0.7777777777777778,
             "#fb9f3a"
            ],
            [
             0.8888888888888888,
             "#fdca26"
            ],
            [
             1,
             "#f0f921"
            ]
           ],
           "sequentialminus": [
            [
             0,
             "#0d0887"
            ],
            [
             0.1111111111111111,
             "#46039f"
            ],
            [
             0.2222222222222222,
             "#7201a8"
            ],
            [
             0.3333333333333333,
             "#9c179e"
            ],
            [
             0.4444444444444444,
             "#bd3786"
            ],
            [
             0.5555555555555556,
             "#d8576b"
            ],
            [
             0.6666666666666666,
             "#ed7953"
            ],
            [
             0.7777777777777778,
             "#fb9f3a"
            ],
            [
             0.8888888888888888,
             "#fdca26"
            ],
            [
             1,
             "#f0f921"
            ]
           ]
          },
          "colorway": [
           "#636efa",
           "#EF553B",
           "#00cc96",
           "#ab63fa",
           "#FFA15A",
           "#19d3f3",
           "#FF6692",
           "#B6E880",
           "#FF97FF",
           "#FECB52"
          ],
          "font": {
           "color": "#2a3f5f"
          },
          "geo": {
           "bgcolor": "white",
           "lakecolor": "white",
           "landcolor": "#E5ECF6",
           "showlakes": true,
           "showland": true,
           "subunitcolor": "white"
          },
          "hoverlabel": {
           "align": "left"
          },
          "hovermode": "closest",
          "mapbox": {
           "style": "light"
          },
          "paper_bgcolor": "white",
          "plot_bgcolor": "#E5ECF6",
          "polar": {
           "angularaxis": {
            "gridcolor": "white",
            "linecolor": "white",
            "ticks": ""
           },
           "bgcolor": "#E5ECF6",
           "radialaxis": {
            "gridcolor": "white",
            "linecolor": "white",
            "ticks": ""
           }
          },
          "scene": {
           "xaxis": {
            "backgroundcolor": "#E5ECF6",
            "gridcolor": "white",
            "gridwidth": 2,
            "linecolor": "white",
            "showbackground": true,
            "ticks": "",
            "zerolinecolor": "white"
           },
           "yaxis": {
            "backgroundcolor": "#E5ECF6",
            "gridcolor": "white",
            "gridwidth": 2,
            "linecolor": "white",
            "showbackground": true,
            "ticks": "",
            "zerolinecolor": "white"
           },
           "zaxis": {
            "backgroundcolor": "#E5ECF6",
            "gridcolor": "white",
            "gridwidth": 2,
            "linecolor": "white",
            "showbackground": true,
            "ticks": "",
            "zerolinecolor": "white"
           }
          },
          "shapedefaults": {
           "line": {
            "color": "#2a3f5f"
           }
          },
          "ternary": {
           "aaxis": {
            "gridcolor": "white",
            "linecolor": "white",
            "ticks": ""
           },
           "baxis": {
            "gridcolor": "white",
            "linecolor": "white",
            "ticks": ""
           },
           "bgcolor": "#E5ECF6",
           "caxis": {
            "gridcolor": "white",
            "linecolor": "white",
            "ticks": ""
           }
          },
          "title": {
           "x": 0.05
          },
          "xaxis": {
           "automargin": true,
           "gridcolor": "white",
           "linecolor": "white",
           "ticks": "",
           "title": {
            "standoff": 15
           },
           "zerolinecolor": "white",
           "zerolinewidth": 2
          },
          "yaxis": {
           "automargin": true,
           "gridcolor": "white",
           "linecolor": "white",
           "ticks": "",
           "title": {
            "standoff": 15
           },
           "zerolinecolor": "white",
           "zerolinewidth": 2
          }
         }
        }
       }
      }
     },
     "metadata": {},
     "output_type": "display_data"
    }
   ],
   "source": [
    "import plotly.express as px\n",
    "fig = px.sunburst(df, path=['Group', 'Family', 'MLSet', 'Kinase'], values='Val')\n",
    "fig.show()"
   ]
  }
 ],
 "metadata": {
  "kernelspec": {
   "display_name": "Python 3.10.6 ('base')",
   "language": "python",
   "name": "python3"
  },
  "language_info": {
   "codemirror_mode": {
    "name": "ipython",
    "version": 3
   },
   "file_extension": ".py",
   "mimetype": "text/x-python",
   "name": "python",
   "nbconvert_exporter": "python",
   "pygments_lexer": "ipython3",
   "version": "3.10.6"
  },
  "orig_nbformat": 4,
  "vscode": {
   "interpreter": {
    "hash": "8b0f235dfb12f85291a5d0961e5e2f14d2c9dd145bc4f514acb05f4d86deb64c"
   }
  }
 },
 "nbformat": 4,
 "nbformat_minor": 2
}
