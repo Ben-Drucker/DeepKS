{
 "cells": [
  {
   "cell_type": "code",
   "execution_count": 2,
   "metadata": {},
   "outputs": [],
   "source": [
    "%matplotlib inline\n",
    "from __future__ import division, print_function\n",
    "from six import StringIO\n",
    "import xml.etree.ElementTree as etree\n",
    "import re\n",
    "\n",
    "import matplotlib.path as path\n",
    "import matplotlib as mpl\n",
    "import matplotlib.pyplot as plt\n",
    "import numpy as np\n",
    "import requests\n",
    "import collections\n",
    "\n",
    "from svgpath2mpl import parse_path"
   ]
  },
  {
   "cell_type": "code",
   "execution_count": 3,
   "metadata": {},
   "outputs": [
    {
     "data": {
      "text/html": [
       "<img src=\"./just_stripes_2.svg\"/>"
      ],
      "text/plain": [
       "<IPython.core.display.Image object>"
      ]
     },
     "execution_count": 3,
     "metadata": {},
     "output_type": "execute_result"
    }
   ],
   "source": [
    "from IPython.display import Image\n",
    "Image(url='./just_stripes_2.svg')"
   ]
  },
  {
   "cell_type": "code",
   "execution_count": 4,
   "metadata": {},
   "outputs": [],
   "source": [
    "tree = etree.parse(open(\"./just_stripes_2.svg\", \"r\"))\n",
    "root = tree.getroot()\n",
    "width = int(re.match(r'\\d+', root.attrib['width']).group())\n",
    "height = int(re.match(r'\\d+', root.attrib['height']).group())\n",
    "path_elems = root.findall('.//{http://www.w3.org/2000/svg}path')"
   ]
  },
  {
   "cell_type": "code",
   "execution_count": 5,
   "metadata": {},
   "outputs": [],
   "source": [
    "paths = [parse_path(elem.attrib['d']) for elem in path_elems]\n",
    "facecolors = [elem.attrib.get('fill', 'red') for elem in path_elems]\n",
    "edgecolors = [elem.attrib.get('stroke', 'black') for elem in path_elems]\n",
    "linewidths = [elem.attrib.get('stroke-width', 1) for elem in path_elems]\n",
    "x = np.array([[min(p._vertices[:][0]), max(p._vertices[:][0])] for p in paths])\n",
    "y = np.array([[min(p._vertices[:][1]), max(p._vertices[:][1])] for p in paths])\n",
    "minx = np.min(x)\n",
    "miny = np.min(y)\n",
    "maxx = np.max(x)\n",
    "maxy = np.max(y)\n",
    "for p in paths:\n",
    "    p._vertices[:,0] -= minx\n",
    "    p._vertices[:,1] -= miny"
   ]
  },
  {
   "cell_type": "code",
   "execution_count": 6,
   "metadata": {},
   "outputs": [],
   "source": [
    "import itertools\n",
    "\n",
    "facecolors = list(itertools.chain(*[[x.split(\":\")[1] for x in elem.attrib['style'].split(\";\") if bool(re.match(\"^fill:.*\", x))] for elem in path_elems]))\n",
    "edgecolors = list(itertools.chain(*[[x.split(\":\")[1] for x in elem.attrib['style'].split(\";\") if bool(re.match(\"^stroke:.*\", x))] for elem in path_elems]))\n",
    "fillopacity = list(itertools.chain(*[[x.split(\":\")[1] for x in elem.attrib['style'].split(\";\") if bool(re.match(\"^fill-opacity:.*\", x))] for elem in path_elems]))\n"
   ]
  },
  {
   "cell_type": "code",
   "execution_count": 7,
   "metadata": {},
   "outputs": [
    {
     "data": {
      "text/plain": [
       "<matplotlib.collections.PathCollection at 0x1222a9a80>"
      ]
     },
     "execution_count": 7,
     "metadata": {},
     "output_type": "execute_result"
    },
    {
     "data": {
      "image/png": "[encoded data removed]",
      "text/plain": [
       "<Figure size 640x480 with 1 Axes>"
      ]
     },
     "metadata": {},
     "output_type": "display_data"
    }
   ],
   "source": [
    "collection = mpl.collections.PathCollection(paths, \n",
    "                                      edgecolors=edgecolors, \n",
    "                                      linewidths=linewidths,\n",
    "                                      facecolors=facecolors)\n",
    "fig, ax = plt.subplots()\n",
    "plt.xlim(0, 1000)\n",
    "plt.ylim(0, 1000)\n",
    "\n",
    "# plt.plot(list(range(10)), list(range(0, 100, 10)))\n",
    "ax.add_artist(collection)"
   ]
  },
  {
   "cell_type": "code",
   "execution_count": 167,
   "metadata": {},
   "outputs": [
    {
     "data": {
      "text/plain": [
       "array([ 52.5,  22.5, 112.5, 127.5, 127.5, 127.5])"
      ]
     },
     "execution_count": 167,
     "metadata": {},
     "output_type": "execute_result"
    }
   ],
   "source": [
    "p._vertices[:,0]"
   ]
  },
  {
   "cell_type": "code",
   "execution_count": 10,
   "metadata": {},
   "outputs": [],
   "source": [
    "def svg2mpl(filename, ll_corner, width):\n",
    "    tree = etree.parse(open(filename, \"r\"))\n",
    "    root = tree.getroot()\n",
    "    path_elems = root.findall('.//{http://www.w3.org/2000/svg}path')\n",
    "    paths: list[path.Path] = [parse_path(elem.attrib['d']) for elem in path_elems]\n",
    "    facecolors = [elem.attrib.get('fill', 'red') for elem in path_elems]\n",
    "    edgecolors = [elem.attrib.get('stroke', 'black') for elem in path_elems]\n",
    "    linewidths = [elem.attrib.get('stroke-width', 1) for elem in path_elems]\n",
    "    x = np.array([[min(p._vertices[:][0]), max(p._vertices[:][0])] for p in paths])\n",
    "    y = np.array([[min(p._vertices[:][1]), max(p._vertices[:][1])] for p in paths])\n",
    "    minx = np.min(x)\n",
    "    miny = np.min(y)\n",
    "    maxx = np.max(x)\n",
    "    cur_w = maxx - minx\n",
    "    scale_ratio = width/cur_w\n",
    "    for p in paths:\n",
    "        print(p.__dict__)\n",
    "        p._vertices[:,0] -= minx \n",
    "        p._vertices[:,1] -= miny\n",
    "        p._vertices *= scale_ratio\n",
    "        p._vertices[:,0] += ll_corner[0]\n",
    "        p._vertices[:,1] += ll_corner[1]\n",
    "    facecolors = list(itertools.chain(*[[x.split(\":\")[1] for x in elem.attrib['style'].split(\";\") if bool(re.match(\"^fill:.*\", x))] for elem in path_elems]))\n",
    "    edgecolors = list(itertools.chain(*[[x.split(\":\")[1] for x in elem.attrib['style'].split(\";\") if bool(re.match(\"^stroke:.*\", x))] for elem in path_elems]))\n",
    "    fillopacity = list(itertools.chain(*[[x.split(\":\")[1] for x in elem.attrib['style'].split(\";\") if bool(re.match(\"^fill-opacity:.*\", x))] for elem in path_elems]))\n",
    "    facecolors = [f\"{fc}{int(float(fo)*255):x}\".upper() for fo, fc in zip(fillopacity, facecolors)]\n",
    "    collection = mpl.collections.PathCollection(paths, \n",
    "                                      edgecolors=edgecolors, \n",
    "                                      linewidths=linewidths,\n",
    "                                      facecolors=facecolors)\n",
    "    return collection\n"
   ]
  },
  {
   "cell_type": "code",
   "execution_count": null,
   "metadata": {},
   "outputs": [],
   "source": []
  },
  {
   "cell_type": "code",
   "execution_count": 11,
   "metadata": {},
   "outputs": [
    {
     "name": "stdout",
     "output_type": "stream",
     "text": [
      "{'_vertices': array([[ 75.      ,  89.999999],\n",
      "       [ 89.999999,  75.      ],\n",
      "       [105.      ,  75.      ],\n",
      "       [ 75.      , 105.      ],\n",
      "       [ 75.      ,  89.999999],\n",
      "       [ 75.      ,  89.999999]]), '_codes': array([ 1,  2,  2,  2,  2, 79], dtype=uint8), '_interpolation_steps': 1, '_simplify_threshold': 0.111111111111, '_should_simplify': False, '_readonly': False}\n",
      "{'_vertices': array([[120.      ,  75.      ],\n",
      "       [ 75.      , 120.      ],\n",
      "       [ 75.      , 135.      ],\n",
      "       [127.5     ,  82.499998],\n",
      "       [127.5     ,  75.      ],\n",
      "       [120.      ,  75.      ],\n",
      "       [120.      ,  75.      ]]), '_codes': array([ 1,  2,  2,  2,  2,  2, 79], dtype=uint8), '_interpolation_steps': 1, '_simplify_threshold': 0.111111111111, '_should_simplify': False, '_readonly': False}\n",
      "{'_vertices': array([[ 75. , 150. ],\n",
      "       [127.5,  97.5],\n",
      "       [127.5, 112.5],\n",
      "       [ 75. , 165. ],\n",
      "       [ 75. , 150. ],\n",
      "       [ 75. , 150. ]]), '_codes': array([ 1,  2,  2,  2,  2, 79], dtype=uint8), '_interpolation_steps': 1, '_simplify_threshold': 0.111111111111, '_should_simplify': False, '_readonly': False}\n",
      "{'_vertices': array([[ 75.      , 180.      ],\n",
      "       [127.5     , 127.5     ],\n",
      "       [127.5     , 142.5     ],\n",
      "       [ 82.499998, 187.5     ],\n",
      "       [ 75.      , 187.5     ],\n",
      "       [ 75.      , 180.      ],\n",
      "       [ 75.      , 180.      ]]), '_codes': array([ 1,  2,  2,  2,  2,  2, 79], dtype=uint8), '_interpolation_steps': 1, '_simplify_threshold': 0.111111111111, '_should_simplify': False, '_readonly': False}\n",
      "{'_vertices': array([[127.5, 157.5],\n",
      "       [ 97.5, 187.5],\n",
      "       [112.5, 187.5],\n",
      "       [127.5, 172.5],\n",
      "       [127.5, 157.5],\n",
      "       [127.5, 157.5]]), '_codes': array([ 1,  2,  2,  2,  2, 79], dtype=uint8), '_interpolation_steps': 1, '_simplify_threshold': 0.111111111111, '_should_simplify': False, '_readonly': False}\n"
     ]
    },
    {
     "data": {
      "text/plain": [
       "<matplotlib.collections.PathCollection at 0x122682590>"
      ]
     },
     "execution_count": 11,
     "metadata": {},
     "output_type": "execute_result"
    },
    {
     "data": {
      "image/png": "[encoded data removed]",
      "text/plain": [
       "<Figure size 640x480 with 1 Axes>"
      ]
     },
     "metadata": {},
     "output_type": "display_data"
    }
   ],
   "source": [
    "fig, ax = plt.subplots()\n",
    "plt.xlim(0, 1000)\n",
    "plt.ylim(0, 1000)\n",
    "artist = svg2mpl(\"./just_stripes_2.svg\", (200, 200), 300)\n",
    "ax.add_artist(artist)\n"
   ]
  }
 ],
 "metadata": {
  "kernelspec": {
   "display_name": "base",
   "language": "python",
   "name": "python3"
  },
  "language_info": {
   "codemirror_mode": {
    "name": "ipython",
    "version": 3
   },
   "file_extension": ".py",
   "mimetype": "text/x-python",
   "name": "python",
   "nbconvert_exporter": "python",
   "pygments_lexer": "ipython3",
   "version": "3.10.6"
  },
  "vscode": {
   "interpreter": {
    "hash": "8b0f235dfb12f85291a5d0961e5e2f14d2c9dd145bc4f514acb05f4d86deb64c"
   }
  }
 },
 "nbformat": 4,
 "nbformat_minor": 1
}
