{
 "cells": [
  {
   "cell_type": "code",
   "execution_count": null,
   "metadata": {},
   "outputs": [],
   "source": [
    "import pandas as pd, matplotlib.pyplot as plt, re, os, itertools, collections, tqdm, textwrap, numpy as np\n",
    "from matplotlib import rcParams\n",
    "rcParams['font.family'] = [\"P052\", \"Fira Code\"]\n",
    "%config InlineBackend.figure_format = 'svg'"
   ]
  },
  {
   "cell_type": "code",
   "execution_count": null,
   "metadata": {},
   "outputs": [],
   "source": [
    "# See how many sites PSP and atlas have in common from the files /Users/druc594/Library/CloudStorage/OneDrive-PNNL/Desktop/DeepKS_/DeepKS/discovery/nature_atlas/site_list_86201.txt and /Users/druc594/Library/CloudStorage/OneDrive-PNNL/Desktop/DeepKS_/DeepKS/discovery/nature_atlas/PSP_site_list.csv\n",
    "\n",
    "# Read in the site list from the atlas\n",
    "site_list_atlas = pd.read_csv('/Users/druc594/Library/CloudStorage/OneDrive-PNNL/Desktop/DeepKS_/DeepKS/discovery/nature_atlas/site_list_86201.txt', header=None)\n",
    "site_list_psp = pd.read_csv('/Users/druc594/Library/CloudStorage/OneDrive-PNNL/Desktop/DeepKS_/DeepKS/discovery/nature_atlas/PSP_site_list.csv', header=None)\n",
    "# Create a Venn diagram from the two lists\n",
    "from matplotlib_venn import venn2\n",
    "venn2([set(site_list_atlas[0]), set(site_list_psp[0])], set_labels = ('Atlas', 'PSP'))\n",
    "plt.show()"
   ]
  },
  {
   "attachments": {},
   "cell_type": "markdown",
   "metadata": {},
   "source": [
    "##### Since there is no overlap, we have to scrape from the Nature Atlas"
   ]
  },
  {
   "cell_type": "code",
   "execution_count": null,
   "metadata": {},
   "outputs": [],
   "source": [
    "### Assume we have already run scrape.py\n",
    "\n",
    "# Open all files in scraped directory and create a mapping from site name to results table\n",
    "scraped_path = '/Users/druc594/Downloads/KinLibDown'\n",
    "mapping = {}\n",
    "for file in [x for x in os.listdir(scraped_path) if x.endswith('.tsv')]:\n",
    "    site_name = \"\"\n",
    "    tab = None\n",
    "    try:\n",
    "        tab = pd.read_csv(os.path.join(scraped_path, file), sep='\\t')\n",
    "        site_name = re.sub(r'-[0-9]+`[0-9]+\\.tsv', '', file)\n",
    "    except Exception as e:\n",
    "        print(e)\n",
    "        print(\"Problem:\", file)\n",
    "    \n",
    "    mapping[site_name] = tab\n",
    "\n",
    "for k, v in mapping.items():\n",
    "    mapping[k] = v.set_index(\"kinase\").to_dict()['site_percentile']\n",
    "THEIR_RESULTS_FILE = \"./41586_2022_5575_MOESM5_ESM.csv\"\n",
    "their_results = pd.read_csv(THEIR_RESULTS_FILE).set_index(\"Uniprot Primary Accession\")\n",
    "matrix_name_to_uniprot_id: dict[str, str] = (\n",
    "    pd.read_csv(\"./41586_2022_5575_MOESM3_ESM.csv\").set_index(\"Matrix_name\").to_dict()[\"Uniprot id\"]\n",
    ")\n"
   ]
  },
  {
   "attachments": {},
   "cell_type": "markdown",
   "metadata": {},
   "source": [
    "### \"Target\" Histogram"
   ]
  },
  {
   "cell_type": "code",
   "execution_count": null,
   "metadata": {},
   "outputs": [],
   "source": [
    "\n",
    "uniprot_id_to_matrix_name = {v: k for k, v in matrix_name_to_uniprot_id.items()}\n",
    "assert len(uniprot_id_to_matrix_name) == len(matrix_name_to_uniprot_id)\n",
    "kin_uniprot_to_sites = collections.defaultdict(list[str])\n",
    "psp = pd.read_excel(\"/Users/druc594/Library/CloudStorage/OneDrive-PNNL/Desktop/DeepKS_/DeepKS/data/raw_data/PSP_script_download.xlsx\")[[\"SITE_+/-7_AA\", \"KIN_ACC_ID\"]]\n",
    "\n",
    "\n",
    "for _, row in psp.iterrows():\n",
    "    assert isinstance(row[\"SITE_+/-7_AA\"], str)\n",
    "    kin_uniprot_to_sites[row[\"KIN_ACC_ID\"]].append(re.sub(r\"^(.{8})\", r\"\\1*\", row[\"SITE_+/-7_AA\"].upper()))\n",
    "mod_cols = set([matrix_name_to_uniprot_id[re.sub(r\"^([0-9A-Z]+)_rank.*\", r\"\\1\", x)] for x in their_results.columns if x.endswith(\"_rank\")])\n",
    "kuts = kin_uniprot_to_sites.copy().keys()\n",
    "\n",
    "\n",
    "for kin_u in kuts:\n",
    "    if kin_u not in mod_cols:\n",
    "        kin_uniprot_to_sites.pop(kin_u)\n",
    "site_to_kin_uniprots = collections.defaultdict(list[str])\n",
    "\n",
    "\n",
    "for kin_u, sites in kin_uniprot_to_sites.items():\n",
    "    for site in sites:\n",
    "        site_to_kin_uniprots[site].append(kin_u)\n",
    "\n",
    "\n",
    "site_to_kin_uniprots_shortened = {k.replace(\"*\", \"\")[2:-1].replace(\"_\", \"\"):v for k,v in site_to_kin_uniprots.items()}\n",
    "site_to_percentiles = collections.defaultdict(list[float])\n",
    "\n",
    "\n",
    "# Build up a mapping from site to list of percentiles\n",
    "for site in mapping:\n",
    "    assert site in site_to_kin_uniprots_shortened, f\"{site} not in site_to_kin_uniprots_shortened\"\n",
    "    for kin in site_to_kin_uniprots_shortened[site]:\n",
    "        assert kin in uniprot_id_to_matrix_name, f\"{kin} not in uniprot_id_to_matrix_name\"\n",
    "        assert site in mapping, f\"{site} not in mapping\"\n",
    "        if uniprot_id_to_matrix_name[kin] in mapping[site]:\n",
    "            site_to_percentiles[site].append(mapping[site][uniprot_id_to_matrix_name[kin]])\n",
    "            \n",
    "all_percentiles = list(itertools.chain(*site_to_percentiles.values()))"
   ]
  },
  {
   "attachments": {},
   "cell_type": "markdown",
   "metadata": {},
   "source": [
    "### \"Decoy\" Histogram"
   ]
  },
  {
   "cell_type": "code",
   "execution_count": null,
   "metadata": {},
   "outputs": [],
   "source": [
    "# Load formatted data file\n",
    "formatted_data = pd.read_csv('../../data/raw_data_45176_formatted_65.csv')\n",
    "formatted_data['seq'] = formatted_data['seq'].apply(lambda x: x[2:-1])\n",
    "our_kinase_name_to_uniprot = {x.split(\"|\")[0]: x.split(\"|\")[1] for x in formatted_data['orig_lab_name']}\n",
    "\n",
    "# Extract just the entries where both the site is in the 150-site sample and it is a decoy\n",
    "formatted_data = formatted_data[formatted_data['seq'].isin(site_to_percentiles.keys()) & (formatted_data['class'] == 0)]\n",
    "\n",
    "# Create a dictionary `decoy_kinases` from site to decoy kinase\n",
    "decoy_kinases = formatted_data.set_index('seq').to_dict()['lab_name']\n",
    "\n",
    "# Build up `all_percentiles_decoy` by including `mapping[site][kinase]` for each kinase in `decoy_kinases`\n",
    "all_percentiles_decoy = []\n",
    "for site, kinase in decoy_kinases.items():\n",
    "    ms = {k.upper(): v for k, v in mapping[site].items()}\n",
    "    okntuk = our_kinase_name_to_uniprot[kinase]\n",
    "    if okntuk in uniprot_id_to_matrix_name:\n",
    "        uitmnokntuk = uniprot_id_to_matrix_name[okntuk]\n",
    "    else:\n",
    "        # print(f\"Could not find {okntuk} in uniprot_id_to_matrix_name\")\n",
    "        continue\n",
    "    all_percentiles_decoy.append(ms[uitmnokntuk])\n",
    "\n",
    "assert len(site_to_percentiles)//2 < len(all_percentiles_decoy) <= len(site_to_percentiles), f\"{len(all_percentiles_decoy)=}; {len(site_to_percentiles)=}\""
   ]
  },
  {
   "attachments": {},
   "cell_type": "markdown",
   "metadata": {},
   "source": [
    "#### Make a histogram of the percentiles (Target)"
   ]
  },
  {
   "cell_type": "code",
   "execution_count": null,
   "metadata": {},
   "outputs": [],
   "source": [
    "fig, ax = plt.subplots(nrows=1, ncols=1, figsize=(8, 6))\n",
    "max_height = 0\n",
    "hist_data = ax.hist(all_percentiles, bins=list(range(0, 101, 5)))\n",
    "this_max_height = max(hist_data[0])\n",
    "assert isinstance(this_max_height, float)\n",
    "max_height = max(max_height, this_max_height)\n",
    "max_height = np.ceil(max_height / 5) * 5\n",
    "fig.suptitle(\n",
    "    textwrap.fill(\n",
    "        (\n",
    "            f\"Distribution of Atlas-predicted percentiles for {len(all_percentiles)} experimentally validated PSP K-S\"\n",
    "            \" pairs.\"\n",
    "        ),\n",
    "        60,\n",
    "    ),\n",
    "    fontsize=18,\n",
    "    fontweight='bold',\n",
    "    y=1.05\n",
    ")\n",
    "ax.set_title(textwrap.fill(f\"{len(mapping)} sites scored by atlas; PSP contains an average of {len(all_percentiles)/len(mapping):.2f} kinases per site. {len(all_percentiles)/len(mapping):.2f} avg sites/kinase × {len(mapping)} kinases = {len(all_percentiles)} total sites\", width=80), y=1)\n",
    "ax.set_xlabel(\"Score Percentile\")\n",
    "ax.set_ylabel(\"Count\")\n",
    "ax.set_xticks(range(0, 101, 10), range(0, 101, 10))\n",
    "ax.set_ylim(0, ylm := min(4 + max_height, max_height * 1.1))\n",
    "ytk = range(0, int(max_height) + 1, max(1, int(5*np.floor(np.log10(max_height - 1)))))\n",
    "ax.set_yticks(ytk, ytk)\n",
    "for pctl in [25, 50, 75]:\n",
    "    linewidth = 2 if pctl == 50 else 1\n",
    "    linestyle = \"-\" if pctl == 50 else \"--\"\n",
    "    ax.vlines(np.percentile(all_percentiles, pctl), 0, ylm, color=\"red\", label=f\"Distribution {pctl}th Percentile\", linestyle=linestyle, linewidth=linewidth, alpha = 0.6)\n",
    "\n",
    "ax.legend()\n",
    "_ = ax.grid(visible=True, axis=\"y\", linestyle=\"--\", alpha=0.4)"
   ]
  },
  {
   "attachments": {},
   "cell_type": "markdown",
   "metadata": {},
   "source": [
    "### Make a histogram of the percentiles (Decoy)"
   ]
  },
  {
   "cell_type": "code",
   "execution_count": null,
   "metadata": {},
   "outputs": [],
   "source": [
    "fig, ax = plt.subplots(nrows=1, ncols=1, figsize=(8, 6))\n",
    "max_height = 0\n",
    "hist_data = ax.hist(all_percentiles_decoy, bins=list(range(0, 101, 5)), label=\"Distribution\")\n",
    "this_max_height = max(hist_data[0])\n",
    "assert isinstance(this_max_height, float)\n",
    "max_height = max(max_height, this_max_height)\n",
    "max_height = np.ceil(max_height / 5) * 5\n",
    "fig.suptitle(\n",
    "    textwrap.fill(\n",
    "        (\n",
    "            f\"Distribution of Atlas-predicted percentiles for {len(all_percentiles_decoy)} derangement-generated false \\\"Decoy\\\" K-S\"\n",
    "            \" pairs.\"\n",
    "        ),\n",
    "        60,\n",
    "        replace_whitespace=False\n",
    "    ),\n",
    "    fontsize=18,\n",
    "    fontweight='bold',\n",
    "    y=1.1\n",
    ")\n",
    "ax.set_title(textwrap.fill(f\"{len(mapping)} sites scored by atlas; PSP contains an average of {len(all_percentiles_decoy)/len(mapping):.2f} decoy-assigned kinases per site (that have an associated atlas score). {len(all_percentiles_decoy)/len(mapping):.2f} avg sites/kinase × {len(mapping)} kinases = {len(all_percentiles_decoy)} total sites\", width=80), y=1)\n",
    "ax.set_xlabel(\"Score Percentile\")\n",
    "ax.set_ylabel(\"Count\")\n",
    "ax.set_xticks(range(0, 101, 10), range(0, 101, 10))\n",
    "ax.set_ylim(0, ylm := min(4 + max_height, max_height * 1.1))\n",
    "ytk = range(0, int(max_height) + 1, max(1, int(5*np.floor(np.log10(max_height - 1)))))\n",
    "ax.set_yticks(ytk, ytk)\n",
    "for pctl in [25, 50, 75]:\n",
    "    linewidth = 2 if pctl == 50 else 1\n",
    "    linestyle = \"-\" if pctl == 50 else \"--\"\n",
    "    ax.vlines(np.percentile(all_percentiles_decoy, pctl), 0, ylm, color=\"red\", label=f\"Distribution {pctl}th Percentile\", linestyle=linestyle, linewidth=linewidth, alpha = 0.6)\n",
    "\n",
    "ax.legend()\n",
    "_ = ax.grid(visible=True, axis=\"y\", linestyle=\"--\", alpha=0.4)"
   ]
  },
  {
   "attachments": {},
   "cell_type": "markdown",
   "metadata": {},
   "source": [
    "#### Make a boxplot of the percentiles"
   ]
  },
  {
   "cell_type": "code",
   "execution_count": null,
   "metadata": {},
   "outputs": [],
   "source": [
    "fig, ax = plt.subplots(nrows = 1, ncols = 1, figsize = (3, 7))\n",
    "max_height = 0\n",
    "ax.boxplot(all_percentiles)\n",
    "# this_max_height = max(hist_data[0])\n",
    "# assert isinstance(this_max_height, float)\n",
    "# max_height = max(max_height, this_max_height)\n",
    "# max_height = np.ceil(max_height/5) * 5\n",
    "ax.set_title(textwrap.fill(f\"Distribution of Atlas-predicted percentiles for {len(all_percentiles)} experimentally validated PSP K-S pairs\", 40))\n",
    "# ax.set_xlabel(\"Percentile\")\n",
    "ax.set_ylabel(\"Percentile\")\n",
    "ax.set_xticks([1], [f\"{len(all_percentiles)} pairs\"])\n",
    "# ax.set_xticks(range(0, 101, 10), range(0, 101, 10))\n",
    "# ax.set_ylim(0, min(4 + max_height, max_height*1.1))\n",
    "# print(max_height)\n",
    "_ = ax.set_yticks(range(0, 101, 10))\n",
    "ax.grid(visible=True, axis = 'y', linestyle=\"--\", alpha=0.4)"
   ]
  }
 ],
 "metadata": {
  "kernelspec": {
   "display_name": "py310",
   "language": "python",
   "name": "python3"
  },
  "language_info": {
   "codemirror_mode": {
    "name": "ipython",
    "version": 3
   },
   "file_extension": ".py",
   "mimetype": "text/x-python",
   "name": "python",
   "nbconvert_exporter": "python",
   "pygments_lexer": "ipython3",
   "version": "3.11.0"
  },
  "orig_nbformat": 4
 },
 "nbformat": 4,
 "nbformat_minor": 2
}
