{
 "cells": [
  {
   "cell_type": "code",
   "execution_count": 1,
   "metadata": {},
   "outputs": [],
   "source": [
    "import pandas as pd, json, re, os, pathlib, sys, matplotlib.pyplot as plt, numpy as np, random, collections, itertools\n",
    "from matplotlib import rcParams\n",
    "rcParams['font.family'] = \"P052-Roman\"\n",
    "try:\n",
    "    %load_ext autoreload\n",
    "    %autoreload 2\n",
    "    %config InlineBackend.figure_format = 'svg'\n",
    "except SyntaxError:\n",
    "    pass\n",
    "\n",
    "os.chdir(\"/Users/druc594/Library/CloudStorage/OneDrive-PNNL/Desktop/DeepKS_/DeepKS/discovery/nature_atlas/\")"
   ]
  },
  {
   "cell_type": "code",
   "execution_count": 2,
   "metadata": {},
   "outputs": [],
   "source": [
    "OUR_RESULTS_FILE = \"../../out/results_2023-02-22@20`26`51.1@+00`00.csv\"\n",
    "THEIR_RESULTS_FILE = \"./41586_2022_5575_MOESM5_ESM.csv\""
   ]
  },
  {
   "cell_type": "code",
   "execution_count": 18,
   "metadata": {},
   "outputs": [],
   "source": [
    "correctly_sort_index = lambda index: \\\n",
    "    [\n",
    "        (x.split(\"|\")[0],\n",
    "        x.split(\"|\")[1],\n",
    "        np.mean([int(y[1:]) for y in eval(x.split(\"|\")[2])])\n",
    "        )\n",
    "        for x in index\n",
    "    ]"
   ]
  },
  {
   "cell_type": "code",
   "execution_count": 19,
   "metadata": {},
   "outputs": [],
   "source": [
    "results = pd.read_csv(OUR_RESULTS_FILE)\n",
    "results[\"KinSymbol\"] = results[\"Kinase Gene Name\"] + \"|\" + results[\"Kinase Uniprot Accession\"]\n",
    "results[\"SiteSymbol\"] = (\n",
    "    results[\"Site Gene Name\"] + \"|\" + results[\"Site Uniprot Accession\"] + \"|\" + results[\"Site Location\"]\n",
    ")\n",
    "results = results[[\"KinSymbol\", \"SiteSymbol\", \"Score\"]]\n",
    "kin_to_site_to_score = results.set_index([\"KinSymbol\", \"SiteSymbol\"]).to_dict()[\"Score\"]\n",
    "cols = {x: {} for x in results[\"KinSymbol\"].unique()}\n",
    "for (kin, site), score in kin_to_site_to_score.items():\n",
    "    cols[kin][site] = score\n",
    "orig_keys = list(cols.keys())\n",
    "for c in orig_keys:\n",
    "    cols[c + \"^Score\"] = cols.pop(c)\n",
    "derived_df = pd.DataFrame.from_dict(cols)\n",
    "ranked = (\n",
    "    derived_df.rank(axis=1, method=\"max\")\n",
    "    .rename(columns={c: str(c).replace(\"^Score\", \"^Rank\") for c in derived_df.columns})\n",
    "    .astype(int)\n",
    ")\n",
    "our_df_to_compare = pd.concat([derived_df, ranked], axis=1)\n",
    "our_df_to_compare = our_df_to_compare[\n",
    "    list(\n",
    "        itertools.chain(\n",
    "            *[\n",
    "                [base_c, str(base_c).replace(\"^Score\", \"^Rank\")]\n",
    "                for base_c in our_df_to_compare.columns[: len(our_df_to_compare.columns) // 2]\n",
    "            ]\n",
    "        )\n",
    "    )\n",
    "]\n",
    "our_df_to_compare = our_df_to_compare.sort_index(axis='columns')\n",
    "our_ranks = our_df_to_compare[[x for x in our_df_to_compare.columns if \"Rank\" in str(x)]].copy()\n",
    "our_ranks = our_ranks.sort_index(axis='index', key=correctly_sort_index, inplace=False)\n",
    "our_ranks.to_csv(\"./our_ranks.csv\")"
   ]
  },
  {
   "cell_type": "code",
   "execution_count": 56,
   "metadata": {},
   "outputs": [],
   "source": [
    "their_results = pd.read_csv(THEIR_RESULTS_FILE).set_index(\"Uniprot Primary Accession\")\n",
    "matrix_name_to_uniprot_id: dict[str, str] = (\n",
    "    pd.read_csv(\"./41586_2022_5575_MOESM3_ESM.csv\").set_index(\"Matrix_name\").to_dict()[\"Uniprot id\"]\n",
    ")\n",
    "# their_sites_to_symbols = [f\"\"\"{r['Gene'] if not pd.isna(r['Gene']) else f\"<UNK>UnipAc:{i}\"}|{i}|{r['Phosphosite']}\"\"\" for i, r in their_results.iterrows()]\n",
    "\n",
    "their_site_flk_seqs_to_locs = collections.defaultdict(list[str])\n",
    "their_site_flk_seqs_to_upids = collections.defaultdict(list[str])\n",
    "their_site_flk_seqs_to_genes = collections.defaultdict(list[str])\n",
    "for i, r in their_results.iterrows():\n",
    "    flk_seq = r['SITE_+/-7_AA']  # flk_seq.split(\"|\")\n",
    "    their_site_flk_seqs_to_locs[flk_seq].append(r['Phosphosite'])\n",
    "    their_site_flk_seqs_to_upids[flk_seq].append(str(i)) # AKA Uniprot ID\n",
    "    their_site_flk_seqs_to_genes[flk_seq].append(r['Gene'] if not pd.isna(r['Gene']) else f\"<UNK>UnipAc:{i}\")\n",
    "their_sites_to_symbols = {flk: f\"\"\"{their_site_flk_seqs_to_genes[flk]}|{their_site_flk_seqs_to_upids[flk]}|{their_site_flk_seqs_to_locs[flk]}\"\"\" for flk in their_site_flk_seqs_to_locs}"
   ]
  },
  {
   "cell_type": "code",
   "execution_count": 61,
   "metadata": {},
   "outputs": [],
   "source": [
    "new_idx = [their_sites_to_symbols[r['SITE_+/-7_AA']] for _, r in their_results.iterrows()]\n",
    "their_results.index = pd.Index(new_idx)\n",
    "\n",
    "their_kins_to_symbols = {\n",
    "    tk: f\"['{re.sub(r'_rank', r'', tk)}']|['{matrix_name_to_uniprot_id[re.sub(r'_rank', r'', tk)]}']^Rank\" # TODO: implement multiinfo\n",
    "    for tk in [str(x) for x in their_results.columns]\n",
    "    if tk.endswith(\"_rank\")\n",
    "}\n",
    "their_df_to_compare = their_results.rename(columns=their_kins_to_symbols)[list(their_kins_to_symbols.values())]"
   ]
  },
  {
   "cell_type": "code",
   "execution_count": 63,
   "metadata": {},
   "outputs": [],
   "source": [
    "their_ranks = their_df_to_compare[our_ranks.columns].copy()\n",
    "their_ranks = their_ranks.rank(axis=1, method=\"max\").astype(int)\n",
    "their_ranks.sort_index(axis='index', inplace=True)\n",
    "their_ranks.to_csv(\"./their_ranks.csv\")"
   ]
  },
  {
   "cell_type": "code",
   "execution_count": 7,
   "metadata": {},
   "outputs": [],
   "source": [
    "normalize_ranks = lambda obj_to_norm, starting_ranks, ending_ranks: obj_to_norm*(ending_ranks-1)/(starting_ranks-1) + (starting_ranks-ending_ranks)/(starting_ranks-1)"
   ]
  },
  {
   "cell_type": "code",
   "execution_count": 71,
   "metadata": {},
   "outputs": [],
   "source": [
    "their_ranks.insert(0, column='fake_idx', value = their_ranks.index, allow_duplicates=True)\n",
    "their_ranks = their_ranks.drop_duplicates(keep='first').drop(columns=['fake_idx'])"
   ]
  },
  {
   "cell_type": "code",
   "execution_count": 76,
   "metadata": {},
   "outputs": [
    {
     "data": {
      "text/plain": [
       "[\"['<UNK>UnipAc:A0A0B4J269', 'TUBB2A', 'TUBB2B', 'TUBB3', 'TUBB4A', 'TUBB4B', 'TUBB8', 'TUBB']|['A0A0B4J269', 'Q13885', 'Q9BVA1', 'Q13509', 'P04350', 'P68371', 'Q3ZCM7', 'P07437']|['T419', 'T72', 'T72', 'T72', 'T72', 'T72', 'T72', 'T72']\",\n",
       " \"['<UNK>UnipAc:A0A0B4J269', 'TUBB2A', 'TUBB2B', 'TUBB3', 'TUBB4B', 'TUBB']|['A0A0B4J269', 'Q13885', 'Q9BVA1', 'Q13509', 'P68371', 'P07437']|['S462', 'S115', 'S115', 'S115', 'S115', 'S115']\",\n",
       " \"['<UNK>UnipAc:A0A0B4J269', 'TUBB2A', 'TUBB2B', 'TUBB3', 'TUBB4B', 'TUBB']|['A0A0B4J269', 'Q13885', 'Q9BVA1', 'Q13509', 'P68371', 'P07437']|['T454', 'T107', 'T107', 'T107', 'T107', 'T107']\",\n",
       " \"['<UNK>UnipAc:A0A0B4J269', 'TUBB3', 'TUBB4A', 'TUBB4B', 'TUBB']|['A0A0B4J269', 'Q13509', 'P04350', 'P68371', 'P07437']|['S515', 'S168', 'S168', 'S168', 'S168']\",\n",
       " \"['<UNK>UnipAc:A0A0B4J269', 'TUBB3', 'TUBB4A', 'TUBB4B', 'TUBB']|['A0A0B4J269', 'Q13509', 'P04350', 'P68371', 'P07437']|['S519', 'S172', 'S172', 'S172', 'S172']\"]"
      ]
     },
     "execution_count": 76,
     "metadata": {},
     "output_type": "execute_result"
    }
   ],
   "source": [
    "sorted(list(set(our_ranks.index) - set(their_ranks.index)))[:5]"
   ]
  },
  {
   "cell_type": "code",
   "execution_count": 77,
   "metadata": {},
   "outputs": [
    {
     "data": {
      "text/plain": [
       "[\"['<UNK>UnipAc:A0A0B4J269', 'TUBB', 'TUBB4B', 'TUBB3', 'TUBB2A', 'TUBB2B']|['A0A0B4J269', 'P07437', 'P68371', 'Q13509', 'Q13885', 'Q9BVA1']|['S462', 'S115', 'S115', 'S115', 'S115', 'S115']\",\n",
       " \"['<UNK>UnipAc:A0A0B4J269', 'TUBB', 'TUBB4B', 'TUBB3', 'TUBB2A', 'TUBB2B']|['A0A0B4J269', 'P07437', 'P68371', 'Q13509', 'Q13885', 'Q9BVA1']|['T454', 'T107', 'T107', 'T107', 'T107', 'T107']\",\n",
       " \"['<UNK>UnipAc:A0A0B4J269', 'TUBB', 'TUBB4B', 'TUBB3']|['A0A0B4J269', 'P07437', 'P68371', 'Q13509']|['T513', 'T166', 'T166', 'T166']\",\n",
       " \"['<UNK>UnipAc:A0A0B4J269', 'TUBB4A', 'TUBB', 'TUBB4B', 'TUBB3', 'TUBB2A', 'TUBB8', 'TUBB2B']|['A0A0B4J269', 'P04350', 'P07437', 'P68371', 'Q13509', 'Q13885', 'Q3ZCM7', 'Q9BVA1']|['T419', 'T72', 'T72', 'T72', 'T72', 'T72', 'T72', 'T72']\",\n",
       " \"['<UNK>UnipAc:A0A0B4J269', 'TUBB4A', 'TUBB', 'TUBB4B', 'TUBB3']|['A0A0B4J269', 'P04350', 'P07437', 'P68371', 'Q13509']|['S515', 'S168', 'S168', 'S168', 'S168']\"]"
      ]
     },
     "execution_count": 77,
     "metadata": {},
     "output_type": "execute_result"
    }
   ],
   "source": [
    "sorted(list(set(their_ranks.index) - set(our_ranks.index)))[:5]"
   ]
  }
 ],
 "metadata": {
  "kernelspec": {
   "display_name": "py310",
   "language": "python",
   "name": "python3"
  },
  "language_info": {
   "codemirror_mode": {
    "name": "ipython",
    "version": 3
   },
   "file_extension": ".py",
   "mimetype": "text/x-python",
   "name": "python",
   "nbconvert_exporter": "python",
   "pygments_lexer": "ipython3",
   "version": "3.10.8"
  },
  "orig_nbformat": 4,
  "vscode": {
   "interpreter": {
    "hash": "a14336ceb7850ff353a5a4a483484410d336bcab41f389f2b33cf686ed5fca1a"
   }
  }
 },
 "nbformat": 4,
 "nbformat_minor": 2
}
