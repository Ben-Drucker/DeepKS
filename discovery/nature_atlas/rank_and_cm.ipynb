{
 "cells": [
  {
   "cell_type": "code",
   "execution_count": 86,
   "metadata": {},
   "outputs": [
    {
     "name": "stdout",
     "output_type": "stream",
     "text": [
      "The autoreload extension is already loaded. To reload it, use:\n",
      "  %reload_ext autoreload\n"
     ]
    }
   ],
   "source": [
    "import pandas as pd, re, os, matplotlib.pyplot as plt, numpy as np, collections, itertools\n",
    "from matplotlib import rcParams\n",
    "rcParams['font.family'] = \"P052-Roman\"\n",
    "try:\n",
    "    %load_ext autoreload\n",
    "    %autoreload 2\n",
    "    %config InlineBackend.figure_format = 'svg'\n",
    "except SyntaxError:\n",
    "    pass\n",
    "\n",
    "os.chdir(\"/Users/druc594/Library/CloudStorage/OneDrive-PNNL/Desktop/DeepKS_/DeepKS/discovery/nature_atlas/\")"
   ]
  },
  {
   "cell_type": "code",
   "execution_count": 87,
   "metadata": {},
   "outputs": [],
   "source": [
    "OUR_RESULTS_FILE = \"../../out/results_2023-02-22@22`44`25.2@+00`00.csv\"\n",
    "THEIR_RESULTS_FILE = \"./41586_2022_5575_MOESM5_ESM.csv\""
   ]
  },
  {
   "cell_type": "code",
   "execution_count": 88,
   "metadata": {},
   "outputs": [],
   "source": [
    "correctly_sort_index = lambda index: \\\n",
    "    [\n",
    "        (x.split(\"|\")[0],\n",
    "        x.split(\"|\")[1],\n",
    "        np.mean([int(y[1:]) for y in eval(x.split(\"|\")[2])])\n",
    "        )\n",
    "        for x in index\n",
    "    ]"
   ]
  },
  {
   "cell_type": "code",
   "execution_count": 89,
   "metadata": {},
   "outputs": [],
   "source": [
    "results = pd.read_csv(OUR_RESULTS_FILE)\n",
    "results[\"KinSymbol\"] = results[\"Kinase Gene Name\"] + \"|\" + results[\"Kinase Uniprot Accession\"]\n",
    "results[\"SiteSymbol\"] = (\n",
    "    results[\"Site Gene Name\"] + \"|\" + results[\"Site Uniprot Accession\"] + \"|\" + results[\"Site Location\"]\n",
    ")\n",
    "results = results[[\"KinSymbol\", \"SiteSymbol\", \"Score\"]]\n",
    "kin_to_site_to_score = results.set_index([\"KinSymbol\", \"SiteSymbol\"]).to_dict()[\"Score\"]\n",
    "cols = {x: {} for x in results[\"KinSymbol\"].unique()}\n",
    "for (kin, site), score in kin_to_site_to_score.items():\n",
    "    cols[kin][site] = score\n",
    "orig_keys = list(cols.keys())\n",
    "for c in orig_keys:\n",
    "    cols[c + \"^Score\"] = cols.pop(c)\n",
    "derived_df = pd.DataFrame.from_dict(cols)\n",
    "ranked = (\n",
    "    derived_df.rank(axis=1, method=\"max\")\n",
    "    .rename(columns={c: str(c).replace(\"^Score\", \"^Rank\") for c in derived_df.columns})\n",
    "    .astype(int)\n",
    ")\n",
    "our_df_to_compare = pd.concat([derived_df, ranked], axis=1)\n",
    "our_df_to_compare = our_df_to_compare[\n",
    "    list(\n",
    "        itertools.chain(\n",
    "            *[\n",
    "                [base_c, str(base_c).replace(\"^Score\", \"^Rank\")]\n",
    "                for base_c in our_df_to_compare.columns[: len(our_df_to_compare.columns) // 2]\n",
    "            ]\n",
    "        )\n",
    "    )\n",
    "]\n",
    "our_df_to_compare = our_df_to_compare.sort_index(axis='columns')\n",
    "our_ranks = our_df_to_compare[[x for x in our_df_to_compare.columns if \"Rank\" in str(x)]].copy()\n",
    "our_ranks = our_ranks.sort_index(axis='index', key=correctly_sort_index, inplace=False)\n",
    "our_ranks.to_csv(\"./our_ranks.csv\")"
   ]
  },
  {
   "cell_type": "code",
   "execution_count": null,
   "metadata": {},
   "outputs": [],
   "source": [
    "their_results = pd.read_csv(THEIR_RESULTS_FILE).set_index(\"Uniprot Primary Accession\")\n",
    "matrix_name_to_uniprot_id: dict[str, str] = (\n",
    "    pd.read_csv(\"./41586_2022_5575_MOESM3_ESM.csv\").set_index(\"Matrix_name\").to_dict()[\"Uniprot id\"]\n",
    ")\n",
    "\n",
    "their_site_flk_seqs_to_locs = collections.defaultdict(list[str])\n",
    "their_site_flk_seqs_to_upids = collections.defaultdict(list[str])\n",
    "their_site_flk_seqs_to_genes = collections.defaultdict(list[str])\n",
    "for i, r in their_results.iterrows():\n",
    "    flk_seq = r[\"SITE_+/-7_AA\"]  # flk_seq.split(\"|\")\n",
    "    their_site_flk_seqs_to_locs[flk_seq].append(r[\"Phosphosite\"])\n",
    "    their_site_flk_seqs_to_upids[flk_seq].append(str(i))  # AKA Uniprot ID\n",
    "    their_site_flk_seqs_to_genes[flk_seq].append(r[\"Gene\"] if not pd.isna(r[\"Gene\"]) else f\"<UNK>UnipAc:{i}\")\n",
    "\n",
    "# Argsort each of the defaultdicts by the uniprot id\n",
    "for flk_seq in their_site_flk_seqs_to_locs:\n",
    "    argst = np.argsort(their_site_flk_seqs_to_upids[flk_seq])\n",
    "    their_site_flk_seqs_to_locs[flk_seq] = [their_site_flk_seqs_to_locs[flk_seq][i] for i in argst]\n",
    "    their_site_flk_seqs_to_upids[flk_seq] = [their_site_flk_seqs_to_upids[flk_seq][i] for i in argst]\n",
    "    their_site_flk_seqs_to_genes[flk_seq] = [their_site_flk_seqs_to_genes[flk_seq][i] for i in argst]\n",
    "\n",
    "their_sites_to_symbols = {\n",
    "    flk: f\"\"\"{their_site_flk_seqs_to_genes[flk]}|{their_site_flk_seqs_to_upids[flk]}|{their_site_flk_seqs_to_locs[flk]}\"\"\"\n",
    "    for flk in their_site_flk_seqs_to_locs\n",
    "}\n",
    "new_idx = [their_sites_to_symbols[r[\"SITE_+/-7_AA\"]] for _, r in their_results.iterrows()]\n",
    "their_results.index = pd.Index(new_idx)\n",
    "\n",
    "their_kins_to_symbols = {\n",
    "    tk: f\"['{re.sub(r'_rank', r'', tk)}']|['{matrix_name_to_uniprot_id[re.sub(r'_rank', r'', tk)]}']^Rank\"\n",
    "    for tk in [str(x) for x in their_results.columns]\n",
    "    if tk.endswith(\"_rank\")\n",
    "}\n",
    "their_df_to_compare = their_results.rename(columns=their_kins_to_symbols)[list(their_kins_to_symbols.values())]\n",
    "their_ranks = their_df_to_compare[our_ranks.columns].copy()\n",
    "their_ranks = their_ranks.rank(axis=1, method=\"max\").astype(int)\n",
    "their_ranks.sort_index(axis=\"index\", inplace=True)\n",
    "their_ranks.to_csv(\"./their_ranks.csv\")\n"
   ]
  },
  {
   "cell_type": "code",
   "execution_count": null,
   "metadata": {},
   "outputs": [],
   "source": [
    "normalize_ranks = lambda obj_to_norm, starting_ranks, ending_ranks: obj_to_norm*(ending_ranks-1)/(starting_ranks-1) + (starting_ranks-ending_ranks)/(starting_ranks-1)"
   ]
  },
  {
   "cell_type": "code",
   "execution_count": null,
   "metadata": {},
   "outputs": [],
   "source": [
    "assert set(our_ranks.index) == set(their_ranks.index)"
   ]
  }
 ],
 "metadata": {
  "kernelspec": {
   "display_name": "py310",
   "language": "python",
   "name": "python3"
  },
  "language_info": {
   "codemirror_mode": {
    "name": "ipython",
    "version": 3
   },
   "file_extension": ".py",
   "mimetype": "text/x-python",
   "name": "python",
   "nbconvert_exporter": "python",
   "pygments_lexer": "ipython3",
   "version": "3.10.8"
  },
  "orig_nbformat": 4,
  "vscode": {
   "interpreter": {
    "hash": "a14336ceb7850ff353a5a4a483484410d336bcab41f389f2b33cf686ed5fca1a"
   }
  }
 },
 "nbformat": 4,
 "nbformat_minor": 2
}
