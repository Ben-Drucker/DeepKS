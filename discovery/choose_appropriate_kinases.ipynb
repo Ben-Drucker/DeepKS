{
 "cells": [
  {
   "cell_type": "code",
   "execution_count": 1,
   "metadata": {},
   "outputs": [],
   "source": [
    "%load_ext autoreload\n",
    "%autoreload 2"
   ]
  },
  {
   "cell_type": "code",
   "execution_count": 13,
   "metadata": {},
   "outputs": [],
   "source": [
    "import pandas as pd, os, re, numpy as np, random, sys, collections, requests, asyncio, aiohttp, itertools, tqdm, time, pathlib, json, warnings\n",
    "from discovery_preparation import seq_request, ORGANISM, UNIPROT_REQUEST_SIZE\n"
   ]
  },
  {
   "cell_type": "code",
   "execution_count": 3,
   "metadata": {},
   "outputs": [
    {
     "name": "stdout",
     "output_type": "stream",
     "text": [
      "len(PSP_symbols)=430\n",
      "len(PSP_filtered)=416\n",
      "len(PSP_filtered)=402\n"
     ]
    }
   ],
   "source": [
    "PSP_symbols = pd.read_csv(\"../data/raw_data/raw_data_22588.csv\")\n",
    "PSP_symbols = PSP_symbols[PSP_symbols[\"organism\"] == \"HUMAN\"]\n",
    "PSP_symbols = sorted((PSP_symbols[\"lab\"] + \"|\" + PSP_symbols[\"uniprot_id\"]).unique().tolist())\n",
    "PSP_exclusion_dict = { # True means keep, False means remove\n",
    "    \"BCKDK|O14874\": True,\n",
    "    \"BCR/ABL FUSION|A9UF07\": True,\n",
    "    \"BLVRA|P53004\": False,\n",
    "    \"BRD4|O60885\": True,\n",
    "    \"BRSK1|Q8TDC3-2\": False,\n",
    "    \"CAMK2D|Q13557-8\": False,\n",
    "    \"CDK11A|Q9UQ88-10\": False,\n",
    "    \"CERT1|Q9Y5P4\": False,\n",
    "    \"CSNK2B|P67870\": True,\n",
    "    \"ENPP3|O14638\": False,\n",
    "    \"GSK3B|P49841-2\": False,\n",
    "    \"GTF2F1|P35269\": True, # Ask\n",
    "    \"HSPA5|P11021\": False,\n",
    "    \"JMJD6|Q6NYC1\": False,\n",
    "    \"MAPK8|P45983-2\": False,\n",
    "    \"MAPK9|P45984-2\": False,\n",
    "    \"MARK3|P27448-3\": False,\n",
    "    \"MKNK1|Q9BUB5-2\": False,\n",
    "    \"NME1|P15531\": True,\n",
    "    \"NME2|P22392\": True,\n",
    "    \"PCK1|P35558\": True, # Ask\n",
    "    \"PDK1|Q15118\": True,\n",
    "    \"PDK2|Q15119\": True,\n",
    "    \"PDK3|Q15120\": True,\n",
    "    \"PDK4|Q16654\": True,\n",
    "    \"PFKP|Q01813\": False,\n",
    "    \"PGK1|P00558\": False,\n",
    "    \"PHKA1|P46020\": True,\n",
    "    \"PIK3C2A|O00443\": False,\n",
    "    \"PIK3CB|P42338\": True,\n",
    "    \"PIK3CD|O00329\": False,\n",
    "    \"PIK3R1|P27986\": False,\n",
    "    \"PKM|P14618\": True,\n",
    "    \"PKM|P14618-2\": False,\n",
    "    \"PRKAB1|Q9Y478\": False,\n",
    "    \"PRKACA|P17612-2\": False,\n",
    "    \"PRKAG2|Q9UGJ0\": False,\n",
    "    \"PRKCB|P05771-2\": False,\n",
    "    \"PRKG1|Q13976-2\": False,\n",
    "    \"RET/PTC2|Q15300\": True,\n",
    "    \"ROR1|Q01973\": True,\n",
    "    \"RPS6KB1|P23443-2\": False,\n",
    "    \"TGM2|P21980\": False,\n",
    "    \"VRK2|Q86Y07-2\": False,\n",
    "    \"VRK3|Q8IV63\": False\n",
    "}\n",
    "print(f\"{len(PSP_symbols)=}\")\n",
    "PSP_filtered = [x for x in PSP_symbols if not re.match(r\".*\\|[0-9A-Z]+-[0-9]+\", x)] # Remove All Remaining Isoforms\n",
    "print(f\"{len(PSP_filtered)=}\")\n",
    "PSP_filtered = [x for x in PSP_symbols if x not in PSP_exclusion_dict or PSP_exclusion_dict[x]]\n",
    "print(f\"{len(PSP_filtered)=}\")\n",
    "PSP_symbols = PSP_filtered"
   ]
  },
  {
   "cell_type": "code",
   "execution_count": 4,
   "metadata": {},
   "outputs": [],
   "source": [
    "with warnings.catch_warnings():\n",
    "    warnings.filterwarnings(action='ignore', category=UserWarning, message=\"Workbook contains no default style\")\n",
    "    with open (\"../images/Kinase Overlap/Uniprot_ST_Kinases.xlsx\", \"rb\") as st:\n",
    "        st_kinases = pd.read_excel(st)\n",
    "    with open (\"../images/Kinase Overlap/Uniprot_Y_Kinases.xlsx\", \"rb\") as y:\n",
    "        y_kinases = pd.read_excel(y)\n",
    "all_uniprot = pd.concat([st_kinases, y_kinases], ignore_index=True).sort_values(by = [\"Entry Name\", \"Gene Names (primary)\"])[['Entry', 'Entry Name', 'Gene Names (primary)']].rename(columns={'Entry': 'Uniprot ID', 'Gene Names (primary)': 'Gene Name'}).reset_index(drop=True)\n",
    "all_uniprot['Symbol'] = all_uniprot['Gene Name'] + \"|\" + all_uniprot['Uniprot ID']\n",
    "Uniprot_symbols = sorted(all_uniprot['Symbol'].unique().tolist())"
   ]
  },
  {
   "cell_type": "code",
   "execution_count": 5,
   "metadata": {},
   "outputs": [],
   "source": [
    "all_symbols_set = set.union(set(Uniprot_symbols), set(PSP_symbols))\n",
    "all_symbols = sorted(list(all_symbols_set))"
   ]
  },
  {
   "cell_type": "code",
   "execution_count": 36,
   "metadata": {},
   "outputs": [],
   "source": [
    "existing_symbol_to_seq = pd.read_csv(\"../data/raw_data/kinase_seq_826.csv\")\n",
    "existing_symbol_to_seq[\"symbol\"] = existing_symbol_to_seq[\"gene_name\"] + \"|\" + existing_symbol_to_seq[\"kinase\"]\n",
    "existing_symbol_to_seq_df = existing_symbol_to_seq.copy(deep=True)\n",
    "existing_symbol_to_seq = existing_symbol_to_seq.set_index(\"symbol\").to_dict()[\"kinase_seq\"]\n",
    "existing_symbol_to_seq = collections.OrderedDict(\n",
    "    sorted({k: v for k, v in existing_symbol_to_seq.items() if k in all_symbols_set}.items())\n",
    ")"
   ]
  },
  {
   "cell_type": "code",
   "execution_count": 7,
   "metadata": {},
   "outputs": [],
   "source": [
    "need_sequences = sorted([x for x in all_symbols_set if x not in existing_symbol_to_seq])\n",
    "assert all([isinstance(x, str) for x in need_sequences])"
   ]
  },
  {
   "cell_type": "code",
   "execution_count": 29,
   "metadata": {},
   "outputs": [
    {
     "name": "stderr",
     "output_type": "stream",
     "text": [
      "100%|\u001b[36m██████████\u001b[0m| 1/1 [00:00<00:00,  1.18it/s]\n"
     ]
    }
   ],
   "source": [
    "df_new = await seq_request(uniprot_ids=[str(x).split(\"|\")[1] for x in need_sequences])\n"
   ]
  },
  {
   "cell_type": "code",
   "execution_count": 39,
   "metadata": {},
   "outputs": [],
   "source": [
    "assert isinstance(df_new, pd.DataFrame)\n",
    "# Gene Name,Sequence,Uniprot ID,Name,Symbol\n",
    "new_raw_data = pd.DataFrame({'kinase': df_new['Uniprot ID'], 'kinase_seq': df_new['Sequence'], 'gene_name': df_new['Gene Name']})\n",
    "all_df = pd.concat([existing_symbol_to_seq_df[existing_symbol_to_seq_df['symbol'].isin(all_symbols)], new_raw_data], ignore_index=True).sort_values(by = [\"gene_name\", \"kinase\"]).reset_index(drop=True)"
   ]
  },
  {
   "cell_type": "code",
   "execution_count": 40,
   "metadata": {},
   "outputs": [],
   "source": [
    "assert(len(all_df)) == len(all_symbols_set), f\"{len(all_df)} != {len(all_symbols_set)}\""
   ]
  },
  {
   "cell_type": "code",
   "execution_count": 28,
   "metadata": {},
   "outputs": [],
   "source": [
    "all_df.to_csv(f\"../data/raw_data/kinase_seq_{len(all_df)}.csv\", index=False)"
   ]
  }
 ],
 "metadata": {
  "kernelspec": {
   "display_name": "newpy",
   "language": "python",
   "name": "python3"
  },
  "language_info": {
   "codemirror_mode": {
    "name": "ipython",
    "version": 3
   },
   "file_extension": ".py",
   "mimetype": "text/x-python",
   "name": "python",
   "nbconvert_exporter": "python",
   "pygments_lexer": "ipython3",
   "version": "3.11.0"
  },
  "orig_nbformat": 4,
  "vscode": {
   "interpreter": {
    "hash": "4ab5cfd470e8eeab5cffc1f45b74f633db342660135ffac3f625c37f0a587e75"
   }
  }
 },
 "nbformat": 4,
 "nbformat_minor": 2
}
