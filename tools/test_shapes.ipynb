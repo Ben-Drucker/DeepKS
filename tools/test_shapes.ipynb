{
 "cells": [
  {
   "cell_type": "code",
   "execution_count": 2,
   "metadata": {},
   "outputs": [],
   "source": [
    "from math import floor\n",
    "import warnings"
   ]
  },
  {
   "cell_type": "code",
   "execution_count": 3,
   "metadata": {},
   "outputs": [],
   "source": [
    "def output_shape(width, height, kernel_size, stride=1, pad=0, dilation=1):\n",
    "        \"\"\"\n",
    "        Based on https://discuss.pytorch.org/t/utility-function-for-calculating-the-shape-of-a-conv-output/11173/5?\n",
    "        \"\"\"\n",
    "        try:\n",
    "            h_w = (width, height)\n",
    "            if not isinstance(kernel_size, tuple):\n",
    "                kernel_size = (kernel_size, kernel_size)\n",
    "            if not isinstance(stride, tuple):\n",
    "                stride = (stride, stride)\n",
    "            if not isinstance(pad, tuple):\n",
    "                pad = (pad, pad)\n",
    "            w = floor(\n",
    "                ((h_w[0] + (2 * pad[0]) - (dilation * (kernel_size[0] - 1)) - 1) / stride[0]) + 1)\n",
    "            h = floor(\n",
    "                ((h_w[1] + (2 * pad[1]) - (dilation * (kernel_size[1] - 1)) - 1) / stride[1]) + 1)\n",
    "            return w, h\n",
    "        except ZeroDivisionError as zde:\n",
    "            print(zde)\n",
    "            warnings.warn(\"ZeroDivisionError in output_shape\")\n",
    "            return 0, 0"
   ]
  },
  {
   "cell_type": "code",
   "execution_count": 23,
   "metadata": {},
   "outputs": [
    {
     "name": "stdout",
     "output_type": "stream",
     "text": [
      "i 0 outshape (1376, 10)\n",
      "i 1 outshape (458, 10)\n",
      "i 2 outshape (152, 10)\n",
      "i 3 outshape (50, 10)\n",
      "i 4 outshape (16, 10)\n",
      "i 5 outshape (5, 10)\n"
     ]
    }
   ],
   "source": [
    "outshape = (4128, 10)\n",
    "for i in range(6):\n",
    "    outshape = output_shape(outshape[0], outshape[1], (3, 1), (3, 1))\n",
    "    print(\"i\", i, \"outshape\", outshape)"
   ]
  },
  {
   "cell_type": "code",
   "execution_count": 53,
   "metadata": {},
   "outputs": [
    {
     "name": "stdout",
     "output_type": "stream",
     "text": [
      "(4119, 20)\n"
     ]
    },
    {
     "data": {
      "text/plain": [
       "(12, 5)"
      ]
     },
     "execution_count": 53,
     "metadata": {},
     "output_type": "execute_result"
    }
   ],
   "source": [
    "cnnout = output_shape(4128, 22, (10, 3))\n",
    "print(cnnout)\n",
    "output_shape(*cnnout, (318, 4), (318, 4))"
   ]
  },
  {
   "cell_type": "code",
   "execution_count": 55,
   "metadata": {},
   "outputs": [
    {
     "name": "stdout",
     "output_type": "stream",
     "text": [
      "(12, 20)\n"
     ]
    },
    {
     "data": {
      "text/plain": [
       "(12, 5)"
      ]
     },
     "execution_count": 55,
     "metadata": {},
     "output_type": "execute_result"
    }
   ],
   "source": [
    "cnnout = output_shape(15, 22, (4, 3))\n",
    "print(cnnout)\n",
    "output_shape(*cnnout, (1, 4), (1, 4))"
   ]
  }
 ],
 "metadata": {
  "kernelspec": {
   "display_name": "Python 3.10.5 64-bit",
   "language": "python",
   "name": "python3"
  },
  "language_info": {
   "codemirror_mode": {
    "name": "ipython",
    "version": 3
   },
   "file_extension": ".py",
   "mimetype": "text/x-python",
   "name": "python",
   "nbconvert_exporter": "python",
   "pygments_lexer": "ipython3",
   "version": "3.10.5"
  },
  "orig_nbformat": 4,
  "vscode": {
   "interpreter": {
    "hash": "a0a5145e6c304e2a9afaf5b930a2955b950bd4b81fe94f7c42930f43f42762eb"
   }
  }
 },
 "nbformat": 4,
 "nbformat_minor": 2
}
